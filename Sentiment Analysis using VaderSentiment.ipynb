{
 "cells": [
  {
   "cell_type": "code",
   "execution_count": 32,
   "metadata": {},
   "outputs": [],
   "source": [
    "import numpy as np\n",
    "import pandas as pd\n",
    "import seaborn as sns\n",
    "\n",
    "from vaderSentiment.vaderSentiment import SentimentIntensityAnalyzer"
   ]
  },
  {
   "cell_type": "code",
   "execution_count": 2,
   "metadata": {},
   "outputs": [
    {
     "data": {
      "text/plain": [
       "0.6369"
      ]
     },
     "execution_count": 2,
     "metadata": {},
     "output_type": "execute_result"
    }
   ],
   "source": [
    "analyzer=SentimentIntensityAnalyzer()\n",
    "analyzer.polarity_scores('I love it')['compound']"
   ]
  },
  {
   "cell_type": "code",
   "execution_count": 12,
   "metadata": {},
   "outputs": [],
   "source": [
    "test=pd.read_excel('Data/Comments.xlsx')"
   ]
  },
  {
   "cell_type": "code",
   "execution_count": 13,
   "metadata": {},
   "outputs": [],
   "source": [
    "doc=pd.DataFrame([])\n",
    "for i in range(test.shape[0]):\n",
    "    doc=doc.append(pd.DataFrame(analyzer.polarity_scores(test['Comment'][i]),index=[0]))"
   ]
  },
  {
   "cell_type": "code",
   "execution_count": 14,
   "metadata": {},
   "outputs": [
    {
     "data": {
      "text/plain": [
       "'Part 1 :Blank Space<br />Part 2 :Me! <br />Just notice.'"
      ]
     },
     "execution_count": 14,
     "metadata": {},
     "output_type": "execute_result"
    }
   ],
   "source": [
    "test['Comment'][2]"
   ]
  },
  {
   "cell_type": "code",
   "execution_count": 15,
   "metadata": {},
   "outputs": [
    {
     "data": {
      "text/html": [
       "<div>\n",
       "<style scoped>\n",
       "    .dataframe tbody tr th:only-of-type {\n",
       "        vertical-align: middle;\n",
       "    }\n",
       "\n",
       "    .dataframe tbody tr th {\n",
       "        vertical-align: top;\n",
       "    }\n",
       "\n",
       "    .dataframe thead th {\n",
       "        text-align: right;\n",
       "    }\n",
       "</style>\n",
       "<table border=\"1\" class=\"dataframe\">\n",
       "  <thead>\n",
       "    <tr style=\"text-align: right;\">\n",
       "      <th></th>\n",
       "      <th>Video Title</th>\n",
       "      <th>Comment</th>\n",
       "      <th>CommentID</th>\n",
       "      <th>Author</th>\n",
       "      <th>Replies</th>\n",
       "      <th>Likes</th>\n",
       "      <th>Polarity</th>\n",
       "    </tr>\n",
       "  </thead>\n",
       "  <tbody>\n",
       "    <tr>\n",
       "      <th>0</th>\n",
       "      <td>Taylor Swift - Blank Space</td>\n",
       "      <td>i love</td>\n",
       "      <td>Ugy-PtcBo7vqVTrEXHt4AaABAg</td>\n",
       "      <td>Nzuzi Mukinayi</td>\n",
       "      <td>0</td>\n",
       "      <td>0</td>\n",
       "      <td>0.6369</td>\n",
       "    </tr>\n",
       "    <tr>\n",
       "      <th>1</th>\n",
       "      <td>Taylor Swift - Blank Space</td>\n",
       "      <td>Bart Baker&amp;#39;s  parody is better</td>\n",
       "      <td>UgzpviQOjx1-uTS6XP94AaABAg</td>\n",
       "      <td>Blue_ Danu</td>\n",
       "      <td>0</td>\n",
       "      <td>0</td>\n",
       "      <td>0.4404</td>\n",
       "    </tr>\n",
       "    <tr>\n",
       "      <th>2</th>\n",
       "      <td>Taylor Swift - Blank Space</td>\n",
       "      <td>Part 1 :Blank Space&lt;br /&gt;Part 2 :Me! &lt;br /&gt;Jus...</td>\n",
       "      <td>Ugyf1Jy65j0jckmFbNZ4AaABAg</td>\n",
       "      <td>Mary Villanueva</td>\n",
       "      <td>0</td>\n",
       "      <td>0</td>\n",
       "      <td>0.0000</td>\n",
       "    </tr>\n",
       "    <tr>\n",
       "      <th>3</th>\n",
       "      <td>Taylor Swift - Blank Space</td>\n",
       "      <td>😑😐🤔🤔🤔🤔🤔🤔🤔🤔🤔😣😥😶😮🤔🤔🥉🥉🚼🚻🚺🚹</td>\n",
       "      <td>Ugy3-38V-k8RZgxZJBl4AaABAg</td>\n",
       "      <td>Bertha Perez</td>\n",
       "      <td>0</td>\n",
       "      <td>0</td>\n",
       "      <td>0.0000</td>\n",
       "    </tr>\n",
       "    <tr>\n",
       "      <th>4</th>\n",
       "      <td>Taylor Swift - Blank Space</td>\n",
       "      <td>2020 &lt;a href=\"https://www.youtube.com/watch?v=...</td>\n",
       "      <td>UgxiBHYbr4Sjoa39NmV4AaABAg</td>\n",
       "      <td>WEST L I F E LOVER</td>\n",
       "      <td>0</td>\n",
       "      <td>0</td>\n",
       "      <td>0.5473</td>\n",
       "    </tr>\n",
       "  </tbody>\n",
       "</table>\n",
       "</div>"
      ],
      "text/plain": [
       "                  Video Title  \\\n",
       "0  Taylor Swift - Blank Space   \n",
       "1  Taylor Swift - Blank Space   \n",
       "2  Taylor Swift - Blank Space   \n",
       "3  Taylor Swift - Blank Space   \n",
       "4  Taylor Swift - Blank Space   \n",
       "\n",
       "                                             Comment  \\\n",
       "0                                             i love   \n",
       "1                 Bart Baker&#39;s  parody is better   \n",
       "2  Part 1 :Blank Space<br />Part 2 :Me! <br />Jus...   \n",
       "3                            😑😐🤔🤔🤔🤔🤔🤔🤔🤔🤔😣😥😶😮🤔🤔🥉🥉🚼🚻🚺🚹   \n",
       "4  2020 <a href=\"https://www.youtube.com/watch?v=...   \n",
       "\n",
       "                    CommentID              Author  Replies  Likes  Polarity  \n",
       "0  Ugy-PtcBo7vqVTrEXHt4AaABAg      Nzuzi Mukinayi        0      0    0.6369  \n",
       "1  UgzpviQOjx1-uTS6XP94AaABAg          Blue_ Danu        0      0    0.4404  \n",
       "2  Ugyf1Jy65j0jckmFbNZ4AaABAg     Mary Villanueva        0      0    0.0000  \n",
       "3  Ugy3-38V-k8RZgxZJBl4AaABAg        Bertha Perez        0      0    0.0000  \n",
       "4  UgxiBHYbr4Sjoa39NmV4AaABAg  WEST L I F E LOVER        0      0    0.5473  "
      ]
     },
     "execution_count": 15,
     "metadata": {},
     "output_type": "execute_result"
    }
   ],
   "source": [
    "test['Polarity']=doc['compound'].reset_index(drop=True)\n",
    "test.head()"
   ]
  },
  {
   "cell_type": "code",
   "execution_count": 19,
   "metadata": {},
   "outputs": [
    {
     "data": {
      "text/html": [
       "<div>\n",
       "<style scoped>\n",
       "    .dataframe tbody tr th:only-of-type {\n",
       "        vertical-align: middle;\n",
       "    }\n",
       "\n",
       "    .dataframe tbody tr th {\n",
       "        vertical-align: top;\n",
       "    }\n",
       "\n",
       "    .dataframe thead th {\n",
       "        text-align: right;\n",
       "    }\n",
       "</style>\n",
       "<table border=\"1\" class=\"dataframe\">\n",
       "  <thead>\n",
       "    <tr style=\"text-align: right;\">\n",
       "      <th></th>\n",
       "      <th>Comment</th>\n",
       "      <th>Polarity</th>\n",
       "    </tr>\n",
       "  </thead>\n",
       "  <tbody>\n",
       "    <tr>\n",
       "      <th>4920</th>\n",
       "      <td>CPU&amp;#39;s assosiated with Taylor Swift are LAME</td>\n",
       "      <td>-0.4084</td>\n",
       "    </tr>\n",
       "    <tr>\n",
       "      <th>4923</th>\n",
       "      <td>I trashed boyfriends car years ago and still f...</td>\n",
       "      <td>-0.2263</td>\n",
       "    </tr>\n",
       "    <tr>\n",
       "      <th>4945</th>\n",
       "      <td>No one:&lt;br /&gt;Nobody ever:&lt;br /&gt;Me:she is stand...</td>\n",
       "      <td>-0.2960</td>\n",
       "    </tr>\n",
       "    <tr>\n",
       "      <th>4965</th>\n",
       "      <td>I’m upsets with three swit</td>\n",
       "      <td>-0.3612</td>\n",
       "    </tr>\n",
       "    <tr>\n",
       "      <th>4968</th>\n",
       "      <td>Oh Taylor swift you dated too many boys and br...</td>\n",
       "      <td>-0.2500</td>\n",
       "    </tr>\n",
       "  </tbody>\n",
       "</table>\n",
       "</div>"
      ],
      "text/plain": [
       "                                                Comment  Polarity\n",
       "4920    CPU&#39;s assosiated with Taylor Swift are LAME   -0.4084\n",
       "4923  I trashed boyfriends car years ago and still f...   -0.2263\n",
       "4945  No one:<br />Nobody ever:<br />Me:she is stand...   -0.2960\n",
       "4965                         I’m upsets with three swit   -0.3612\n",
       "4968  Oh Taylor swift you dated too many boys and br...   -0.2500"
      ]
     },
     "execution_count": 19,
     "metadata": {},
     "output_type": "execute_result"
    }
   ],
   "source": [
    "filt= test['Polarity']<0\n",
    "test.loc[filt,['Comment','Polarity']].tail()"
   ]
  },
  {
   "cell_type": "code",
   "execution_count": 34,
   "metadata": {},
   "outputs": [
    {
     "data": {
      "text/plain": [
       "<matplotlib.axes._subplots.AxesSubplot at 0x29b520ae5c0>"
      ]
     },
     "execution_count": 34,
     "metadata": {},
     "output_type": "execute_result"
    },
    {
     "data": {
      "image/png": "[encoded data removed]",
      "text/plain": [
       "<Figure size 432x288 with 1 Axes>"
      ]
     },
     "metadata": {
      "needs_background": "light"
     },
     "output_type": "display_data"
    }
   ],
   "source": [
    "test['Sentiment']=np.where(test['Polarity']==0,'UNC',np.where(test['Polarity']>0,'POS','NEG'))\n",
    "sns.countplot(test['Sentiment'])"
   ]
  },
  {
   "cell_type": "code",
   "execution_count": null,
   "metadata": {},
   "outputs": [],
   "source": []
  }
 ],
 "metadata": {
  "kernelspec": {
   "display_name": "Python 3",
   "language": "python",
   "name": "python3"
  },
  "language_info": {
   "codemirror_mode": {
    "name": "ipython",
    "version": 3
   },
   "file_extension": ".py",
   "mimetype": "text/x-python",
   "name": "python",
   "nbconvert_exporter": "python",
   "pygments_lexer": "ipython3",
   "version": "3.7.3"
  },
  "toc": {
   "base_numbering": 1,
   "nav_menu": {},
   "number_sections": true,
   "sideBar": true,
   "skip_h1_title": false,
   "title_cell": "Table of Contents",
   "title_sidebar": "Contents",
   "toc_cell": false,
   "toc_position": {},
   "toc_section_display": true,
   "toc_window_display": false
  }
 },
 "nbformat": 4,
 "nbformat_minor": 2
}
