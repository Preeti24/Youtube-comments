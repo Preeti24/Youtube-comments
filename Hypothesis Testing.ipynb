{
 "cells": [
  {
   "cell_type": "code",
   "execution_count": 1,
   "metadata": {},
   "outputs": [],
   "source": [
    "import pandas as pd\n",
    "import numpy as np\n",
    "\n",
    "import seaborn as sns\n",
    "from matplotlib import pyplot as plt\n",
    "plt.rcParams['figure.figsize']=(10,5)\n",
    "import nltk\n",
    "from scipy import stats\n",
    "import re\n",
    "from  scipy.stats import ttest_ind\n",
    "from wordcloud import WordCloud"
   ]
  },
  {
   "cell_type": "code",
   "execution_count": 2,
   "metadata": {},
   "outputs": [
    {
     "data": {
      "text/html": [
       "<div>\n",
       "<style scoped>\n",
       "    .dataframe tbody tr th:only-of-type {\n",
       "        vertical-align: middle;\n",
       "    }\n",
       "\n",
       "    .dataframe tbody tr th {\n",
       "        vertical-align: top;\n",
       "    }\n",
       "\n",
       "    .dataframe thead th {\n",
       "        text-align: right;\n",
       "    }\n",
       "</style>\n",
       "<table border=\"1\" class=\"dataframe\">\n",
       "  <thead>\n",
       "    <tr style=\"text-align: right;\">\n",
       "      <th></th>\n",
       "      <th>COMMENT_ID</th>\n",
       "      <th>AUTHOR</th>\n",
       "      <th>DATE</th>\n",
       "      <th>CONTENT</th>\n",
       "      <th>CLASS</th>\n",
       "      <th>%OfUpperCaseLetters</th>\n",
       "      <th>NoOfURL</th>\n",
       "      <th>AvgLengthOfEachWord</th>\n",
       "      <th>%OfNoOfStopWords</th>\n",
       "      <th>NoOfWords</th>\n",
       "      <th>%OfNoOfUniqueWords</th>\n",
       "      <th>AvgSentenceLength</th>\n",
       "      <th>TextStandard</th>\n",
       "      <th>CleanWordList</th>\n",
       "    </tr>\n",
       "  </thead>\n",
       "  <tbody>\n",
       "    <tr>\n",
       "      <th>0</th>\n",
       "      <td>LZQPQhLyRh80UYxNuaDWhIGQYNQ96IuCg-AYWqNPjpU</td>\n",
       "      <td>Julius NM</td>\n",
       "      <td>2013-11-07T06:20:48</td>\n",
       "      <td>Huh, anyway check out this you[tube] channel: ...</td>\n",
       "      <td>1</td>\n",
       "      <td>1.79</td>\n",
       "      <td>0</td>\n",
       "      <td>6.12</td>\n",
       "      <td>32.14</td>\n",
       "      <td>13</td>\n",
       "      <td>1.000</td>\n",
       "      <td>8.0</td>\n",
       "      <td>3.0</td>\n",
       "      <td>huh anyway check tube channel kobyoshi99</td>\n",
       "    </tr>\n",
       "    <tr>\n",
       "      <th>1</th>\n",
       "      <td>LZQPQhLyRh_C2cTtd9MvFRJedxydaVW-2sNg5Diuo4A</td>\n",
       "      <td>adam riyati</td>\n",
       "      <td>2013-11-07T12:37:15</td>\n",
       "      <td>Hey guys check out my new channel and our firs...</td>\n",
       "      <td>1</td>\n",
       "      <td>12.05</td>\n",
       "      <td>0</td>\n",
       "      <td>4.22</td>\n",
       "      <td>26.51</td>\n",
       "      <td>40</td>\n",
       "      <td>0.775</td>\n",
       "      <td>15.0</td>\n",
       "      <td>6.0</td>\n",
       "      <td>hey guy check new channel first vid u monkey '...</td>\n",
       "    </tr>\n",
       "  </tbody>\n",
       "</table>\n",
       "</div>"
      ],
      "text/plain": [
       "                                    COMMENT_ID       AUTHOR  \\\n",
       "0  LZQPQhLyRh80UYxNuaDWhIGQYNQ96IuCg-AYWqNPjpU    Julius NM   \n",
       "1  LZQPQhLyRh_C2cTtd9MvFRJedxydaVW-2sNg5Diuo4A  adam riyati   \n",
       "\n",
       "                  DATE                                            CONTENT  \\\n",
       "0  2013-11-07T06:20:48  Huh, anyway check out this you[tube] channel: ...   \n",
       "1  2013-11-07T12:37:15  Hey guys check out my new channel and our firs...   \n",
       "\n",
       "   CLASS  %OfUpperCaseLetters  NoOfURL  AvgLengthOfEachWord  %OfNoOfStopWords  \\\n",
       "0      1                 1.79        0                 6.12             32.14   \n",
       "1      1                12.05        0                 4.22             26.51   \n",
       "\n",
       "   NoOfWords  %OfNoOfUniqueWords  AvgSentenceLength  TextStandard  \\\n",
       "0         13               1.000                8.0           3.0   \n",
       "1         40               0.775               15.0           6.0   \n",
       "\n",
       "                                       CleanWordList  \n",
       "0           huh anyway check tube channel kobyoshi99  \n",
       "1  hey guy check new channel first vid u monkey '...  "
      ]
     },
     "execution_count": 2,
     "metadata": {},
     "output_type": "execute_result"
    }
   ],
   "source": [
    "data=pd.read_csv('Data/cleanedData.csv')\n",
    "data.head(2)"
   ]
  },
  {
   "cell_type": "code",
   "execution_count": 3,
   "metadata": {},
   "outputs": [
    {
     "data": {
      "text/plain": [
       "Index(['COMMENT_ID', 'AUTHOR', 'DATE', 'CONTENT', 'CLASS',\n",
       "       '%OfUpperCaseLetters', 'NoOfURL', 'AvgLengthOfEachWord',\n",
       "       '%OfNoOfStopWords', 'NoOfWords', '%OfNoOfUniqueWords',\n",
       "       'AvgSentenceLength', 'TextStandard', 'CleanWordList'],\n",
       "      dtype='object')"
      ]
     },
     "execution_count": 3,
     "metadata": {},
     "output_type": "execute_result"
    }
   ],
   "source": [
    "data.columns"
   ]
  },
  {
   "cell_type": "markdown",
   "metadata": {},
   "source": [
    "#### **Hypothesis Testing**"
   ]
  },
  {
   "cell_type": "markdown",
   "metadata": {},
   "source": [
    "H0= There is no difference in **engineered feature** in Spam or Ham comments\n",
    "\n",
    "H1= There is difference"
   ]
  },
  {
   "cell_type": "code",
   "execution_count": 4,
   "metadata": {},
   "outputs": [
    {
     "data": {
      "text/html": [
       "<div>\n",
       "<style scoped>\n",
       "    .dataframe tbody tr th:only-of-type {\n",
       "        vertical-align: middle;\n",
       "    }\n",
       "\n",
       "    .dataframe tbody tr th {\n",
       "        vertical-align: top;\n",
       "    }\n",
       "\n",
       "    .dataframe thead th {\n",
       "        text-align: right;\n",
       "    }\n",
       "</style>\n",
       "<table border=\"1\" class=\"dataframe\">\n",
       "  <thead>\n",
       "    <tr style=\"text-align: right;\">\n",
       "      <th></th>\n",
       "      <th>Feature</th>\n",
       "      <th>t</th>\n",
       "      <th>p_value</th>\n",
       "    </tr>\n",
       "  </thead>\n",
       "  <tbody>\n",
       "    <tr>\n",
       "      <th>0</th>\n",
       "      <td>AvgLengthOfEachWord</td>\n",
       "      <td>-4.298844</td>\n",
       "      <td>1.867488e-05</td>\n",
       "    </tr>\n",
       "    <tr>\n",
       "      <th>1</th>\n",
       "      <td>NoOfWords</td>\n",
       "      <td>-12.774950</td>\n",
       "      <td>2.916835e-35</td>\n",
       "    </tr>\n",
       "    <tr>\n",
       "      <th>2</th>\n",
       "      <td>TextStandard</td>\n",
       "      <td>-5.119249</td>\n",
       "      <td>3.637132e-07</td>\n",
       "    </tr>\n",
       "  </tbody>\n",
       "</table>\n",
       "</div>"
      ],
      "text/plain": [
       "               Feature          t       p_value\n",
       "0  AvgLengthOfEachWord  -4.298844  1.867488e-05\n",
       "1            NoOfWords -12.774950  2.916835e-35\n",
       "2         TextStandard  -5.119249  3.637132e-07"
      ]
     },
     "execution_count": 4,
     "metadata": {},
     "output_type": "execute_result"
    }
   ],
   "source": [
    "# List of columns to perform testing on\n",
    "cols=['AvgLengthOfEachWord',\n",
    "       'NoOfWords', 'TextStandard']\n",
    "\n",
    "# Create a dictionary to hold values\n",
    "c={'Feature':[],'t':[],'p_value':[]}\n",
    "\n",
    "filt1=data['CLASS']==0\n",
    "filt2=data['CLASS']==1\n",
    "\n",
    "for col in cols:\n",
    "    data_ham=data.loc[filt1,col]\n",
    "    data_spam=data.loc[filt2,col]\n",
    "    \n",
    "    t, p_value = ttest_ind(data_ham,data_spam ,equal_var = False)\n",
    "    \n",
    "    c['Feature'].append(col)\n",
    "    c['t'].append(t)\n",
    "    c['p_value'].append(p_value)\n",
    "\n",
    "\n",
    "t_pvalue=pd.DataFrame.from_dict(c)\n",
    "t_pvalue.sort_values(by=['Feature'],ascending=True)"
   ]
  },
  {
   "cell_type": "markdown",
   "metadata": {},
   "source": [
    "In all the cases, p_value is close to 0 and hence we **reject the null hypothesis** and can say that there is difference in values for all the engineered features in spam and ham comments."
   ]
  }
 ],
 "metadata": {
  "kernelspec": {
   "display_name": "Python 3",
   "language": "python",
   "name": "python3"
  },
  "language_info": {
   "codemirror_mode": {
    "name": "ipython",
    "version": 3
   },
   "file_extension": ".py",
   "mimetype": "text/x-python",
   "name": "python",
   "nbconvert_exporter": "python",
   "pygments_lexer": "ipython3",
   "version": "3.7.3"
  },
  "toc": {
   "base_numbering": 1,
   "nav_menu": {},
   "number_sections": true,
   "sideBar": true,
   "skip_h1_title": false,
   "title_cell": "Table of Contents",
   "title_sidebar": "Contents",
   "toc_cell": false,
   "toc_position": {
    "height": "calc(100% - 180px)",
    "left": "10px",
    "top": "150px",
    "width": "310.172px"
   },
   "toc_section_display": true,
   "toc_window_display": false
  }
 },
 "nbformat": 4,
 "nbformat_minor": 2
}
