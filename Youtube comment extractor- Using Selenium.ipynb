{
 "cells": [
  {
   "cell_type": "markdown",
   "metadata": {},
   "source": [
    "https://github.com/dddat1017/Scraping-Youtube-Comments/blob/master/YT%20Comments%20Scraping.ipynb"
   ]
  },
  {
   "cell_type": "code",
   "execution_count": 1,
   "metadata": {},
   "outputs": [],
   "source": [
    "from selenium import webdriver \n",
    "import pandas as pd \n",
    "import time\n",
    "from selenium.webdriver.common.by import By \n",
    "from selenium.webdriver.support.ui import WebDriverWait \n",
    "from selenium.webdriver.common.keys import Keys\n",
    "from selenium.webdriver.support import expected_conditions as EC"
   ]
  },
  {
   "cell_type": "code",
   "execution_count": 4,
   "metadata": {},
   "outputs": [],
   "source": [
    "videoLink=\"https://www.youtube.com/watch?v=igkKs9O5wPg\"\n",
    "# \"https://www.youtube.com/results?search_query=travel&sp=EgIQAQ%253D%253D\"\n",
    "chromeDriveLocation=\"C:/Users/Preeti/Downloads/chromedriver_win32/chromedriver\"\n",
    "\n",
    "driver = webdriver.Chrome(chromeDriveLocation)\n",
    "# yt_link = input(cate)\n",
    "print(\"-------------------------------------------------------------------------------------------------------------------\")\n",
    "driver.get(videoLink)\n",
    "# driver.maximize_window()\n",
    "time.sleep(5)\n",
    "title = driver.find_element_by_xpath('//*[@id=\"container\"]/h1/yt-formatted-string').text\n",
    "print(\"Video Title: \" + title)\n",
    "print(\"-------------------------------------------------------------------------------------------------------------------\")"
   ]
  },
  {
   "cell_type": "code",
   "execution_count": 8,
   "metadata": {},
   "outputs": [],
   "source": [
    "comment_section = driver.find_element_by_xpath('//*[@id=\"comments\"]')\n",
    "driver.execute_script(\"arguments[0].scrollIntoView();\", comment_section)\n",
    "time.sleep(7)"
   ]
  },
  {
   "cell_type": "code",
   "execution_count": 9,
   "metadata": {},
   "outputs": [
    {
     "name": "stdout",
     "output_type": "stream",
     "text": [
      "first while\n",
      "Second While\n",
      "1\n",
      "Second While\n",
      "1\n",
      "first while\n",
      "Second While\n",
      "2\n",
      "Second While\n",
      "2\n",
      "first while\n",
      "Second While\n",
      "3\n",
      "Second While\n",
      "3\n",
      "first while\n",
      "Second While\n",
      "4\n",
      "Second While\n",
      "4\n"
     ]
    }
   ],
   "source": [
    "last_height = driver.execute_script(\"return document.documentElement.scrollHeight\")\n",
    "i=0\n",
    "while i<4:\n",
    "    # Scroll down to bottom\n",
    "    driver.execute_script(\"window.scrollTo(0, document.documentElement.scrollHeight);\")\n",
    "    i=i+1\n",
    "    # Wait to load page\n",
    "    time.sleep(2)\n",
    "    \n",
    "    print(\"first while\")    \n",
    "    # Calculate new scroll height and compare with last scroll height\n",
    "    new_height = driver.execute_script(\"return document.documentElement.scrollHeight\")\n",
    "    \n",
    "    while i<5:\n",
    "        print(\"Second While\")\n",
    "        print(i)\n",
    "        if new_height == last_height:\n",
    "            break\n",
    "        last_height = new_height\n"
   ]
  },
  {
   "cell_type": "code",
   "execution_count": 10,
   "metadata": {},
   "outputs": [
    {
     "data": {
      "text/plain": [
       "60"
      ]
     },
     "execution_count": 10,
     "metadata": {},
     "output_type": "execute_result"
    }
   ],
   "source": [
    "name_elems=driver.find_elements_by_xpath('//*[@id=\"author-text\"]')\n",
    "comment_elems = driver.find_elements_by_xpath('//*[@id=\"content-text\"]')\n",
    "num_of_names = len(name_elems)\n",
    "len(comment_elems)"
   ]
  },
  {
   "cell_type": "code",
   "execution_count": 11,
   "metadata": {},
   "outputs": [
    {
     "name": "stdout",
     "output_type": "stream",
     "text": [
      ": I love these people so much. And I love you so much. And I love being brown so much even if it means my parents never let me talk to boys and I had to save my boyfriend as \"Rebecca\" in my phone. BLESS UP! Life is beautiful. Thanks for watching my loves. Have a great day. Comment below your favourite part x\n",
      "-------------------------------------------------------------------------------------------------------------------\n",
      "Márcia Silva: \"Gardener?\"\n",
      " \"PHOTOSYNTHESIS ENGINEER\" \n",
      "I love this hehe\n",
      "-------------------------------------------------------------------------------------------------------------------\n",
      "Cecelia Jones: Her: “I’m Hindu but he’s white”\n",
      "\n",
      "Jay: “Run away from home ”\n",
      "-------------------------------------------------------------------------------------------------------------------\n",
      "Lupe: is NO ONE gonna talk about that 'failed math test' reference?? 😂 Its from her video years ago 'How to tell your parents bad news'\n",
      "-------------------------------------------------------------------------------------------------------------------\n",
      "khadar ogle: Lady: cricket is a boring version of baseball \n",
      "Jay: security 😂😂\n",
      "-------------------------------------------------------------------------------------------------------------------\n",
      "A Murad: \"I'm hindu but he's Christian\" - \"your parents will come around\" \n",
      "\"I'm hindu but he's Buddhist\" - \"your parents will come around\"\n",
      "\"I'm hindu but he's white\" - \"RUN AWAY FROM HOME!\" \n",
      "I'm dead 😂😂😂😂\n",
      "-------------------------------------------------------------------------------------------------------------------\n",
      "Jonny Rigby: \"Isn't it just a boring version a baseball?\"\n",
      "\"SEcUrItY\"\n",
      "-------------------------------------------------------------------------------------------------------------------\n",
      "Ameera: Mena: \"photosynthesis engineer, huh??\" \n",
      "says it with complete confidence\n",
      "-------------------------------------------------------------------------------------------------------------------\n",
      "Brendan Neyman: They should rename this video “How To Make Any Career Into Engineering” lol\n",
      "-------------------------------------------------------------------------------------------------------------------\n",
      "Jolie's Crazy Life: Nobody:\n",
      "Not one single soul:\n",
      "Not even a brown bar worker:\n",
      "Mena: eNgiNeEr\n",
      "-------------------------------------------------------------------------------------------------------------------\n",
      "Mikey Ok: \"My mom really wants me to be a vegetarian but I really like KFC. \"\n",
      "\n",
      "Mena : \"Ahhh that's okay, that's not real meat anyways\"\n",
      " 😂😂😂😂😂😂\n",
      "-------------------------------------------------------------------------------------------------------------------\n",
      "Maroun B: \"I'm Hindu but he's white\"\n",
      "\"Runaway from home\"\n",
      "I'm dead😂😂😂\n",
      "-------------------------------------------------------------------------------------------------------------------\n",
      "10,000 Subscribers With no Videos Challenge: Me, as a brown person failing at school: Guess I'll just be a Sanitary Engineer 🤷🏽‍♀️\n",
      "-------------------------------------------------------------------------------------------------------------------\n",
      "N SO: “I’m Hindu but he’s white” “Run away from home '' You betta not tell this to Priyanka Chopra Jonas. :-)\n",
      "-------------------------------------------------------------------------------------------------------------------\n",
      "Rishmita Rao: her: ¨iSnT iT jUsT a boRiNg vErSiOn oF bAsEbAlL?¨\n",
      "him: security\n",
      "-------------------------------------------------------------------------------------------------------------------\n",
      "DJ A: Me: mom I’m going to take a walk in the park \n",
      "Mom: are there any BOYS?\n",
      "me:Um yes\n",
      "Mom:then don’t go they will kidnap and  murder you ,OK.\n",
      "-------------------------------------------------------------------------------------------------------------------\n",
      "iiwav3y: I couldn't stop laughing lmao\n",
      "\"Isn't it just a boring version of baseball-\"\n",
      "calmly says \"s e c u r i t y : )\"\n",
      "-------------------------------------------------------------------------------------------------------------------\n",
      "Gunveen dureja: Girl: “I am Hindu, but he’s white” \n",
      "Jay: “Run away from home” \n",
      "😂😂😂 LOL. My favorite part of the video\n",
      "-------------------------------------------------------------------------------------------------------------------\n",
      "Sakura Art: Cricket is just a boring version of baseball\n",
      "“Security”\n",
      "-------------------------------------------------------------------------------------------------------------------\n",
      "Harshita Joshi: “I'm Hindu but he's a white guy.”\n",
      "“Run away from home.”\n",
      "Notice how HE wasn't a Muslim? That's intentional.\n",
      "-------------------------------------------------------------------------------------------------------------------\n",
      "Steph: \"I dont talk about my ethnicity\" WE GET IT, YOU'RE NOT WHITE\n",
      "-------------------------------------------------------------------------------------------------------------------\n",
      "Mathis 222: When it’s actually Lilly’s video but she’s only here for 1 scene\n",
      "-------------------------------------------------------------------------------------------------------------------\n",
      "Kota G: “I’m Hindu but he’s white”\n",
      "\n",
      "“Run away from home”\n",
      "-------------------------------------------------------------------------------------------------------------------\n",
      "Aminah Siraj: “My wife is probably calling me”😂😭\n",
      "-------------------------------------------------------------------------------------------------------------------\n",
      "Kizzi-ann Lemessy: \"Isn't it just a boring version if baseball\"\n",
      "Say that in Trinidad and you'll get knocked down with a cricket bat 🤣\n",
      "-------------------------------------------------------------------------------------------------------------------\n",
      "Vibe: Isn't it just a boring version of baseball?\n",
      "Jay: Security.\n",
      "-------------------------------------------------------------------------------------------------------------------\n",
      "Sakari Smith: \"Mom, can I have my phone back please? My wife is probably calling me.\"\n",
      "\"See what I mean?\" \n",
      "Me: \"Uhm.. I'm just.. gonna.. go..\n",
      "-------------------------------------------------------------------------------------------------------------------\n",
      "UniquexAngel: The photosynthesis engineer killed me! This needs to be a wholllee series.\n",
      "-------------------------------------------------------------------------------------------------------------------\n",
      "Dani Setsuko: OK I love  \"Carol is his mother\" punchline.  So many kids I knew growing up in elementary and middle school called their parents by their first name and swore at them.\n",
      "And I stood there the first time\n",
      "I heard one of them, like \"if I talked to my parents that way I'd be slapped so hard across the face. Also, how can you disrespect them like that? I can't relate.\"\n",
      "-------------------------------------------------------------------------------------------------------------------\n",
      "Kaijoumari-Jade Damian - Walker Valentine: I died at “photosynthesis engineer”😂 and “run away from home”\n",
      "-------------------------------------------------------------------------------------------------------------------\n",
      "Sadaf K: “Behta what r ur plan for the future?” \n",
      "Me: Aunty I want to be a PHOTOSYNTHESIS ENGINEER\n",
      "-------------------------------------------------------------------------------------------------------------------\n",
      "Fathima Nazmeen Anodiyil: First person: isn’T iT Just a BoRiNg vErSiOn oF basEbaLL-\n",
      "Jay: secURITY\n",
      "-------------------------------------------------------------------------------------------------------------------\n",
      "Sarah Beauty: Mena Massoud- \"Photosynthesis engineer, huh?\"\n",
      "-------------------------------------------------------------------------------------------------------------------\n",
      "Lemon Tea: Mom: he’s talking to girls which are bad influences \n",
      "Me: you are too\n",
      "-------------------------------------------------------------------------------------------------------------------\n",
      "Owen: Came here to see how bad this show is everyone's talking about... I was disappointed to see Kumar\n",
      "-------------------------------------------------------------------------------------------------------------------\n",
      "Avneet Kaur: \"Iam hindu  but he is white\"\n",
      "\" Run away from home\"\n",
      "Lol iam dead his accent makes it even better😂😂 😂\n",
      "-------------------------------------------------------------------------------------------------------------------\n",
      "Cari111111: The best one “that boy has tattoos on his face!”\n",
      "-------------------------------------------------------------------------------------------------------------------\n",
      "Verity: Just heard someone say ' Lilly Singh only makes jokes about racial stereotypes ' So I decided to search her name....and this was the very first video that came up :b\n",
      "-------------------------------------------------------------------------------------------------------------------\n"
     ]
    },
    {
     "name": "stdout",
     "output_type": "stream",
     "text": [
      "Lemon Tea: Me: mom can i go to the park\n",
      "Mom: okay\n",
      "Me: walks out \n",
      "dad: where are you going come back inside \n",
      "-------------------------------------------------------------------------------------------------------------------\n",
      "Sanjana M: “House cleaner”\n",
      "“Sanitary engineer!”\n",
      "-------------------------------------------------------------------------------------------------------------------\n",
      "Katherine Shylenka: The real question is, where's Jay's mom? I can't believe she didn't come to the bar again to find him wife.\n",
      "-------------------------------------------------------------------------------------------------------------------\n",
      "BLAZING EX: “How to deal with Brown people” totally does not attract racists or anything.\n",
      "-------------------------------------------------------------------------------------------------------------------\n",
      "mint miles: 'Cricket is the boring version of Baseball.'\n",
      "SECURITY!!!\n",
      "-------------------------------------------------------------------------------------------------------------------\n",
      "Twisha: \"Photosynthesis engineer!\"\n",
      "& \n",
      "\"Isn't that just a boring version of baseball?!\" - SECURITY! \n",
      "-------------------------------------------------------------------------------------------------------------------\n",
      "bryandingler213: Can someone point out the part that's supposed to be FUNNY?? I can't find it...\n",
      "-------------------------------------------------------------------------------------------------------------------\n",
      "Little Dreams Animations: \"as a brown person i have personally experienced friendships\"\n",
      "😂😂😂😂😂\n",
      "-------------------------------------------------------------------------------------------------------------------\n",
      "Sirfan 25: i luv this. I srsly get the cricket one. I actually ended up saying security at the same time Jay did.\n",
      "-------------------------------------------------------------------------------------------------------------------\n",
      "Samriddhi Srivastava: \"I'm hindu but he's white\"\n",
      "\"Run away from home\"\n",
      "\n",
      "LMAO 😂😂\n",
      "-------------------------------------------------------------------------------------------------------------------\n",
      "kieran: How to deal with brown people:\n",
      "treat them like everyone else\n",
      "-------------------------------------------------------------------------------------------------------------------\n",
      "Avipsha Kar: \"PhotoSYNtheSIS engineer, HuH?\"\n",
      "-------------------------------------------------------------------------------------------------------------------\n",
      "Veola Noronha: Me, as a brown person failing at school: Guess I'll just be a Sanitary Engineer 🤷🏽‍♀️\n",
      "-------------------------------------------------------------------------------------------------------------------\n",
      "NJ Shwarbs: Lilly: of all the other things you could be doing you're watching this video\n",
      "me: looks across the table at a huge pile of homework\n",
      "also me: notices that it's midnight\n",
      "-------------------------------------------------------------------------------------------------------------------\n",
      "Adnan Kabir: my wife is probably calling me.\n",
      "-------------------------------------------------------------------------------------------------------------------\n",
      "Discord Discord: 2:00 \"your boyfriend kevin.....Jerome even better\"\n",
      "I don't think a lot of people even got this joke 😂\n",
      "-------------------------------------------------------------------------------------------------------------------\n",
      "Rainy Olyvia: Be Honest everyone, I know that at first the title was offensive but the video is hilarious!😭😂\n",
      "-------------------------------------------------------------------------------------------------------------------\n",
      "Mike Junior: Gardiner : photosynthesis engineer 😂😂😂\n",
      "This is enlightening 😂\n",
      "-------------------------------------------------------------------------------------------------------------------\n",
      "ShutTheFuckUpWhore: Yo I died at “and eating beef” lolol so trueeee.\n",
      "-------------------------------------------------------------------------------------------------------------------\n",
      "Atharv Pathak: That lawyer engineer doctor lmao XD everyone can relate\n",
      "-------------------------------------------------------------------------------------------------------------------\n",
      "Sadiyah M: Asian family:\n",
      "Mom I failed\n",
      "She slaps you\n",
      "-------------------------------------------------------------------------------------------------------------------\n",
      "Hanna Baban: \"as a brown person I have personally experienced friendship\" LMAO\n",
      "-------------------------------------------------------------------------------------------------------------------\n"
     ]
    }
   ],
   "source": [
    "for i in range(num_of_names):\n",
    "    username = name_elems[i].text    # .replace(\",\", \"|\")\n",
    "    # username = emoji_pattern.sub(r'', username)\n",
    "    # username = str(username).replace(\"\\n\", \"---\")\n",
    "    comment = comment_elems[i].text    # .replace(\",\", \"|\")\n",
    "    # comment = emoji_pattern.sub(r'', comment)\n",
    "    # comment = str(comment).replace(\"\\n\", \"---\")\n",
    "    \n",
    "    #if isEnglish(comment) == False:\n",
    "     #   comment = \"NOT ENGLISH\"\n",
    "        \n",
    "    print(username + \": \" + comment) # comment.translate({ord(i):None for i in '' if i not in string.printable})\n",
    "    print(\"-------------------------------------------------------------------------------------------------------------------\")"
   ]
  },
  {
   "cell_type": "markdown",
   "metadata": {},
   "source": [
    "#####  Check if word is an english word"
   ]
  },
  {
   "cell_type": "code",
   "execution_count": 13,
   "metadata": {},
   "outputs": [],
   "source": [
    "from nltk.corpus import wordnet"
   ]
  },
  {
   "cell_type": "code",
   "execution_count": 20,
   "metadata": {},
   "outputs": [
    {
     "name": "stdout",
     "output_type": "stream",
     "text": [
      "English Word\n"
     ]
    }
   ],
   "source": [
    "word_to_test=\"like\"\n",
    "if not wordnet.synsets(word_to_test):\n",
    "    print(\"Not an English Word\")\n",
    "else:\n",
    "    print(\"English Word\")"
   ]
  },
  {
   "cell_type": "code",
   "execution_count": null,
   "metadata": {},
   "outputs": [],
   "source": []
  }
 ],
 "metadata": {
  "kernelspec": {
   "display_name": "Python 3",
   "language": "python",
   "name": "python3"
  },
  "language_info": {
   "codemirror_mode": {
    "name": "ipython",
    "version": 3
   },
   "file_extension": ".py",
   "mimetype": "text/x-python",
   "name": "python",
   "nbconvert_exporter": "python",
   "pygments_lexer": "ipython3",
   "version": "3.7.3"
  },
  "toc": {
   "base_numbering": 1,
   "nav_menu": {},
   "number_sections": true,
   "sideBar": true,
   "skip_h1_title": false,
   "title_cell": "Table of Contents",
   "title_sidebar": "Contents",
   "toc_cell": false,
   "toc_position": {},
   "toc_section_display": true,
   "toc_window_display": false
  }
 },
 "nbformat": 4,
 "nbformat_minor": 2
}
