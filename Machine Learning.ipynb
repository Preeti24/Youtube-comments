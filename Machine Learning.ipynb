{
 "cells": [
  {
   "cell_type": "markdown",
   "metadata": {
    "toc": true
   },
   "source": [
    "<h1>Table of Contents<span class=\"tocSkip\"></span></h1>\n",
    "<div class=\"toc\"><ul class=\"toc-item\"><li><span><a href=\"#Read-the-dataset\" data-toc-modified-id=\"Read-the-dataset-1\"><span class=\"toc-item-num\">1&nbsp;&nbsp;</span><strong>Read the dataset</strong></a></span></li><li><span><a href=\"#Split-data-into-training-and-test-datasets.\" data-toc-modified-id=\"Split-data-into-training-and-test-datasets.-2\"><span class=\"toc-item-num\">2&nbsp;&nbsp;</span><strong>Split data into training and test datasets.</strong></a></span></li><li><span><a href=\"#Text-Vectorization\" data-toc-modified-id=\"Text-Vectorization-3\"><span class=\"toc-item-num\">3&nbsp;&nbsp;</span><strong>Text Vectorization</strong></a></span><ul class=\"toc-item\"><li><span><a href=\"#Create-a-switcher-function-to-call-for-different-estimators-to-test\" data-toc-modified-id=\"Create-a-switcher-function-to-call-for-different-estimators-to-test-3.1\"><span class=\"toc-item-num\">3.1&nbsp;&nbsp;</span>Create a switcher function to call for different estimators to test</a></span></li><li><span><a href=\"#Create-a-pipeline-to-grid-search-hyperparameters-for-CountVectorizer-and-TF-IDF-vectorizer\" data-toc-modified-id=\"Create-a-pipeline-to-grid-search-hyperparameters-for-CountVectorizer-and-TF-IDF-vectorizer-3.2\"><span class=\"toc-item-num\">3.2&nbsp;&nbsp;</span>Create a pipeline to grid search hyperparameters for CountVectorizer and TF-IDF vectorizer</a></span></li></ul></li><li><span><a href=\"#Machine-Learning\" data-toc-modified-id=\"Machine-Learning-4\"><span class=\"toc-item-num\">4&nbsp;&nbsp;</span><strong>Machine Learning</strong></a></span><ul class=\"toc-item\"><li><span><a href=\"#Gridsearch-Logistic-Regression-Classifier\" data-toc-modified-id=\"Gridsearch-Logistic-Regression-Classifier-4.1\"><span class=\"toc-item-num\">4.1&nbsp;&nbsp;</span>Gridsearch Logistic Regression Classifier</a></span></li><li><span><a href=\"#Gridsearch-Multinomial-Naive-Bayes-Classifier\" data-toc-modified-id=\"Gridsearch-Multinomial-Naive-Bayes-Classifier-4.2\"><span class=\"toc-item-num\">4.2&nbsp;&nbsp;</span>Gridsearch Multinomial Naive Bayes Classifier</a></span></li><li><span><a href=\"#Gridsearch-Random-Forest-Classifier\" data-toc-modified-id=\"Gridsearch-Random-Forest-Classifier-4.3\"><span class=\"toc-item-num\">4.3&nbsp;&nbsp;</span>Gridsearch Random Forest Classifier</a></span></li><li><span><a href=\"#Gridsearch-XGBoost-Classifier\" data-toc-modified-id=\"Gridsearch-XGBoost-Classifier-4.4\"><span class=\"toc-item-num\">4.4&nbsp;&nbsp;</span>Gridsearch XGBoost Classifier</a></span></li><li><span><a href=\"#Display-summary-of-grid-search-for-all-the-models\" data-toc-modified-id=\"Display-summary-of-grid-search-for-all-the-models-4.5\"><span class=\"toc-item-num\">4.5&nbsp;&nbsp;</span>Display summary of grid search for all the models</a></span></li><li><span><a href=\"#Plot-ROC-curve-for-Random-Forest-Classifier\" data-toc-modified-id=\"Plot-ROC-curve-for-Random-Forest-Classifier-4.6\"><span class=\"toc-item-num\">4.6&nbsp;&nbsp;</span>Plot ROC curve for Random Forest Classifier</a></span></li><li><span><a href=\"#Confusion-Matrix\" data-toc-modified-id=\"Confusion-Matrix-4.7\"><span class=\"toc-item-num\">4.7&nbsp;&nbsp;</span>Confusion Matrix</a></span></li></ul></li><li><span><a href=\"#Adjust-Threshold-as-per-business-usecase\" data-toc-modified-id=\"Adjust-Threshold-as-per-business-usecase-5\"><span class=\"toc-item-num\">5&nbsp;&nbsp;</span><strong>Adjust Threshold as per business usecase</strong></a></span><ul class=\"toc-item\"><li><span><a href=\"#Find-optimal-value-Beta\" data-toc-modified-id=\"Find-optimal-value-Beta-5.1\"><span class=\"toc-item-num\">5.1&nbsp;&nbsp;</span>Find optimal value Beta</a></span></li><li><span><a href=\"#Plot-confusion-matrix-with-adjusted-threshold-and-beta\" data-toc-modified-id=\"Plot-confusion-matrix-with-adjusted-threshold-and-beta-5.2\"><span class=\"toc-item-num\">5.2&nbsp;&nbsp;</span>Plot confusion matrix with adjusted threshold and beta</a></span></li><li><span><a href=\"#Plot-metrics-against-Threshold\" data-toc-modified-id=\"Plot-metrics-against-Threshold-5.3\"><span class=\"toc-item-num\">5.3&nbsp;&nbsp;</span>Plot metrics against Threshold</a></span></li></ul></li><li><span><a href=\"#Analysis-of-misclassified-comments\" data-toc-modified-id=\"Analysis-of-misclassified-comments-6\"><span class=\"toc-item-num\">6&nbsp;&nbsp;</span><strong>Analysis of misclassified comments</strong></a></span><ul class=\"toc-item\"><li><span><a href=\"#False-negatives-(miscalssified-as-Ham)\" data-toc-modified-id=\"False-negatives-(miscalssified-as-Ham)-6.1\"><span class=\"toc-item-num\">6.1&nbsp;&nbsp;</span>False-negatives (miscalssified as Ham)</a></span></li><li><span><a href=\"#False-positives-(miscalssified-as-Spam)\" data-toc-modified-id=\"False-positives-(miscalssified-as-Spam)-6.2\"><span class=\"toc-item-num\">6.2&nbsp;&nbsp;</span>False-positives (miscalssified as Spam)</a></span></li></ul></li></ul></div>"
   ]
  },
  {
   "cell_type": "code",
   "execution_count": 29,
   "metadata": {},
   "outputs": [],
   "source": [
    "import warnings\n",
    "warnings.filterwarnings(\"ignore\")\n",
    "\n",
    "import pandas as pd\n",
    "import numpy as np\n",
    "\n",
    "import seaborn as sns\n",
    "from matplotlib import pyplot as plt\n",
    "plt.rcParams['figure.figsize']=(15,5)\n",
    "pd.set_option('display.max_columns', 100)\n",
    "pd.set_option('display.max_colwidth', -1)\n",
    "\n",
    "import nltk\n",
    "from scipy import stats\n",
    "import re\n",
    "from  scipy.stats import ttest_ind\n",
    "from wordcloud import WordCloud\n",
    "\n",
    "from sklearn.feature_extraction.text import CountVectorizer,TfidfVectorizer\n",
    "from sklearn.naive_bayes import MultinomialNB\n",
    "from sklearn import metrics\n",
    "from sklearn.metrics import classification_report, confusion_matrix, roc_auc_score,roc_curve,fbeta_score,make_scorer\n",
    "from sklearn.linear_model import LogisticRegression\n",
    "from sklearn.svm import SVC\n",
    "from xgboost import XGBClassifier\n",
    "from cf_matrix import make_confusion_matrix\n",
    "\n",
    "from sklearn.ensemble import RandomForestClassifier\n",
    "from sklearn.model_selection import KFold, GridSearchCV, cross_val_score,train_test_split,RandomizedSearchCV\n",
    "from sklearn.pipeline import Pipeline\n",
    "\n",
    "from sklearn.base import BaseEstimator,TransformerMixin\n",
    "\n",
    "import Helper,cf_matrix\n",
    "import importlib\n",
    "importlib.reload(Helper);\n",
    "importlib.reload(cf_matrix);\n",
    "import joblib\n",
    "from tqdm import tqdm"
   ]
  },
  {
   "cell_type": "markdown",
   "metadata": {},
   "source": [
    "### **Read the dataset**\n",
    "Read the dataset saved after preprocessing the comments. Original comments were proprocessed to make it easier for machine learning model to be able to seperate signal from noise.\n"
   ]
  },
  {
   "cell_type": "code",
   "execution_count": 2,
   "metadata": {},
   "outputs": [
    {
     "data": {
      "text/html": [
       "<div>\n",
       "<style scoped>\n",
       "    .dataframe tbody tr th:only-of-type {\n",
       "        vertical-align: middle;\n",
       "    }\n",
       "\n",
       "    .dataframe tbody tr th {\n",
       "        vertical-align: top;\n",
       "    }\n",
       "\n",
       "    .dataframe thead th {\n",
       "        text-align: right;\n",
       "    }\n",
       "</style>\n",
       "<table border=\"1\" class=\"dataframe\">\n",
       "  <thead>\n",
       "    <tr style=\"text-align: right;\">\n",
       "      <th></th>\n",
       "      <th>COMMENT_ID</th>\n",
       "      <th>AUTHOR</th>\n",
       "      <th>DATE</th>\n",
       "      <th>CONTENT</th>\n",
       "      <th>CLASS</th>\n",
       "      <th>%OfUpperCaseLetters</th>\n",
       "      <th>NoOfURL</th>\n",
       "      <th>AvgLengthOfEachWord</th>\n",
       "      <th>%OfNoOfStopWords</th>\n",
       "      <th>NoOfWords</th>\n",
       "      <th>%OfNoOfUniqueWords</th>\n",
       "      <th>AvgSentenceLength</th>\n",
       "      <th>TextStandard</th>\n",
       "      <th>CleanWordList</th>\n",
       "    </tr>\n",
       "  </thead>\n",
       "  <tbody>\n",
       "    <tr>\n",
       "      <th>0</th>\n",
       "      <td>LZQPQhLyRh80UYxNuaDWhIGQYNQ96IuCg-AYWqNPjpU</td>\n",
       "      <td>Julius NM</td>\n",
       "      <td>2013-11-07T06:20:48</td>\n",
       "      <td>Huh, anyway check out this you[tube] channel: kobyoshi02</td>\n",
       "      <td>1</td>\n",
       "      <td>1.79</td>\n",
       "      <td>0</td>\n",
       "      <td>6.12</td>\n",
       "      <td>32.14</td>\n",
       "      <td>13</td>\n",
       "      <td>1.0</td>\n",
       "      <td>8.0</td>\n",
       "      <td>3.0</td>\n",
       "      <td>huh anyway check tube channel kobyoshi99</td>\n",
       "    </tr>\n",
       "    <tr>\n",
       "      <th>1</th>\n",
       "      <td>LZQPQhLyRh_C2cTtd9MvFRJedxydaVW-2sNg5Diuo4A</td>\n",
       "      <td>adam riyati</td>\n",
       "      <td>2013-11-07T12:37:15</td>\n",
       "      <td>Hey guys check out my new channel and our first vid THIS IS US THE  MONKEYS!!! I'm the monkey in the white shirt,please leave a like comment  and please subscribe!!!!</td>\n",
       "      <td>1</td>\n",
       "      <td>12.05</td>\n",
       "      <td>0</td>\n",
       "      <td>4.22</td>\n",
       "      <td>26.51</td>\n",
       "      <td>40</td>\n",
       "      <td>0.775</td>\n",
       "      <td>15.0</td>\n",
       "      <td>6.0</td>\n",
       "      <td>hey guy check new channel first vid u monkey 'm monkey white shirt please leave like comment please subscribe</td>\n",
       "    </tr>\n",
       "    <tr>\n",
       "      <th>2</th>\n",
       "      <td>LZQPQhLyRh9MSZYnf8djyk0gEF9BHDPYrrK-qCczIY8</td>\n",
       "      <td>Evgeny Murashkin</td>\n",
       "      <td>2013-11-08T17:34:21</td>\n",
       "      <td>just for test I have to say murdev.com</td>\n",
       "      <td>1</td>\n",
       "      <td>2.63</td>\n",
       "      <td>0</td>\n",
       "      <td>3.88</td>\n",
       "      <td>42.11</td>\n",
       "      <td>8</td>\n",
       "      <td>1.0</td>\n",
       "      <td>8.0</td>\n",
       "      <td>4.0</td>\n",
       "      <td>test say murdev.com</td>\n",
       "    </tr>\n",
       "  </tbody>\n",
       "</table>\n",
       "</div>"
      ],
      "text/plain": [
       "                                    COMMENT_ID            AUTHOR  \\\n",
       "0  LZQPQhLyRh80UYxNuaDWhIGQYNQ96IuCg-AYWqNPjpU  Julius NM          \n",
       "1  LZQPQhLyRh_C2cTtd9MvFRJedxydaVW-2sNg5Diuo4A  adam riyati        \n",
       "2  LZQPQhLyRh9MSZYnf8djyk0gEF9BHDPYrrK-qCczIY8  Evgeny Murashkin   \n",
       "\n",
       "                  DATE  \\\n",
       "0  2013-11-07T06:20:48   \n",
       "1  2013-11-07T12:37:15   \n",
       "2  2013-11-08T17:34:21   \n",
       "\n",
       "                                                                                                                                                                  CONTENT  \\\n",
       "0  Huh, anyway check out this you[tube] channel: kobyoshi02                                                                                                                 \n",
       "1  Hey guys check out my new channel and our first vid THIS IS US THE  MONKEYS!!! I'm the monkey in the white shirt,please leave a like comment  and please subscribe!!!!   \n",
       "2  just for test I have to say murdev.com                                                                                                                                   \n",
       "\n",
       "  CLASS %OfUpperCaseLetters NoOfURL AvgLengthOfEachWord %OfNoOfStopWords  \\\n",
       "0  1     1.79                0       6.12                32.14             \n",
       "1  1     12.05               0       4.22                26.51             \n",
       "2  1     2.63                0       3.88                42.11             \n",
       "\n",
       "  NoOfWords %OfNoOfUniqueWords AvgSentenceLength TextStandard  \\\n",
       "0  13        1.0                8.0               3.0           \n",
       "1  40        0.775              15.0              6.0           \n",
       "2  8         1.0                8.0               4.0           \n",
       "\n",
       "                                                                                                   CleanWordList  \n",
       "0  huh anyway check tube channel kobyoshi99                                                                       \n",
       "1  hey guy check new channel first vid u monkey 'm monkey white shirt please leave like comment please subscribe  \n",
       "2  test say murdev.com                                                                                            "
      ]
     },
     "execution_count": 2,
     "metadata": {},
     "output_type": "execute_result"
    }
   ],
   "source": [
    "data=pd.read_csv('Data/cleanedData.csv',dtype=str)\n",
    "data.dropna(subset=['CleanWordList'],inplace=True)\n",
    "data.head(3)"
   ]
  },
  {
   "cell_type": "code",
   "execution_count": 3,
   "metadata": {},
   "outputs": [],
   "source": [
    "data.fillna(0,inplace=True)"
   ]
  },
  {
   "cell_type": "markdown",
   "metadata": {},
   "source": [
    "### **Split data into training and test datasets.**\n",
    "I will use the training part to further split into training and validation part to perform cross validation. Once a good model is selected, I will test it's performance on unseen data (test dataset)."
   ]
  },
  {
   "cell_type": "code",
   "execution_count": 4,
   "metadata": {},
   "outputs": [],
   "source": [
    "data[['%OfUpperCaseLetters', 'NoOfURL', 'AvgLengthOfEachWord',\n",
    "       '%OfNoOfStopWords', 'NoOfWords', '%OfNoOfUniqueWords',\n",
    "       'AvgSentenceLength', 'TextStandard']]=data[['%OfUpperCaseLetters', 'NoOfURL', 'AvgLengthOfEachWord',\n",
    "       '%OfNoOfStopWords', 'NoOfWords', '%OfNoOfUniqueWords',\n",
    "       'AvgSentenceLength', 'TextStandard']].astype(float)"
   ]
  },
  {
   "cell_type": "code",
   "execution_count": 5,
   "metadata": {},
   "outputs": [
    {
     "name": "stdout",
     "output_type": "stream",
     "text": [
      " Shape of datasets \n",
      " X_train, X_test, y_train, y_test:  (1328, 10) (570, 10) (1328,) (570,)\n"
     ]
    }
   ],
   "source": [
    "# Meta features\n",
    "cols=['COMMENT_ID','%OfUpperCaseLetters', 'NoOfURL', 'AvgLengthOfEachWord',\n",
    "       '%OfNoOfStopWords', 'NoOfWords', '%OfNoOfUniqueWords',\n",
    "       'AvgSentenceLength', 'TextStandard', 'CleanWordList']\n",
    "\n",
    "X=data.loc[:,cols]\n",
    "y=data['CLASS']\n",
    "\n",
    "X_train, X_test, y_train, y_test = train_test_split(X, y, test_size=.3,stratify=y,random_state=147)\n",
    "\n",
    "print(' Shape of datasets \\n X_train, X_test, y_train, y_test: ',X_train.shape, X_test.shape, y_train.shape, y_test.shape)"
   ]
  },
  {
   "cell_type": "markdown",
   "metadata": {},
   "source": [
    "### **Text Vectorization**"
   ]
  },
  {
   "cell_type": "markdown",
   "metadata": {},
   "source": [
    "Compare CountVectorizer() and TfidfVectorizer() by passing the document-term-matrix from the two vectorizers through MultinomialNB(). I used roc_auc metric to select the best model."
   ]
  },
  {
   "cell_type": "markdown",
   "metadata": {},
   "source": [
    "#### Create a switcher function to call for different estimators to test\n",
    "\n",
    "Reference: https://stackoverflow.com/questions/50285973/pipeline-multiple-classifiers"
   ]
  },
  {
   "cell_type": "code",
   "execution_count": 6,
   "metadata": {
    "code_folding": [
     0
    ]
   },
   "outputs": [],
   "source": [
    "class ClfSwitcher(BaseEstimator):\n",
    "\n",
    "    def __init__(self, estimator=LogisticRegression(),):\n",
    "        \"\"\"\n",
    "        A Custom BaseEstimator that can switch between classifiers.\n",
    "        :param estimator: sklearn object - The classifier\n",
    "        Default estimator: LogisticRegression()\n",
    "        \"\"\" \n",
    "        self.estimator = estimator\n",
    "\n",
    "    def fit(self, X, y=None, **kwargs):\n",
    "        self.estimator.fit(X, y)\n",
    "        return self\n",
    "\n",
    "    def predict(self, X, y=None):\n",
    "        return self.estimator.predict(X)\n",
    "\n",
    "    def predict_proba(self, X):\n",
    "        return self.estimator.predict_proba(X)"
   ]
  },
  {
   "cell_type": "code",
   "execution_count": 7,
   "metadata": {
    "code_folding": [
     0
    ]
   },
   "outputs": [],
   "source": [
    "class Transfomer(BaseEstimator, TransformerMixin):\n",
    "    \n",
    "    def __init__(self,vectorizer=CountVectorizer()):\n",
    "        self.vectorizer=vectorizer\n",
    "        self.X=X\n",
    "\n",
    "    def fit(self, X, y=None):\n",
    "        \"\"\"\n",
    "        Learn how to transform data based on input data, X.\n",
    "        \"\"\"\n",
    "        return self.vectorizer.fit(X)\n",
    "\n",
    "    def transform(self, X):\n",
    "        \"\"\"\n",
    "        Transform X into a new dataset, Xprime and return it.\n",
    "        \"\"\"\n",
    "        return self.vectorizer.transform(X).toarray()"
   ]
  },
  {
   "cell_type": "markdown",
   "metadata": {},
   "source": [
    "#### Create a pipeline to grid search hyperparameters for CountVectorizer and TF-IDF vectorizer"
   ]
  },
  {
   "cell_type": "code",
   "execution_count": 8,
   "metadata": {
    "code_folding": []
   },
   "outputs": [
    {
     "name": "stdout",
     "output_type": "stream",
     "text": [
      " Best vectorizer selected: \n",
      " CountVectorizer(analyzer='word', binary=False, decode_error='strict',\n",
      "                dtype=<class 'numpy.int64'>, encoding='utf-8', input='content',\n",
      "                lowercase=True, max_df=1.0, max_features=None, min_df=0.001,\n",
      "                ngram_range=(1, 3), preprocessor=None, stop_words=None,\n",
      "                strip_accents=None, token_pattern='(?u)\\\\b\\\\w\\\\w+\\\\b',\n",
      "                tokenizer=None, vocabulary=None)\n"
     ]
    }
   ],
   "source": [
    "pipe_CompareVectorizer= Pipeline([('vectorizer',Transfomer()),\n",
    "                                  ('clf', ClfSwitcher())\n",
    "                                ])\n",
    "paramGrid_CompareVectorizer=[{\n",
    "                            'vectorizer__vectorizer':[TfidfVectorizer()],\n",
    "                            'vectorizer__vectorizer__min_df':[0.1,0.01,0.001,0.0001],\n",
    "                            'vectorizer__vectorizer__ngram_range':[(1,2),(1,3)],\n",
    "                            'clf__estimator':[LogisticRegression()]\n",
    "                              },\n",
    "                              {\n",
    "                            'vectorizer__vectorizer':[CountVectorizer()],\n",
    "                            'vectorizer__vectorizer__min_df':[0.1,0.01,0.001,0.0001],\n",
    "                            'vectorizer__vectorizer__ngram_range':[(1,2),(1,3)],\n",
    "                            'clf__estimator':[LogisticRegression()]\n",
    "                              }]\n",
    "\n",
    "cv = KFold(n_splits=5, random_state=142, shuffle=True)\n",
    "\n",
    "# Gridsearch with count vectorizer and TFIDF\n",
    "gs_CompareVectorizer = GridSearchCV(pipe_CompareVectorizer, param_grid=paramGrid_CompareVectorizer,\n",
    "                                    n_jobs=-1,cv=cv, verbose=0,return_train_score=True,\n",
    "                                    scoring='roc_auc')\n",
    "\n",
    "gs_CompareVectorizer.fit(X_train['CleanWordList'],y_train);\n",
    "\n",
    "# Save the selected vectorizer in a variable to be used later in the process flow\n",
    "bestVectorizer=gs_CompareVectorizer.best_params_['vectorizer__vectorizer']\n",
    "\n",
    "print(' Best vectorizer selected: \\n',gs_CompareVectorizer.best_params_['vectorizer__vectorizer'])"
   ]
  },
  {
   "cell_type": "markdown",
   "metadata": {},
   "source": [
    "It is interesting to find that CountVectorizer outperformed TF-IDF. The selected value for min_df is 0.001, i.e 0.1%, and ngram_range=(1,2)."
   ]
  },
  {
   "cell_type": "markdown",
   "metadata": {},
   "source": [
    "### **Machine Learning**"
   ]
  },
  {
   "cell_type": "markdown",
   "metadata": {},
   "source": [
    "Using vectorizer selected above, create pipeline, and perform grid search to find best estimator and best parameters.\n",
    "I decided to try 4 model and perform hyperparameter tuning on them and then selected the best performing model.\n",
    "I used ROC_AUC to select the best performing model.\n",
    "\n"
   ]
  },
  {
   "cell_type": "markdown",
   "metadata": {},
   "source": [
    "#### Gridsearch Logistic Regression Classifier"
   ]
  },
  {
   "cell_type": "code",
   "execution_count": 9,
   "metadata": {},
   "outputs": [
    {
     "name": "stdout",
     "output_type": "stream",
     "text": [
      " Logistic Regression: \n",
      "\n",
      " Best Parameters: {'clf__C': 2} \n",
      " Best Score: 0.9809795316254805\n"
     ]
    }
   ],
   "source": [
    "classifier=LogisticRegression()\n",
    "param_grid={'clf__C':(0.1,0.5,1,1.5,2,20,50,100,500)}\n",
    "n_splits=5\n",
    "\n",
    "helper=Helper.GridSearcher(n_splits, vectorizer=bestVectorizer, clf=classifier, param_grid=param_grid)\n",
    "gridSearcher_lr=helper.fit(X_train,y_train)\n",
    "\n",
    "print(' Logistic Regression: \\n\\n Best Parameters:', gridSearcher_lr.best_params,'\\n Best Score:', gridSearcher_lr.best_score)"
   ]
  },
  {
   "cell_type": "markdown",
   "metadata": {},
   "source": [
    " #### Gridsearch Multinomial Naive Bayes Classifier"
   ]
  },
  {
   "cell_type": "code",
   "execution_count": 10,
   "metadata": {},
   "outputs": [
    {
     "name": "stdout",
     "output_type": "stream",
     "text": [
      " Multinomial Naive Bayes: \n",
      "\n",
      " Best Parameters: {'clf__fit_prior': False, 'clf__alpha': 0} \n",
      " Best Score: 0.9308715233787105\n"
     ]
    }
   ],
   "source": [
    "classifier=MultinomialNB()\n",
    "param_grid={'clf__alpha':(0,0.1,0.5,1,2,20,100),\n",
    "            'clf__fit_prior':(True,False)}\n",
    "\n",
    "helper=Helper.GridSearcher(n_splits, vectorizer=bestVectorizer, clf=classifier, param_grid=param_grid)\n",
    "gridSearcher_mn=helper.fit(X_train,y_train)\n",
    "\n",
    "print(' Multinomial Naive Bayes: \\n\\n Best Parameters:', gridSearcher_mn.best_params,'\\n Best Score:', gridSearcher_mn.best_score)"
   ]
  },
  {
   "cell_type": "markdown",
   "metadata": {},
   "source": [
    "#### Gridsearch Random Forest Classifier"
   ]
  },
  {
   "cell_type": "code",
   "execution_count": 11,
   "metadata": {},
   "outputs": [
    {
     "name": "stdout",
     "output_type": "stream",
     "text": [
      " Random Forest: \n",
      "\n",
      " Best Parameters: {'clf__n_estimators': 1000, 'clf__max_depth': 10} \n",
      " Best Score: 0.9770370013339905\n"
     ]
    }
   ],
   "source": [
    "classifier=RandomForestClassifier()\n",
    "param_grid={'clf__n_estimators':(10,100,1000),\n",
    "            'clf__max_depth':(2,10)}\n",
    "\n",
    "helper=Helper.GridSearcher(n_splits, vectorizer=bestVectorizer, clf=classifier, param_grid=param_grid)\n",
    "gridSearcher_rf=helper.fit(X_train,y_train)\n",
    "\n",
    "print(' Random Forest: \\n\\n Best Parameters:', gridSearcher_rf.best_params,'\\n Best Score:', gridSearcher_rf.best_score)"
   ]
  },
  {
   "cell_type": "markdown",
   "metadata": {},
   "source": [
    "#### Gridsearch XGBoost Classifier"
   ]
  },
  {
   "cell_type": "code",
   "execution_count": 12,
   "metadata": {},
   "outputs": [
    {
     "name": "stdout",
     "output_type": "stream",
     "text": [
      " XGBoost Classifier: \n",
      "\n",
      " Best Parameters: {'clf__n_estimators': 4, 'clf__max_depth': 5} \n",
      " Best Score: 0.9296342372654806\n"
     ]
    }
   ],
   "source": [
    "classifier=XGBClassifier()\n",
    "# param_grid={'clf__n_estimators':(10,50,100,500,1000),\n",
    "#             'clf__max_depth':(2,5,10,50,100,500,1000)}\n",
    "\n",
    "param_grid={'clf__n_estimators':(3,4),\n",
    "            'clf__max_depth':(2,5)}\n",
    "\n",
    "helper=Helper.GridSearcher(n_splits, vectorizer=bestVectorizer, clf=classifier, param_grid=param_grid)\n",
    "gridSearcher_xgb=helper.fit(X_train,y_train)\n",
    "\n",
    "print(' XGBoost Classifier: \\n\\n Best Parameters:', gridSearcher_xgb.best_params,'\\n Best Score:', gridSearcher_xgb.best_score)"
   ]
  },
  {
   "cell_type": "markdown",
   "metadata": {},
   "source": [
    "#### Display summary of grid search for all the models"
   ]
  },
  {
   "cell_type": "code",
   "execution_count": 13,
   "metadata": {
    "code_folding": []
   },
   "outputs": [
    {
     "data": {
      "text/html": [
       "<style  type=\"text/css\" >\n",
       "    #T_724883c0_0f72_11eb_9583_30e37a590e6frow0_col1 {\n",
       "            background-color:  yellow;\n",
       "        }</style><table id=\"T_724883c0_0f72_11eb_9583_30e37a590e6f\" ><thead>    <tr>        <th class=\"blank level0\" ></th>        <th class=\"col_heading level0 col0\" >Best Params</th>        <th class=\"col_heading level0 col1\" >Best ROC_AUC Score</th>    </tr></thead><tbody>\n",
       "                <tr>\n",
       "                        <th id=\"T_724883c0_0f72_11eb_9583_30e37a590e6flevel0_row0\" class=\"row_heading level0 row0\" >Logistic Regression</th>\n",
       "                        <td id=\"T_724883c0_0f72_11eb_9583_30e37a590e6frow0_col0\" class=\"data row0 col0\" >{'clf__C': 2}</td>\n",
       "                        <td id=\"T_724883c0_0f72_11eb_9583_30e37a590e6frow0_col1\" class=\"data row0 col1\" >0.98098</td>\n",
       "            </tr>\n",
       "            <tr>\n",
       "                        <th id=\"T_724883c0_0f72_11eb_9583_30e37a590e6flevel0_row1\" class=\"row_heading level0 row1\" >Random Forest</th>\n",
       "                        <td id=\"T_724883c0_0f72_11eb_9583_30e37a590e6frow1_col0\" class=\"data row1 col0\" >{'clf__n_estimators': 1000, 'clf__max_depth': 10}</td>\n",
       "                        <td id=\"T_724883c0_0f72_11eb_9583_30e37a590e6frow1_col1\" class=\"data row1 col1\" >0.977037</td>\n",
       "            </tr>\n",
       "            <tr>\n",
       "                        <th id=\"T_724883c0_0f72_11eb_9583_30e37a590e6flevel0_row2\" class=\"row_heading level0 row2\" >Multinomial Naive Bayes</th>\n",
       "                        <td id=\"T_724883c0_0f72_11eb_9583_30e37a590e6frow2_col0\" class=\"data row2 col0\" >{'clf__fit_prior': False, 'clf__alpha': 0}</td>\n",
       "                        <td id=\"T_724883c0_0f72_11eb_9583_30e37a590e6frow2_col1\" class=\"data row2 col1\" >0.930872</td>\n",
       "            </tr>\n",
       "            <tr>\n",
       "                        <th id=\"T_724883c0_0f72_11eb_9583_30e37a590e6flevel0_row3\" class=\"row_heading level0 row3\" >XGBoost</th>\n",
       "                        <td id=\"T_724883c0_0f72_11eb_9583_30e37a590e6frow3_col0\" class=\"data row3 col0\" >{'clf__n_estimators': 4, 'clf__max_depth': 5}</td>\n",
       "                        <td id=\"T_724883c0_0f72_11eb_9583_30e37a590e6frow3_col1\" class=\"data row3 col1\" >0.929634</td>\n",
       "            </tr>\n",
       "    </tbody></table>"
      ],
      "text/plain": [
       "<pandas.io.formats.style.Styler at 0x1b4c16e0128>"
      ]
     },
     "execution_count": 13,
     "metadata": {},
     "output_type": "execute_result"
    }
   ],
   "source": [
    "compareEstimator_df=pd.DataFrame(\n",
    "    data={'Logistic Regression':[gridSearcher_lr.best_params,gridSearcher_lr.best_score],\n",
    "          'Multinomial Naive Bayes':[gridSearcher_mn.best_params,gridSearcher_mn.best_score],\n",
    "          'Random Forest':[gridSearcher_rf.best_params,gridSearcher_rf.best_score],\n",
    "          'XGBoost':[gridSearcher_xgb.best_params,gridSearcher_xgb.best_score]},\n",
    "    index=['Best Params','Best ROC_AUC Score']).transpose()\n",
    "\n",
    "compareEstimator_df.sort_values(by='Best ROC_AUC Score',ascending=False,inplace=True)\n",
    "\n",
    "compareEstimator_df.style.highlight_max(axis=0,subset=['Best ROC_AUC Score'])"
   ]
  },
  {
   "cell_type": "markdown",
   "metadata": {},
   "source": [
    "Logistic Regression Classifier has the highest ROC_AUC."
   ]
  },
  {
   "cell_type": "code",
   "execution_count": 14,
   "metadata": {},
   "outputs": [],
   "source": [
    "# Save Logistic Regression classifier in a variable to access it late\n",
    "fittedWinnerModel=gridSearcher_lr.fittedWinnerModel"
   ]
  },
  {
   "cell_type": "markdown",
   "metadata": {},
   "source": [
    "#### Plot ROC curve for Random Forest Classifier"
   ]
  },
  {
   "cell_type": "markdown",
   "metadata": {},
   "source": [
    "ROC curve represents the ratio of true-positive rate against false-positive rate for a range of threshold. The true-positive rate is the proportion of all spam records correctly classified as spam. Similarly, the false-positive rate is the proportion of ham records incorrectly classified as spam.\n",
    "\n",
    "* *As a rule of thumb, the more the curve is closer to the top-left corner better the performance of the model.*\n"
   ]
  },
  {
   "cell_type": "markdown",
   "metadata": {},
   "source": [
    "I have created a helper file which I have used to keep my code separate from analysis space.\n",
    "I have created a Thresholder class which has plotRocCurve method to plot roc curve for the required model and input data."
   ]
  },
  {
   "cell_type": "code",
   "execution_count": 15,
   "metadata": {},
   "outputs": [
    {
     "data": {
      "image/png": "[encoded data removed]",
      "text/plain": [
       "<Figure size 432x288 with 1 Axes>"
      ]
     },
     "metadata": {
      "needs_background": "light"
     },
     "output_type": "display_data"
    }
   ],
   "source": [
    "helper=Helper.Thresholder(fittedWinnerModel,X_test,y_test.astype(int),plotROCCurve=True)\n",
    "helper.fit();"
   ]
  },
  {
   "cell_type": "markdown",
   "metadata": {},
   "source": [
    "#### Confusion Matrix"
   ]
  },
  {
   "cell_type": "code",
   "execution_count": 16,
   "metadata": {},
   "outputs": [
    {
     "data": {
      "image/png": "[encoded data removed]",
      "text/plain": [
       "<Figure size 1080x360 with 2 Axes>"
      ]
     },
     "metadata": {
      "needs_background": "light"
     },
     "output_type": "display_data"
    }
   ],
   "source": [
    "import cf_matrix\n",
    "# Reference: https://medium.com/@dtuk81/confusion-matrix-visualization-fc31e3f30fea\n",
    "# https://github.com/DTrimarchi10/confusion_matrix/blob/master/cf_matrix.py\n",
    "\n",
    "labels = ['True Neg \\n','False Pos \\n','False Neg \\n','True Pos \\n']\n",
    "\n",
    "cm=confusion_matrix(y_test,fittedWinnerModel.predict(X_test))\n",
    "\n",
    "cf_matrix.make_confusion_matrix(cm,figsize=(15,5),categories=['Ham','Spam'],\n",
    "                                title='Confusion Matrix \\n',group_names=labels)"
   ]
  },
  {
   "cell_type": "markdown",
   "metadata": {},
   "source": [
    "### **Adjust Threshold as per business usecase**"
   ]
  },
  {
   "cell_type": "markdown",
   "metadata": {},
   "source": [
    "The default threshold for the model is 0.5, i.e any document having predict_proba <0.5 is classified as Ham and Spam otherwise.  Using 0.5 as threshold, the current model has 1.68% False Positive,i.e. 1.68% of total comments were misclassified as Spam when actually they were non-spam comments. Whereas, 5.45% of total comments are classified as Ham when they were actually spam. \n"
   ]
  },
  {
   "cell_type": "markdown",
   "metadata": {},
   "source": [
    "Precision is a good measure to determine when the costs of False Positives are high. It is more important for me to not flag a Ham comment as Spam than flagging every spam comment as spam. Hence, I am trying to achieve better precision than recall. I used the FBeta score as it allows to adjust the value of beta to give more weight to precision or recall. Beta < 1 gives more weight to precision, while beta > 1 favors recall.\n",
    "\n",
    "\n",
    "I chose a number of values less than 1 to set as β and searched for the optimal threshold that maximizes Fbeta score."
   ]
  },
  {
   "cell_type": "markdown",
   "metadata": {},
   "source": [
    "#### Find optimal value Beta"
   ]
  },
  {
   "cell_type": "markdown",
   "metadata": {},
   "source": [
    "I have created calculateMetrics method in Thresholder class to help find optimal threshold. \n",
    "This method searches for 1000 thresholds between 0 and 1 to find a beta where Fbeta Score is highest."
   ]
  },
  {
   "cell_type": "code",
   "execution_count": 17,
   "metadata": {},
   "outputs": [],
   "source": [
    "metrics_df=pd.DataFrame(columns=['Threshold','Precision','Recall','F1','FBeta','Accuracy','Beta'])\n",
    "helper=Helper.Thresholder(gs=fittedWinnerModel,\n",
    "                          X=X_train,\n",
    "                          y=y_train)\n",
    "\n",
    "helper.fit(beta=0.5);"
   ]
  },
  {
   "cell_type": "code",
   "execution_count": 18,
   "metadata": {},
   "outputs": [
    {
     "data": {
      "text/html": [
       "<style  type=\"text/css\" >\n",
       "    #T_74eb29c6_0f72_11eb_8a2a_30e37a590e6frow0_col4 {\n",
       "            background-color:  yellow;\n",
       "        }</style><table id=\"T_74eb29c6_0f72_11eb_8a2a_30e37a590e6f\" ><thead>    <tr>        <th class=\"blank level0\" ></th>        <th class=\"col_heading level0 col0\" >Threshold</th>        <th class=\"col_heading level0 col1\" >Precision</th>        <th class=\"col_heading level0 col2\" >Recall</th>        <th class=\"col_heading level0 col3\" >F1</th>        <th class=\"col_heading level0 col4\" >FBeta</th>        <th class=\"col_heading level0 col5\" >Accuracy</th>        <th class=\"col_heading level0 col6\" >Beta</th>    </tr></thead><tbody>\n",
       "                <tr>\n",
       "                        <th id=\"T_74eb29c6_0f72_11eb_8a2a_30e37a590e6flevel0_row0\" class=\"row_heading level0 row0\" >0</th>\n",
       "                        <td id=\"T_74eb29c6_0f72_11eb_8a2a_30e37a590e6frow0_col0\" class=\"data row0 col0\" >0.543306</td>\n",
       "                        <td id=\"T_74eb29c6_0f72_11eb_8a2a_30e37a590e6frow0_col1\" class=\"data row0 col1\" >1</td>\n",
       "                        <td id=\"T_74eb29c6_0f72_11eb_8a2a_30e37a590e6frow0_col2\" class=\"data row0 col2\" >0.980712</td>\n",
       "                        <td id=\"T_74eb29c6_0f72_11eb_8a2a_30e37a590e6frow0_col3\" class=\"data row0 col3\" >0.990262</td>\n",
       "                        <td id=\"T_74eb29c6_0f72_11eb_8a2a_30e37a590e6frow0_col4\" class=\"data row0 col4\" >0.996082</td>\n",
       "                        <td id=\"T_74eb29c6_0f72_11eb_8a2a_30e37a590e6frow0_col5\" class=\"data row0 col5\" >0.990211</td>\n",
       "                        <td id=\"T_74eb29c6_0f72_11eb_8a2a_30e37a590e6frow0_col6\" class=\"data row0 col6\" >0.5</td>\n",
       "            </tr>\n",
       "            <tr>\n",
       "                        <th id=\"T_74eb29c6_0f72_11eb_8a2a_30e37a590e6flevel0_row1\" class=\"row_heading level0 row1\" >1</th>\n",
       "                        <td id=\"T_74eb29c6_0f72_11eb_8a2a_30e37a590e6frow1_col0\" class=\"data row1 col0\" >0.475235</td>\n",
       "                        <td id=\"T_74eb29c6_0f72_11eb_8a2a_30e37a590e6frow1_col1\" class=\"data row1 col1\" >0.998487</td>\n",
       "                        <td id=\"T_74eb29c6_0f72_11eb_8a2a_30e37a590e6frow1_col2\" class=\"data row1 col2\" >0.986547</td>\n",
       "                        <td id=\"T_74eb29c6_0f72_11eb_8a2a_30e37a590e6frow1_col3\" class=\"data row1 col3\" >0.992481</td>\n",
       "                        <td id=\"T_74eb29c6_0f72_11eb_8a2a_30e37a590e6frow1_col4\" class=\"data row1 col4\" >0.996076</td>\n",
       "                        <td id=\"T_74eb29c6_0f72_11eb_8a2a_30e37a590e6frow1_col5\" class=\"data row1 col5\" >0.99247</td>\n",
       "                        <td id=\"T_74eb29c6_0f72_11eb_8a2a_30e37a590e6frow1_col6\" class=\"data row1 col6\" >0.5</td>\n",
       "            </tr>\n",
       "            <tr>\n",
       "                        <th id=\"T_74eb29c6_0f72_11eb_8a2a_30e37a590e6flevel0_row2\" class=\"row_heading level0 row2\" >2</th>\n",
       "                        <td id=\"T_74eb29c6_0f72_11eb_8a2a_30e37a590e6frow2_col0\" class=\"data row2 col0\" >0.544519</td>\n",
       "                        <td id=\"T_74eb29c6_0f72_11eb_8a2a_30e37a590e6frow2_col1\" class=\"data row2 col1\" >1</td>\n",
       "                        <td id=\"T_74eb29c6_0f72_11eb_8a2a_30e37a590e6frow2_col2\" class=\"data row2 col2\" >0.979259</td>\n",
       "                        <td id=\"T_74eb29c6_0f72_11eb_8a2a_30e37a590e6frow2_col3\" class=\"data row2 col3\" >0.989521</td>\n",
       "                        <td id=\"T_74eb29c6_0f72_11eb_8a2a_30e37a590e6frow2_col4\" class=\"data row2 col4\" >0.995782</td>\n",
       "                        <td id=\"T_74eb29c6_0f72_11eb_8a2a_30e37a590e6frow2_col5\" class=\"data row2 col5\" >0.989458</td>\n",
       "                        <td id=\"T_74eb29c6_0f72_11eb_8a2a_30e37a590e6frow2_col6\" class=\"data row2 col6\" >0.5</td>\n",
       "            </tr>\n",
       "            <tr>\n",
       "                        <th id=\"T_74eb29c6_0f72_11eb_8a2a_30e37a590e6flevel0_row3\" class=\"row_heading level0 row3\" >3</th>\n",
       "                        <td id=\"T_74eb29c6_0f72_11eb_8a2a_30e37a590e6frow3_col0\" class=\"data row3 col0\" >0.486523</td>\n",
       "                        <td id=\"T_74eb29c6_0f72_11eb_8a2a_30e37a590e6frow3_col1\" class=\"data row3 col1\" >0.998487</td>\n",
       "                        <td id=\"T_74eb29c6_0f72_11eb_8a2a_30e37a590e6frow3_col2\" class=\"data row3 col2\" >0.985075</td>\n",
       "                        <td id=\"T_74eb29c6_0f72_11eb_8a2a_30e37a590e6frow3_col3\" class=\"data row3 col3\" >0.991736</td>\n",
       "                        <td id=\"T_74eb29c6_0f72_11eb_8a2a_30e37a590e6frow3_col4\" class=\"data row3 col4\" >0.995775</td>\n",
       "                        <td id=\"T_74eb29c6_0f72_11eb_8a2a_30e37a590e6frow3_col5\" class=\"data row3 col5\" >0.991717</td>\n",
       "                        <td id=\"T_74eb29c6_0f72_11eb_8a2a_30e37a590e6frow3_col6\" class=\"data row3 col6\" >0.5</td>\n",
       "            </tr>\n",
       "            <tr>\n",
       "                        <th id=\"T_74eb29c6_0f72_11eb_8a2a_30e37a590e6flevel0_row4\" class=\"row_heading level0 row4\" >4</th>\n",
       "                        <td id=\"T_74eb29c6_0f72_11eb_8a2a_30e37a590e6frow4_col0\" class=\"data row4 col0\" >0.550045</td>\n",
       "                        <td id=\"T_74eb29c6_0f72_11eb_8a2a_30e37a590e6frow4_col1\" class=\"data row4 col1\" >1</td>\n",
       "                        <td id=\"T_74eb29c6_0f72_11eb_8a2a_30e37a590e6frow4_col2\" class=\"data row4 col2\" >0.977811</td>\n",
       "                        <td id=\"T_74eb29c6_0f72_11eb_8a2a_30e37a590e6frow4_col3\" class=\"data row4 col3\" >0.988781</td>\n",
       "                        <td id=\"T_74eb29c6_0f72_11eb_8a2a_30e37a590e6frow4_col4\" class=\"data row4 col4\" >0.995482</td>\n",
       "                        <td id=\"T_74eb29c6_0f72_11eb_8a2a_30e37a590e6frow4_col5\" class=\"data row4 col5\" >0.988705</td>\n",
       "                        <td id=\"T_74eb29c6_0f72_11eb_8a2a_30e37a590e6frow4_col6\" class=\"data row4 col6\" >0.5</td>\n",
       "            </tr>\n",
       "    </tbody></table>"
      ],
      "text/plain": [
       "<pandas.io.formats.style.Styler at 0x1b4c32cb278>"
      ]
     },
     "execution_count": 18,
     "metadata": {},
     "output_type": "execute_result"
    }
   ],
   "source": [
    "metric_df=helper.metric_df\n",
    "\n",
    "metric_df.sort_values(by='FBeta',ascending=False,inplace=True)\n",
    "metric_df.reset_index(drop=True,inplace=True)\n",
    "\n",
    "metric_df.head().style.highlight_max(axis=0,subset=['FBeta'])"
   ]
  },
  {
   "cell_type": "code",
   "execution_count": 19,
   "metadata": {},
   "outputs": [
    {
     "name": "stdout",
     "output_type": "stream",
     "text": [
      "Best FBeta Score is threshold=0.5433058860675448.\n"
     ]
    }
   ],
   "source": [
    "bestThreshold=metric_df['Threshold'].iloc[0]\n",
    "\n",
    "print('Best FBeta Score is threshold={}.'\n",
    "      .format(bestThreshold))"
   ]
  },
  {
   "cell_type": "markdown",
   "metadata": {},
   "source": [
    "#### Plot confusion matrix with adjusted threshold and beta"
   ]
  },
  {
   "cell_type": "code",
   "execution_count": 20,
   "metadata": {
    "code_folding": []
   },
   "outputs": [],
   "source": [
    "def adjustThreshold(predict_proba,threshold):\n",
    "    predict_newThreshold=[]\n",
    "    for prob in predict_proba:\n",
    "        if prob<threshold:\n",
    "            predict_newThreshold.append(0)\n",
    "        else:   \n",
    "            predict_newThreshold.append(1)\n",
    "    return predict_newThreshold"
   ]
  },
  {
   "cell_type": "code",
   "execution_count": 21,
   "metadata": {
    "code_folding": []
   },
   "outputs": [
    {
     "data": {
      "image/png": "[encoded data removed]",
      "text/plain": [
       "<Figure size 1080x360 with 2 Axes>"
      ]
     },
     "metadata": {},
     "output_type": "display_data"
    }
   ],
   "source": [
    "predict_proba=fittedWinnerModel.predict_proba(X_test)[:,1]\n",
    "\n",
    "\n",
    "cm=confusion_matrix(y_test.astype(int),adjustThreshold(predict_proba,threshold=bestThreshold))\n",
    "cf_matrix.make_confusion_matrix(cm,figsize=(15,5),categories=['Ham','Spam'],\n",
    "                                title='Confusion Matrix \\n',group_names=labels,beta=0.5)"
   ]
  },
  {
   "cell_type": "markdown",
   "metadata": {},
   "source": [
    "Adjusting the threshold to **0.643863** from default of 0.5 reduced the false-positives by 0.34%."
   ]
  },
  {
   "cell_type": "markdown",
   "metadata": {},
   "source": [
    "#### Plot metrics against Threshold"
   ]
  },
  {
   "cell_type": "code",
   "execution_count": null,
   "metadata": {
    "code_folding": []
   },
   "outputs": [],
   "source": [
    "helper=Helper.Thresholder(gs=fittedWinnerModel,\n",
    "                          X=X_train,\n",
    "                          y=y_train, plotOptimalThreshold=True)\n",
    "\n",
    "helper.fit(beta=0.5);"
   ]
  },
  {
   "cell_type": "markdown",
   "metadata": {},
   "source": [
    "###  **Analysis of misclassified comments**"
   ]
  },
  {
   "cell_type": "code",
   "execution_count": 23,
   "metadata": {},
   "outputs": [],
   "source": [
    "predict_proba=gridSearcher_lr.fittedWinnerModel.predict_proba(X_test)[:,1]\n",
    "\n",
    "prediction_df=pd.DataFrame(data={'X_test':X_test['CleanWordList'],\n",
    "                  'y_test':y_test,\n",
    "                  'predict_proba':predict_proba,\n",
    "                  'Prediction':adjustThreshold(predict_proba,threshold=bestThreshold)})"
   ]
  },
  {
   "cell_type": "code",
   "execution_count": 24,
   "metadata": {},
   "outputs": [],
   "source": [
    "merged=pd.merge(prediction_df,data,how='left',left_on='X_test',right_on='CleanWordList')\n",
    "\n",
    "cols=['X_test','CONTENT','y_test', 'predict_proba', 'Prediction']\n",
    "merged=merged[cols]\n",
    "merged.drop_duplicates(inplace=True)\n",
    "\n",
    "merged['y_test']=merged['y_test'].astype(int)\n",
    "merged['Prediction']=merged['Prediction'].astype(int)"
   ]
  },
  {
   "cell_type": "markdown",
   "metadata": {},
   "source": [
    "#### False-negatives (miscalssified as Ham)"
   ]
  },
  {
   "cell_type": "code",
   "execution_count": 25,
   "metadata": {},
   "outputs": [],
   "source": [
    "def left_align(df: pd.DataFrame):\n",
    "    left_aligned_df = df.style.set_properties(**{'text-align': 'left'})\n",
    "    left_aligned_df = left_aligned_df.set_table_styles(\n",
    "        [dict(selector='th', props=[('text-align', 'center')])]\n",
    "    )\n",
    "    return left_aligned_df"
   ]
  },
  {
   "cell_type": "code",
   "execution_count": 26,
   "metadata": {},
   "outputs": [
    {
     "data": {
      "text/html": [
       "<style  type=\"text/css\" >\n",
       "    #T_7784f88a_0f72_11eb_9ced_30e37a590e6f th {\n",
       "          text-align: center;\n",
       "    }    #T_7784f88a_0f72_11eb_9ced_30e37a590e6frow0_col0 {\n",
       "            text-align:  left;\n",
       "        }    #T_7784f88a_0f72_11eb_9ced_30e37a590e6frow0_col1 {\n",
       "            text-align:  left;\n",
       "        }    #T_7784f88a_0f72_11eb_9ced_30e37a590e6frow1_col0 {\n",
       "            text-align:  left;\n",
       "        }    #T_7784f88a_0f72_11eb_9ced_30e37a590e6frow1_col1 {\n",
       "            text-align:  left;\n",
       "        }    #T_7784f88a_0f72_11eb_9ced_30e37a590e6frow2_col0 {\n",
       "            text-align:  left;\n",
       "        }    #T_7784f88a_0f72_11eb_9ced_30e37a590e6frow2_col1 {\n",
       "            text-align:  left;\n",
       "        }    #T_7784f88a_0f72_11eb_9ced_30e37a590e6frow3_col0 {\n",
       "            text-align:  left;\n",
       "        }    #T_7784f88a_0f72_11eb_9ced_30e37a590e6frow3_col1 {\n",
       "            text-align:  left;\n",
       "        }    #T_7784f88a_0f72_11eb_9ced_30e37a590e6frow4_col0 {\n",
       "            text-align:  left;\n",
       "        }    #T_7784f88a_0f72_11eb_9ced_30e37a590e6frow4_col1 {\n",
       "            text-align:  left;\n",
       "        }    #T_7784f88a_0f72_11eb_9ced_30e37a590e6frow5_col0 {\n",
       "            text-align:  left;\n",
       "        }    #T_7784f88a_0f72_11eb_9ced_30e37a590e6frow5_col1 {\n",
       "            text-align:  left;\n",
       "        }    #T_7784f88a_0f72_11eb_9ced_30e37a590e6frow6_col0 {\n",
       "            text-align:  left;\n",
       "        }    #T_7784f88a_0f72_11eb_9ced_30e37a590e6frow6_col1 {\n",
       "            text-align:  left;\n",
       "        }    #T_7784f88a_0f72_11eb_9ced_30e37a590e6frow7_col0 {\n",
       "            text-align:  left;\n",
       "        }    #T_7784f88a_0f72_11eb_9ced_30e37a590e6frow7_col1 {\n",
       "            text-align:  left;\n",
       "        }    #T_7784f88a_0f72_11eb_9ced_30e37a590e6frow8_col0 {\n",
       "            text-align:  left;\n",
       "        }    #T_7784f88a_0f72_11eb_9ced_30e37a590e6frow8_col1 {\n",
       "            text-align:  left;\n",
       "        }    #T_7784f88a_0f72_11eb_9ced_30e37a590e6frow9_col0 {\n",
       "            text-align:  left;\n",
       "        }    #T_7784f88a_0f72_11eb_9ced_30e37a590e6frow9_col1 {\n",
       "            text-align:  left;\n",
       "        }    #T_7784f88a_0f72_11eb_9ced_30e37a590e6frow10_col0 {\n",
       "            text-align:  left;\n",
       "        }    #T_7784f88a_0f72_11eb_9ced_30e37a590e6frow10_col1 {\n",
       "            text-align:  left;\n",
       "        }    #T_7784f88a_0f72_11eb_9ced_30e37a590e6frow11_col0 {\n",
       "            text-align:  left;\n",
       "        }    #T_7784f88a_0f72_11eb_9ced_30e37a590e6frow11_col1 {\n",
       "            text-align:  left;\n",
       "        }    #T_7784f88a_0f72_11eb_9ced_30e37a590e6frow12_col0 {\n",
       "            text-align:  left;\n",
       "        }    #T_7784f88a_0f72_11eb_9ced_30e37a590e6frow12_col1 {\n",
       "            text-align:  left;\n",
       "        }    #T_7784f88a_0f72_11eb_9ced_30e37a590e6frow13_col0 {\n",
       "            text-align:  left;\n",
       "        }    #T_7784f88a_0f72_11eb_9ced_30e37a590e6frow13_col1 {\n",
       "            text-align:  left;\n",
       "        }    #T_7784f88a_0f72_11eb_9ced_30e37a590e6frow14_col0 {\n",
       "            text-align:  left;\n",
       "        }    #T_7784f88a_0f72_11eb_9ced_30e37a590e6frow14_col1 {\n",
       "            text-align:  left;\n",
       "        }    #T_7784f88a_0f72_11eb_9ced_30e37a590e6frow15_col0 {\n",
       "            text-align:  left;\n",
       "        }    #T_7784f88a_0f72_11eb_9ced_30e37a590e6frow15_col1 {\n",
       "            text-align:  left;\n",
       "        }    #T_7784f88a_0f72_11eb_9ced_30e37a590e6frow16_col0 {\n",
       "            text-align:  left;\n",
       "        }    #T_7784f88a_0f72_11eb_9ced_30e37a590e6frow16_col1 {\n",
       "            text-align:  left;\n",
       "        }    #T_7784f88a_0f72_11eb_9ced_30e37a590e6frow17_col0 {\n",
       "            text-align:  left;\n",
       "        }    #T_7784f88a_0f72_11eb_9ced_30e37a590e6frow17_col1 {\n",
       "            text-align:  left;\n",
       "        }    #T_7784f88a_0f72_11eb_9ced_30e37a590e6frow18_col0 {\n",
       "            text-align:  left;\n",
       "        }    #T_7784f88a_0f72_11eb_9ced_30e37a590e6frow18_col1 {\n",
       "            text-align:  left;\n",
       "        }    #T_7784f88a_0f72_11eb_9ced_30e37a590e6frow19_col0 {\n",
       "            text-align:  left;\n",
       "        }    #T_7784f88a_0f72_11eb_9ced_30e37a590e6frow19_col1 {\n",
       "            text-align:  left;\n",
       "        }    #T_7784f88a_0f72_11eb_9ced_30e37a590e6frow20_col0 {\n",
       "            text-align:  left;\n",
       "        }    #T_7784f88a_0f72_11eb_9ced_30e37a590e6frow20_col1 {\n",
       "            text-align:  left;\n",
       "        }</style><table id=\"T_7784f88a_0f72_11eb_9ced_30e37a590e6f\" ><thead>    <tr>        <th class=\"blank level0\" ></th>        <th class=\"col_heading level0 col0\" >Actually a SPAM but wrongly calssified as HAM</th>        <th class=\"col_heading level0 col1\" >predict_proba</th>    </tr></thead><tbody>\n",
       "                <tr>\n",
       "                        <th id=\"T_7784f88a_0f72_11eb_9ced_30e37a590e6flevel0_row0\" class=\"row_heading level0 row0\" >0</th>\n",
       "                        <td id=\"T_7784f88a_0f72_11eb_9ced_30e37a590e6frow0_col0\" class=\"data row0 col0\" >  Haha , Miley Cyrus has done it once again  Today someone leeched a porno video with her on a celeb site   I believe the website link is : miley-celeb-news.co.uk in case you want to view it.... </td>\n",
       "                        <td id=\"T_7784f88a_0f72_11eb_9ced_30e37a590e6frow0_col1\" class=\"data row0 col1\" >0.535547</td>\n",
       "            </tr>\n",
       "            <tr>\n",
       "                        <th id=\"T_7784f88a_0f72_11eb_9ced_30e37a590e6flevel0_row1\" class=\"row_heading level0 row1\" >1</th>\n",
       "                        <td id=\"T_7784f88a_0f72_11eb_9ced_30e37a590e6frow1_col0\" class=\"data row1 col0\" >YAY IM THE 11TH COMMENTER!!!!!                                    IF YOUR  CRAZY PLEASE DONATE BITCOINS TO ME AT: 1FHeNqx1twqM153v2PTAyieJNEALAhZvEM﻿</td>\n",
       "                        <td id=\"T_7784f88a_0f72_11eb_9ced_30e37a590e6frow1_col1\" class=\"data row1 col1\" >0.48302</td>\n",
       "            </tr>\n",
       "            <tr>\n",
       "                        <th id=\"T_7784f88a_0f72_11eb_9ced_30e37a590e6flevel0_row2\" class=\"row_heading level0 row2\" >2</th>\n",
       "                        <td id=\"T_7784f88a_0f72_11eb_9ced_30e37a590e6frow2_col0\" class=\"data row2 col0\" >like please﻿</td>\n",
       "                        <td id=\"T_7784f88a_0f72_11eb_9ced_30e37a590e6frow2_col1\" class=\"data row2 col1\" >0.456808</td>\n",
       "            </tr>\n",
       "            <tr>\n",
       "                        <th id=\"T_7784f88a_0f72_11eb_9ced_30e37a590e6flevel0_row3\" class=\"row_heading level0 row3\" >3</th>\n",
       "                        <td id=\"T_7784f88a_0f72_11eb_9ced_30e37a590e6frow3_col0\" class=\"data row3 col0\" >/watch?v=aImbWbfQbzg watch and subscrible</td>\n",
       "                        <td id=\"T_7784f88a_0f72_11eb_9ced_30e37a590e6frow3_col1\" class=\"data row3 col1\" >0.326182</td>\n",
       "            </tr>\n",
       "            <tr>\n",
       "                        <th id=\"T_7784f88a_0f72_11eb_9ced_30e37a590e6flevel0_row4\" class=\"row_heading level0 row4\" >4</th>\n",
       "                        <td id=\"T_7784f88a_0f72_11eb_9ced_30e37a590e6frow4_col0\" class=\"data row4 col0\" >i can to make money</td>\n",
       "                        <td id=\"T_7784f88a_0f72_11eb_9ced_30e37a590e6frow4_col1\" class=\"data row4 col1\" >0.325079</td>\n",
       "            </tr>\n",
       "            <tr>\n",
       "                        <th id=\"T_7784f88a_0f72_11eb_9ced_30e37a590e6flevel0_row5\" class=\"row_heading level0 row5\" >5</th>\n",
       "                        <td id=\"T_7784f88a_0f72_11eb_9ced_30e37a590e6frow5_col0\" class=\"data row5 col0\" >gofundme.com/grwmps﻿</td>\n",
       "                        <td id=\"T_7784f88a_0f72_11eb_9ced_30e37a590e6frow5_col1\" class=\"data row5 col1\" >0.274937</td>\n",
       "            </tr>\n",
       "            <tr>\n",
       "                        <th id=\"T_7784f88a_0f72_11eb_9ced_30e37a590e6flevel0_row6\" class=\"row_heading level0 row6\" >6</th>\n",
       "                        <td id=\"T_7784f88a_0f72_11eb_9ced_30e37a590e6frow6_col0\" class=\"data row6 col0\" >Fuck it was the best ever 0687119038 nummber of patrik kluivert his son share !﻿</td>\n",
       "                        <td id=\"T_7784f88a_0f72_11eb_9ced_30e37a590e6frow6_col1\" class=\"data row6 col1\" >0.25839</td>\n",
       "            </tr>\n",
       "            <tr>\n",
       "                        <th id=\"T_7784f88a_0f72_11eb_9ced_30e37a590e6flevel0_row7\" class=\"row_heading level0 row7\" >7</th>\n",
       "                        <td id=\"T_7784f88a_0f72_11eb_9ced_30e37a590e6frow7_col0\" class=\"data row7 col0\" >WOW muslims are really egoistic..... 23% of the World population and not in this video or donating 1 dollar to the poor ones in Africa :( shame on those terrorist muslims</td>\n",
       "                        <td id=\"T_7784f88a_0f72_11eb_9ced_30e37a590e6frow7_col1\" class=\"data row7 col1\" >0.22765</td>\n",
       "            </tr>\n",
       "            <tr>\n",
       "                        <th id=\"T_7784f88a_0f72_11eb_9ced_30e37a590e6flevel0_row8\" class=\"row_heading level0 row8\" >8</th>\n",
       "                        <td id=\"T_7784f88a_0f72_11eb_9ced_30e37a590e6frow8_col0\" class=\"data row8 col0\" >Come and watch my video it is called the odowd crowd zombie movie part 1 ﻿</td>\n",
       "                        <td id=\"T_7784f88a_0f72_11eb_9ced_30e37a590e6frow8_col1\" class=\"data row8 col1\" >0.18772</td>\n",
       "            </tr>\n",
       "            <tr>\n",
       "                        <th id=\"T_7784f88a_0f72_11eb_9ced_30e37a590e6flevel0_row9\" class=\"row_heading level0 row9\" >9</th>\n",
       "                        <td id=\"T_7784f88a_0f72_11eb_9ced_30e37a590e6frow9_col0\" class=\"data row9 col0\" >This guy win dollars sleeping... m m m he loves the planet its full of RETARDS</td>\n",
       "                        <td id=\"T_7784f88a_0f72_11eb_9ced_30e37a590e6frow9_col1\" class=\"data row9 col1\" >0.184888</td>\n",
       "            </tr>\n",
       "            <tr>\n",
       "                        <th id=\"T_7784f88a_0f72_11eb_9ced_30e37a590e6flevel0_row10\" class=\"row_heading level0 row10\" >10</th>\n",
       "                        <td id=\"T_7784f88a_0f72_11eb_9ced_30e37a590e6frow10_col0\" class=\"data row10 col0\" >HOW DO YOU PUT A PICTURE FOR YOUR IMAGE THINGIE?!?!﻿</td>\n",
       "                        <td id=\"T_7784f88a_0f72_11eb_9ced_30e37a590e6frow10_col1\" class=\"data row10 col1\" >0.176739</td>\n",
       "            </tr>\n",
       "            <tr>\n",
       "                        <th id=\"T_7784f88a_0f72_11eb_9ced_30e37a590e6flevel0_row11\" class=\"row_heading level0 row11\" >11</th>\n",
       "                        <td id=\"T_7784f88a_0f72_11eb_9ced_30e37a590e6frow11_col0\" class=\"data row11 col0\" >Help shakira&#39;s waka waka be the first song by a female artist to reach 1 billion views.<br />(dark horse is ahead by roughly 100 million more views, and roar has only 50 million more views)<br /><a href=\"https://www.youtube.com/watch?v=pRpeEdMmmQ0\">https://www.youtube.com/watch?v=pRpeEdMmmQ0</a>﻿</td>\n",
       "                        <td id=\"T_7784f88a_0f72_11eb_9ced_30e37a590e6frow11_col1\" class=\"data row11 col1\" >0.171971</td>\n",
       "            </tr>\n",
       "            <tr>\n",
       "                        <th id=\"T_7784f88a_0f72_11eb_9ced_30e37a590e6flevel0_row12\" class=\"row_heading level0 row12\" >12</th>\n",
       "                        <td id=\"T_7784f88a_0f72_11eb_9ced_30e37a590e6frow12_col0\" class=\"data row12 col0\" >I&#39;m subscribing to you just because your comment was that great.</td>\n",
       "                        <td id=\"T_7784f88a_0f72_11eb_9ced_30e37a590e6frow12_col1\" class=\"data row12 col1\" >0.149681</td>\n",
       "            </tr>\n",
       "            <tr>\n",
       "                        <th id=\"T_7784f88a_0f72_11eb_9ced_30e37a590e6flevel0_row13\" class=\"row_heading level0 row13\" >13</th>\n",
       "                        <td id=\"T_7784f88a_0f72_11eb_9ced_30e37a590e6frow13_col0\" class=\"data row13 col0\" >give it a like﻿</td>\n",
       "                        <td id=\"T_7784f88a_0f72_11eb_9ced_30e37a590e6frow13_col1\" class=\"data row13 col1\" >0.148578</td>\n",
       "            </tr>\n",
       "            <tr>\n",
       "                        <th id=\"T_7784f88a_0f72_11eb_9ced_30e37a590e6flevel0_row14\" class=\"row_heading level0 row14\" >14</th>\n",
       "                        <td id=\"T_7784f88a_0f72_11eb_9ced_30e37a590e6frow14_col0\" class=\"data row14 col0\" >Aslamu Lykum... From Pakistan﻿</td>\n",
       "                        <td id=\"T_7784f88a_0f72_11eb_9ced_30e37a590e6frow14_col1\" class=\"data row14 col1\" >0.0857781</td>\n",
       "            </tr>\n",
       "            <tr>\n",
       "                        <th id=\"T_7784f88a_0f72_11eb_9ced_30e37a590e6flevel0_row15\" class=\"row_heading level0 row15\" >15</th>\n",
       "                        <td id=\"T_7784f88a_0f72_11eb_9ced_30e37a590e6frow15_col0\" class=\"data row15 col0\" >los invito a subscribirse a mi canal ﻿</td>\n",
       "                        <td id=\"T_7784f88a_0f72_11eb_9ced_30e37a590e6frow15_col1\" class=\"data row15 col1\" >0.0846823</td>\n",
       "            </tr>\n",
       "            <tr>\n",
       "                        <th id=\"T_7784f88a_0f72_11eb_9ced_30e37a590e6flevel0_row16\" class=\"row_heading level0 row16\" >16</th>\n",
       "                        <td id=\"T_7784f88a_0f72_11eb_9ced_30e37a590e6frow16_col0\" class=\"data row16 col0\" >Incmedia.org where the truth meets you.﻿</td>\n",
       "                        <td id=\"T_7784f88a_0f72_11eb_9ced_30e37a590e6frow16_col1\" class=\"data row16 col1\" >0.0814119</td>\n",
       "            </tr>\n",
       "            <tr>\n",
       "                        <th id=\"T_7784f88a_0f72_11eb_9ced_30e37a590e6flevel0_row17\" class=\"row_heading level0 row17\" >17</th>\n",
       "                        <td id=\"T_7784f88a_0f72_11eb_9ced_30e37a590e6frow17_col0\" class=\"data row17 col0\" >I subscribed it<br />﻿</td>\n",
       "                        <td id=\"T_7784f88a_0f72_11eb_9ced_30e37a590e6frow17_col1\" class=\"data row17 col1\" >0.0761356</td>\n",
       "            </tr>\n",
       "            <tr>\n",
       "                        <th id=\"T_7784f88a_0f72_11eb_9ced_30e37a590e6flevel0_row18\" class=\"row_heading level0 row18\" >18</th>\n",
       "                        <td id=\"T_7784f88a_0f72_11eb_9ced_30e37a590e6frow18_col0\" class=\"data row18 col0\" >Believe that Jesus Christ is your savior for all your sins. If you truly believe in Jesus Christ to be your savior for all your sins then you will go to Heaven. If you believe in Jesus Christ then you are saved and you are in salvation and you have gained God’s righteousness. It matters not how much you have sinned in the past, in the present and especially in the future. Believe that Jesus Christ is your savior and you will go to Heaven forever and that is the whole truth. Spread the truth. </td>\n",
       "                        <td id=\"T_7784f88a_0f72_11eb_9ced_30e37a590e6frow18_col1\" class=\"data row18 col1\" >0.0602524</td>\n",
       "            </tr>\n",
       "            <tr>\n",
       "                        <th id=\"T_7784f88a_0f72_11eb_9ced_30e37a590e6flevel0_row19\" class=\"row_heading level0 row19\" >19</th>\n",
       "                        <td id=\"T_7784f88a_0f72_11eb_9ced_30e37a590e6frow19_col0\" class=\"data row19 col0\" >Yea stil the best WK song ever<br />Thumbs up of you think the same<br />﻿</td>\n",
       "                        <td id=\"T_7784f88a_0f72_11eb_9ced_30e37a590e6frow19_col1\" class=\"data row19 col1\" >0.0272973</td>\n",
       "            </tr>\n",
       "            <tr>\n",
       "                        <th id=\"T_7784f88a_0f72_11eb_9ced_30e37a590e6flevel0_row20\" class=\"row_heading level0 row20\" >20</th>\n",
       "                        <td id=\"T_7784f88a_0f72_11eb_9ced_30e37a590e6frow20_col0\" class=\"data row20 col0\" >1 753 682 421 GANGNAM STYLE ^^</td>\n",
       "                        <td id=\"T_7784f88a_0f72_11eb_9ced_30e37a590e6frow20_col1\" class=\"data row20 col1\" >0.0240983</td>\n",
       "            </tr>\n",
       "    </tbody></table>"
      ],
      "text/plain": [
       "<pandas.io.formats.style.Styler at 0x1b4c185bcf8>"
      ]
     },
     "execution_count": 26,
     "metadata": {},
     "output_type": "execute_result"
    }
   ],
   "source": [
    "filtSpam=(merged['Prediction']==0) & (merged['y_test']==1) \n",
    "misclassifiedSpam=merged[filtSpam]\n",
    "\n",
    "misclassifiedSpam.rename(columns={'CONTENT':'Actually a SPAM but wrongly calssified as HAM'},inplace=True)\n",
    "misclassifiedSpam.sort_values(by='predict_proba',ascending=False,inplace=True)\n",
    "misclassifiedSpam.reset_index(drop=True,inplace=True)\n",
    "left_align(misclassifiedSpam.loc[:,['Actually a SPAM but wrongly calssified as HAM','predict_proba']])"
   ]
  },
  {
   "cell_type": "markdown",
   "metadata": {},
   "source": [
    "#### False-positives (miscalssified as Spam)\n",
    "\n"
   ]
  },
  {
   "cell_type": "code",
   "execution_count": 27,
   "metadata": {},
   "outputs": [
    {
     "data": {
      "text/html": [
       "<style  type=\"text/css\" >\n",
       "    #T_7797133a_0f72_11eb_b511_30e37a590e6f th {\n",
       "          text-align: center;\n",
       "    }    #T_7797133a_0f72_11eb_b511_30e37a590e6frow0_col0 {\n",
       "            text-align:  left;\n",
       "        }    #T_7797133a_0f72_11eb_b511_30e37a590e6frow0_col1 {\n",
       "            text-align:  left;\n",
       "        }    #T_7797133a_0f72_11eb_b511_30e37a590e6frow1_col0 {\n",
       "            text-align:  left;\n",
       "        }    #T_7797133a_0f72_11eb_b511_30e37a590e6frow1_col1 {\n",
       "            text-align:  left;\n",
       "        }    #T_7797133a_0f72_11eb_b511_30e37a590e6frow2_col0 {\n",
       "            text-align:  left;\n",
       "        }    #T_7797133a_0f72_11eb_b511_30e37a590e6frow2_col1 {\n",
       "            text-align:  left;\n",
       "        }    #T_7797133a_0f72_11eb_b511_30e37a590e6frow3_col0 {\n",
       "            text-align:  left;\n",
       "        }    #T_7797133a_0f72_11eb_b511_30e37a590e6frow3_col1 {\n",
       "            text-align:  left;\n",
       "        }    #T_7797133a_0f72_11eb_b511_30e37a590e6frow4_col0 {\n",
       "            text-align:  left;\n",
       "        }    #T_7797133a_0f72_11eb_b511_30e37a590e6frow4_col1 {\n",
       "            text-align:  left;\n",
       "        }    #T_7797133a_0f72_11eb_b511_30e37a590e6frow5_col0 {\n",
       "            text-align:  left;\n",
       "        }    #T_7797133a_0f72_11eb_b511_30e37a590e6frow5_col1 {\n",
       "            text-align:  left;\n",
       "        }    #T_7797133a_0f72_11eb_b511_30e37a590e6frow6_col0 {\n",
       "            text-align:  left;\n",
       "        }    #T_7797133a_0f72_11eb_b511_30e37a590e6frow6_col1 {\n",
       "            text-align:  left;\n",
       "        }    #T_7797133a_0f72_11eb_b511_30e37a590e6frow7_col0 {\n",
       "            text-align:  left;\n",
       "        }    #T_7797133a_0f72_11eb_b511_30e37a590e6frow7_col1 {\n",
       "            text-align:  left;\n",
       "        }    #T_7797133a_0f72_11eb_b511_30e37a590e6frow8_col0 {\n",
       "            text-align:  left;\n",
       "        }    #T_7797133a_0f72_11eb_b511_30e37a590e6frow8_col1 {\n",
       "            text-align:  left;\n",
       "        }</style><table id=\"T_7797133a_0f72_11eb_b511_30e37a590e6f\" ><thead>    <tr>        <th class=\"blank level0\" ></th>        <th class=\"col_heading level0 col0\" >Actually a HAM but wrongly calssified as SPAM</th>        <th class=\"col_heading level0 col1\" >predict_proba</th>    </tr></thead><tbody>\n",
       "                <tr>\n",
       "                        <th id=\"T_7797133a_0f72_11eb_b511_30e37a590e6flevel0_row0\" class=\"row_heading level0 row0\" >0</th>\n",
       "                        <td id=\"T_7797133a_0f72_11eb_b511_30e37a590e6frow0_col0\" class=\"data row0 col0\" >If you pause at 1:39 at the last millisecond you can see that that chick is  about to laugh. Takes a few tries.﻿</td>\n",
       "                        <td id=\"T_7797133a_0f72_11eb_b511_30e37a590e6frow0_col1\" class=\"data row0 col1\" >0.574403</td>\n",
       "            </tr>\n",
       "            <tr>\n",
       "                        <th id=\"T_7797133a_0f72_11eb_b511_30e37a590e6flevel0_row1\" class=\"row_heading level0 row1\" >1</th>\n",
       "                        <td id=\"T_7797133a_0f72_11eb_b511_30e37a590e6frow1_col0\" class=\"data row1 col0\" >THUMBS UP FOR ROBO GUY BABY﻿</td>\n",
       "                        <td id=\"T_7797133a_0f72_11eb_b511_30e37a590e6frow1_col1\" class=\"data row1 col1\" >0.597314</td>\n",
       "            </tr>\n",
       "            <tr>\n",
       "                        <th id=\"T_7797133a_0f72_11eb_b511_30e37a590e6flevel0_row2\" class=\"row_heading level0 row2\" >2</th>\n",
       "                        <td id=\"T_7797133a_0f72_11eb_b511_30e37a590e6frow2_col0\" class=\"data row2 col0\" >I dont even watch it anymore i just come here to check on 2 Billion or not﻿</td>\n",
       "                        <td id=\"T_7797133a_0f72_11eb_b511_30e37a590e6frow2_col1\" class=\"data row2 col1\" >0.65882</td>\n",
       "            </tr>\n",
       "            <tr>\n",
       "                        <th id=\"T_7797133a_0f72_11eb_b511_30e37a590e6flevel0_row3\" class=\"row_heading level0 row3\" >3</th>\n",
       "                        <td id=\"T_7797133a_0f72_11eb_b511_30e37a590e6frow3_col0\" class=\"data row3 col0\" >Lemme Top Comments Please!!﻿</td>\n",
       "                        <td id=\"T_7797133a_0f72_11eb_b511_30e37a590e6frow3_col1\" class=\"data row3 col1\" >0.671294</td>\n",
       "            </tr>\n",
       "            <tr>\n",
       "                        <th id=\"T_7797133a_0f72_11eb_b511_30e37a590e6flevel0_row4\" class=\"row_heading level0 row4\" >4</th>\n",
       "                        <td id=\"T_7797133a_0f72_11eb_b511_30e37a590e6frow4_col0\" class=\"data row4 col0\" >This comment will randomly get lot's of likes and replies for no reason. I  also like Jello. Strawberry jello.﻿</td>\n",
       "                        <td id=\"T_7797133a_0f72_11eb_b511_30e37a590e6frow4_col1\" class=\"data row4 col1\" >0.76583</td>\n",
       "            </tr>\n",
       "            <tr>\n",
       "                        <th id=\"T_7797133a_0f72_11eb_b511_30e37a590e6flevel0_row5\" class=\"row_heading level0 row5\" >5</th>\n",
       "                        <td id=\"T_7797133a_0f72_11eb_b511_30e37a590e6frow5_col0\" class=\"data row5 col0\" >OMG I LOVE YOU KATY PARRY YOUR SONGS ROCK!!!!!!!!!!!!!!!!! THATS A TOTAL  SUBSCRIBE﻿</td>\n",
       "                        <td id=\"T_7797133a_0f72_11eb_b511_30e37a590e6frow5_col1\" class=\"data row5 col1\" >0.846627</td>\n",
       "            </tr>\n",
       "            <tr>\n",
       "                        <th id=\"T_7797133a_0f72_11eb_b511_30e37a590e6flevel0_row6\" class=\"row_heading level0 row6\" >6</th>\n",
       "                        <td id=\"T_7797133a_0f72_11eb_b511_30e37a590e6frow6_col0\" class=\"data row6 col0\" >i check back often to help reach 2x10^9 views and I avoid watching Baby﻿</td>\n",
       "                        <td id=\"T_7797133a_0f72_11eb_b511_30e37a590e6frow6_col1\" class=\"data row6 col1\" >0.943611</td>\n",
       "            </tr>\n",
       "            <tr>\n",
       "                        <th id=\"T_7797133a_0f72_11eb_b511_30e37a590e6flevel0_row7\" class=\"row_heading level0 row7\" >7</th>\n",
       "                        <td id=\"T_7797133a_0f72_11eb_b511_30e37a590e6frow7_col0\" class=\"data row7 col0\" >thumbs up if u checked this video to see hw views it got﻿</td>\n",
       "                        <td id=\"T_7797133a_0f72_11eb_b511_30e37a590e6frow7_col1\" class=\"data row7 col1\" >0.990592</td>\n",
       "            </tr>\n",
       "            <tr>\n",
       "                        <th id=\"T_7797133a_0f72_11eb_b511_30e37a590e6flevel0_row8\" class=\"row_heading level0 row8\" >8</th>\n",
       "                        <td id=\"T_7797133a_0f72_11eb_b511_30e37a590e6frow8_col0\" class=\"data row8 col0\" >My honest opinion. It's a very mediocre song. Nothing unique or special  about her music, lyrics or voice. Nothing memorable like Billie Jean or  Beat It. Before her millions of fans reply with hate comments, i know this  is a democracy and people are free to see what they want. But then don't I  have the right to express my opinion? Please don't reply with dumb comments  lie \"if you don't like it don't watch it\". I just came here to see what's  the buzz about(661 million views??) and didn't like what i saw. OK?﻿</td>\n",
       "                        <td id=\"T_7797133a_0f72_11eb_b511_30e37a590e6frow8_col1\" class=\"data row8 col1\" >0.996679</td>\n",
       "            </tr>\n",
       "    </tbody></table>"
      ],
      "text/plain": [
       "<pandas.io.formats.style.Styler at 0x1b4c352ab00>"
      ]
     },
     "execution_count": 27,
     "metadata": {},
     "output_type": "execute_result"
    }
   ],
   "source": [
    "filtHam=(merged['Prediction']==1) & (merged['y_test']==0) \n",
    "misclassifiedHam=merged[filtHam]\n",
    "\n",
    "misclassifiedHam.rename(columns={'CONTENT':'Actually a HAM but wrongly calssified as SPAM'},inplace=True)\n",
    "misclassifiedHam.sort_values(by='predict_proba',ascending=True,inplace=True)\n",
    "misclassifiedHam.reset_index(drop=True,inplace=True)\n",
    "left_align(misclassifiedHam.loc[:,['Actually a HAM but wrongly calssified as SPAM','predict_proba']].reset_index(drop=True).sort_values(by='predict_proba'))"
   ]
  }
 ],
 "metadata": {
  "kernelspec": {
   "display_name": "Python 3",
   "language": "python",
   "name": "python3"
  },
  "language_info": {
   "codemirror_mode": {
    "name": "ipython",
    "version": 3
   },
   "file_extension": ".py",
   "mimetype": "text/x-python",
   "name": "python",
   "nbconvert_exporter": "python",
   "pygments_lexer": "ipython3",
   "version": "3.7.3"
  },
  "toc": {
   "base_numbering": 1,
   "nav_menu": {},
   "number_sections": true,
   "sideBar": true,
   "skip_h1_title": false,
   "title_cell": "Table of Contents",
   "title_sidebar": "Contents",
   "toc_cell": true,
   "toc_position": {
    "height": "calc(100% - 180px)",
    "left": "10px",
    "top": "150px",
    "width": "214.297px"
   },
   "toc_section_display": true,
   "toc_window_display": true
  }
 },
 "nbformat": 4,
 "nbformat_minor": 2
}
