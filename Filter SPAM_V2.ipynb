{
 "cells": [
  {
   "cell_type": "code",
   "execution_count": 63,
   "metadata": {},
   "outputs": [],
   "source": [
    "import pandas as pd\n",
    "import numpy as np\n",
    "import re\n",
    "import string\n",
    "\n",
    "import nltk\n",
    "from nltk.corpus import stopwords\n",
    "from pattern.es import lemma\n",
    "from nltk.stem import WordNetLemmatizer\n",
    "\n",
    "from nltk.stem import PorterStemmer\n",
    "from nltk.tokenize import sent_tokenize, word_tokenize\n",
    "\n",
    "from sklearn.feature_extraction.text import TfidfVectorizer,CountVectorizer,TfidfTransformer\n",
    "\n",
    "from sklearn.pipeline import Pipeline\n",
    "from sklearn.ensemble import RandomForestClassifier\n",
    "from sklearn.model_selection import KFold, GridSearchCV, cross_val_score\n",
    "\n",
    "from xgboost import XGBClassifier\n",
    "import matplotlib.pyplot as plt\n",
    "\n",
    "import joblib"
   ]
  },
  {
   "cell_type": "code",
   "execution_count": 2,
   "metadata": {},
   "outputs": [
    {
     "data": {
      "text/plain": [
       "(1956, 5)"
      ]
     },
     "execution_count": 2,
     "metadata": {},
     "output_type": "execute_result"
    }
   ],
   "source": [
    "psy=pd.read_csv(\"Data/YouTubeSpamCollection_FromUCI/Youtube01-Psy.csv\")\n",
    "kp=pd.read_csv(\"Data/YouTubeSpamCollection_FromUCI/Youtube02-KatyPerry.csv\")\n",
    "lmfao=pd.read_csv(\"Data/YouTubeSpamCollection_FromUCI/Youtube03-LMFAO.csv\")\n",
    "eminem=pd.read_csv(\"Data/YouTubeSpamCollection_FromUCI/Youtube04-Eminem.csv\")\n",
    "shakira=pd.read_csv(\"Data/YouTubeSpamCollection_FromUCI/Youtube05-Shakira.csv\")\n",
    "\n",
    "doc=pd.concat([psy,kp,lmfao,eminem,shakira],axis=0,ignore_index=True)\n",
    "doc.shape"
   ]
  },
  {
   "cell_type": "code",
   "execution_count": 3,
   "metadata": {},
   "outputs": [
    {
     "data": {
      "text/plain": [
       "1    0.513804\n",
       "0    0.486196\n",
       "Name: CLASS, dtype: float64"
      ]
     },
     "execution_count": 3,
     "metadata": {},
     "output_type": "execute_result"
    }
   ],
   "source": [
    "# Total 1005 spams\n",
    "doc['CLASS'].value_counts(normalize=True)"
   ]
  },
  {
   "cell_type": "code",
   "execution_count": 4,
   "metadata": {},
   "outputs": [],
   "source": [
    "def clean_text(text):\n",
    "    nonpunc = [char for char in text if char not in string.punctuation]\n",
    "    nonpunc = ''.join(nonpunc).lower()\n",
    "    return[word for word in nonpunc.split() if word not in stopwords.words('english')]\n",
    "\n",
    "\n",
    "class LemmaTokenizer(object):\n",
    "    def __call__(self, text):\n",
    "        return [lemma(t) for t in word_tokenize(text)]"
   ]
  },
  {
   "cell_type": "code",
   "execution_count": 64,
   "metadata": {},
   "outputs": [],
   "source": [
    "def custom_preprocessor(text):\n",
    "    '''\n",
    "    Make text lowercase, remove text in square brackets,remove links,remove special characters\n",
    "    and remove words containing numbers.\n",
    "    '''\n",
    "    text = text.lower()\n",
    "    text = re.sub('\\[.*?\\]', '', text)\n",
    "    text = re.sub(\"\\\\W\",\" \",text) # remove special chars\n",
    "    text = re.sub('https?://\\S+|www\\.\\S+', '', text)\n",
    "    text = re.sub('<.*?>+', '', text)\n",
    "    text = re.sub('[%s]' % re.escape(string.punctuation), '', text)\n",
    "    text = re.sub('\\n', '', text)\n",
    "    text = re.sub('\\w*\\d\\w*', '', text)\n",
    "    \n",
    "    # stem words\n",
    "    lemmatizer=WordNetLemmatizer()\n",
    "    return \" \".join([lemmatizer.lemmatize(word) for word in text.split()])\n",
    "    \n",
    "#     return text"
   ]
  },
  {
   "cell_type": "code",
   "execution_count": 89,
   "metadata": {},
   "outputs": [
    {
     "name": "stdout",
     "output_type": "stream",
     "text": [
      "Wall time: 0 ns\n"
     ]
    }
   ],
   "source": [
    "%%time\n",
    "countVectorizer=CountVectorizer(decode_error='ignore',preprocessor=custom_preprocessor,lowercase=False, stop_words='english',\n",
    "                                ngram_range=(1,2))\n",
    "tfTransformer=TfidfTransformer()"
   ]
  },
  {
   "cell_type": "code",
   "execution_count": 110,
   "metadata": {},
   "outputs": [],
   "source": [
    "# xgb=XGBClassifier(max_depth=3,n_jobs=-1,n_estimators=40)\n",
    "xgb=RandomForestClassifier(n_estimators=10,max_depth=3)\n",
    "\n",
    "steps=[('countVectorizer',countVectorizer),\n",
    "#                     ('tfTransformer',tfTransformer),\n",
    "                   ('xgb',xgb)]\n",
    "pipe = Pipeline(steps)\n",
    "\n",
    "X_train=doc['CONTENT'].astype(str)\n",
    "y_train=doc['CLASS'].astype(str)\n",
    "\n",
    "pipe.fit(X_train,y_train);"
   ]
  },
  {
   "cell_type": "code",
   "execution_count": 177,
   "metadata": {},
   "outputs": [],
   "source": [
    "test=pd.read_excel('Data/Comments.xlsx')\n",
    "\n",
    "X_test=test['Comment'].astype('str')\n",
    "\n",
    "predictions = pipe.predict(X_test)\n",
    "predictionProbability=pipe.predict_log_proba(X_test)\n",
    "predictionProbability\n",
    "\n",
    "test['Predictions']=pd.DataFrame(predictions.astype(int))\n",
    "test['predictionProbability0']=pd.DataFrame(predictionProbability[:,0])\n",
    "test['predictionProbability1']=pd.DataFrame(predictionProbability[:,1])"
   ]
  },
  {
   "cell_type": "code",
   "execution_count": 218,
   "metadata": {},
   "outputs": [
    {
     "data": {
      "text/plain": [
       "(0, 9)"
      ]
     },
     "execution_count": 218,
     "metadata": {},
     "output_type": "execute_result"
    }
   ],
   "source": [
    "# filter comments classified as spam but the probability difference is miniscule. \n",
    "# After scanning through these comments , it came out that most of these are non-spam comments\n",
    "\n",
    "filt=test['Predictions']==1\n",
    "filt2=abs(test['predictionProbability0']-test['predictionProbability1'])<.015\n",
    "test.loc[filt & filt2].shape"
   ]
  },
  {
   "cell_type": "code",
   "execution_count": 219,
   "metadata": {},
   "outputs": [],
   "source": [
    "# Updating the rows from above filter\n",
    "test.loc[filt & filt2,['Predictions']]=0"
   ]
  },
  {
   "cell_type": "code",
   "execution_count": 222,
   "metadata": {},
   "outputs": [
    {
     "data": {
      "text/html": [
       "<div>\n",
       "<style scoped>\n",
       "    .dataframe tbody tr th:only-of-type {\n",
       "        vertical-align: middle;\n",
       "    }\n",
       "\n",
       "    .dataframe tbody tr th {\n",
       "        vertical-align: top;\n",
       "    }\n",
       "\n",
       "    .dataframe thead th {\n",
       "        text-align: right;\n",
       "    }\n",
       "</style>\n",
       "<table border=\"1\" class=\"dataframe\">\n",
       "  <thead>\n",
       "    <tr style=\"text-align: right;\">\n",
       "      <th></th>\n",
       "      <th>Video Title</th>\n",
       "      <th>Comment</th>\n",
       "      <th>CommentID</th>\n",
       "      <th>Author</th>\n",
       "      <th>Replies</th>\n",
       "      <th>Likes</th>\n",
       "      <th>Predictions</th>\n",
       "      <th>predictionProbability0</th>\n",
       "      <th>predictionProbability1</th>\n",
       "    </tr>\n",
       "  </thead>\n",
       "  <tbody>\n",
       "    <tr>\n",
       "      <th>2</th>\n",
       "      <td>Taylor Swift - Blank Space</td>\n",
       "      <td>Part 1 :Blank Space&lt;br /&gt;Part 2 :Me! &lt;br /&gt;Jus...</td>\n",
       "      <td>Ugyf1Jy65j0jckmFbNZ4AaABAg</td>\n",
       "      <td>Mary Villanueva</td>\n",
       "      <td>0</td>\n",
       "      <td>0</td>\n",
       "      <td>0</td>\n",
       "      <td>-0.697971</td>\n",
       "      <td>-0.688347</td>\n",
       "    </tr>\n",
       "    <tr>\n",
       "      <th>13</th>\n",
       "      <td>Taylor Swift - Blank Space</td>\n",
       "      <td>Who else pays no attention to the music and ju...</td>\n",
       "      <td>UgyQyuvIr6z4hQyYkj94AaABAg</td>\n",
       "      <td>Alana Houchens</td>\n",
       "      <td>0</td>\n",
       "      <td>0</td>\n",
       "      <td>0</td>\n",
       "      <td>-0.695006</td>\n",
       "      <td>-0.691292</td>\n",
       "    </tr>\n",
       "    <tr>\n",
       "      <th>20</th>\n",
       "      <td>Taylor Swift - Blank Space</td>\n",
       "      <td>How can you not love Taylor swift &lt;br /&gt;&lt;br /&gt;...</td>\n",
       "      <td>UgwBe0FaBOHRgf6zE794AaABAg</td>\n",
       "      <td>Adarsh Shukla</td>\n",
       "      <td>0</td>\n",
       "      <td>0</td>\n",
       "      <td>0</td>\n",
       "      <td>-0.697971</td>\n",
       "      <td>-0.688347</td>\n",
       "    </tr>\n",
       "    <tr>\n",
       "      <th>21</th>\n",
       "      <td>Taylor Swift - Blank Space</td>\n",
       "      <td>one day before my birthday this video come out...</td>\n",
       "      <td>UgzUOr_wV1D8oeSFwIt4AaABAg</td>\n",
       "      <td>Sofia Sosa</td>\n",
       "      <td>0</td>\n",
       "      <td>1</td>\n",
       "      <td>0</td>\n",
       "      <td>-0.696303</td>\n",
       "      <td>-0.690001</td>\n",
       "    </tr>\n",
       "    <tr>\n",
       "      <th>23</th>\n",
       "      <td>Taylor Swift - Blank Space</td>\n",
       "      <td>ﺟﺎﺭﻱ البحث عن من يصلي علي الرسولﷺ&lt;br /&gt;&lt;br /&gt;L...</td>\n",
       "      <td>Ugz8BVnBYc_SoBvf8W14AaABAg</td>\n",
       "      <td>جبار الطائي</td>\n",
       "      <td>0</td>\n",
       "      <td>0</td>\n",
       "      <td>0</td>\n",
       "      <td>-0.697971</td>\n",
       "      <td>-0.688347</td>\n",
       "    </tr>\n",
       "  </tbody>\n",
       "</table>\n",
       "</div>"
      ],
      "text/plain": [
       "                   Video Title  \\\n",
       "2   Taylor Swift - Blank Space   \n",
       "13  Taylor Swift - Blank Space   \n",
       "20  Taylor Swift - Blank Space   \n",
       "21  Taylor Swift - Blank Space   \n",
       "23  Taylor Swift - Blank Space   \n",
       "\n",
       "                                              Comment  \\\n",
       "2   Part 1 :Blank Space<br />Part 2 :Me! <br />Jus...   \n",
       "13  Who else pays no attention to the music and ju...   \n",
       "20  How can you not love Taylor swift <br /><br />...   \n",
       "21  one day before my birthday this video come out...   \n",
       "23  ﺟﺎﺭﻱ البحث عن من يصلي علي الرسولﷺ<br /><br />L...   \n",
       "\n",
       "                     CommentID           Author  Replies  Likes  Predictions  \\\n",
       "2   Ugyf1Jy65j0jckmFbNZ4AaABAg  Mary Villanueva        0      0            0   \n",
       "13  UgyQyuvIr6z4hQyYkj94AaABAg   Alana Houchens        0      0            0   \n",
       "20  UgwBe0FaBOHRgf6zE794AaABAg    Adarsh Shukla        0      0            0   \n",
       "21  UgzUOr_wV1D8oeSFwIt4AaABAg       Sofia Sosa        0      1            0   \n",
       "23  Ugz8BVnBYc_SoBvf8W14AaABAg      جبار الطائي        0      0            0   \n",
       "\n",
       "    predictionProbability0  predictionProbability1  \n",
       "2                -0.697971               -0.688347  \n",
       "13               -0.695006               -0.691292  \n",
       "20               -0.697971               -0.688347  \n",
       "21               -0.696303               -0.690001  \n",
       "23               -0.697971               -0.688347  "
      ]
     },
     "execution_count": 222,
     "metadata": {},
     "output_type": "execute_result"
    }
   ],
   "source": [
    "filt=test['Predictions']==0\n",
    "filt2=abs(test['predictionProbability0']-test['predictionProbability1'])<.015\n",
    "test.loc[filt & filt2].head()"
   ]
  },
  {
   "cell_type": "code",
   "execution_count": 225,
   "metadata": {},
   "outputs": [
    {
     "data": {
      "text/plain": [
       "0    4762\n",
       "1     238\n",
       "Name: Predictions, dtype: int64"
      ]
     },
     "execution_count": 225,
     "metadata": {},
     "output_type": "execute_result"
    }
   ],
   "source": [
    "test['Predictions'].value_counts()"
   ]
  },
  {
   "cell_type": "code",
   "execution_count": 292,
   "metadata": {},
   "outputs": [
    {
     "data": {
      "text/plain": [
       "(4762, 11)"
      ]
     },
     "execution_count": 292,
     "metadata": {},
     "output_type": "execute_result"
    }
   ],
   "source": [
    "filt=test['Predictions']==0\n",
    "test_nonSpam=test[filt]\n",
    "test_nonSpam.shape"
   ]
  },
  {
   "cell_type": "code",
   "execution_count": 295,
   "metadata": {},
   "outputs": [
    {
     "data": {
      "text/plain": [
       "1                    Bart Baker&#39;s  parody is better\n",
       "2     Part 1 :Blank Space<br />Part 2 :Me! <br />Jus...\n",
       "3                               😑😐🤔🤔🤔🤔🤔🤔🤔🤔🤔😣😥😶😮🤔🤔🥉🥉🚼🚻🚺🚹\n",
       "5                                            breathless\n",
       "6                                          taps the gas\n",
       "7                                           No your not\n",
       "8                                                nascar\n",
       "9     &quot;They don&#39;t make songs like this anym...\n",
       "11                                               Psycho\n",
       "Name: Comment, dtype: object"
      ]
     },
     "execution_count": 295,
     "metadata": {},
     "output_type": "execute_result"
    }
   ],
   "source": [
    "test_nonSpam['Comment'][10:100]"
   ]
  },
  {
   "cell_type": "code",
   "execution_count": null,
   "metadata": {},
   "outputs": [],
   "source": []
  }
 ],
 "metadata": {
  "kernelspec": {
   "display_name": "Python 3",
   "language": "python",
   "name": "python3"
  },
  "language_info": {
   "codemirror_mode": {
    "name": "ipython",
    "version": 3
   },
   "file_extension": ".py",
   "mimetype": "text/x-python",
   "name": "python",
   "nbconvert_exporter": "python",
   "pygments_lexer": "ipython3",
   "version": "3.7.3"
  },
  "toc": {
   "base_numbering": 1,
   "nav_menu": {},
   "number_sections": true,
   "sideBar": true,
   "skip_h1_title": false,
   "title_cell": "Table of Contents",
   "title_sidebar": "Contents",
   "toc_cell": false,
   "toc_position": {},
   "toc_section_display": true,
   "toc_window_display": false
  }
 },
 "nbformat": 4,
 "nbformat_minor": 2
}
