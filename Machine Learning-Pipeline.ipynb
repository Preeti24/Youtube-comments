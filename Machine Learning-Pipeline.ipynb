{
 "cells": [
  {
   "cell_type": "code",
   "execution_count": 1,
   "metadata": {},
   "outputs": [],
   "source": [
    "import warnings\n",
    "warnings.filterwarnings(\"ignore\")\n",
    "\n",
    "import pandas as pd\n",
    "import numpy as np\n",
    "\n",
    "import seaborn as sns\n",
    "from matplotlib import pyplot as plt\n",
    "plt.rcParams['figure.figsize']=(15,5)\n",
    "pd.set_option('display.max_columns', 100)\n",
    "\n",
    "import nltk\n",
    "from scipy import stats\n",
    "import re\n",
    "from  scipy.stats import ttest_ind\n",
    "from wordcloud import WordCloud\n",
    "\n",
    "from sklearn.feature_extraction.text import CountVectorizer,TfidfVectorizer\n",
    "from sklearn.naive_bayes import MultinomialNB\n",
    "from sklearn.metrics import classification_report, confusion_matrix, roc_auc_score,roc_curve\n",
    "from sklearn.linear_model import LogisticRegression\n",
    "from xgboost import XGBClassifier\n",
    "\n",
    "\n",
    "from sklearn.ensemble import RandomForestClassifier\n",
    "from sklearn.model_selection import KFold, GridSearchCV, cross_val_score,train_test_split\n",
    "from sklearn.pipeline import Pipeline\n",
    "\n",
    "from sklearn.base import BaseEstimator,TransformerMixin"
   ]
  },
  {
   "cell_type": "markdown",
   "metadata": {},
   "source": [
    "**Read the data and split into training and test datasets. We will be using the training part to further split into training and validation part. Once we find a good model we will test it's performance on unseen data (test dataset)**"
   ]
  },
  {
   "cell_type": "code",
   "execution_count": 2,
   "metadata": {},
   "outputs": [],
   "source": [
    "data=pd.read_csv('Data/cleanedData.csv')\n",
    "data.dropna(subset=['CleanWordList'],inplace=True)\n",
    "\n",
    "\n",
    "cols=['COMMENT_ID','%OfUpperCaseLetters', 'NoOfURL', 'AvgLengthOfEachWord',\n",
    "       '%OfNoOfStopWords', 'NoOfWords', '%OfNoOfUniqueWords',\n",
    "       'AvgSentenceLength', 'TextStandard', 'CleanWordList']\n",
    "\n",
    "X=data.loc[:,cols]\n",
    "y=data['CLASS']\n",
    "\n",
    "X_train, X_test, y_train, y_test = train_test_split(X, y, test_size=.30,stratify=y,random_state=147)"
   ]
  },
  {
   "cell_type": "code",
   "execution_count": 3,
   "metadata": {},
   "outputs": [
    {
     "name": "stdout",
     "output_type": "stream",
     "text": [
      "X_train, X_test, y_train, y_test:  (1334, 10) (572, 10) (1334,) (572,)\n"
     ]
    }
   ],
   "source": [
    "print('X_train, X_test, y_train, y_test: ',X_train.shape, X_test.shape, y_train.shape, y_test.shape)"
   ]
  },
  {
   "cell_type": "markdown",
   "metadata": {},
   "source": [
    "**Vectorize the comments. Convert the term document matrix into pandas dataframe and then add other generated features to this dataframe.**"
   ]
  },
  {
   "cell_type": "code",
   "execution_count": 4,
   "metadata": {
    "code_folding": [
     0
    ]
   },
   "outputs": [],
   "source": [
    "# countVectorizer=CountVectorizer(min_df=5,ngram_range=(1,3))\n",
    "\n",
    "# X_train_dtm = countVectorizer.fit_transform(X_train['CleanWordList']) \n",
    "# X_test_dtm  = countVectorizer.transform(X_test['CleanWordList'])\n",
    "\n",
    "# # Set features as column name\n",
    "# colName=countVectorizer.get_feature_names()\n",
    "\n",
    "# # Convert the document-term-matrix to a pandas dataframe\n",
    "# X_train_df=pd.DataFrame(X_train_dtm.toarray(),columns=colName)\n",
    "# X_test_df=pd.DataFrame(X_test_dtm.toarray(),columns=colName)\n",
    "\n",
    "# # Add rest of the generates features to the dataframe\n",
    "# X_train_all=pd.concat([X_train_df.reset_index(drop=True),\n",
    "#                       X_train.drop(columns=['COMMENT_ID','CleanWordList']).reset_index(drop=True)],\n",
    "#                      axis=1,ignore_index=False)\n",
    "\n",
    "# X_test_all=pd.concat([X_test_df.reset_index(drop=True),\n",
    "#                      X_test.drop(columns=['COMMENT_ID','CleanWordList']).reset_index(drop=True)],\n",
    "#                     axis=1,ignore_index=False)"
   ]
  },
  {
   "cell_type": "markdown",
   "metadata": {},
   "source": [
    "**Compare CountVectorizer and TfidfVectorizer by passing the document-term-matrix from the two vectorizers through MultinomialNB()**"
   ]
  },
  {
   "cell_type": "code",
   "execution_count": 13,
   "metadata": {
    "code_folding": []
   },
   "outputs": [],
   "source": [
    "class ClfSwitcher(BaseEstimator):\n",
    "\n",
    "    def __init__(self, estimator=LogisticRegression(),):\n",
    "        \"\"\"\n",
    "        A Custom BaseEstimator that can switch between classifiers.\n",
    "        :param estimator: sklearn object - The classifier\n",
    "        Default estimator: LogisticRegression()\n",
    "        \"\"\" \n",
    "\n",
    "        self.estimator = estimator\n",
    "\n",
    "\n",
    "    def fit(self, X, y=None, **kwargs):\n",
    "        self.estimator.fit(X, y)\n",
    "        return self\n",
    "\n",
    "\n",
    "    def predict(self, X, y=None):\n",
    "        return self.estimator.predict(X)\n",
    "\n",
    "\n",
    "    def predict_proba(self, X):\n",
    "        return self.estimator.predict_proba(X)\n",
    "    "
   ]
  },
  {
   "cell_type": "code",
   "execution_count": 18,
   "metadata": {},
   "outputs": [],
   "source": [
    "class Transfomer(BaseEstimator, TransformerMixin):\n",
    "    \n",
    "    def __init__(self,vectorizer=CountVectorizer()):\n",
    "        self.vectorizer=vectorizer\n",
    "        self.X=X\n",
    "\n",
    "    def fit(self, X, y=None):\n",
    "        \"\"\"\n",
    "        Learn how to transform data based on input data, X.\n",
    "        \"\"\"\n",
    "        return self.vectorizer.fit(X)\n",
    "\n",
    "    def transform(self, X):\n",
    "        \"\"\"\n",
    "        Transform X into a new dataset, Xprime and return it.\n",
    "        \"\"\"\n",
    "        return self.vectorizer.transform(X).toarray()"
   ]
  },
  {
   "cell_type": "code",
   "execution_count": 39,
   "metadata": {
    "code_folding": []
   },
   "outputs": [],
   "source": [
    "pipe_CompareVectorizer= Pipeline([('vectorizer',Transfomer()),\n",
    "                                  ('clf', ClfSwitcher())\n",
    "                                ])\n",
    "paramGrid_CompareVectorizer=[ {\n",
    "                            'vectorizer__vectorizer':[TfidfVectorizer()],\n",
    "                            'vectorizer__vectorizer__min_df':[0.1,0.01,0.001,0.0001],\n",
    "                            'vectorizer__vectorizer__ngram_range':[(1,2),(1,3)],\n",
    "                            'clf__estimator':[MultinomialNB()]\n",
    "                              },\n",
    "                              {\n",
    "                            'vectorizer__vectorizer':[CountVectorizer()],\n",
    "                            'vectorizer__vectorizer__min_df':[0.1,0.01,0.001,0.0001],\n",
    "                            'vectorizer__vectorizer__ngram_range':[(1,2),(1,3)],\n",
    "                            'clf__estimator':[MultinomialNB()]\n",
    "                              }\n",
    "                            ]"
   ]
  },
  {
   "cell_type": "code",
   "execution_count": 40,
   "metadata": {},
   "outputs": [
    {
     "data": {
      "text/plain": [
       "CountVectorizer(analyzer='word', binary=False, decode_error='strict',\n",
       "                dtype=<class 'numpy.int64'>, encoding='utf-8', input='content',\n",
       "                lowercase=True, max_df=1.0, max_features=None, min_df=0.0001,\n",
       "                ngram_range=(1, 2), preprocessor=None, stop_words=None,\n",
       "                strip_accents=None, token_pattern='(?u)\\\\b\\\\w\\\\w+\\\\b',\n",
       "                tokenizer=None, vocabulary=None)"
      ]
     },
     "execution_count": 40,
     "metadata": {},
     "output_type": "execute_result"
    }
   ],
   "source": [
    "cv = KFold(n_splits=5, random_state=42, shuffle=True)\n",
    "\n",
    "# Gridsearch with count vectorizer and TFIDF\n",
    "gs_CompareVectorizer = GridSearchCV(pipe_CompareVectorizer, param_grid=paramGrid_CompareVectorizer,n_jobs=-1,\n",
    "                                    cv=cv, verbose=0,return_train_score=True,scoring='roc_auc')\n",
    "\n",
    "gs_CompareVectorizer.fit(X_train['CleanWordList'],y_train);\n",
    "\n",
    "\n",
    "gs_CompareVectorizer.best_params_['vectorizer__vectorizer']"
   ]
  },
  {
   "cell_type": "code",
   "execution_count": 51,
   "metadata": {},
   "outputs": [
    {
     "data": {
      "text/plain": [
       "array([0.80556022, 0.80556022, 0.9579774 , 0.95700939, 0.98571805,\n",
       "       0.98576662, 0.99694059, 0.9978744 , 0.81664094, 0.81664094,\n",
       "       0.95227351, 0.95025845, 0.97603559, 0.97266287, 0.99584346,\n",
       "       0.99748621])"
      ]
     },
     "execution_count": 51,
     "metadata": {},
     "output_type": "execute_result"
    }
   ],
   "source": [
    "gs_CompareVectorizer.cv_results_['mean_train_score']"
   ]
  },
  {
   "cell_type": "code",
   "execution_count": 102,
   "metadata": {},
   "outputs": [],
   "source": [
    "# (gs_CompareVectorizer.cv_results_['params'])\n"
   ]
  },
  {
   "cell_type": "code",
   "execution_count": 105,
   "metadata": {},
   "outputs": [],
   "source": [
    "temp=pd.DataFrame(gs_CompareVectorizer.cv_results_['params'],\n",
    "                  gs_CompareVectorizer.cv_results_['mean_train_score']).reset_index()\n",
    "temp['clf__estimator']=pd.DataFrame(gs_CompareVectorizer.cv_results_['params'])['clf__estimator'].apply(lambda x: str(x).split('(')[0])\n",
    "temp['vectorizer__vectorizer']=pd.DataFrame(gs_CompareVectorizer.cv_results_['params'])['vectorizer__vectorizer'].apply(lambda x: str(x).split('(')[0])"
   ]
  },
  {
   "cell_type": "code",
   "execution_count": 106,
   "metadata": {},
   "outputs": [
    {
     "data": {
      "text/html": [
       "<div>\n",
       "<style scoped>\n",
       "    .dataframe tbody tr th:only-of-type {\n",
       "        vertical-align: middle;\n",
       "    }\n",
       "\n",
       "    .dataframe tbody tr th {\n",
       "        vertical-align: top;\n",
       "    }\n",
       "\n",
       "    .dataframe thead th {\n",
       "        text-align: right;\n",
       "    }\n",
       "</style>\n",
       "<table border=\"1\" class=\"dataframe\">\n",
       "  <thead>\n",
       "    <tr style=\"text-align: right;\">\n",
       "      <th></th>\n",
       "      <th>ROC_AUC_SCORE</th>\n",
       "      <th>Estimator</th>\n",
       "      <th>Vectorizer</th>\n",
       "      <th>min_df</th>\n",
       "      <th>ngram_range</th>\n",
       "    </tr>\n",
       "  </thead>\n",
       "  <tbody>\n",
       "    <tr>\n",
       "      <th>0</th>\n",
       "      <td>0.997874</td>\n",
       "      <td>MultinomialNB</td>\n",
       "      <td>TfidfVectorizer</td>\n",
       "      <td>0.0001</td>\n",
       "      <td>(1, 3)</td>\n",
       "    </tr>\n",
       "    <tr>\n",
       "      <th>1</th>\n",
       "      <td>0.997486</td>\n",
       "      <td>MultinomialNB</td>\n",
       "      <td>CountVectorizer</td>\n",
       "      <td>0.0001</td>\n",
       "      <td>(1, 3)</td>\n",
       "    </tr>\n",
       "    <tr>\n",
       "      <th>2</th>\n",
       "      <td>0.996941</td>\n",
       "      <td>MultinomialNB</td>\n",
       "      <td>TfidfVectorizer</td>\n",
       "      <td>0.0001</td>\n",
       "      <td>(1, 2)</td>\n",
       "    </tr>\n",
       "    <tr>\n",
       "      <th>3</th>\n",
       "      <td>0.995843</td>\n",
       "      <td>MultinomialNB</td>\n",
       "      <td>CountVectorizer</td>\n",
       "      <td>0.0001</td>\n",
       "      <td>(1, 2)</td>\n",
       "    </tr>\n",
       "    <tr>\n",
       "      <th>4</th>\n",
       "      <td>0.985767</td>\n",
       "      <td>MultinomialNB</td>\n",
       "      <td>TfidfVectorizer</td>\n",
       "      <td>0.0010</td>\n",
       "      <td>(1, 3)</td>\n",
       "    </tr>\n",
       "    <tr>\n",
       "      <th>5</th>\n",
       "      <td>0.985718</td>\n",
       "      <td>MultinomialNB</td>\n",
       "      <td>TfidfVectorizer</td>\n",
       "      <td>0.0010</td>\n",
       "      <td>(1, 2)</td>\n",
       "    </tr>\n",
       "    <tr>\n",
       "      <th>6</th>\n",
       "      <td>0.976036</td>\n",
       "      <td>MultinomialNB</td>\n",
       "      <td>CountVectorizer</td>\n",
       "      <td>0.0010</td>\n",
       "      <td>(1, 2)</td>\n",
       "    </tr>\n",
       "    <tr>\n",
       "      <th>7</th>\n",
       "      <td>0.972663</td>\n",
       "      <td>MultinomialNB</td>\n",
       "      <td>CountVectorizer</td>\n",
       "      <td>0.0010</td>\n",
       "      <td>(1, 3)</td>\n",
       "    </tr>\n",
       "    <tr>\n",
       "      <th>8</th>\n",
       "      <td>0.957977</td>\n",
       "      <td>MultinomialNB</td>\n",
       "      <td>TfidfVectorizer</td>\n",
       "      <td>0.0100</td>\n",
       "      <td>(1, 2)</td>\n",
       "    </tr>\n",
       "    <tr>\n",
       "      <th>9</th>\n",
       "      <td>0.957009</td>\n",
       "      <td>MultinomialNB</td>\n",
       "      <td>TfidfVectorizer</td>\n",
       "      <td>0.0100</td>\n",
       "      <td>(1, 3)</td>\n",
       "    </tr>\n",
       "    <tr>\n",
       "      <th>10</th>\n",
       "      <td>0.952274</td>\n",
       "      <td>MultinomialNB</td>\n",
       "      <td>CountVectorizer</td>\n",
       "      <td>0.0100</td>\n",
       "      <td>(1, 2)</td>\n",
       "    </tr>\n",
       "    <tr>\n",
       "      <th>11</th>\n",
       "      <td>0.950258</td>\n",
       "      <td>MultinomialNB</td>\n",
       "      <td>CountVectorizer</td>\n",
       "      <td>0.0100</td>\n",
       "      <td>(1, 3)</td>\n",
       "    </tr>\n",
       "    <tr>\n",
       "      <th>12</th>\n",
       "      <td>0.816641</td>\n",
       "      <td>MultinomialNB</td>\n",
       "      <td>CountVectorizer</td>\n",
       "      <td>0.1000</td>\n",
       "      <td>(1, 2)</td>\n",
       "    </tr>\n",
       "    <tr>\n",
       "      <th>13</th>\n",
       "      <td>0.816641</td>\n",
       "      <td>MultinomialNB</td>\n",
       "      <td>CountVectorizer</td>\n",
       "      <td>0.1000</td>\n",
       "      <td>(1, 3)</td>\n",
       "    </tr>\n",
       "    <tr>\n",
       "      <th>14</th>\n",
       "      <td>0.805560</td>\n",
       "      <td>MultinomialNB</td>\n",
       "      <td>TfidfVectorizer</td>\n",
       "      <td>0.1000</td>\n",
       "      <td>(1, 2)</td>\n",
       "    </tr>\n",
       "    <tr>\n",
       "      <th>15</th>\n",
       "      <td>0.805560</td>\n",
       "      <td>MultinomialNB</td>\n",
       "      <td>TfidfVectorizer</td>\n",
       "      <td>0.1000</td>\n",
       "      <td>(1, 3)</td>\n",
       "    </tr>\n",
       "  </tbody>\n",
       "</table>\n",
       "</div>"
      ],
      "text/plain": [
       "    ROC_AUC_SCORE      Estimator       Vectorizer  min_df ngram_range\n",
       "0        0.997874  MultinomialNB  TfidfVectorizer  0.0001      (1, 3)\n",
       "1        0.997486  MultinomialNB  CountVectorizer  0.0001      (1, 3)\n",
       "2        0.996941  MultinomialNB  TfidfVectorizer  0.0001      (1, 2)\n",
       "3        0.995843  MultinomialNB  CountVectorizer  0.0001      (1, 2)\n",
       "4        0.985767  MultinomialNB  TfidfVectorizer  0.0010      (1, 3)\n",
       "5        0.985718  MultinomialNB  TfidfVectorizer  0.0010      (1, 2)\n",
       "6        0.976036  MultinomialNB  CountVectorizer  0.0010      (1, 2)\n",
       "7        0.972663  MultinomialNB  CountVectorizer  0.0010      (1, 3)\n",
       "8        0.957977  MultinomialNB  TfidfVectorizer  0.0100      (1, 2)\n",
       "9        0.957009  MultinomialNB  TfidfVectorizer  0.0100      (1, 3)\n",
       "10       0.952274  MultinomialNB  CountVectorizer  0.0100      (1, 2)\n",
       "11       0.950258  MultinomialNB  CountVectorizer  0.0100      (1, 3)\n",
       "12       0.816641  MultinomialNB  CountVectorizer  0.1000      (1, 2)\n",
       "13       0.816641  MultinomialNB  CountVectorizer  0.1000      (1, 3)\n",
       "14       0.805560  MultinomialNB  TfidfVectorizer  0.1000      (1, 2)\n",
       "15       0.805560  MultinomialNB  TfidfVectorizer  0.1000      (1, 3)"
      ]
     },
     "execution_count": 106,
     "metadata": {},
     "output_type": "execute_result"
    }
   ],
   "source": [
    "temp.rename(columns={'index':'ROC_AUC_SCORE',\n",
    "                    'clf__estimator':'Estimator',\n",
    "                    'vectorizer__vectorizer':'Vectorizer',\n",
    "                    'vectorizer__vectorizer__min_df':'min_df',\n",
    "                    'vectorizer__vectorizer__ngram_range':'ngram_range'},inplace=True)\n",
    "temp.sort_values(by=['ROC_AUC_SCORE'],ascending=False,inplace=True)\n",
    "temp.reset_index(inplace=True,drop=True)\n",
    "temp"
   ]
  },
  {
   "cell_type": "code",
   "execution_count": 62,
   "metadata": {},
   "outputs": [
    {
     "data": {
      "text/plain": [
       "0.9629218191240957"
      ]
     },
     "execution_count": 62,
     "metadata": {},
     "output_type": "execute_result"
    }
   ],
   "source": [
    "gs_CompareVectorizer.best_score_"
   ]
  },
  {
   "cell_type": "markdown",
   "metadata": {},
   "source": [
    "**Create a switcher function to call for different estimators to test**\n",
    "\n",
    "Reference: https://stackoverflow.com/questions/50285973/pipeline-multiple-classifiers"
   ]
  },
  {
   "cell_type": "markdown",
   "metadata": {},
   "source": [
    "**Create pipeline, initialize Kfold and then perform grid search to find best estimator and best parameters.**"
   ]
  },
  {
   "cell_type": "code",
   "execution_count": 315,
   "metadata": {},
   "outputs": [],
   "source": [
    "pipeCV = Pipeline([\n",
    "                    ('vectorizer',CountVectorizer(min_df=5,ngram_range=(1,3))),\n",
    "                    ('clf', ClfSwitcher())\n",
    "                    ])\n",
    "\n",
    "pipeTFIDF = Pipeline([\n",
    "                    ('vectorizer',TfidfVectorizer(min_df=5,ngram_range=(1,3))),\n",
    "                    ('clf', ClfSwitcher())\n",
    "                    ])\n",
    "\n",
    "\n",
    "parameters =[\n",
    "#             {'vectorizer__vectorizer':[CountVectorizer(min_df=5)],\n",
    "#              'vectorizer__X':[X_train],\n",
    "#             'vectorizer__vectorizer__ngram_range':[(1,3),(1,4)]\n",
    "#             },\n",
    "            {'clf__estimator':[MultinomialNB()]},\n",
    "    \n",
    "            {'clf__estimator': [LogisticRegression()],\n",
    "#              'clf__estimator__C':[0.001,0.1,0.5,1,2,5,10,100,500,1000]\n",
    "             'clf__estimator__C':[0.001]\n",
    "            },\n",
    "\n",
    "            {\n",
    "            'clf__estimator':[RandomForestClassifier()],\n",
    "            'clf__estimator__n_estimators':[30,70],\n",
    "#             'clf__estimator__max_depth':[5,10,20,50,75,100,125,150,300,500,1000]\n",
    "            },\n",
    "    \n",
    "            {\n",
    "            'clf__estimator':[XGBClassifier()],\n",
    "#             'clf__estimator__n_estimators':[5,10,30,50,75,100,125,150,200],\n",
    "#             'clf__estimator__max_depth':[5,10,20,50,75,100,125,150,300,500,1000]\n",
    "            }\n",
    "            ]\n",
    "\n",
    "# Initialize Kflod for cross validation\n",
    "cv = KFold(n_splits=5, random_state=42, shuffle=True)\n",
    "\n",
    "# Gridsearch with count vectorizer and TFIDF\n",
    "gs_CV = GridSearchCV(pipeCV, parameters,n_jobs=-1, cv=cv, verbose=0,return_train_score=True,scoring='roc_auc')\n",
    "\n",
    "gs_TFIDF = GridSearchCV(pipeTFIDF, parameters,n_jobs=-1, cv=cv, verbose=0,return_train_score=True,scoring='roc_auc')"
   ]
  },
  {
   "cell_type": "markdown",
   "metadata": {},
   "source": [
    "**Find the best estimator and best parameters for all of the data (vectorized text + engineered Features)**"
   ]
  },
  {
   "cell_type": "code",
   "execution_count": 316,
   "metadata": {},
   "outputs": [
    {
     "data": {
      "text/html": [
       "<div>\n",
       "<style scoped>\n",
       "    .dataframe tbody tr th:only-of-type {\n",
       "        vertical-align: middle;\n",
       "    }\n",
       "\n",
       "    .dataframe tbody tr th {\n",
       "        vertical-align: top;\n",
       "    }\n",
       "\n",
       "    .dataframe thead th {\n",
       "        text-align: right;\n",
       "    }\n",
       "</style>\n",
       "<table border=\"1\" class=\"dataframe\">\n",
       "  <thead>\n",
       "    <tr style=\"text-align: right;\">\n",
       "      <th></th>\n",
       "      <th>Best ROC_AUC Score with CountVectorizer</th>\n",
       "      <th>Test score-CV</th>\n",
       "      <th>Best ROC_AUC Score with TFIDF</th>\n",
       "      <th>Test score-TFIDF</th>\n",
       "    </tr>\n",
       "  </thead>\n",
       "  <tbody>\n",
       "    <tr>\n",
       "      <th>0</th>\n",
       "      <td>0.966409</td>\n",
       "      <td>0.973425</td>\n",
       "      <td>0.966417</td>\n",
       "      <td>0.978297</td>\n",
       "    </tr>\n",
       "  </tbody>\n",
       "</table>\n",
       "</div>"
      ],
      "text/plain": [
       "   Best ROC_AUC Score with CountVectorizer  Test score-CV  \\\n",
       "0                                 0.966409       0.973425   \n",
       "\n",
       "   Best ROC_AUC Score with TFIDF  Test score-TFIDF  \n",
       "0                       0.966417          0.978297  "
      ]
     },
     "execution_count": 316,
     "metadata": {},
     "output_type": "execute_result"
    }
   ],
   "source": [
    "gs_CV.fit(X_train['CleanWordList'],y_train);\n",
    "gs_TFIDF.fit(X_train['CleanWordList'],y_train);\n",
    "\n",
    "\n",
    "\n",
    "column={'Best ROC_AUC Score with CountVectorizer':[gs_CV.best_score_],\n",
    "     'Test score-CV':[gs_CV.score(X_test['CleanWordList'],y_test)],\n",
    "     'Best ROC_AUC Score with TFIDF':[gs_TFIDF.best_score_],\n",
    "     'Test score-TFIDF':[gs_TFIDF.score(X_test['CleanWordList'],y_test)],}\n",
    "\n",
    "pd.DataFrame(column)"
   ]
  },
  {
   "cell_type": "code",
   "execution_count": 338,
   "metadata": {
    "code_folding": []
   },
   "outputs": [],
   "source": [
    "def create_document_term_matrix(X,vectorizer=CountVectorizer()):\n",
    "    \"\"\"\n",
    "    This function take in a dataframe with 'CleanWordList' column. \n",
    "    This column has preprocessed text that needs to be vectorized\n",
    "    \n",
    "    It return 2 dataframes. First dataframe is a vector representation of text field and \n",
    "    the second dataframe has other engineered feature along with vectorized text\n",
    "    \"\"\"\n",
    "    document_term_matrix = vectorizer.fit_transform(X['CleanWordList']) \n",
    "    colName=vectorizer.get_feature_names()\n",
    "    \n",
    "    X_dtm_df=pd.DataFrame(document_term_matrix.toarray(),columns=colName)\n",
    "    X_dtm_all=pd.concat([X_dtm_df.reset_index(drop=True),\n",
    "                      X.drop(columns=['COMMENT_ID','CleanWordList']).reset_index(drop=True)],\n",
    "                     axis=1,ignore_index=False)\n",
    "\n",
    "\n",
    "    return X_dtm_df,X_dtm_all\n"
   ]
  },
  {
   "cell_type": "code",
   "execution_count": 345,
   "metadata": {
    "code_folding": []
   },
   "outputs": [],
   "source": [
    "def featureImportance(gs,X,y,engineeredFeatures=False,noOfFeatures=5):\n",
    "    \"\"\"\n",
    "    Important features using Random Forest's feature_importances_ parameter.\n",
    "    Set engineeredFeatured to True to include engineered features in calculation\n",
    "    \"\"\"\n",
    "    \n",
    "    X1,X2=create_document_term_matrix(X,gs_CV.estimator.named_steps['vectorizer'])\n",
    "    \n",
    "    if engineeredFeatures==True:\n",
    "        X=X2\n",
    "    else:\n",
    "        X=X1\n",
    "    \n",
    "    #Random Forest is at 2 index in parameters list\n",
    "    clf_rfc=gs.param_grid[2]['clf__estimator'][0].fit(X,y)\n",
    "\n",
    "    impFeatures=clf_rfc.feature_importances_\n",
    "\n",
    "    featureImportance=pd.DataFrame({'Feature Name':X.columns,\n",
    "                                    'Importance':impFeatures})\n",
    "    \n",
    "    featureImportance.sort_values(by='Importance',ascending=False,inplace=True)\n",
    "    \n",
    "    return featureImportance.reset_index(drop=True).head(noOfFeatures)"
   ]
  },
  {
   "cell_type": "code",
   "execution_count": 340,
   "metadata": {
    "code_folding": [
     0
    ]
   },
   "outputs": [],
   "source": [
    "# countVectorizer=CountVectorizer(min_df=5,ngram_range=(1,3))\n",
    "\n",
    "# X_train_df=create_document_term_matrix(X_train,countVectorizer)\n",
    "\n",
    "# X_test_df=create_document_term_matrix(X_test,countVectorizer)"
   ]
  },
  {
   "cell_type": "code",
   "execution_count": 347,
   "metadata": {},
   "outputs": [
    {
     "data": {
      "text/html": [
       "<div>\n",
       "<style scoped>\n",
       "    .dataframe tbody tr th:only-of-type {\n",
       "        vertical-align: middle;\n",
       "    }\n",
       "\n",
       "    .dataframe tbody tr th {\n",
       "        vertical-align: top;\n",
       "    }\n",
       "\n",
       "    .dataframe thead th {\n",
       "        text-align: right;\n",
       "    }\n",
       "</style>\n",
       "<table border=\"1\" class=\"dataframe\">\n",
       "  <thead>\n",
       "    <tr style=\"text-align: right;\">\n",
       "      <th></th>\n",
       "      <th>Feature Name</th>\n",
       "      <th>Importance</th>\n",
       "    </tr>\n",
       "  </thead>\n",
       "  <tbody>\n",
       "    <tr>\n",
       "      <th>0</th>\n",
       "      <td>check</td>\n",
       "      <td>0.138083</td>\n",
       "    </tr>\n",
       "    <tr>\n",
       "      <th>1</th>\n",
       "      <td>subscribe</td>\n",
       "      <td>0.088255</td>\n",
       "    </tr>\n",
       "    <tr>\n",
       "      <th>2</th>\n",
       "      <td>please</td>\n",
       "      <td>0.053586</td>\n",
       "    </tr>\n",
       "    <tr>\n",
       "      <th>3</th>\n",
       "      <td>channel</td>\n",
       "      <td>0.050089</td>\n",
       "    </tr>\n",
       "    <tr>\n",
       "      <th>4</th>\n",
       "      <td>youtube</td>\n",
       "      <td>0.023160</td>\n",
       "    </tr>\n",
       "  </tbody>\n",
       "</table>\n",
       "</div>"
      ],
      "text/plain": [
       "  Feature Name  Importance\n",
       "0        check    0.138083\n",
       "1    subscribe    0.088255\n",
       "2       please    0.053586\n",
       "3      channel    0.050089\n",
       "4      youtube    0.023160"
      ]
     },
     "execution_count": 347,
     "metadata": {},
     "output_type": "execute_result"
    }
   ],
   "source": [
    "# List of most important features with all the features included in\n",
    "featureImportance(gs_TFIDF,X_train,y_train)"
   ]
  },
  {
   "cell_type": "code",
   "execution_count": 346,
   "metadata": {},
   "outputs": [
    {
     "data": {
      "text/html": [
       "<div>\n",
       "<style scoped>\n",
       "    .dataframe tbody tr th:only-of-type {\n",
       "        vertical-align: middle;\n",
       "    }\n",
       "\n",
       "    .dataframe tbody tr th {\n",
       "        vertical-align: top;\n",
       "    }\n",
       "\n",
       "    .dataframe thead th {\n",
       "        text-align: right;\n",
       "    }\n",
       "</style>\n",
       "<table border=\"1\" class=\"dataframe\">\n",
       "  <thead>\n",
       "    <tr style=\"text-align: right;\">\n",
       "      <th></th>\n",
       "      <th>Feature Name</th>\n",
       "      <th>Importance</th>\n",
       "    </tr>\n",
       "  </thead>\n",
       "  <tbody>\n",
       "    <tr>\n",
       "      <th>0</th>\n",
       "      <td>check</td>\n",
       "      <td>0.101594</td>\n",
       "    </tr>\n",
       "    <tr>\n",
       "      <th>1</th>\n",
       "      <td>subscribe</td>\n",
       "      <td>0.071019</td>\n",
       "    </tr>\n",
       "    <tr>\n",
       "      <th>2</th>\n",
       "      <td>NoOfWords</td>\n",
       "      <td>0.046992</td>\n",
       "    </tr>\n",
       "    <tr>\n",
       "      <th>3</th>\n",
       "      <td>AvgLengthOfEachWord</td>\n",
       "      <td>0.046273</td>\n",
       "    </tr>\n",
       "    <tr>\n",
       "      <th>4</th>\n",
       "      <td>AvgSentenceLength</td>\n",
       "      <td>0.043889</td>\n",
       "    </tr>\n",
       "    <tr>\n",
       "      <th>5</th>\n",
       "      <td>please</td>\n",
       "      <td>0.039105</td>\n",
       "    </tr>\n",
       "    <tr>\n",
       "      <th>6</th>\n",
       "      <td>TextStandard</td>\n",
       "      <td>0.037296</td>\n",
       "    </tr>\n",
       "  </tbody>\n",
       "</table>\n",
       "</div>"
      ],
      "text/plain": [
       "          Feature Name  Importance\n",
       "0                check    0.101594\n",
       "1            subscribe    0.071019\n",
       "2            NoOfWords    0.046992\n",
       "3  AvgLengthOfEachWord    0.046273\n",
       "4    AvgSentenceLength    0.043889\n",
       "5               please    0.039105\n",
       "6         TextStandard    0.037296"
      ]
     },
     "execution_count": 346,
     "metadata": {},
     "output_type": "execute_result"
    }
   ],
   "source": [
    "featureImportance(gs_TFIDF,X_train,y_train,engineeredFeatures=True,noOfFeatures=7)"
   ]
  },
  {
   "cell_type": "code",
   "execution_count": 337,
   "metadata": {
    "code_folding": []
   },
   "outputs": [],
   "source": [
    "def plot_Roc_Curve(gs,X,y):\n",
    "    \"\"\"\n",
    "    This function takes an estimator, X and y variables as input and returns a plot of ROC curve\n",
    "    \"\"\"\n",
    "    fpr, tpr, thresholds=roc_curve(y,gs.predict(X))\n",
    "\n",
    "    plt.plot(fpr, tpr)\n",
    "    plt.title(\"ROC Curve\")\n",
    "    plt.xlabel(\"False Positive Rate\")\n",
    "    plt.ylabel(\"True Positive Rate\")\n",
    "    plt.show()"
   ]
  },
  {
   "cell_type": "code",
   "execution_count": 335,
   "metadata": {},
   "outputs": [
    {
     "data": {
      "image/png": "[encoded data removed]",
      "text/plain": [
       "<Figure size 1080x360 with 1 Axes>"
      ]
     },
     "metadata": {
      "needs_background": "light"
     },
     "output_type": "display_data"
    }
   ],
   "source": [
    "plot_Roc_Curve(gs_TFIDF,X_test['CleanWordList'],y_test)"
   ]
  },
  {
   "cell_type": "code",
   "execution_count": 336,
   "metadata": {},
   "outputs": [
    {
     "data": {
      "image/png": "[encoded data removed]",
      "text/plain": [
       "<Figure size 1080x360 with 1 Axes>"
      ]
     },
     "metadata": {
      "needs_background": "light"
     },
     "output_type": "display_data"
    }
   ],
   "source": [
    "plot_Roc_Curve(gs_CV,X_test['CleanWordList'],y_test)"
   ]
  },
  {
   "cell_type": "code",
   "execution_count": 208,
   "metadata": {},
   "outputs": [
    {
     "data": {
      "text/plain": [
       "array([[274,   9],\n",
       "       [ 27, 262]], dtype=int64)"
      ]
     },
     "execution_count": 208,
     "metadata": {},
     "output_type": "execute_result"
    }
   ],
   "source": [
    "cm=confusion_matrix(y_test,gs.predict(X_test_all))\n",
    "cm"
   ]
  },
  {
   "cell_type": "code",
   "execution_count": 201,
   "metadata": {
    "code_folding": [
     0
    ]
   },
   "outputs": [],
   "source": [
    "# def plot_confusion_matrix(cm, classes,\n",
    "#                           normalize=False,\n",
    "#                           title='Confusion matrix',\n",
    "#                           cmap=plt.cm.Greens):\n",
    "#     \"\"\"\n",
    "#     This function prints and plots the confusion matrix.\n",
    "#     Normalization can be applied by setting `normalize=True`.\n",
    "#     \"\"\"\n",
    "#     if normalize:\n",
    "#         cm = cm.astype('float') / cm.sum(axis=1)[:, np.newaxis]\n",
    "#         print(\"Normalized confusion matrix\")\n",
    "#     else:\n",
    "#         print('Confusion Matrix, without normalization')\n",
    "\n",
    "#     print(cm)\n",
    "\n",
    "#     plt.imshow(cm, interpolation='nearest', cmap=cmap)\n",
    "#     plt.title(title)\n",
    "#     plt.colorbar()\n",
    "#     tick_marks = np.arange(len(classes))\n",
    "#     plt.xticks(tick_marks, classes, rotation=45)\n",
    "#     plt.yticks(tick_marks, classes)\n",
    "\n",
    "#     fmt = '.2f' if normalize else 'd'\n",
    "#     thresh = cm.max() / 2.\n",
    "#     for i, j in itertools.product(range(cm.shape[0]), range(cm.shape[1])):\n",
    "#         plt.text(j, i, format(cm[i, j], fmt),\n",
    "#                  horizontalalignment=\"center\",\n",
    "#                  color=\"white\" if cm[i, j] > thresh else \"black\")\n",
    "#     plt.tight_layout()\n",
    "#     plt.ylabel('True label')\n",
    "#     plt.xlabel('Predicted label')\n",
    "#     plt.grid(False)\n",
    "\n",
    "# # import itertools\n",
    "# # plot_confusion_matrix(gs,classes=['Spam','Ham'], normalize=False,\n",
    "# #                           title='Confusion matrix')"
   ]
  }
 ],
 "metadata": {
  "kernelspec": {
   "display_name": "Python 3",
   "language": "python",
   "name": "python3"
  },
  "language_info": {
   "codemirror_mode": {
    "name": "ipython",
    "version": 3
   },
   "file_extension": ".py",
   "mimetype": "text/x-python",
   "name": "python",
   "nbconvert_exporter": "python",
   "pygments_lexer": "ipython3",
   "version": "3.7.3"
  },
  "toc": {
   "base_numbering": 1,
   "nav_menu": {},
   "number_sections": true,
   "sideBar": true,
   "skip_h1_title": false,
   "title_cell": "Table of Contents",
   "title_sidebar": "Contents",
   "toc_cell": false,
   "toc_position": {},
   "toc_section_display": true,
   "toc_window_display": false
  }
 },
 "nbformat": 4,
 "nbformat_minor": 2
}
