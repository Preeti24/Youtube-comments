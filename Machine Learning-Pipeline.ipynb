{
 "cells": [
  {
   "cell_type": "markdown",
   "metadata": {
    "toc": true
   },
   "source": [
    "<h1>Table of Contents<span class=\"tocSkip\"></span></h1>\n",
    "<div class=\"toc\"><ul class=\"toc-item\"><li><span><a href=\"#Read-the-data-and-split-into-training-and-test-datasets.-We-will-be-using-the-training-part-to-further-split-into-training-and-validation-part.-Once-we-find-a-good-model-we-will-test-it's-performance-on-unseen-data-(test-dataset)\" data-toc-modified-id=\"Read-the-data-and-split-into-training-and-test-datasets.-We-will-be-using-the-training-part-to-further-split-into-training-and-validation-part.-Once-we-find-a-good-model-we-will-test-it's-performance-on-unseen-data-(test-dataset)-1\"><span class=\"toc-item-num\">1&nbsp;&nbsp;</span><strong>Read the data and split into training and test datasets. We will be using the training part to further split into training and validation part. Once we find a good model we will test it's performance on unseen data (test dataset)</strong></a></span></li><li><span><a href=\"#Compare-CountVectorizer-and-TfidfVectorizer-by-passing-the-document-term-matrix-from-the-two-vectorizers-through-MultinomialNB()\" data-toc-modified-id=\"Compare-CountVectorizer-and-TfidfVectorizer-by-passing-the-document-term-matrix-from-the-two-vectorizers-through-MultinomialNB()-2\"><span class=\"toc-item-num\">2&nbsp;&nbsp;</span><strong>Compare CountVectorizer and TfidfVectorizer by passing the document-term-matrix from the two vectorizers through MultinomialNB()</strong></a></span><ul class=\"toc-item\"><li><span><a href=\"#Create-a-switcher-function-to-call-for-different-estimators-to-test\" data-toc-modified-id=\"Create-a-switcher-function-to-call-for-different-estimators-to-test-2.1\"><span class=\"toc-item-num\">2.1&nbsp;&nbsp;</span>Create a switcher function to call for different estimators to test</a></span></li><li><span><a href=\"#Create-a-pipeline-to-grid-search-hyperparameters-for-CountVectorizer-and-TF-IDF-vectorizer\" data-toc-modified-id=\"Create-a-pipeline-to-grid-search-hyperparameters-for-CountVectorizer-and-TF-IDF-vectorizer-2.2\"><span class=\"toc-item-num\">2.2&nbsp;&nbsp;</span>Create a pipeline to grid search hyperparameters for CountVectorizer and TF-IDF vectorizer</a></span></li><li><span><a href=\"#Findings\" data-toc-modified-id=\"Findings-2.3\"><span class=\"toc-item-num\">2.3&nbsp;&nbsp;</span>Findings</a></span></li></ul></li><li><span><a href=\"#Using-vectorizer-selected-above,-create-pipeline,-and-perform-grid-search-to-find-best-estimator-and-best-parameters.\" data-toc-modified-id=\"Using-vectorizer-selected-above,-create-pipeline,-and-perform-grid-search-to-find-best-estimator-and-best-parameters.-3\"><span class=\"toc-item-num\">3&nbsp;&nbsp;</span><strong>Using vectorizer selected above, create pipeline, and perform grid search to find best estimator and best parameters.</strong></a></span><ul class=\"toc-item\"><li><span><a href=\"#Gridsearch-Logistic-Regression-Classifier\" data-toc-modified-id=\"Gridsearch-Logistic-Regression-Classifier-3.1\"><span class=\"toc-item-num\">3.1&nbsp;&nbsp;</span>Gridsearch Logistic Regression Classifier</a></span></li><li><span><a href=\"#Gridsearch-Multinomial-Naive-Bayes-Classifier\" data-toc-modified-id=\"Gridsearch-Multinomial-Naive-Bayes-Classifier-3.2\"><span class=\"toc-item-num\">3.2&nbsp;&nbsp;</span>Gridsearch Multinomial Naive Bayes Classifier</a></span></li><li><span><a href=\"#Gridsearch-Random-Forest-Classifier\" data-toc-modified-id=\"Gridsearch-Random-Forest-Classifier-3.3\"><span class=\"toc-item-num\">3.3&nbsp;&nbsp;</span>Gridsearch Random Forest Classifier</a></span></li><li><span><a href=\"#Gridsearch-XGBoost-Classifier\" data-toc-modified-id=\"Gridsearch-XGBoost-Classifier-3.4\"><span class=\"toc-item-num\">3.4&nbsp;&nbsp;</span>Gridsearch XGBoost Classifier</a></span></li><li><span><a href=\"#Display-summary-of-grid-search-for-all-the-models\" data-toc-modified-id=\"Display-summary-of-grid-search-for-all-the-models-3.5\"><span class=\"toc-item-num\">3.5&nbsp;&nbsp;</span>Display summary of grid search for all the models</a></span></li><li><span><a href=\"#Plot-ROC-curve-logistic-regression-classifier\" data-toc-modified-id=\"Plot-ROC-curve-logistic-regression-classifier-3.6\"><span class=\"toc-item-num\">3.6&nbsp;&nbsp;</span>Plot ROC curve logistic regression classifier</a></span></li><li><span><a href=\"#Confusion-Matrix\" data-toc-modified-id=\"Confusion-Matrix-3.7\"><span class=\"toc-item-num\">3.7&nbsp;&nbsp;</span>Confusion Matrix</a></span></li></ul></li><li><span><a href=\"#Adjust-Threshold-as-per-business-usecase\" data-toc-modified-id=\"Adjust-Threshold-as-per-business-usecase-4\"><span class=\"toc-item-num\">4&nbsp;&nbsp;</span><strong>Adjust Threshold as per business usecase</strong></a></span></li><li><span><a href=\"#Top-misclassified-comments\" data-toc-modified-id=\"Top-misclassified-comments-5\"><span class=\"toc-item-num\">5&nbsp;&nbsp;</span>Top misclassified comments</a></span><ul class=\"toc-item\"><li><span><a href=\"#False-negatives-(miscalssified-as-Ham)\" data-toc-modified-id=\"False-negatives-(miscalssified-as-Ham)-5.1\"><span class=\"toc-item-num\">5.1&nbsp;&nbsp;</span>False-negatives (miscalssified as Ham)</a></span></li><li><span><a href=\"#False-positives-(miscalssified-as-Spam)\" data-toc-modified-id=\"False-positives-(miscalssified-as-Spam)-5.2\"><span class=\"toc-item-num\">5.2&nbsp;&nbsp;</span>False-positives (miscalssified as Spam)</a></span></li></ul></li><li><span><a href=\"#Save-the-model\" data-toc-modified-id=\"Save-the-model-6\"><span class=\"toc-item-num\">6&nbsp;&nbsp;</span>Save the model</a></span></li><li><span><a href=\"#Read-comments-from-youtube-to-test-model-performance\" data-toc-modified-id=\"Read-comments-from-youtube-to-test-model-performance-7\"><span class=\"toc-item-num\">7&nbsp;&nbsp;</span>Read comments from youtube to test model performance</a></span></li></ul></div>"
   ]
  },
  {
   "cell_type": "code",
   "execution_count": 126,
   "metadata": {},
   "outputs": [],
   "source": [
    "import warnings\n",
    "warnings.filterwarnings(\"ignore\")\n",
    "\n",
    "import pandas as pd\n",
    "import numpy as np\n",
    "\n",
    "import seaborn as sns\n",
    "from matplotlib import pyplot as plt\n",
    "plt.rcParams['figure.figsize']=(15,5)\n",
    "pd.set_option('display.max_columns', 100)\n",
    "\n",
    "import nltk\n",
    "from scipy import stats\n",
    "import re\n",
    "from  scipy.stats import ttest_ind\n",
    "from wordcloud import WordCloud\n",
    "\n",
    "from sklearn.feature_extraction.text import CountVectorizer,TfidfVectorizer\n",
    "from sklearn.naive_bayes import MultinomialNB\n",
    "from sklearn.metrics import classification_report, confusion_matrix, roc_auc_score,roc_curve,fbeta_score,make_scorer\n",
    "from sklearn.linear_model import LogisticRegression\n",
    "from sklearn.svm import SVC\n",
    "from xgboost import XGBClassifier\n",
    "from cf_matrix import make_confusion_matrix\n",
    "\n",
    "from sklearn.ensemble import RandomForestClassifier\n",
    "from sklearn.model_selection import KFold, GridSearchCV, cross_val_score,train_test_split,RandomizedSearchCV\n",
    "from sklearn.pipeline import Pipeline\n",
    "\n",
    "from sklearn.base import BaseEstimator,TransformerMixin\n",
    "\n",
    "import Helper \n",
    "import importlib\n",
    "importlib.reload(Helper);\n",
    "from sklearn.externals import joblib"
   ]
  },
  {
   "cell_type": "markdown",
   "metadata": {},
   "source": [
    "### **Read the data and split into training and test datasets. We will be using the training part to further split into training and validation part. Once we find a good model we will test it's performance on unseen data (test dataset)**"
   ]
  },
  {
   "cell_type": "code",
   "execution_count": 127,
   "metadata": {},
   "outputs": [],
   "source": [
    "data=pd.read_csv('Data/cleanedData.csv')\n",
    "data.dropna(subset=['CleanWordList'],inplace=True)\n",
    "\n",
    "# Meta features\n",
    "cols=['COMMENT_ID','%OfUpperCaseLetters', 'NoOfURL', 'AvgLengthOfEachWord',\n",
    "       '%OfNoOfStopWords', 'NoOfWords', '%OfNoOfUniqueWords',\n",
    "       'AvgSentenceLength', 'TextStandard', 'CleanWordList']\n",
    "\n",
    "X=data.loc[:,cols]\n",
    "y=data['CLASS']\n",
    "\n",
    "X_train, X_test, y_train, y_test = train_test_split(X, y, test_size=.25,stratify=y,random_state=147)"
   ]
  },
  {
   "cell_type": "code",
   "execution_count": 128,
   "metadata": {},
   "outputs": [
    {
     "name": "stdout",
     "output_type": "stream",
     "text": [
      "X_train, X_test, y_train, y_test:  (1423, 10) (475, 10) (1423,) (475,)\n"
     ]
    }
   ],
   "source": [
    "print('X_train, X_test, y_train, y_test: ',X_train.shape, X_test.shape, y_train.shape, y_test.shape)"
   ]
  },
  {
   "cell_type": "markdown",
   "metadata": {},
   "source": [
    "### **Compare CountVectorizer and TfidfVectorizer by passing the document-term-matrix from the two vectorizers through MultinomialNB()**"
   ]
  },
  {
   "cell_type": "markdown",
   "metadata": {},
   "source": [
    "#### Create a switcher function to call for different estimators to test\n",
    "\n",
    "Reference: https://stackoverflow.com/questions/50285973/pipeline-multiple-classifiers"
   ]
  },
  {
   "cell_type": "code",
   "execution_count": 129,
   "metadata": {
    "code_folding": [
     0
    ]
   },
   "outputs": [],
   "source": [
    "class ClfSwitcher(BaseEstimator):\n",
    "\n",
    "    def __init__(self, estimator=LogisticRegression(),):\n",
    "        \"\"\"\n",
    "        A Custom BaseEstimator that can switch between classifiers.\n",
    "        :param estimator: sklearn object - The classifier\n",
    "        Default estimator: LogisticRegression()\n",
    "        \"\"\" \n",
    "        self.estimator = estimator\n",
    "\n",
    "    def fit(self, X, y=None, **kwargs):\n",
    "        self.estimator.fit(X, y)\n",
    "        return self\n",
    "\n",
    "    def predict(self, X, y=None):\n",
    "        return self.estimator.predict(X)\n",
    "\n",
    "    def predict_proba(self, X):\n",
    "        return self.estimator.predict_proba(X)"
   ]
  },
  {
   "cell_type": "code",
   "execution_count": 130,
   "metadata": {
    "code_folding": [
     0
    ]
   },
   "outputs": [],
   "source": [
    "class Transfomer(BaseEstimator, TransformerMixin):\n",
    "    \n",
    "    def __init__(self,vectorizer=CountVectorizer()):\n",
    "        self.vectorizer=vectorizer\n",
    "        self.X=X\n",
    "\n",
    "    def fit(self, X, y=None):\n",
    "        \"\"\"\n",
    "        Learn how to transform data based on input data, X.\n",
    "        \"\"\"\n",
    "        return self.vectorizer.fit(X)\n",
    "\n",
    "    def transform(self, X):\n",
    "        \"\"\"\n",
    "        Transform X into a new dataset, Xprime and return it.\n",
    "        \"\"\"\n",
    "        return self.vectorizer.transform(X).toarray()"
   ]
  },
  {
   "cell_type": "markdown",
   "metadata": {},
   "source": [
    "#### Create a pipeline to grid search hyperparameters for CountVectorizer and TF-IDF vectorizer"
   ]
  },
  {
   "cell_type": "code",
   "execution_count": 131,
   "metadata": {
    "code_folding": []
   },
   "outputs": [
    {
     "data": {
      "text/plain": [
       "CountVectorizer(analyzer='word', binary=False, decode_error='strict',\n",
       "                dtype=<class 'numpy.int64'>, encoding='utf-8', input='content',\n",
       "                lowercase=True, max_df=1.0, max_features=None, min_df=0.001,\n",
       "                ngram_range=(1, 2), preprocessor=None, stop_words=None,\n",
       "                strip_accents=None, token_pattern='(?u)\\\\b\\\\w\\\\w+\\\\b',\n",
       "                tokenizer=None, vocabulary=None)"
      ]
     },
     "execution_count": 131,
     "metadata": {},
     "output_type": "execute_result"
    }
   ],
   "source": [
    "pipe_CompareVectorizer= Pipeline([('vectorizer',Transfomer()),\n",
    "                                  ('clf', ClfSwitcher())\n",
    "                                ])\n",
    "paramGrid_CompareVectorizer=[ {\n",
    "                            'vectorizer__vectorizer':[TfidfVectorizer()],\n",
    "                            'vectorizer__vectorizer__min_df':[0.1,0.01,0.001,0.0001],\n",
    "                            'vectorizer__vectorizer__ngram_range':[(1,2),(1,3)],\n",
    "                            'clf__estimator':[LogisticRegression()]\n",
    "                              },\n",
    "                              {\n",
    "                            'vectorizer__vectorizer':[CountVectorizer()],\n",
    "                            'vectorizer__vectorizer__min_df':[0.1,0.01,0.001,0.0001],\n",
    "                            'vectorizer__vectorizer__ngram_range':[(1,2),(1,3)],\n",
    "                            'clf__estimator':[LogisticRegression()]\n",
    "                              }\n",
    "                            ]\n",
    "\n",
    "cv = KFold(n_splits=5, random_state=42, shuffle=True)\n",
    "\n",
    "# Gridsearch with count vectorizer and TFIDF\n",
    "gs_CompareVectorizer = GridSearchCV(pipe_CompareVectorizer, param_grid=paramGrid_CompareVectorizer,n_jobs=-1,\n",
    "                                    cv=cv, verbose=0,return_train_score=True,scoring='roc_auc')\n",
    "\n",
    "gs_CompareVectorizer.fit(X_train['CleanWordList'],y_train);\n",
    "\n",
    "gs_CompareVectorizer.best_params_['vectorizer__vectorizer']"
   ]
  },
  {
   "cell_type": "markdown",
   "metadata": {},
   "source": [
    "It is interesting to find that CountVectorizer outperformed TF-IDF. The selected value for min_df is 0.0001, i.e 0.01%, and ngram_range=(1,2)."
   ]
  },
  {
   "cell_type": "markdown",
   "metadata": {},
   "source": [
    "#### Findings"
   ]
  },
  {
   "cell_type": "code",
   "execution_count": 132,
   "metadata": {},
   "outputs": [
    {
     "data": {
      "text/html": [
       "<div>\n",
       "<style scoped>\n",
       "    .dataframe tbody tr th:only-of-type {\n",
       "        vertical-align: middle;\n",
       "    }\n",
       "\n",
       "    .dataframe tbody tr th {\n",
       "        vertical-align: top;\n",
       "    }\n",
       "\n",
       "    .dataframe thead th {\n",
       "        text-align: right;\n",
       "    }\n",
       "</style>\n",
       "<table border=\"1\" class=\"dataframe\">\n",
       "  <thead>\n",
       "    <tr style=\"text-align: right;\">\n",
       "      <th></th>\n",
       "      <th>ROC_AUC_SCORE</th>\n",
       "      <th>Estimator</th>\n",
       "      <th>Vectorizer</th>\n",
       "      <th>min_df</th>\n",
       "      <th>ngram_range</th>\n",
       "    </tr>\n",
       "  </thead>\n",
       "  <tbody>\n",
       "    <tr>\n",
       "      <th>0</th>\n",
       "      <td>0.999496</td>\n",
       "      <td>LogisticRegression</td>\n",
       "      <td>CountVectorizer</td>\n",
       "      <td>0.0001</td>\n",
       "      <td>(1, 3)</td>\n",
       "    </tr>\n",
       "    <tr>\n",
       "      <th>1</th>\n",
       "      <td>0.999405</td>\n",
       "      <td>LogisticRegression</td>\n",
       "      <td>CountVectorizer</td>\n",
       "      <td>0.0001</td>\n",
       "      <td>(1, 2)</td>\n",
       "    </tr>\n",
       "    <tr>\n",
       "      <th>2</th>\n",
       "      <td>0.997638</td>\n",
       "      <td>LogisticRegression</td>\n",
       "      <td>TfidfVectorizer</td>\n",
       "      <td>0.0001</td>\n",
       "      <td>(1, 3)</td>\n",
       "    </tr>\n",
       "    <tr>\n",
       "      <th>3</th>\n",
       "      <td>0.997583</td>\n",
       "      <td>LogisticRegression</td>\n",
       "      <td>CountVectorizer</td>\n",
       "      <td>0.0010</td>\n",
       "      <td>(1, 3)</td>\n",
       "    </tr>\n",
       "    <tr>\n",
       "      <th>4</th>\n",
       "      <td>0.997489</td>\n",
       "      <td>LogisticRegression</td>\n",
       "      <td>CountVectorizer</td>\n",
       "      <td>0.0010</td>\n",
       "      <td>(1, 2)</td>\n",
       "    </tr>\n",
       "  </tbody>\n",
       "</table>\n",
       "</div>"
      ],
      "text/plain": [
       "   ROC_AUC_SCORE           Estimator       Vectorizer  min_df ngram_range\n",
       "0  0.999496       LogisticRegression  CountVectorizer  0.0001  (1, 3)    \n",
       "1  0.999405       LogisticRegression  CountVectorizer  0.0001  (1, 2)    \n",
       "2  0.997638       LogisticRegression  TfidfVectorizer  0.0001  (1, 3)    \n",
       "3  0.997583       LogisticRegression  CountVectorizer  0.0010  (1, 3)    \n",
       "4  0.997489       LogisticRegression  CountVectorizer  0.0010  (1, 2)    "
      ]
     },
     "execution_count": 132,
     "metadata": {},
     "output_type": "execute_result"
    }
   ],
   "source": [
    "# List of all the combinations tried in grid search in descinding order of ROC_AUC_Score.\n",
    "\n",
    "compareVectorizer=pd.DataFrame(gs_CompareVectorizer.cv_results_['params'],\n",
    "                  gs_CompareVectorizer.cv_results_['mean_train_score']).reset_index()\n",
    "compareVectorizer['clf__estimator']=pd.DataFrame(gs_CompareVectorizer.cv_results_['params'])['clf__estimator'].apply(lambda x: str(x).split('(')[0])\n",
    "compareVectorizer['vectorizer__vectorizer']=pd.DataFrame(gs_CompareVectorizer.cv_results_['params'])['vectorizer__vectorizer'].apply(lambda x: str(x).split('(')[0])\n",
    "\n",
    "compareVectorizer.rename(columns={'index':'ROC_AUC_SCORE',\n",
    "                    'clf__estimator':'Estimator',\n",
    "                    'vectorizer__vectorizer':'Vectorizer',\n",
    "                    'vectorizer__vectorizer__min_df':'min_df',\n",
    "                    'vectorizer__vectorizer__ngram_range':'ngram_range'},inplace=True)\n",
    "compareVectorizer.sort_values(by=['ROC_AUC_SCORE'],ascending=False,inplace=True)\n",
    "compareVectorizer.reset_index(inplace=True,drop=True)\n",
    "compareVectorizer.head()"
   ]
  },
  {
   "cell_type": "markdown",
   "metadata": {},
   "source": [
    "Here CountVectorizer with min_df=0.0001 and ngram_range=(1,3) has performed the best. CountVectorizer with same min_df and ngram_range=(1,2) is second on the list by a very small margin. "
   ]
  },
  {
   "cell_type": "markdown",
   "metadata": {},
   "source": [
    "Best score is different than the top score from above table????\n"
   ]
  },
  {
   "cell_type": "code",
   "execution_count": 133,
   "metadata": {},
   "outputs": [
    {
     "data": {
      "text/plain": [
       "0.9702148681112805"
      ]
     },
     "execution_count": 133,
     "metadata": {},
     "output_type": "execute_result"
    }
   ],
   "source": [
    "gs_CompareVectorizer.best_score_"
   ]
  },
  {
   "cell_type": "code",
   "execution_count": 134,
   "metadata": {},
   "outputs": [
    {
     "data": {
      "text/plain": [
       "Transfomer(vectorizer=CountVectorizer(analyzer='word', binary=False,\n",
       "                                      decode_error='strict',\n",
       "                                      dtype=<class 'numpy.int64'>,\n",
       "                                      encoding='utf-8', input='content',\n",
       "                                      lowercase=True, max_df=1.0,\n",
       "                                      max_features=None, min_df=0.001,\n",
       "                                      ngram_range=(1, 2), preprocessor=None,\n",
       "                                      stop_words=None, strip_accents=None,\n",
       "                                      token_pattern='(?u)\\\\b\\\\w\\\\w+\\\\b',\n",
       "                                      tokenizer=None, vocabulary=None))"
      ]
     },
     "execution_count": 134,
     "metadata": {},
     "output_type": "execute_result"
    }
   ],
   "source": [
    "bestVectorizer=gs_CompareVectorizer.best_estimator_['vectorizer']\n",
    "bestVectorizer"
   ]
  },
  {
   "cell_type": "markdown",
   "metadata": {},
   "source": [
    "###  **Using vectorizer selected above, create pipeline, and perform grid search to find best estimator and best parameters.**"
   ]
  },
  {
   "cell_type": "markdown",
   "metadata": {},
   "source": [
    "#### Gridsearch Logistic Regression Classifier"
   ]
  },
  {
   "cell_type": "code",
   "execution_count": 135,
   "metadata": {},
   "outputs": [
    {
     "name": "stdout",
     "output_type": "stream",
     "text": [
      " Best param:  {'clf__C': 1} \n",
      " Best Score:  0.9619657930180845\n"
     ]
    }
   ],
   "source": [
    "classifier=LogisticRegression()\n",
    "param_grid={'clf__C':(0.1,0.5,1,1.5,2,20,50,100,500)}\n",
    "\n",
    "gs=Helper.gridSearch()\n",
    "lr_gridSearch=gs.gridSearchEstimator(X_train, y_train,n_splits=2,vectorizer=bestVectorizer,\n",
    "                                     clf=classifier, param_grid=param_grid);"
   ]
  },
  {
   "cell_type": "markdown",
   "metadata": {},
   "source": [
    " #### Gridsearch Multinomial Naive Bayes Classifier"
   ]
  },
  {
   "cell_type": "code",
   "execution_count": 136,
   "metadata": {},
   "outputs": [
    {
     "name": "stdout",
     "output_type": "stream",
     "text": [
      " Best param:  {'clf__fit_prior': False, 'clf__alpha': 0.1} \n",
      " Best Score:  0.954285152866747\n"
     ]
    }
   ],
   "source": [
    "classifier=MultinomialNB()\n",
    "param_grid={'clf__alpha':(0,0.1,0.5,1,2,20,100),\n",
    "            'clf__fit_prior':(True,False)}\n",
    "\n",
    "\n",
    "mn_gridSearch=gs.gridSearchEstimator(X_train, y_train,n_splits=5, vectorizer=bestVectorizer, \n",
    "              clf=classifier, param_grid=param_grid);"
   ]
  },
  {
   "cell_type": "markdown",
   "metadata": {},
   "source": [
    "#### Gridsearch Random Forest Classifier"
   ]
  },
  {
   "cell_type": "code",
   "execution_count": 137,
   "metadata": {},
   "outputs": [
    {
     "name": "stdout",
     "output_type": "stream",
     "text": [
      " Best param:  {'clf__n_estimators': 1500, 'clf__max_depth': 50} \n",
      " Best Score:  0.9737691967080089\n"
     ]
    }
   ],
   "source": [
    "classifier=RandomForestClassifier()\n",
    "param_grid={'clf__n_estimators':(10,50,100,500,1000,1500,2000),\n",
    "            'clf__max_depth':(2,5,10,50,100)}\n",
    "\n",
    "\n",
    "rf_gridSearch=gs.gridSearchEstimator(X_train, y_train,n_splits=5, vectorizer=bestVectorizer, \n",
    "              clf=classifier, param_grid=param_grid);"
   ]
  },
  {
   "cell_type": "markdown",
   "metadata": {},
   "source": [
    "#### Gridsearch XGBoost Classifier"
   ]
  },
  {
   "cell_type": "code",
   "execution_count": 138,
   "metadata": {},
   "outputs": [
    {
     "name": "stdout",
     "output_type": "stream",
     "text": [
      " Best param:  {'clf__n_estimators': 10, 'clf__max_depth': 2} \n",
      " Best Score:  0.4992458092808831\n"
     ]
    }
   ],
   "source": [
    "classifier=XGBClassifier()\n",
    "# param_grid={'clf__n_estimators':(10,50,100,500,1000),\n",
    "#             'clf__max_depth':(2,5,10,50,100,500,1000)}\n",
    "\n",
    "param_grid={'clf__n_estimators':(10,20),\n",
    "            'clf__max_depth':(2,5)}\n",
    "\n",
    "xgb_gridSearch=gs.gridSearchEstimator(X_train, y_train,n_splits=2, vectorizer=bestVectorizer,\n",
    "              clf=classifier, param_grid=param_grid);"
   ]
  },
  {
   "cell_type": "markdown",
   "metadata": {},
   "source": [
    "#### Display summary of grid search for all the models"
   ]
  },
  {
   "cell_type": "code",
   "execution_count": 139,
   "metadata": {
    "code_folding": []
   },
   "outputs": [
    {
     "data": {
      "text/html": [
       "<style  type=\"text/css\" >\n",
       "    #T_8095131c_ff56_11ea_b938_30e37a590e6frow0_col1 {\n",
       "            background-color:  yellow;\n",
       "        }</style><table id=\"T_8095131c_ff56_11ea_b938_30e37a590e6f\" ><thead>    <tr>        <th class=\"blank level0\" ></th>        <th class=\"col_heading level0 col0\" >Best Params</th>        <th class=\"col_heading level0 col1\" >Best ROC_AUC Score</th>    </tr></thead><tbody>\n",
       "                <tr>\n",
       "                        <th id=\"T_8095131c_ff56_11ea_b938_30e37a590e6flevel0_row0\" class=\"row_heading level0 row0\" >Random Forest</th>\n",
       "                        <td id=\"T_8095131c_ff56_11ea_b938_30e37a590e6frow0_col0\" class=\"data row0 col0\" >{'clf__n_estimators': 1500, 'clf__max_depth': 50}</td>\n",
       "                        <td id=\"T_8095131c_ff56_11ea_b938_30e37a590e6frow0_col1\" class=\"data row0 col1\" >0.973769</td>\n",
       "            </tr>\n",
       "            <tr>\n",
       "                        <th id=\"T_8095131c_ff56_11ea_b938_30e37a590e6flevel0_row1\" class=\"row_heading level0 row1\" >Logistic Regression</th>\n",
       "                        <td id=\"T_8095131c_ff56_11ea_b938_30e37a590e6frow1_col0\" class=\"data row1 col0\" >{'clf__C': 1}</td>\n",
       "                        <td id=\"T_8095131c_ff56_11ea_b938_30e37a590e6frow1_col1\" class=\"data row1 col1\" >0.961966</td>\n",
       "            </tr>\n",
       "            <tr>\n",
       "                        <th id=\"T_8095131c_ff56_11ea_b938_30e37a590e6flevel0_row2\" class=\"row_heading level0 row2\" >Multinomial Naive Bayes</th>\n",
       "                        <td id=\"T_8095131c_ff56_11ea_b938_30e37a590e6frow2_col0\" class=\"data row2 col0\" >{'clf__fit_prior': False, 'clf__alpha': 0.1}</td>\n",
       "                        <td id=\"T_8095131c_ff56_11ea_b938_30e37a590e6frow2_col1\" class=\"data row2 col1\" >0.954285</td>\n",
       "            </tr>\n",
       "            <tr>\n",
       "                        <th id=\"T_8095131c_ff56_11ea_b938_30e37a590e6flevel0_row3\" class=\"row_heading level0 row3\" >XGBoost</th>\n",
       "                        <td id=\"T_8095131c_ff56_11ea_b938_30e37a590e6frow3_col0\" class=\"data row3 col0\" >{'clf__n_estimators': 10, 'clf__max_depth': 2}</td>\n",
       "                        <td id=\"T_8095131c_ff56_11ea_b938_30e37a590e6frow3_col1\" class=\"data row3 col1\" >0.499246</td>\n",
       "            </tr>\n",
       "    </tbody></table>"
      ],
      "text/plain": [
       "<pandas.io.formats.style.Styler at 0x20feb8b8fd0>"
      ]
     },
     "execution_count": 139,
     "metadata": {},
     "output_type": "execute_result"
    }
   ],
   "source": [
    "compareEstimator_df=pd.DataFrame(data={'Logistic Regression':[lr_gridSearch[0],lr_gridSearch[1]],\n",
    " 'Multinomial Naive Bayes':[mn_gridSearch[0],mn_gridSearch[1]],\n",
    " 'Random Forest':[rf_gridSearch[0],rf_gridSearch[1]],\n",
    " 'XGBoost':[xgb_gridSearch[0],xgb_gridSearch[1]]},index=['Best Params','Best ROC_AUC Score']).transpose()\n",
    "\n",
    "compareEstimator_df.sort_values(by='Best ROC_AUC Score',ascending=False,inplace=True)\n",
    "\n",
    "compareEstimator_df.style.highlight_max(axis=0,subset=['Best ROC_AUC Score'])"
   ]
  },
  {
   "cell_type": "markdown",
   "metadata": {},
   "source": [
    "Logistic regression has the highest ROC_AUC score with C=2."
   ]
  },
  {
   "cell_type": "markdown",
   "metadata": {},
   "source": [
    "#### Plot ROC curve logistic regression classifier"
   ]
  },
  {
   "cell_type": "code",
   "execution_count": 140,
   "metadata": {},
   "outputs": [
    {
     "data": {
      "image/png": "[encoded data removed]",
      "text/plain": [
       "<Figure size 1080x360 with 1 Axes>"
      ]
     },
     "metadata": {
      "needs_background": "light"
     },
     "output_type": "display_data"
    }
   ],
   "source": [
    "Helper.plot_Roc_Curve(lr_gridSearch[2],X_test,y_test);"
   ]
  },
  {
   "cell_type": "markdown",
   "metadata": {},
   "source": [
    "#### Confusion Matrix"
   ]
  },
  {
   "cell_type": "code",
   "execution_count": 141,
   "metadata": {},
   "outputs": [
    {
     "data": {
      "image/png": "[encoded data removed]",
      "text/plain": [
       "<Figure size 1080x360 with 2 Axes>"
      ]
     },
     "metadata": {
      "needs_background": "light"
     },
     "output_type": "display_data"
    }
   ],
   "source": [
    "import cf_matrix\n",
    "# Reference: https://medium.com/@dtuk81/confusion-matrix-visualization-fc31e3f30fea\n",
    "# https://github.com/DTrimarchi10/confusion_matrix/blob/master/cf_matrix.py\n",
    "\n",
    "labels = ['True Neg \\n','False Pos \\n','False Neg \\n','True Pos \\n']\n",
    "\n",
    "cm=confusion_matrix(y_test,lr_gridSearch[2].predict(X_test['CleanWordList']))\n",
    "\n",
    "cf_matrix.make_confusion_matrix(cm,figsize=(15,5),categories=['Ham','Spam'],\n",
    "                                title='Confusion Matrix \\n',group_names=labels)"
   ]
  },
  {
   "cell_type": "markdown",
   "metadata": {},
   "source": [
    "### **Adjust Threshold as per business usecase**"
   ]
  },
  {
   "cell_type": "markdown",
   "metadata": {},
   "source": [
    "The default threshold for the model is 0.5, i.e any document having predict_proba <0.5 is classified as Ham and Spam otherwise.  Using 0.5 as threshold, the current model has 1.68% False Positive,i.e. 1.68% of total comments were misclassified as Spam when actually they were non-spam comments. Whereas, 5.45% of total comments are classified as Ham when they were actually spam. \n"
   ]
  },
  {
   "cell_type": "markdown",
   "metadata": {},
   "source": [
    "The level of tolerance of False-Positives and False-Negative varies from case to case. \n",
    "There are 3 important metrics which are calculated from values of true-pos, false-pos,true-neg and false-neg. \n",
    "\n",
    "- Precision: Out of all the comments flagged as Spam, what fraction are actually spam.\n",
    "- Recall: Out of all the spam comments, what fraction got flagged as spam. \n",
    "- F1 Score: It combines the first two metrics using harmonic mean. It gives equal weightage to precision and recall.\n",
    "\n",
    "\n",
    "Precision is a good measure to determine when the costs of False Positives are high. For instance, email spam detection. In email spam detection, a false positive means that an email that is non-spam (actual negative) has been identified as spam (predicted spam). The email user might lose important emails if the precision is not high for the spam detection model. On the other hand, in case of cancerous cell detection problems the opposite is true. The goal in this case will be to have the lowest possible False-Negatives (Cancerous cell mis-classified as non-cancerous). An increase in False-Positive will be acceptable in this case if it helps reduce no. of False-Negatives.\n",
    "\n",
    "\n",
    "F1 Score is a better measure to use if we are seeking a balance between precision and recall and there is an imbalanced class distribution. For this project, I am more inclined to achieve better precision than recall. I used the FBeta score as it allows to adjust the value of beta to give more weight to precision or recall. Beta < 1 gives more weight to precision, while beta > 1 favors recall.\n",
    "\n",
    "\n",
    "I searched for the optimal value of beta for a number of thresholds.\n"
   ]
  },
  {
   "cell_type": "code",
   "execution_count": 142,
   "metadata": {},
   "outputs": [
    {
     "data": {
      "image/png": "[encoded data removed]",
      "text/plain": [
       "<Figure size 1080x360 with 2 Axes>"
      ]
     },
     "metadata": {
      "needs_background": "light"
     },
     "output_type": "display_data"
    }
   ],
   "source": [
    "predict_proba=lr_gridSearch[2].predict_proba(X_test['CleanWordList'])[:,1]\n",
    "helper=Helper.analysisHelper()\n",
    "cm=confusion_matrix(y_test,helper.predictNewThreshold(predict_proba=predict_proba,threshold=0.6))\n",
    "\n",
    "cf_matrix.make_confusion_matrix(cm,figsize=(15,5),categories=['Ham','Spam'],\n",
    "                                title='Confusion Matrix \\n',group_names=labels)"
   ]
  },
  {
   "cell_type": "code",
   "execution_count": 143,
   "metadata": {},
   "outputs": [],
   "source": [
    "ah=Helper.analysisHelper()\n",
    "\n",
    "betaValues=[0.4,0.5,0.6,0.7,0.8,0.9,0.99]\n",
    "beta=[]\n",
    "threshold=[]\n",
    "FbetaScore=[]\n",
    "for betaValue in betaValues:\n",
    "    a,b,c= ah.plotThresholdvsMetric_adjustedBeta(gs=lr_gridSearch[2],X_test=X_test,y_test=y_test,\n",
    "                                      beta=betaValue,isChart=False)\n",
    "    beta.append(a)\n",
    "    threshold.append(b)\n",
    "    FbetaScore.append(c)\n",
    "    "
   ]
  },
  {
   "cell_type": "code",
   "execution_count": 144,
   "metadata": {},
   "outputs": [
    {
     "data": {
      "text/html": [
       "<style  type=\"text/css\" >\n",
       "    #T_8188905e_ff56_11ea_b224_30e37a590e6frow0_col2 {\n",
       "            background-color:  yellow;\n",
       "        }</style><table id=\"T_8188905e_ff56_11ea_b224_30e37a590e6f\" ><thead>    <tr>        <th class=\"blank level0\" ></th>        <th class=\"col_heading level0 col0\" >Beta</th>        <th class=\"col_heading level0 col1\" >Threshold</th>        <th class=\"col_heading level0 col2\" >Fbeta Score</th>    </tr></thead><tbody>\n",
       "                <tr>\n",
       "                        <th id=\"T_8188905e_ff56_11ea_b224_30e37a590e6flevel0_row0\" class=\"row_heading level0 row0\" >0</th>\n",
       "                        <td id=\"T_8188905e_ff56_11ea_b224_30e37a590e6frow0_col0\" class=\"data row0 col0\" >0.4</td>\n",
       "                        <td id=\"T_8188905e_ff56_11ea_b224_30e37a590e6frow0_col1\" class=\"data row0 col1\" >0.75</td>\n",
       "                        <td id=\"T_8188905e_ff56_11ea_b224_30e37a590e6frow0_col2\" class=\"data row0 col2\" >0.960594</td>\n",
       "            </tr>\n",
       "            <tr>\n",
       "                        <th id=\"T_8188905e_ff56_11ea_b224_30e37a590e6flevel0_row1\" class=\"row_heading level0 row1\" >1</th>\n",
       "                        <td id=\"T_8188905e_ff56_11ea_b224_30e37a590e6frow1_col0\" class=\"data row1 col0\" >0.5</td>\n",
       "                        <td id=\"T_8188905e_ff56_11ea_b224_30e37a590e6frow1_col1\" class=\"data row1 col1\" >0.75</td>\n",
       "                        <td id=\"T_8188905e_ff56_11ea_b224_30e37a590e6frow1_col2\" class=\"data row1 col2\" >0.95082</td>\n",
       "            </tr>\n",
       "            <tr>\n",
       "                        <th id=\"T_8188905e_ff56_11ea_b224_30e37a590e6flevel0_row2\" class=\"row_heading level0 row2\" >2</th>\n",
       "                        <td id=\"T_8188905e_ff56_11ea_b224_30e37a590e6frow2_col0\" class=\"data row2 col0\" >0.6</td>\n",
       "                        <td id=\"T_8188905e_ff56_11ea_b224_30e37a590e6frow2_col1\" class=\"data row2 col1\" >0.65</td>\n",
       "                        <td id=\"T_8188905e_ff56_11ea_b224_30e37a590e6frow2_col2\" class=\"data row2 col2\" >0.941828</td>\n",
       "            </tr>\n",
       "            <tr>\n",
       "                        <th id=\"T_8188905e_ff56_11ea_b224_30e37a590e6flevel0_row3\" class=\"row_heading level0 row3\" >3</th>\n",
       "                        <td id=\"T_8188905e_ff56_11ea_b224_30e37a590e6frow3_col0\" class=\"data row3 col0\" >0.7</td>\n",
       "                        <td id=\"T_8188905e_ff56_11ea_b224_30e37a590e6frow3_col1\" class=\"data row3 col1\" >0.58</td>\n",
       "                        <td id=\"T_8188905e_ff56_11ea_b224_30e37a590e6frow3_col2\" class=\"data row3 col2\" >0.935155</td>\n",
       "            </tr>\n",
       "            <tr>\n",
       "                        <th id=\"T_8188905e_ff56_11ea_b224_30e37a590e6flevel0_row4\" class=\"row_heading level0 row4\" >4</th>\n",
       "                        <td id=\"T_8188905e_ff56_11ea_b224_30e37a590e6frow4_col0\" class=\"data row4 col0\" >0.8</td>\n",
       "                        <td id=\"T_8188905e_ff56_11ea_b224_30e37a590e6frow4_col1\" class=\"data row4 col1\" >0.58</td>\n",
       "                        <td id=\"T_8188905e_ff56_11ea_b224_30e37a590e6frow4_col2\" class=\"data row4 col2\" >0.928868</td>\n",
       "            </tr>\n",
       "            <tr>\n",
       "                        <th id=\"T_8188905e_ff56_11ea_b224_30e37a590e6flevel0_row5\" class=\"row_heading level0 row5\" >5</th>\n",
       "                        <td id=\"T_8188905e_ff56_11ea_b224_30e37a590e6frow5_col0\" class=\"data row5 col0\" >0.9</td>\n",
       "                        <td id=\"T_8188905e_ff56_11ea_b224_30e37a590e6frow5_col1\" class=\"data row5 col1\" >0.49</td>\n",
       "                        <td id=\"T_8188905e_ff56_11ea_b224_30e37a590e6frow5_col2\" class=\"data row5 col2\" >0.923345</td>\n",
       "            </tr>\n",
       "            <tr>\n",
       "                        <th id=\"T_8188905e_ff56_11ea_b224_30e37a590e6flevel0_row6\" class=\"row_heading level0 row6\" >6</th>\n",
       "                        <td id=\"T_8188905e_ff56_11ea_b224_30e37a590e6frow6_col0\" class=\"data row6 col0\" >0.99</td>\n",
       "                        <td id=\"T_8188905e_ff56_11ea_b224_30e37a590e6frow6_col1\" class=\"data row6 col1\" >0.38</td>\n",
       "                        <td id=\"T_8188905e_ff56_11ea_b224_30e37a590e6frow6_col2\" class=\"data row6 col2\" >0.919465</td>\n",
       "            </tr>\n",
       "    </tbody></table>"
      ],
      "text/plain": [
       "<pandas.io.formats.style.Styler at 0x20feec86a20>"
      ]
     },
     "execution_count": 144,
     "metadata": {},
     "output_type": "execute_result"
    }
   ],
   "source": [
    "pd.DataFrame(data={'Beta':beta,'Threshold':threshold,'Fbeta Score':FbetaScore}).\\\n",
    "             style.highlight_max(subset=['Fbeta Score'])\n",
    "   "
   ]
  },
  {
   "cell_type": "code",
   "execution_count": 145,
   "metadata": {},
   "outputs": [
    {
     "data": {
      "text/plain": [
       "(0.4, 0.75, 0.9605939463163907)"
      ]
     },
     "execution_count": 145,
     "metadata": {},
     "output_type": "execute_result"
    },
    {
     "data": {
      "image/png": "[encoded data removed]",
      "text/plain": [
       "<Figure size 1080x360 with 1 Axes>"
      ]
     },
     "metadata": {
      "needs_background": "light"
     },
     "output_type": "display_data"
    }
   ],
   "source": [
    "ah.plotThresholdvsMetric_adjustedBeta(gs=lr_gridSearch[2],X_test=X_test,y_test=y_test,\n",
    "                                      beta=0.4,isChart=True)"
   ]
  },
  {
   "cell_type": "markdown",
   "metadata": {},
   "source": [
    "**Check confusion matrix with threshold=0.6**"
   ]
  },
  {
   "cell_type": "code",
   "execution_count": 146,
   "metadata": {},
   "outputs": [
    {
     "data": {
      "image/png": "[encoded data removed]",
      "text/plain": [
       "<Figure size 1080x360 with 2 Axes>"
      ]
     },
     "metadata": {
      "needs_background": "light"
     },
     "output_type": "display_data"
    }
   ],
   "source": [
    "cm=confusion_matrix(y_test,ah.predictNewThreshold(predict_proba,0.6))\n",
    "cf_matrix.make_confusion_matrix(cm,figsize=(15,5),categories=['Ham','Spam'],\n",
    "                                title='Confusion Matrix \\n',group_names=labels)"
   ]
  },
  {
   "cell_type": "code",
   "execution_count": 147,
   "metadata": {},
   "outputs": [
    {
     "name": "stdout",
     "output_type": "stream",
     "text": [
      "              precision    recall  f1-score   support\n",
      "\n",
      "           0       0.87      0.97      0.92       236\n",
      "           1       0.97      0.86      0.91       239\n",
      "\n",
      "    accuracy                           0.91       475\n",
      "   macro avg       0.92      0.91      0.91       475\n",
      "weighted avg       0.92      0.91      0.91       475\n",
      "\n"
     ]
    }
   ],
   "source": [
    "predict_proba=lr_gridSearch[2].predict_proba(X_test['CleanWordList'])[:,1]\n",
    "print(classification_report(y_test,ah.predictNewThreshold(predict_proba,0.6)))"
   ]
  },
  {
   "cell_type": "markdown",
   "metadata": {},
   "source": [
    "###  Top misclassified comments"
   ]
  },
  {
   "cell_type": "code",
   "execution_count": 148,
   "metadata": {},
   "outputs": [],
   "source": [
    "predict_proba=lr_gridSearch[2].predict_proba(X_test['CleanWordList'])[:,1]\n",
    "helper=Helper.analysisHelper()\n",
    "cm=confusion_matrix(y_test,helper.predictNewThreshold(predict_proba=predict_proba,threshold=0.6))\n",
    "\n",
    "prediction_df=pd.DataFrame(data={'X_test':X_test['CleanWordList'],\n",
    "                  'y_test':y_test,\n",
    "                  'predict_proba':predict_proba,\n",
    "                  'Prediction':helper.predictNewThreshold(predict_proba=predict_proba,threshold=0.6)})\n",
    "\n",
    "merged=pd.merge(prediction_df,data,how='left',left_on='X_test',right_on='CleanWordList',)\n",
    "\n",
    "cols=['X_test','CONTENT','y_test', 'predict_proba', 'Prediction']\n",
    "merged=merged[cols]\n",
    "merged.drop_duplicates(inplace=True)"
   ]
  },
  {
   "cell_type": "code",
   "execution_count": 150,
   "metadata": {},
   "outputs": [],
   "source": [
    "filtHam=(merged['Prediction']==1) & (merged['y_test']==0) \n",
    "misclassifiedHam=merged[filtHam].sort_values(by='predict_proba',ascending=False)\n",
    "\n",
    "filtSpam=(merged['Prediction']==0) & (merged['y_test']==1) \n",
    "misclassifiedSpam=merged[filtSpam].sort_values(by='predict_proba',ascending=False)\n",
    "\n",
    "pd.set_option('display.max_colwidth', -1)"
   ]
  },
  {
   "cell_type": "markdown",
   "metadata": {},
   "source": [
    "#### False-negatives (miscalssified as Ham)"
   ]
  },
  {
   "cell_type": "code",
   "execution_count": 172,
   "metadata": {},
   "outputs": [
    {
     "data": {
      "text/html": [
       "<div>\n",
       "<style scoped>\n",
       "    .dataframe tbody tr th:only-of-type {\n",
       "        vertical-align: middle;\n",
       "    }\n",
       "\n",
       "    .dataframe tbody tr th {\n",
       "        vertical-align: top;\n",
       "    }\n",
       "\n",
       "    .dataframe thead th {\n",
       "        text-align: right;\n",
       "    }\n",
       "</style>\n",
       "<table border=\"1\" class=\"dataframe\">\n",
       "  <thead>\n",
       "    <tr style=\"text-align: right;\">\n",
       "      <th></th>\n",
       "      <th>CONTENT</th>\n",
       "      <th>predict_proba</th>\n",
       "    </tr>\n",
       "  </thead>\n",
       "  <tbody>\n",
       "    <tr>\n",
       "      <th>0</th>\n",
       "      <td>My honest opinion. It's a very mediocre song. Nothing unique or special  about her music, lyrics or voice. Nothing memorable like Billie Jean or  Beat It. Before her millions of fans reply with hate comments, i know this  is a democracy and people are free to see what they want. But then don't I  have the right to express my opinion? Please don't reply with dumb comments  lie \"if you don't like it don't watch it\". I just came here to see what's  the buzz about(661 million views??) and didn't like what i saw. OK?﻿</td>\n",
       "      <td>0.997661</td>\n",
       "    </tr>\n",
       "    <tr>\n",
       "      <th>1</th>\n",
       "      <td>thumbs up if u checked this video to see hw views it got﻿</td>\n",
       "      <td>0.982619</td>\n",
       "    </tr>\n",
       "    <tr>\n",
       "      <th>2</th>\n",
       "      <td>i check back often to help reach 2x10^9 views and I avoid watching Baby﻿</td>\n",
       "      <td>0.947128</td>\n",
       "    </tr>\n",
       "    <tr>\n",
       "      <th>3</th>\n",
       "      <td>Lemme Top Comments Please!!﻿</td>\n",
       "      <td>0.872129</td>\n",
       "    </tr>\n",
       "    <tr>\n",
       "      <th>4</th>\n",
       "      <td>This comment will randomly get lot's of likes and replies for no reason. I  also like Jello. Strawberry jello.﻿</td>\n",
       "      <td>0.744380</td>\n",
       "    </tr>\n",
       "  </tbody>\n",
       "</table>\n",
       "</div>"
      ],
      "text/plain": [
       "                                                                                                                                                                                                                                                                                                                                                                                                                                                                                                                                  CONTENT  \\\n",
       "0  My honest opinion. It's a very mediocre song. Nothing unique or special  about her music, lyrics or voice. Nothing memorable like Billie Jean or  Beat It. Before her millions of fans reply with hate comments, i know this  is a democracy and people are free to see what they want. But then don't I  have the right to express my opinion? Please don't reply with dumb comments  lie \"if you don't like it don't watch it\". I just came here to see what's  the buzz about(661 million views??) and didn't like what i saw. OK?﻿   \n",
       "1  thumbs up if u checked this video to see hw views it got﻿                                                                                                                                                                                                                                                                                                                                                                                                                                                                                \n",
       "2  i check back often to help reach 2x10^9 views and I avoid watching Baby﻿                                                                                                                                                                                                                                                                                                                                                                                                                                                                 \n",
       "3  Lemme Top Comments Please!!﻿                                                                                                                                                                                                                                                                                                                                                                                                                                                                                                             \n",
       "4  This comment will randomly get lot's of likes and replies for no reason. I  also like Jello. Strawberry jello.﻿                                                                                                                                                                                                                                                                                                                                                                                                                          \n",
       "\n",
       "   predict_proba  \n",
       "0  0.997661       \n",
       "1  0.982619       \n",
       "2  0.947128       \n",
       "3  0.872129       \n",
       "4  0.744380       "
      ]
     },
     "execution_count": 172,
     "metadata": {},
     "output_type": "execute_result"
    }
   ],
   "source": [
    "misclassifiedHam.loc[:,['CONTENT','predict_proba']].reset_index(drop=True).head()"
   ]
  },
  {
   "cell_type": "markdown",
   "metadata": {},
   "source": [
    "#### False-positives (miscalssified as Spam)"
   ]
  },
  {
   "cell_type": "code",
   "execution_count": 179,
   "metadata": {},
   "outputs": [
    {
     "data": {
      "text/html": [
       "<div>\n",
       "<style scoped>\n",
       "    .dataframe tbody tr th:only-of-type {\n",
       "        vertical-align: middle;\n",
       "    }\n",
       "\n",
       "    .dataframe tbody tr th {\n",
       "        vertical-align: top;\n",
       "    }\n",
       "\n",
       "    .dataframe thead th {\n",
       "        text-align: right;\n",
       "    }\n",
       "</style>\n",
       "<table border=\"1\" class=\"dataframe\">\n",
       "  <thead>\n",
       "    <tr style=\"text-align: right;\">\n",
       "      <th></th>\n",
       "      <th>CONTENT</th>\n",
       "      <th>predict_proba</th>\n",
       "    </tr>\n",
       "  </thead>\n",
       "  <tbody>\n",
       "    <tr>\n",
       "      <th>0</th>\n",
       "      <td>i love this so much. AND also I Generate Free Leads on Auto Pilot &amp;amp; You Can  Too! http://www.MyLeaderGate.com/moretraffic﻿</td>\n",
       "      <td>0.554955</td>\n",
       "    </tr>\n",
       "    <tr>\n",
       "      <th>1</th>\n",
       "      <td>Haha , Miley Cyrus has done it once again  Today someone leeched a porno video with her on a celeb site   I believe the website link is : miley-celeb-news.co.uk in case you want to view it....</td>\n",
       "      <td>0.547022</td>\n",
       "    </tr>\n",
       "    <tr>\n",
       "      <th>2</th>\n",
       "      <td>It's so hard, sad :( iThat little child Actor HWANG MINOO dancing very  active child is suffering from brain tumor, only 6 month left for him .Hard  to believe .. Keep praying everyone for our future superstar.  #StrongLittlePsY #Fighting  SHARE EVERYONE PRAYING FOR HIM http://ygunited.com/2014/11/08/little-psy-from-the-has-brain-tumor-6-months-left-to-live/ ﻿</td>\n",
       "      <td>0.492424</td>\n",
       "    </tr>\n",
       "    <tr>\n",
       "      <th>3</th>\n",
       "      <td>-----&amp;gt;&amp;gt;&amp;gt;&amp;gt;  https://www.facebook.com/video.php?v=10200253113705769&amp;amp;set=vb.201470069872822&amp;amp;type=3&amp;amp;permPage=1  &amp;lt;--------﻿</td>\n",
       "      <td>0.489175</td>\n",
       "    </tr>\n",
       "    <tr>\n",
       "      <th>4</th>\n",
       "      <td>http://www.twitch.tv/jaroadc come follow and watch my stream!﻿</td>\n",
       "      <td>0.445956</td>\n",
       "    </tr>\n",
       "  </tbody>\n",
       "</table>\n",
       "</div>"
      ],
      "text/plain": [
       "                                                                                                                                                                                                                                                                                                                                                                      CONTENT  \\\n",
       "0  i love this so much. AND also I Generate Free Leads on Auto Pilot &amp; You Can  Too! http://www.MyLeaderGate.com/moretraffic﻿                                                                                                                                                                                                                                               \n",
       "1    Haha , Miley Cyrus has done it once again  Today someone leeched a porno video with her on a celeb site   I believe the website link is : miley-celeb-news.co.uk in case you want to view it....                                                                                                                                                                           \n",
       "2  It's so hard, sad :( iThat little child Actor HWANG MINOO dancing very  active child is suffering from brain tumor, only 6 month left for him .Hard  to believe .. Keep praying everyone for our future superstar.  #StrongLittlePsY #Fighting  SHARE EVERYONE PRAYING FOR HIM http://ygunited.com/2014/11/08/little-psy-from-the-has-brain-tumor-6-months-left-to-live/ ﻿   \n",
       "3  -----&gt;&gt;&gt;&gt;  https://www.facebook.com/video.php?v=10200253113705769&amp;set=vb.201470069872822&amp;type=3&amp;permPage=1  &lt;--------﻿                                                                                                                                                                                                                            \n",
       "4  http://www.twitch.tv/jaroadc come follow and watch my stream!﻿                                                                                                                                                                                                                                                                                                               \n",
       "\n",
       "   predict_proba  \n",
       "0  0.554955       \n",
       "1  0.547022       \n",
       "2  0.492424       \n",
       "3  0.489175       \n",
       "4  0.445956       "
      ]
     },
     "execution_count": 179,
     "metadata": {},
     "output_type": "execute_result"
    }
   ],
   "source": [
    "misclassifiedSpam.loc[:,['CONTENT','predict_proba']].reset_index(drop=True).\\\n",
    "drop_duplicates(subset=['CONTENT']).head()"
   ]
  },
  {
   "cell_type": "markdown",
   "metadata": {},
   "source": [
    "### Save the model"
   ]
  },
  {
   "cell_type": "code",
   "execution_count": 156,
   "metadata": {},
   "outputs": [
    {
     "data": {
      "text/plain": [
       "['youtubeCommentClassifier_pipeline.joblib']"
      ]
     },
     "execution_count": 156,
     "metadata": {},
     "output_type": "execute_result"
    }
   ],
   "source": [
    "joblib.dump(lr_gridSearch, 'youtubeCommentClassifier_pipeline.joblib')"
   ]
  },
  {
   "cell_type": "code",
   "execution_count": 157,
   "metadata": {},
   "outputs": [],
   "source": [
    "clf=joblib.load('youtubeCommentClassifier_pipeline.joblib')"
   ]
  },
  {
   "cell_type": "markdown",
   "metadata": {},
   "source": [
    "### Read comments from youtube to test model performance"
   ]
  },
  {
   "cell_type": "code",
   "execution_count": 158,
   "metadata": {},
   "outputs": [],
   "source": [
    "import importlib\n",
    "import YoutubeAPICommentExtractor\n",
    "importlib.reload(YoutubeAPICommentExtractor);\n",
    "import YoutubeAPICommentExtractor as api"
   ]
  },
  {
   "cell_type": "code",
   "execution_count": 159,
   "metadata": {},
   "outputs": [
    {
     "ename": "AttributeError",
     "evalue": "module 'YoutubeAPICommentExtractor' has no attribute 'ReadYoutubeComments'",
     "output_type": "error",
     "traceback": [
      "\u001b[1;31m---------------------------------------------------------------------------\u001b[0m",
      "\u001b[1;31mAttributeError\u001b[0m                            Traceback (most recent call last)",
      "\u001b[1;32m<ipython-input-159-d2bf69f65570>\u001b[0m in \u001b[0;36m<module>\u001b[1;34m\u001b[0m\n\u001b[1;32m----> 1\u001b[1;33m \u001b[0mapi\u001b[0m\u001b[1;33m.\u001b[0m\u001b[0mReadYoutubeComments\u001b[0m\u001b[1;33m.\u001b[0m\u001b[0mread_required_no_of_comments\u001b[0m\u001b[1;33m(\u001b[0m\u001b[0murl\u001b[0m\u001b[1;33m=\u001b[0m\u001b[1;34m'https://www.youtube.com/watch?v=54nu59EZwF8'\u001b[0m\u001b[1;33m,\u001b[0m\u001b[0mrequiredNoOfComments\u001b[0m\u001b[1;33m=\u001b[0m\u001b[1;36m500\u001b[0m\u001b[1;33m)\u001b[0m\u001b[1;33m\u001b[0m\u001b[1;33m\u001b[0m\u001b[0m\n\u001b[0m",
      "\u001b[1;31mAttributeError\u001b[0m: module 'YoutubeAPICommentExtractor' has no attribute 'ReadYoutubeComments'"
     ]
    }
   ],
   "source": [
    "api.ReadYoutubeComments.read_required_no_of_comments(url='https://www.youtube.com/watch?v=54nu59EZwF8',requiredNoOfComments=500)"
   ]
  },
  {
   "cell_type": "code",
   "execution_count": null,
   "metadata": {},
   "outputs": [],
   "source": [
    "api.read_required_no_of_comments(url='https://www.youtube.com/watch?v=54nu59EZwF8',requiredNoOfComments=500)"
   ]
  },
  {
   "cell_type": "code",
   "execution_count": null,
   "metadata": {},
   "outputs": [],
   "source": [
    "api.read_required_no_of_comments(url='https://www.youtube.com/watch?v=54nu59EZwF8',requiredNoOfComments=500)"
   ]
  },
  {
   "cell_type": "code",
   "execution_count": null,
   "metadata": {},
   "outputs": [],
   "source": []
  },
  {
   "cell_type": "code",
   "execution_count": null,
   "metadata": {},
   "outputs": [],
   "source": []
  },
  {
   "cell_type": "code",
   "execution_count": null,
   "metadata": {},
   "outputs": [],
   "source": []
  }
 ],
 "metadata": {
  "kernelspec": {
   "display_name": "Python 3",
   "language": "python",
   "name": "python3"
  },
  "language_info": {
   "codemirror_mode": {
    "name": "ipython",
    "version": 3
   },
   "file_extension": ".py",
   "mimetype": "text/x-python",
   "name": "python",
   "nbconvert_exporter": "python",
   "pygments_lexer": "ipython3",
   "version": "3.7.3"
  },
  "toc": {
   "base_numbering": 1,
   "nav_menu": {},
   "number_sections": true,
   "sideBar": true,
   "skip_h1_title": false,
   "title_cell": "Table of Contents",
   "title_sidebar": "Contents",
   "toc_cell": true,
   "toc_position": {
    "height": "calc(100% - 180px)",
    "left": "10px",
    "top": "150px",
    "width": "214.304px"
   },
   "toc_section_display": true,
   "toc_window_display": true
  }
 },
 "nbformat": 4,
 "nbformat_minor": 2
}
