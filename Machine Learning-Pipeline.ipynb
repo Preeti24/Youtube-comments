{
 "cells": [
  {
   "cell_type": "markdown",
   "metadata": {
    "toc": true
   },
   "source": [
    "<h1>Table of Contents<span class=\"tocSkip\"></span></h1>\n",
    "<div class=\"toc\"><ul class=\"toc-item\"><li><span><a href=\"#Read-the-data-and-split-into-training-and-test-datasets.-We-will-be-using-the-training-part-to-further-split-into-training-and-validation-part.-Once-we-find-a-good-model-we-will-test-it's-performance-on-unseen-data-(test-dataset)\" data-toc-modified-id=\"Read-the-data-and-split-into-training-and-test-datasets.-We-will-be-using-the-training-part-to-further-split-into-training-and-validation-part.-Once-we-find-a-good-model-we-will-test-it's-performance-on-unseen-data-(test-dataset)-1\"><span class=\"toc-item-num\">1&nbsp;&nbsp;</span><strong>Read the data and split into training and test datasets. We will be using the training part to further split into training and validation part. Once we find a good model we will test it's performance on unseen data (test dataset)</strong></a></span></li><li><span><a href=\"#Compare-CountVectorizer-and-TfidfVectorizer-by-passing-the-document-term-matrix-from-the-two-vectorizers-through-MultinomialNB()\" data-toc-modified-id=\"Compare-CountVectorizer-and-TfidfVectorizer-by-passing-the-document-term-matrix-from-the-two-vectorizers-through-MultinomialNB()-2\"><span class=\"toc-item-num\">2&nbsp;&nbsp;</span><strong>Compare CountVectorizer and TfidfVectorizer by passing the document-term-matrix from the two vectorizers through MultinomialNB()</strong></a></span><ul class=\"toc-item\"><li><span><a href=\"#Create-a-switcher-function-to-call-for-different-estimators-to-test\" data-toc-modified-id=\"Create-a-switcher-function-to-call-for-different-estimators-to-test-2.1\"><span class=\"toc-item-num\">2.1&nbsp;&nbsp;</span><strong>Create a switcher function to call for different estimators to test</strong></a></span></li><li><span><a href=\"#Create-a-pipeline-to-grid-search-hyperparameters-for-CountVectorizer-and-TF-IDF-vectorizer\" data-toc-modified-id=\"Create-a-pipeline-to-grid-search-hyperparameters-for-CountVectorizer-and-TF-IDF-vectorizer-2.2\"><span class=\"toc-item-num\">2.2&nbsp;&nbsp;</span>Create a pipeline to grid search hyperparameters for CountVectorizer and TF-IDF vectorizer</a></span></li><li><span><a href=\"#Findings\" data-toc-modified-id=\"Findings-2.3\"><span class=\"toc-item-num\">2.3&nbsp;&nbsp;</span>Findings</a></span></li></ul></li><li><span><a href=\"#Using-vectorizer-selected-above,-create-pipeline,-and-perform-grid-search-to-find-best-estimator-and-best-parameters.\" data-toc-modified-id=\"Using-vectorizer-selected-above,-create-pipeline,-and-perform-grid-search-to-find-best-estimator-and-best-parameters.-3\"><span class=\"toc-item-num\">3&nbsp;&nbsp;</span><strong>Using vectorizer selected above, create pipeline, and perform grid search to find best estimator and best parameters.</strong></a></span><ul class=\"toc-item\"><li><span><a href=\"#Gridsearch-Logistic-Regression-Classifier\" data-toc-modified-id=\"Gridsearch-Logistic-Regression-Classifier-3.1\"><span class=\"toc-item-num\">3.1&nbsp;&nbsp;</span>Gridsearch Logistic Regression Classifier</a></span></li><li><span><a href=\"#Gridsearch-Multinomial-Naive-Bayes-Classifier\" data-toc-modified-id=\"Gridsearch-Multinomial-Naive-Bayes-Classifier-3.2\"><span class=\"toc-item-num\">3.2&nbsp;&nbsp;</span>Gridsearch Multinomial Naive Bayes Classifier</a></span></li><li><span><a href=\"#Gridsearch-Random-Forest-Classifier\" data-toc-modified-id=\"Gridsearch-Random-Forest-Classifier-3.3\"><span class=\"toc-item-num\">3.3&nbsp;&nbsp;</span>Gridsearch Random Forest Classifier</a></span></li><li><span><a href=\"#Gridsearch-XGBoost-Classifier\" data-toc-modified-id=\"Gridsearch-XGBoost-Classifier-3.4\"><span class=\"toc-item-num\">3.4&nbsp;&nbsp;</span>Gridsearch XGBoost Classifier</a></span></li><li><span><a href=\"#Display-summary-of-grid-search-for-all-the-models\" data-toc-modified-id=\"Display-summary-of-grid-search-for-all-the-models-3.5\"><span class=\"toc-item-num\">3.5&nbsp;&nbsp;</span>Display summary of grid search for all the models</a></span></li><li><span><a href=\"#Plot-ROC-curve-logistic-regression-classifier\" data-toc-modified-id=\"Plot-ROC-curve-logistic-regression-classifier-3.6\"><span class=\"toc-item-num\">3.6&nbsp;&nbsp;</span>Plot ROC curve logistic regression classifier</a></span></li><li><span><a href=\"#Confusion-Matrix\" data-toc-modified-id=\"Confusion-Matrix-3.7\"><span class=\"toc-item-num\">3.7&nbsp;&nbsp;</span>Confusion Matrix</a></span></li></ul></li><li><span><a href=\"#Adjust-Threshold-as-per-business-usecase\" data-toc-modified-id=\"Adjust-Threshold-as-per-business-usecase-4\"><span class=\"toc-item-num\">4&nbsp;&nbsp;</span><strong>Adjust Threshold as per business usecase</strong></a></span></li><li><span><a href=\"#Save-the-model\" data-toc-modified-id=\"Save-the-model-5\"><span class=\"toc-item-num\">5&nbsp;&nbsp;</span>Save the model</a></span></li><li><span><a href=\"#Read-comments-from-youtube-to-test-model-performance\" data-toc-modified-id=\"Read-comments-from-youtube-to-test-model-performance-6\"><span class=\"toc-item-num\">6&nbsp;&nbsp;</span>Read comments from youtube to test model performance</a></span></li></ul></div>"
   ]
  },
  {
   "cell_type": "code",
   "execution_count": 18,
   "metadata": {},
   "outputs": [],
   "source": [
    "import warnings\n",
    "warnings.filterwarnings(\"ignore\")\n",
    "\n",
    "import pandas as pd\n",
    "import numpy as np\n",
    "\n",
    "import seaborn as sns\n",
    "from matplotlib import pyplot as plt\n",
    "plt.rcParams['figure.figsize']=(15,5)\n",
    "pd.set_option('display.max_columns', 100)\n",
    "\n",
    "import nltk\n",
    "from scipy import stats\n",
    "import re\n",
    "from  scipy.stats import ttest_ind\n",
    "from wordcloud import WordCloud\n",
    "\n",
    "from sklearn.feature_extraction.text import CountVectorizer,TfidfVectorizer\n",
    "from sklearn.naive_bayes import MultinomialNB\n",
    "from sklearn.metrics import classification_report, confusion_matrix, roc_auc_score,roc_curve,fbeta_score,make_scorer\n",
    "from sklearn.linear_model import LogisticRegression\n",
    "from sklearn.svm import SVC\n",
    "from xgboost import XGBClassifier\n",
    "from cf_matrix import make_confusion_matrix\n",
    "\n",
    "from sklearn.ensemble import RandomForestClassifier\n",
    "from sklearn.model_selection import KFold, GridSearchCV, cross_val_score,train_test_split,RandomizedSearchCV\n",
    "from sklearn.pipeline import Pipeline\n",
    "\n",
    "from sklearn.base import BaseEstimator,TransformerMixin\n",
    "\n",
    "import Helper \n",
    "import importlib\n",
    "importlib.reload(Helper);\n",
    "from sklearn.externals import joblib"
   ]
  },
  {
   "cell_type": "markdown",
   "metadata": {},
   "source": [
    "### **Read the data and split into training and test datasets. We will be using the training part to further split into training and validation part. Once we find a good model we will test it's performance on unseen data (test dataset)**"
   ]
  },
  {
   "cell_type": "code",
   "execution_count": 2,
   "metadata": {},
   "outputs": [],
   "source": [
    "data=pd.read_csv('Data/cleanedData.csv')\n",
    "data.dropna(subset=['CleanWordList'],inplace=True)\n",
    "\n",
    "# Meta features\n",
    "cols=['COMMENT_ID','%OfUpperCaseLetters', 'NoOfURL', 'AvgLengthOfEachWord',\n",
    "       '%OfNoOfStopWords', 'NoOfWords', '%OfNoOfUniqueWords',\n",
    "       'AvgSentenceLength', 'TextStandard', 'CleanWordList']\n",
    "\n",
    "X=data.loc[:,cols]\n",
    "y=data['CLASS']\n",
    "\n",
    "X_train, X_test, y_train, y_test = train_test_split(X, y, test_size=.25,stratify=y,random_state=147)"
   ]
  },
  {
   "cell_type": "code",
   "execution_count": 3,
   "metadata": {},
   "outputs": [
    {
     "name": "stdout",
     "output_type": "stream",
     "text": [
      "X_train, X_test, y_train, y_test:  (1429, 10) (477, 10) (1429,) (477,)\n"
     ]
    }
   ],
   "source": [
    "print('X_train, X_test, y_train, y_test: ',X_train.shape, X_test.shape, y_train.shape, y_test.shape)"
   ]
  },
  {
   "cell_type": "markdown",
   "metadata": {},
   "source": [
    "### **Compare CountVectorizer and TfidfVectorizer by passing the document-term-matrix from the two vectorizers through MultinomialNB()**"
   ]
  },
  {
   "cell_type": "markdown",
   "metadata": {},
   "source": [
    "#### **Create a switcher function to call for different estimators to test**\n",
    "\n",
    "Reference: https://stackoverflow.com/questions/50285973/pipeline-multiple-classifiers"
   ]
  },
  {
   "cell_type": "code",
   "execution_count": 4,
   "metadata": {
    "code_folding": [
     0
    ]
   },
   "outputs": [],
   "source": [
    "class ClfSwitcher(BaseEstimator):\n",
    "\n",
    "    def __init__(self, estimator=LogisticRegression(),):\n",
    "        \"\"\"\n",
    "        A Custom BaseEstimator that can switch between classifiers.\n",
    "        :param estimator: sklearn object - The classifier\n",
    "        Default estimator: LogisticRegression()\n",
    "        \"\"\" \n",
    "        self.estimator = estimator\n",
    "\n",
    "    def fit(self, X, y=None, **kwargs):\n",
    "        self.estimator.fit(X, y)\n",
    "        return self\n",
    "\n",
    "    def predict(self, X, y=None):\n",
    "        return self.estimator.predict(X)\n",
    "\n",
    "    def predict_proba(self, X):\n",
    "        return self.estimator.predict_proba(X)"
   ]
  },
  {
   "cell_type": "code",
   "execution_count": 5,
   "metadata": {
    "code_folding": [
     0
    ]
   },
   "outputs": [],
   "source": [
    "class Transfomer(BaseEstimator, TransformerMixin):\n",
    "    \n",
    "    def __init__(self,vectorizer=CountVectorizer()):\n",
    "        self.vectorizer=vectorizer\n",
    "        self.X=X\n",
    "\n",
    "    def fit(self, X, y=None):\n",
    "        \"\"\"\n",
    "        Learn how to transform data based on input data, X.\n",
    "        \"\"\"\n",
    "        return self.vectorizer.fit(X)\n",
    "\n",
    "    def transform(self, X):\n",
    "        \"\"\"\n",
    "        Transform X into a new dataset, Xprime and return it.\n",
    "        \"\"\"\n",
    "        return self.vectorizer.transform(X).toarray()"
   ]
  },
  {
   "cell_type": "markdown",
   "metadata": {},
   "source": [
    "#### Create a pipeline to grid search hyperparameters for CountVectorizer and TF-IDF vectorizer"
   ]
  },
  {
   "cell_type": "code",
   "execution_count": 6,
   "metadata": {
    "code_folding": []
   },
   "outputs": [
    {
     "data": {
      "text/plain": [
       "CountVectorizer(analyzer='word', binary=False, decode_error='strict',\n",
       "                dtype=<class 'numpy.int64'>, encoding='utf-8', input='content',\n",
       "                lowercase=True, max_df=1.0, max_features=None, min_df=0.0001,\n",
       "                ngram_range=(1, 2), preprocessor=None, stop_words=None,\n",
       "                strip_accents=None, token_pattern='(?u)\\\\b\\\\w\\\\w+\\\\b',\n",
       "                tokenizer=None, vocabulary=None)"
      ]
     },
     "execution_count": 6,
     "metadata": {},
     "output_type": "execute_result"
    }
   ],
   "source": [
    "pipe_CompareVectorizer= Pipeline([('vectorizer',Transfomer()),\n",
    "                                  ('clf', ClfSwitcher())\n",
    "                                ])\n",
    "paramGrid_CompareVectorizer=[ {\n",
    "                            'vectorizer__vectorizer':[TfidfVectorizer()],\n",
    "                            'vectorizer__vectorizer__min_df':[0.1,0.01,0.001,0.0001],\n",
    "                            'vectorizer__vectorizer__ngram_range':[(1,2),(1,3)],\n",
    "                            'clf__estimator':[LogisticRegression()]\n",
    "                              },\n",
    "                              {\n",
    "                            'vectorizer__vectorizer':[CountVectorizer()],\n",
    "                            'vectorizer__vectorizer__min_df':[0.1,0.01,0.001,0.0001],\n",
    "                            'vectorizer__vectorizer__ngram_range':[(1,2),(1,3)],\n",
    "                            'clf__estimator':[LogisticRegression()]\n",
    "                              }\n",
    "                            ]\n",
    "\n",
    "cv = KFold(n_splits=5, random_state=42, shuffle=True)\n",
    "\n",
    "# Gridsearch with count vectorizer and TFIDF\n",
    "gs_CompareVectorizer = GridSearchCV(pipe_CompareVectorizer, param_grid=paramGrid_CompareVectorizer,n_jobs=-1,\n",
    "                                    cv=cv, verbose=0,return_train_score=True,scoring='roc_auc')\n",
    "\n",
    "gs_CompareVectorizer.fit(X_train['CleanWordList'],y_train);\n",
    "\n",
    "gs_CompareVectorizer.best_params_['vectorizer__vectorizer']"
   ]
  },
  {
   "cell_type": "markdown",
   "metadata": {},
   "source": [
    "It is interesting to find that CountVectorizer outperformed TF-IDF. The selected value for min_df is 0.0001, i.e 0.01%, and ngram_range=(1,2)."
   ]
  },
  {
   "cell_type": "markdown",
   "metadata": {},
   "source": [
    "#### Findings"
   ]
  },
  {
   "cell_type": "code",
   "execution_count": 7,
   "metadata": {},
   "outputs": [
    {
     "data": {
      "text/html": [
       "<div>\n",
       "<style scoped>\n",
       "    .dataframe tbody tr th:only-of-type {\n",
       "        vertical-align: middle;\n",
       "    }\n",
       "\n",
       "    .dataframe tbody tr th {\n",
       "        vertical-align: top;\n",
       "    }\n",
       "\n",
       "    .dataframe thead th {\n",
       "        text-align: right;\n",
       "    }\n",
       "</style>\n",
       "<table border=\"1\" class=\"dataframe\">\n",
       "  <thead>\n",
       "    <tr style=\"text-align: right;\">\n",
       "      <th></th>\n",
       "      <th>ROC_AUC_SCORE</th>\n",
       "      <th>Estimator</th>\n",
       "      <th>Vectorizer</th>\n",
       "      <th>min_df</th>\n",
       "      <th>ngram_range</th>\n",
       "    </tr>\n",
       "  </thead>\n",
       "  <tbody>\n",
       "    <tr>\n",
       "      <th>0</th>\n",
       "      <td>0.999597</td>\n",
       "      <td>LogisticRegression</td>\n",
       "      <td>CountVectorizer</td>\n",
       "      <td>0.0001</td>\n",
       "      <td>(1, 3)</td>\n",
       "    </tr>\n",
       "    <tr>\n",
       "      <th>1</th>\n",
       "      <td>0.999510</td>\n",
       "      <td>LogisticRegression</td>\n",
       "      <td>CountVectorizer</td>\n",
       "      <td>0.0001</td>\n",
       "      <td>(1, 2)</td>\n",
       "    </tr>\n",
       "    <tr>\n",
       "      <th>2</th>\n",
       "      <td>0.997623</td>\n",
       "      <td>LogisticRegression</td>\n",
       "      <td>TfidfVectorizer</td>\n",
       "      <td>0.0001</td>\n",
       "      <td>(1, 3)</td>\n",
       "    </tr>\n",
       "    <tr>\n",
       "      <th>3</th>\n",
       "      <td>0.996923</td>\n",
       "      <td>LogisticRegression</td>\n",
       "      <td>TfidfVectorizer</td>\n",
       "      <td>0.0001</td>\n",
       "      <td>(1, 2)</td>\n",
       "    </tr>\n",
       "    <tr>\n",
       "      <th>4</th>\n",
       "      <td>0.996856</td>\n",
       "      <td>LogisticRegression</td>\n",
       "      <td>CountVectorizer</td>\n",
       "      <td>0.0010</td>\n",
       "      <td>(1, 3)</td>\n",
       "    </tr>\n",
       "  </tbody>\n",
       "</table>\n",
       "</div>"
      ],
      "text/plain": [
       "   ROC_AUC_SCORE           Estimator       Vectorizer  min_df ngram_range\n",
       "0       0.999597  LogisticRegression  CountVectorizer  0.0001      (1, 3)\n",
       "1       0.999510  LogisticRegression  CountVectorizer  0.0001      (1, 2)\n",
       "2       0.997623  LogisticRegression  TfidfVectorizer  0.0001      (1, 3)\n",
       "3       0.996923  LogisticRegression  TfidfVectorizer  0.0001      (1, 2)\n",
       "4       0.996856  LogisticRegression  CountVectorizer  0.0010      (1, 3)"
      ]
     },
     "execution_count": 7,
     "metadata": {},
     "output_type": "execute_result"
    }
   ],
   "source": [
    "# List of all the combinations tried in grid search in descinding order of ROC_AUC_Score.\n",
    "\n",
    "compareVectorizer=pd.DataFrame(gs_CompareVectorizer.cv_results_['params'],\n",
    "                  gs_CompareVectorizer.cv_results_['mean_train_score']).reset_index()\n",
    "compareVectorizer['clf__estimator']=pd.DataFrame(gs_CompareVectorizer.cv_results_['params'])['clf__estimator'].apply(lambda x: str(x).split('(')[0])\n",
    "compareVectorizer['vectorizer__vectorizer']=pd.DataFrame(gs_CompareVectorizer.cv_results_['params'])['vectorizer__vectorizer'].apply(lambda x: str(x).split('(')[0])\n",
    "\n",
    "compareVectorizer.rename(columns={'index':'ROC_AUC_SCORE',\n",
    "                    'clf__estimator':'Estimator',\n",
    "                    'vectorizer__vectorizer':'Vectorizer',\n",
    "                    'vectorizer__vectorizer__min_df':'min_df',\n",
    "                    'vectorizer__vectorizer__ngram_range':'ngram_range'},inplace=True)\n",
    "compareVectorizer.sort_values(by=['ROC_AUC_SCORE'],ascending=False,inplace=True)\n",
    "compareVectorizer.reset_index(inplace=True,drop=True)\n",
    "compareVectorizer.head()"
   ]
  },
  {
   "cell_type": "markdown",
   "metadata": {},
   "source": [
    "Here CountVectorizer with min_df=0.0001 and ngram_range=(1,3) has performed the best. CountVectorizer with same min_df and ngram_range=(1,2) is second on the list by a very small margin. "
   ]
  },
  {
   "cell_type": "markdown",
   "metadata": {},
   "source": [
    "Best score is different than the top score from above table????\n"
   ]
  },
  {
   "cell_type": "code",
   "execution_count": 8,
   "metadata": {},
   "outputs": [
    {
     "data": {
      "text/plain": [
       "0.9677867398501159"
      ]
     },
     "execution_count": 8,
     "metadata": {},
     "output_type": "execute_result"
    }
   ],
   "source": [
    "gs_CompareVectorizer.best_score_"
   ]
  },
  {
   "cell_type": "code",
   "execution_count": 9,
   "metadata": {},
   "outputs": [
    {
     "data": {
      "text/plain": [
       "Transfomer(vectorizer=CountVectorizer(analyzer='word', binary=False,\n",
       "                                      decode_error='strict',\n",
       "                                      dtype=<class 'numpy.int64'>,\n",
       "                                      encoding='utf-8', input='content',\n",
       "                                      lowercase=True, max_df=1.0,\n",
       "                                      max_features=None, min_df=0.0001,\n",
       "                                      ngram_range=(1, 2), preprocessor=None,\n",
       "                                      stop_words=None, strip_accents=None,\n",
       "                                      token_pattern='(?u)\\\\b\\\\w\\\\w+\\\\b',\n",
       "                                      tokenizer=None, vocabulary=None))"
      ]
     },
     "execution_count": 9,
     "metadata": {},
     "output_type": "execute_result"
    }
   ],
   "source": [
    "bestVectorizer=gs_CompareVectorizer.best_estimator_['vectorizer']\n",
    "bestVectorizer"
   ]
  },
  {
   "cell_type": "markdown",
   "metadata": {},
   "source": [
    "###  **Using vectorizer selected above, create pipeline, and perform grid search to find best estimator and best parameters.**"
   ]
  },
  {
   "cell_type": "markdown",
   "metadata": {},
   "source": [
    "#### Gridsearch Logistic Regression Classifier"
   ]
  },
  {
   "cell_type": "code",
   "execution_count": 10,
   "metadata": {},
   "outputs": [
    {
     "name": "stdout",
     "output_type": "stream",
     "text": [
      " Best param:  {'clf__C': 2} \n",
      " Best Score:  0.9638167270770006\n"
     ]
    }
   ],
   "source": [
    "classifier=LogisticRegression()\n",
    "param_grid={'clf__C':(0.1,0.5,1,1.5,2,20,50,100,500)}\n",
    "\n",
    "gs=Helper.gridSearch()\n",
    "lr_gridSearch=gs.gridSearchEstimator(X_train, y_train,n_splits=2,vectorizer=bestVectorizer,\n",
    "                                     clf=classifier, param_grid=param_grid);"
   ]
  },
  {
   "cell_type": "markdown",
   "metadata": {},
   "source": [
    " #### Gridsearch Multinomial Naive Bayes Classifier"
   ]
  },
  {
   "cell_type": "code",
   "execution_count": 11,
   "metadata": {},
   "outputs": [
    {
     "name": "stdout",
     "output_type": "stream",
     "text": [
      " Best param:  {'clf__fit_prior': True, 'clf__alpha': 1} \n",
      " Best Score:  0.9606884012875443\n"
     ]
    }
   ],
   "source": [
    "classifier=MultinomialNB()\n",
    "param_grid={'clf__alpha':(0,0.1,0.5,1,2,20,100),\n",
    "            'clf__fit_prior':(True,False)}\n",
    "\n",
    "\n",
    "mn_gridSearch=gs.gridSearchEstimator(X_train, y_train,n_splits=5, vectorizer=bestVectorizer, \n",
    "              clf=classifier, param_grid=param_grid);"
   ]
  },
  {
   "cell_type": "markdown",
   "metadata": {},
   "source": [
    "#### Gridsearch Random Forest Classifier"
   ]
  },
  {
   "cell_type": "code",
   "execution_count": 12,
   "metadata": {},
   "outputs": [
    {
     "name": "stdout",
     "output_type": "stream",
     "text": [
      " Best param:  {'clf__n_estimators': 2000, 'clf__max_depth': 50} \n",
      " Best Score:  0.9686451051610115\n"
     ]
    }
   ],
   "source": [
    "classifier=RandomForestClassifier()\n",
    "param_grid={'clf__n_estimators':(10,50,100,500,1000,1500,2000),\n",
    "            'clf__max_depth':(2,5,10,50,100)}\n",
    "\n",
    "\n",
    "rf_gridSearch=gs.gridSearchEstimator(X_train, y_train,n_splits=5, vectorizer=bestVectorizer, \n",
    "              clf=classifier, param_grid=param_grid);"
   ]
  },
  {
   "cell_type": "markdown",
   "metadata": {},
   "source": [
    "#### Gridsearch XGBoost Classifier"
   ]
  },
  {
   "cell_type": "code",
   "execution_count": 13,
   "metadata": {},
   "outputs": [
    {
     "name": "stdout",
     "output_type": "stream",
     "text": [
      " Best param:  {'clf__n_estimators': 10, 'clf__max_depth': 2} \n",
      " Best Score:  0.49995683470128605\n"
     ]
    }
   ],
   "source": [
    "classifier=XGBClassifier()\n",
    "# param_grid={'clf__n_estimators':(10,50,100,500,1000),\n",
    "#             'clf__max_depth':(2,5,10,50,100,500,1000)}\n",
    "\n",
    "param_grid={'clf__n_estimators':(10,20),\n",
    "            'clf__max_depth':(2,5)}\n",
    "\n",
    "xgb_gridSearch=gs.gridSearchEstimator(X_train, y_train,n_splits=2, vectorizer=bestVectorizer,\n",
    "              clf=classifier, param_grid=param_grid);"
   ]
  },
  {
   "cell_type": "markdown",
   "metadata": {},
   "source": [
    "#### Display summary of grid search for all the models"
   ]
  },
  {
   "cell_type": "code",
   "execution_count": 14,
   "metadata": {
    "code_folding": []
   },
   "outputs": [
    {
     "data": {
      "text/html": [
       "<style  type=\"text/css\" >\n",
       "    #T_a935c9a8_fedb_11ea_ab39_30e37a590e6frow0_col1 {\n",
       "            background-color:  yellow;\n",
       "        }</style><table id=\"T_a935c9a8_fedb_11ea_ab39_30e37a590e6f\" ><thead>    <tr>        <th class=\"blank level0\" ></th>        <th class=\"col_heading level0 col0\" >Best Params</th>        <th class=\"col_heading level0 col1\" >Best ROC_AUC Score</th>    </tr></thead><tbody>\n",
       "                <tr>\n",
       "                        <th id=\"T_a935c9a8_fedb_11ea_ab39_30e37a590e6flevel0_row0\" class=\"row_heading level0 row0\" >Random Forest</th>\n",
       "                        <td id=\"T_a935c9a8_fedb_11ea_ab39_30e37a590e6frow0_col0\" class=\"data row0 col0\" >{'clf__n_estimators': 2000, 'clf__max_depth': 50}</td>\n",
       "                        <td id=\"T_a935c9a8_fedb_11ea_ab39_30e37a590e6frow0_col1\" class=\"data row0 col1\" >0.968645</td>\n",
       "            </tr>\n",
       "            <tr>\n",
       "                        <th id=\"T_a935c9a8_fedb_11ea_ab39_30e37a590e6flevel0_row1\" class=\"row_heading level0 row1\" >Logistic Regression</th>\n",
       "                        <td id=\"T_a935c9a8_fedb_11ea_ab39_30e37a590e6frow1_col0\" class=\"data row1 col0\" >{'clf__C': 2}</td>\n",
       "                        <td id=\"T_a935c9a8_fedb_11ea_ab39_30e37a590e6frow1_col1\" class=\"data row1 col1\" >0.963817</td>\n",
       "            </tr>\n",
       "            <tr>\n",
       "                        <th id=\"T_a935c9a8_fedb_11ea_ab39_30e37a590e6flevel0_row2\" class=\"row_heading level0 row2\" >Multinomial Naive Bayes</th>\n",
       "                        <td id=\"T_a935c9a8_fedb_11ea_ab39_30e37a590e6frow2_col0\" class=\"data row2 col0\" >{'clf__fit_prior': True, 'clf__alpha': 1}</td>\n",
       "                        <td id=\"T_a935c9a8_fedb_11ea_ab39_30e37a590e6frow2_col1\" class=\"data row2 col1\" >0.960688</td>\n",
       "            </tr>\n",
       "            <tr>\n",
       "                        <th id=\"T_a935c9a8_fedb_11ea_ab39_30e37a590e6flevel0_row3\" class=\"row_heading level0 row3\" >XGBoost</th>\n",
       "                        <td id=\"T_a935c9a8_fedb_11ea_ab39_30e37a590e6frow3_col0\" class=\"data row3 col0\" >{'clf__n_estimators': 10, 'clf__max_depth': 2}</td>\n",
       "                        <td id=\"T_a935c9a8_fedb_11ea_ab39_30e37a590e6frow3_col1\" class=\"data row3 col1\" >0.499957</td>\n",
       "            </tr>\n",
       "    </tbody></table>"
      ],
      "text/plain": [
       "<pandas.io.formats.style.Styler at 0x220440f9b00>"
      ]
     },
     "execution_count": 14,
     "metadata": {},
     "output_type": "execute_result"
    }
   ],
   "source": [
    "compareEstimator_df=pd.DataFrame(data={'Logistic Regression':[lr_gridSearch[0],lr_gridSearch[1]],\n",
    " 'Multinomial Naive Bayes':[mn_gridSearch[0],mn_gridSearch[1]],\n",
    " 'Random Forest':[rf_gridSearch[0],rf_gridSearch[1]],\n",
    " 'XGBoost':[xgb_gridSearch[0],xgb_gridSearch[1]]},index=['Best Params','Best ROC_AUC Score']).transpose()\n",
    "\n",
    "compareEstimator_df.sort_values(by='Best ROC_AUC Score',ascending=False,inplace=True)\n",
    "\n",
    "compareEstimator_df.style.highlight_max(axis=0,subset=['Best ROC_AUC Score'])"
   ]
  },
  {
   "cell_type": "markdown",
   "metadata": {},
   "source": [
    "Logistic regression has the highest ROC_AUC score with C=2."
   ]
  },
  {
   "cell_type": "markdown",
   "metadata": {},
   "source": [
    "#### Plot ROC curve logistic regression classifier"
   ]
  },
  {
   "cell_type": "code",
   "execution_count": 15,
   "metadata": {},
   "outputs": [
    {
     "data": {
      "image/png": "[encoded data removed]",
      "text/plain": [
       "<Figure size 432x288 with 1 Axes>"
      ]
     },
     "metadata": {
      "needs_background": "light"
     },
     "output_type": "display_data"
    }
   ],
   "source": [
    "Helper.plot_Roc_Curve(lr_gridSearch[2],X_test,y_test);"
   ]
  },
  {
   "cell_type": "markdown",
   "metadata": {},
   "source": [
    "#### Confusion Matrix"
   ]
  },
  {
   "cell_type": "code",
   "execution_count": 16,
   "metadata": {},
   "outputs": [
    {
     "data": {
      "image/png": "[encoded data removed]",
      "text/plain": [
       "<Figure size 1080x360 with 2 Axes>"
      ]
     },
     "metadata": {
      "needs_background": "light"
     },
     "output_type": "display_data"
    }
   ],
   "source": [
    "import cf_matrix\n",
    "# Reference: https://medium.com/@dtuk81/confusion-matrix-visualization-fc31e3f30fea\n",
    "# https://github.com/DTrimarchi10/confusion_matrix/blob/master/cf_matrix.py\n",
    "\n",
    "labels = ['True Neg \\n','False Pos \\n','False Neg \\n','True Pos \\n']\n",
    "\n",
    "cm=confusion_matrix(y_test,lr_gridSearch[2].predict(X_test['CleanWordList']))\n",
    "\n",
    "cf_matrix.make_confusion_matrix(cm,figsize=(15,5),categories=['Ham','Spam'],\n",
    "                                title='Confusion Matrix \\n',group_names=labels)"
   ]
  },
  {
   "cell_type": "markdown",
   "metadata": {},
   "source": [
    "### **Adjust Threshold as per business usecase**"
   ]
  },
  {
   "cell_type": "markdown",
   "metadata": {},
   "source": [
    "The default threshold for the model is 0.5, i.e any document having predict_proba <0.5 is classified as Ham and Spam otherwise.  Using 0.5 as threshold, the current model has 1.68% False Positive,i.e. 1.68% of total comments were misclassified as Spam when actually they were non-spam comments. Whereas, 5.45% of total comments are classified as Ham when they were actually spam. \n"
   ]
  },
  {
   "cell_type": "markdown",
   "metadata": {},
   "source": [
    "The level of tolerance of False-Positives and False-Negative varies from case to case. \n",
    "There are 3 important metrics which are calculated from values of true-pos, false-pos,true-neg and false-neg. \n",
    "\n",
    "- Precision: Out of all the comments flagged as Spam, what fraction are actually spam.\n",
    "- Recall: Out of all the spam comments, what fraction got flagged as spam. \n",
    "- F1 Score: It combines the first two metrics using harmonic mean. It gives equal weightage to precision and recall.\n",
    "\n",
    "\n",
    "Precision is a good measure to determine when the costs of False Positives are high. For instance, email spam detection. In email spam detection, a false positive means that an email that is non-spam (actual negative) has been identified as spam (predicted spam). The email user might lose important emails if the precision is not high for the spam detection model. On the other hand, in case of cancerous cell detection problems the opposite is true. The goal in this case will be to have the lowest possible False-Negatives (Cancerous cell mis-classified as non-cancerous). An increase in False-Positive will be acceptable in this case if it helps reduce no. of False-Negatives.\n",
    "\n",
    "\n",
    "F1 Score is a better measure to use if we are seeking a balance between precision and recall and there is an imbalanced class distribution. For this project, I am more inclined to achieve better precision than recall. I used the FBeta score as it allows to adjust the value of beta to give more weight to precision or recall. Beta < 1 gives more weight to precision, while beta > 1 favors recall.\n",
    "\n",
    "\n",
    "I searched for the optimal value of beta for a number of thresholds.\n"
   ]
  },
  {
   "cell_type": "code",
   "execution_count": 17,
   "metadata": {},
   "outputs": [
    {
     "ename": "TypeError",
     "evalue": "predictNewThreshold() missing 1 required positional argument: 'self'",
     "output_type": "error",
     "traceback": [
      "\u001b[1;31m---------------------------------------------------------------------------\u001b[0m",
      "\u001b[1;31mTypeError\u001b[0m                                 Traceback (most recent call last)",
      "\u001b[1;32m<ipython-input-17-425f17f03c3b>\u001b[0m in \u001b[0;36m<module>\u001b[1;34m\u001b[0m\n\u001b[0;32m      1\u001b[0m \u001b[0mpredict_proba\u001b[0m\u001b[1;33m=\u001b[0m\u001b[0mlr_gridSearch\u001b[0m\u001b[1;33m[\u001b[0m\u001b[1;36m2\u001b[0m\u001b[1;33m]\u001b[0m\u001b[1;33m.\u001b[0m\u001b[0mpredict_proba\u001b[0m\u001b[1;33m(\u001b[0m\u001b[0mX_test\u001b[0m\u001b[1;33m[\u001b[0m\u001b[1;34m'CleanWordList'\u001b[0m\u001b[1;33m]\u001b[0m\u001b[1;33m)\u001b[0m\u001b[1;33m[\u001b[0m\u001b[1;33m:\u001b[0m\u001b[1;33m,\u001b[0m\u001b[1;36m1\u001b[0m\u001b[1;33m]\u001b[0m\u001b[1;33m\u001b[0m\u001b[1;33m\u001b[0m\u001b[0m\n\u001b[1;32m----> 2\u001b[1;33m \u001b[0mcm\u001b[0m\u001b[1;33m=\u001b[0m\u001b[0mconfusion_matrix\u001b[0m\u001b[1;33m(\u001b[0m\u001b[0my_test\u001b[0m\u001b[1;33m,\u001b[0m\u001b[0mHelper\u001b[0m\u001b[1;33m.\u001b[0m\u001b[0manalysisHelper\u001b[0m\u001b[1;33m.\u001b[0m\u001b[0mpredictNewThreshold\u001b[0m\u001b[1;33m(\u001b[0m\u001b[0mpredict_proba\u001b[0m\u001b[1;33m=\u001b[0m\u001b[0mpredict_proba\u001b[0m\u001b[1;33m,\u001b[0m\u001b[0mthreshold\u001b[0m\u001b[1;33m=\u001b[0m\u001b[1;36m0.6\u001b[0m\u001b[1;33m)\u001b[0m\u001b[1;33m)\u001b[0m\u001b[1;33m\u001b[0m\u001b[1;33m\u001b[0m\u001b[0m\n\u001b[0m\u001b[0;32m      3\u001b[0m \u001b[1;33m\u001b[0m\u001b[0m\n\u001b[0;32m      4\u001b[0m cf_matrix.make_confusion_matrix(cm,figsize=(15,5),categories=['Ham','Spam'],\n\u001b[0;32m      5\u001b[0m                                 title='Confusion Matrix \\n',group_names=labels)\n",
      "\u001b[1;31mTypeError\u001b[0m: predictNewThreshold() missing 1 required positional argument: 'self'"
     ]
    }
   ],
   "source": [
    "predict_proba=lr_gridSearch[2].predict_proba(X_test['CleanWordList'])[:,1]\n",
    "cm=confusion_matrix(y_test,Helper.analysisHelper.predictNewThreshold(predict_proba=predict_proba,threshold=0.6))\n",
    "\n",
    "cf_matrix.make_confusion_matrix(cm,figsize=(15,5),categories=['Ham','Spam'],\n",
    "                                title='Confusion Matrix \\n',group_names=labels)"
   ]
  },
  {
   "cell_type": "code",
   "execution_count": null,
   "metadata": {},
   "outputs": [],
   "source": [
    "ah=Helper.analysisHelper()\n",
    "\n",
    "betaValues=[0.4,0.5,0.6,0.7,0.8,0.9,0.99]\n",
    "beta=[]\n",
    "threshold=[]\n",
    "FbetaScore=[]\n",
    "for betaValue in betaValues:\n",
    "    a,b,c= ah.plotThresholdvsMetric_adjustedBeta(gs=lr_gridSearch[2],X_test=X_test,y_test=y_test,\n",
    "                                      beta=betaValue,isChart=False)\n",
    "    beta.append(a)\n",
    "    threshold.append(b)\n",
    "    FbetaScore.append(c)\n",
    "    "
   ]
  },
  {
   "cell_type": "code",
   "execution_count": null,
   "metadata": {},
   "outputs": [],
   "source": [
    "pd.DataFrame(data={'Beta':beta,'Threshold':threshold,'Fbeta Score':FbetaScore}).\\\n",
    "             style.highlight_max(subset=['Fbeta Score'])\n",
    "   "
   ]
  },
  {
   "cell_type": "code",
   "execution_count": null,
   "metadata": {},
   "outputs": [],
   "source": [
    "ah.plotThresholdvsMetric_adjustedBeta(gs=lr_gridSearch[2],X_test=X_test,y_test=y_test,\n",
    "                                      beta=0.4,isChart=True)"
   ]
  },
  {
   "cell_type": "markdown",
   "metadata": {},
   "source": [
    "**Check confusion matrix with threshold=0.6**"
   ]
  },
  {
   "cell_type": "code",
   "execution_count": null,
   "metadata": {},
   "outputs": [],
   "source": [
    "cm=confusion_matrix(y_test,ah.predictNewThreshold(predict_proba,0.6))\n",
    "cf_matrix.make_confusion_matrix(cm,figsize=(15,5),categories=['Ham','Spam'],\n",
    "                                title='Confusion Matrix \\n',group_names=labels)"
   ]
  },
  {
   "cell_type": "code",
   "execution_count": null,
   "metadata": {},
   "outputs": [],
   "source": [
    "predict_proba=lr_gridSearch[2].predict_proba(X_test['CleanWordList'])[:,1]\n",
    "print(classification_report(y_test,ah.predictNewThreshold(predict_proba,0.6)))"
   ]
  },
  {
   "cell_type": "markdown",
   "metadata": {},
   "source": [
    "### Save the model"
   ]
  },
  {
   "cell_type": "code",
   "execution_count": 22,
   "metadata": {},
   "outputs": [
    {
     "data": {
      "text/plain": [
       "['youtubeCommentClassifier_pipeline.joblib']"
      ]
     },
     "execution_count": 22,
     "metadata": {},
     "output_type": "execute_result"
    }
   ],
   "source": [
    "joblib.dump(lr_gridSearch, 'youtubeCommentClassifier_pipeline.joblib')"
   ]
  },
  {
   "cell_type": "code",
   "execution_count": 23,
   "metadata": {},
   "outputs": [],
   "source": [
    "clf=joblib.load('youtubeCommentClassifier_pipeline.joblib')"
   ]
  },
  {
   "cell_type": "markdown",
   "metadata": {},
   "source": [
    "### Read comments from youtube to test model performance"
   ]
  },
  {
   "cell_type": "code",
   "execution_count": 41,
   "metadata": {},
   "outputs": [
    {
     "ename": "TypeError",
     "evalue": "read_required_no_of_comments() missing 1 required positional argument: 'self'",
     "output_type": "error",
     "traceback": [
      "\u001b[1;31m---------------------------------------------------------------------------\u001b[0m",
      "\u001b[1;31mTypeError\u001b[0m                                 Traceback (most recent call last)",
      "\u001b[1;32m<ipython-input-41-a9693c4e0f40>\u001b[0m in \u001b[0;36m<module>\u001b[1;34m\u001b[0m\n\u001b[0;32m      3\u001b[0m \u001b[1;32mimport\u001b[0m \u001b[0mYoutubeAPICommentExtractor\u001b[0m \u001b[1;32mas\u001b[0m \u001b[0mapi\u001b[0m\u001b[1;33m\u001b[0m\u001b[1;33m\u001b[0m\u001b[0m\n\u001b[0;32m      4\u001b[0m \u001b[1;33m\u001b[0m\u001b[0m\n\u001b[1;32m----> 5\u001b[1;33m \u001b[0mapi\u001b[0m\u001b[1;33m.\u001b[0m\u001b[0mReadYoutubeComments\u001b[0m\u001b[1;33m.\u001b[0m\u001b[0mread_required_no_of_comments\u001b[0m\u001b[1;33m(\u001b[0m\u001b[0murl\u001b[0m\u001b[1;33m=\u001b[0m\u001b[1;34m'https://www.youtube.com/watch?v=54nu59EZwF8'\u001b[0m\u001b[1;33m,\u001b[0m\u001b[0mrequiredNoOfComments\u001b[0m\u001b[1;33m=\u001b[0m\u001b[1;36m500\u001b[0m\u001b[1;33m)\u001b[0m\u001b[1;33m\u001b[0m\u001b[1;33m\u001b[0m\u001b[0m\n\u001b[0m",
      "\u001b[1;31mTypeError\u001b[0m: read_required_no_of_comments() missing 1 required positional argument: 'self'"
     ]
    }
   ],
   "source": [
    "import importlib\n",
    "importlib.reload(YoutubeAPICommentExtractor) ;\n",
    "import YoutubeAPICommentExtractor as api\n",
    "\n",
    "api.ReadYoutubeComments.read_required_no_of_comments(url='https://www.youtube.com/watch?v=54nu59EZwF8',requiredNoOfComments=500)"
   ]
  },
  {
   "cell_type": "code",
   "execution_count": 42,
   "metadata": {},
   "outputs": [
    {
     "ename": "RefreshError",
     "evalue": "('invalid_grant: Bad Request', '{\\n  \"error\": \"invalid_grant\",\\n  \"error_description\": \"Bad Request\"\\n}')",
     "output_type": "error",
     "traceback": [
      "\u001b[1;31m---------------------------------------------------------------------------\u001b[0m",
      "\u001b[1;31mRefreshError\u001b[0m                              Traceback (most recent call last)",
      "\u001b[1;32m<ipython-input-42-230e0365751e>\u001b[0m in \u001b[0;36m<module>\u001b[1;34m\u001b[0m\n\u001b[1;32m----> 1\u001b[1;33m \u001b[0mapi\u001b[0m\u001b[1;33m.\u001b[0m\u001b[0mread_required_no_of_comments\u001b[0m\u001b[1;33m(\u001b[0m\u001b[0murl\u001b[0m\u001b[1;33m=\u001b[0m\u001b[1;34m'https://www.youtube.com/watch?v=54nu59EZwF8'\u001b[0m\u001b[1;33m,\u001b[0m\u001b[0mrequiredNoOfComments\u001b[0m\u001b[1;33m=\u001b[0m\u001b[1;36m500\u001b[0m\u001b[1;33m)\u001b[0m\u001b[1;33m\u001b[0m\u001b[1;33m\u001b[0m\u001b[0m\n\u001b[0m",
      "\u001b[1;32m~\\Documents\\SpringBoard\\Youtube comments\\YoutubeAPICommentExtractor.py\u001b[0m in \u001b[0;36mread_required_no_of_comments\u001b[1;34m(url, requiredNoOfComments)\u001b[0m\n\u001b[0;32m    139\u001b[0m         \"\"\"\n\u001b[0;32m    140\u001b[0m     \u001b[1;31m# Call service for authentication\u001b[0m\u001b[1;33m\u001b[0m\u001b[1;33m\u001b[0m\u001b[1;33m\u001b[0m\u001b[0m\n\u001b[1;32m--> 141\u001b[1;33m         \u001b[0mservice\u001b[0m \u001b[1;33m=\u001b[0m \u001b[0mget_authenticated_service\u001b[0m\u001b[1;33m(\u001b[0m\u001b[1;33m)\u001b[0m\u001b[1;33m\u001b[0m\u001b[1;33m\u001b[0m\u001b[0m\n\u001b[0m\u001b[0;32m    142\u001b[0m \u001b[1;33m\u001b[0m\u001b[0m\n\u001b[0;32m    143\u001b[0m     \u001b[1;31m# Get Video ID from URL entered\u001b[0m\u001b[1;33m\u001b[0m\u001b[1;33m\u001b[0m\u001b[1;33m\u001b[0m\u001b[0m\n",
      "\u001b[1;32m~\\Documents\\SpringBoard\\Youtube comments\\YoutubeAPICommentExtractor.py\u001b[0m in \u001b[0;36mget_authenticated_service\u001b[1;34m()\u001b[0m\n\u001b[0;32m     40\u001b[0m             \u001b[1;31m# Check if the credentials have expired\u001b[0m\u001b[1;33m\u001b[0m\u001b[1;33m\u001b[0m\u001b[1;33m\u001b[0m\u001b[0m\n\u001b[0;32m     41\u001b[0m             \u001b[1;32mif\u001b[0m \u001b[0mcredentials\u001b[0m \u001b[1;32mand\u001b[0m \u001b[0mcredentials\u001b[0m\u001b[1;33m.\u001b[0m\u001b[0mexpired\u001b[0m \u001b[1;32mand\u001b[0m \u001b[0mcredentials\u001b[0m\u001b[1;33m.\u001b[0m\u001b[0mrefresh_token\u001b[0m\u001b[1;33m:\u001b[0m\u001b[1;33m\u001b[0m\u001b[1;33m\u001b[0m\u001b[0m\n\u001b[1;32m---> 42\u001b[1;33m                 \u001b[0mcredentials\u001b[0m\u001b[1;33m.\u001b[0m\u001b[0mrefresh\u001b[0m\u001b[1;33m(\u001b[0m\u001b[0mRequest\u001b[0m\u001b[1;33m(\u001b[0m\u001b[1;33m)\u001b[0m\u001b[1;33m)\u001b[0m\u001b[1;33m\u001b[0m\u001b[1;33m\u001b[0m\u001b[0m\n\u001b[0m\u001b[0;32m     43\u001b[0m             \u001b[1;32melse\u001b[0m\u001b[1;33m:\u001b[0m\u001b[1;33m\u001b[0m\u001b[1;33m\u001b[0m\u001b[0m\n\u001b[0;32m     44\u001b[0m                 flow = InstalledAppFlow.from_client_secrets_file(\n",
      "\u001b[1;32m~\\Anaconda3\\lib\\site-packages\\google\\oauth2\\credentials.py\u001b[0m in \u001b[0;36mrefresh\u001b[1;34m(self, request)\u001b[0m\n\u001b[0;32m    180\u001b[0m             \u001b[0mself\u001b[0m\u001b[1;33m.\u001b[0m\u001b[0m_client_id\u001b[0m\u001b[1;33m,\u001b[0m\u001b[1;33m\u001b[0m\u001b[1;33m\u001b[0m\u001b[0m\n\u001b[0;32m    181\u001b[0m             \u001b[0mself\u001b[0m\u001b[1;33m.\u001b[0m\u001b[0m_client_secret\u001b[0m\u001b[1;33m,\u001b[0m\u001b[1;33m\u001b[0m\u001b[1;33m\u001b[0m\u001b[0m\n\u001b[1;32m--> 182\u001b[1;33m             \u001b[0mself\u001b[0m\u001b[1;33m.\u001b[0m\u001b[0m_scopes\u001b[0m\u001b[1;33m,\u001b[0m\u001b[1;33m\u001b[0m\u001b[1;33m\u001b[0m\u001b[0m\n\u001b[0m\u001b[0;32m    183\u001b[0m         )\n\u001b[0;32m    184\u001b[0m \u001b[1;33m\u001b[0m\u001b[0m\n",
      "\u001b[1;32m~\\Anaconda3\\lib\\site-packages\\google\\oauth2\\_client.py\u001b[0m in \u001b[0;36mrefresh_grant\u001b[1;34m(request, token_uri, refresh_token, client_id, client_secret, scopes)\u001b[0m\n\u001b[0;32m    246\u001b[0m         \u001b[0mbody\u001b[0m\u001b[1;33m[\u001b[0m\u001b[1;34m\"scope\"\u001b[0m\u001b[1;33m]\u001b[0m \u001b[1;33m=\u001b[0m \u001b[1;34m\" \"\u001b[0m\u001b[1;33m.\u001b[0m\u001b[0mjoin\u001b[0m\u001b[1;33m(\u001b[0m\u001b[0mscopes\u001b[0m\u001b[1;33m)\u001b[0m\u001b[1;33m\u001b[0m\u001b[1;33m\u001b[0m\u001b[0m\n\u001b[0;32m    247\u001b[0m \u001b[1;33m\u001b[0m\u001b[0m\n\u001b[1;32m--> 248\u001b[1;33m     \u001b[0mresponse_data\u001b[0m \u001b[1;33m=\u001b[0m \u001b[0m_token_endpoint_request\u001b[0m\u001b[1;33m(\u001b[0m\u001b[0mrequest\u001b[0m\u001b[1;33m,\u001b[0m \u001b[0mtoken_uri\u001b[0m\u001b[1;33m,\u001b[0m \u001b[0mbody\u001b[0m\u001b[1;33m)\u001b[0m\u001b[1;33m\u001b[0m\u001b[1;33m\u001b[0m\u001b[0m\n\u001b[0m\u001b[0;32m    249\u001b[0m \u001b[1;33m\u001b[0m\u001b[0m\n\u001b[0;32m    250\u001b[0m     \u001b[1;32mtry\u001b[0m\u001b[1;33m:\u001b[0m\u001b[1;33m\u001b[0m\u001b[1;33m\u001b[0m\u001b[0m\n",
      "\u001b[1;32m~\\Anaconda3\\lib\\site-packages\\google\\oauth2\\_client.py\u001b[0m in \u001b[0;36m_token_endpoint_request\u001b[1;34m(request, token_uri, body)\u001b[0m\n\u001b[0;32m    122\u001b[0m                 \u001b[0mretry\u001b[0m \u001b[1;33m+=\u001b[0m \u001b[1;36m1\u001b[0m\u001b[1;33m\u001b[0m\u001b[1;33m\u001b[0m\u001b[0m\n\u001b[0;32m    123\u001b[0m                 \u001b[1;32mcontinue\u001b[0m\u001b[1;33m\u001b[0m\u001b[1;33m\u001b[0m\u001b[0m\n\u001b[1;32m--> 124\u001b[1;33m             \u001b[0m_handle_error_response\u001b[0m\u001b[1;33m(\u001b[0m\u001b[0mresponse_body\u001b[0m\u001b[1;33m)\u001b[0m\u001b[1;33m\u001b[0m\u001b[1;33m\u001b[0m\u001b[0m\n\u001b[0m\u001b[0;32m    125\u001b[0m \u001b[1;33m\u001b[0m\u001b[0m\n\u001b[0;32m    126\u001b[0m     \u001b[1;32mreturn\u001b[0m \u001b[0mresponse_data\u001b[0m\u001b[1;33m\u001b[0m\u001b[1;33m\u001b[0m\u001b[0m\n",
      "\u001b[1;32m~\\Anaconda3\\lib\\site-packages\\google\\oauth2\\_client.py\u001b[0m in \u001b[0;36m_handle_error_response\u001b[1;34m(response_body)\u001b[0m\n\u001b[0;32m     58\u001b[0m         \u001b[0merror_details\u001b[0m \u001b[1;33m=\u001b[0m \u001b[0mresponse_body\u001b[0m\u001b[1;33m\u001b[0m\u001b[1;33m\u001b[0m\u001b[0m\n\u001b[0;32m     59\u001b[0m \u001b[1;33m\u001b[0m\u001b[0m\n\u001b[1;32m---> 60\u001b[1;33m     \u001b[1;32mraise\u001b[0m \u001b[0mexceptions\u001b[0m\u001b[1;33m.\u001b[0m\u001b[0mRefreshError\u001b[0m\u001b[1;33m(\u001b[0m\u001b[0merror_details\u001b[0m\u001b[1;33m,\u001b[0m \u001b[0mresponse_body\u001b[0m\u001b[1;33m)\u001b[0m\u001b[1;33m\u001b[0m\u001b[1;33m\u001b[0m\u001b[0m\n\u001b[0m\u001b[0;32m     61\u001b[0m \u001b[1;33m\u001b[0m\u001b[0m\n\u001b[0;32m     62\u001b[0m \u001b[1;33m\u001b[0m\u001b[0m\n",
      "\u001b[1;31mRefreshError\u001b[0m: ('invalid_grant: Bad Request', '{\\n  \"error\": \"invalid_grant\",\\n  \"error_description\": \"Bad Request\"\\n}')"
     ]
    }
   ],
   "source": [
    "api.read_required_no_of_comments(url='https://www.youtube.com/watch?v=54nu59EZwF8',requiredNoOfComments=500)"
   ]
  },
  {
   "cell_type": "code",
   "execution_count": null,
   "metadata": {},
   "outputs": [],
   "source": []
  },
  {
   "cell_type": "code",
   "execution_count": null,
   "metadata": {},
   "outputs": [],
   "source": []
  },
  {
   "cell_type": "code",
   "execution_count": null,
   "metadata": {},
   "outputs": [],
   "source": []
  },
  {
   "cell_type": "code",
   "execution_count": null,
   "metadata": {},
   "outputs": [],
   "source": []
  },
  {
   "cell_type": "code",
   "execution_count": null,
   "metadata": {},
   "outputs": [],
   "source": []
  },
  {
   "cell_type": "code",
   "execution_count": null,
   "metadata": {},
   "outputs": [],
   "source": []
  },
  {
   "cell_type": "code",
   "execution_count": null,
   "metadata": {},
   "outputs": [],
   "source": []
  },
  {
   "cell_type": "code",
   "execution_count": null,
   "metadata": {},
   "outputs": [],
   "source": []
  },
  {
   "cell_type": "code",
   "execution_count": null,
   "metadata": {},
   "outputs": [],
   "source": []
  },
  {
   "cell_type": "code",
   "execution_count": null,
   "metadata": {},
   "outputs": [],
   "source": []
  },
  {
   "cell_type": "code",
   "execution_count": null,
   "metadata": {},
   "outputs": [],
   "source": []
  },
  {
   "cell_type": "code",
   "execution_count": null,
   "metadata": {},
   "outputs": [],
   "source": []
  },
  {
   "cell_type": "code",
   "execution_count": null,
   "metadata": {},
   "outputs": [],
   "source": []
  },
  {
   "cell_type": "markdown",
   "metadata": {},
   "source": [
    "**Function to vectorize the comments. Convert the term document matrix into pandas dataframe and then add other generated features to this dataframe.**"
   ]
  },
  {
   "cell_type": "code",
   "execution_count": null,
   "metadata": {
    "code_folding": []
   },
   "outputs": [],
   "source": [
    "def create_document_term_matrix(X,vectorizer=gs_CompareVectorizer.best_estimator_['vectorizer']):\n",
    "    \"\"\"\n",
    "    This function take in a dataframe with 'CleanWordList' column and vectorizes\n",
    "    it using the vectorizer which was picked as best in the grid search for Vectorizers \n",
    "    \n",
    "    It return 2 dataframes. First dataframe is a vector representation of text field and \n",
    "    the second dataframe has other engineered feature along with vectorized text\n",
    "    \"\"\"\n",
    "    document_term_matrix = vectorizer.fit_transform(X['CleanWordList']) \n",
    "    colName=vectorizer.get_feature_names()\n",
    "    \n",
    "    X_dtm_df=pd.DataFrame(document_term_matrix.toarray(),columns=colName)\n",
    "    X_dtm_all=pd.concat([X_dtm_df.reset_index(drop=True),\n",
    "                      X.drop(columns=['COMMENT_ID','CleanWordList']).reset_index(drop=True)],\n",
    "                     axis=1,ignore_index=False)\n",
    "\n",
    "\n",
    "    return X_dtm_df,X_dtm_all\n"
   ]
  },
  {
   "cell_type": "code",
   "execution_count": null,
   "metadata": {
    "code_folding": [
     0
    ]
   },
   "outputs": [],
   "source": [
    "def featureImportance(gs,X,y,engineeredFeatures=False,noOfFeatures=5):\n",
    "    \"\"\"\n",
    "    Important features using Random Forest's feature_importances_ parameter.\n",
    "    Set engineeredFeatured to True to include engineered features in calculation\n",
    "    \"\"\"\n",
    "    \n",
    "    X1,X2=create_document_term_matrix(X,gs_CV.estimator.named_steps['vectorizer'])\n",
    "    \n",
    "    if engineeredFeatures==True:\n",
    "        X=X2\n",
    "    else:\n",
    "        X=X1\n",
    "    \n",
    "    #Random Forest is at 2 index in parameters list\n",
    "    clf_rfc=gs.param_grid[2]['clf__estimator'][0].fit(X,y)\n",
    "\n",
    "    impFeatures=clf_rfc.feature_importances_\n",
    "\n",
    "    featureImportance=pd.DataFrame({'Feature Name':X.columns,\n",
    "                                    'Importance':impFeatures})\n",
    "    \n",
    "    featureImportance.sort_values(by='Importance',ascending=False,inplace=True)\n",
    "    \n",
    "    return featureImportance.reset_index(drop=True).head(noOfFeatures)"
   ]
  },
  {
   "cell_type": "code",
   "execution_count": null,
   "metadata": {},
   "outputs": [],
   "source": [
    "# List of most important features with all the features included in\n",
    "featureImportance(gs_TFIDF,X_train,y_train)"
   ]
  },
  {
   "cell_type": "code",
   "execution_count": null,
   "metadata": {},
   "outputs": [],
   "source": [
    "featureImportance(gs_TFIDF,X_train,y_train,engineeredFeatures=True,noOfFeatures=7)"
   ]
  },
  {
   "cell_type": "code",
   "execution_count": null,
   "metadata": {},
   "outputs": [],
   "source": [
    "plot_Roc_Curve(gs_CV,X_test['CleanWordList'],y_test)"
   ]
  },
  {
   "cell_type": "code",
   "execution_count": null,
   "metadata": {},
   "outputs": [],
   "source": [
    "cm=confusion_matrix(y_test,gs.predict(X_test_all))\n",
    "cm"
   ]
  },
  {
   "cell_type": "code",
   "execution_count": null,
   "metadata": {
    "code_folding": []
   },
   "outputs": [],
   "source": [
    "# def plot_confusion_matrix(cm, classes,\n",
    "#                           normalize=False,\n",
    "#                           title='Confusion matrix',\n",
    "#                           cmap=plt.cm.Greens):\n",
    "#     \"\"\"\n",
    "#     This function prints and plots the confusion matrix.\n",
    "#     Normalization can be applied by setting `normalize=True`.\n",
    "#     \"\"\"\n",
    "#     if normalize:\n",
    "#         cm = cm.astype('float') / cm.sum(axis=1)[:, np.newaxis]\n",
    "#         print(\"Normalized confusion matrix\")\n",
    "#     else:\n",
    "#         print('Confusion Matrix, without normalization')\n",
    "\n",
    "#     print(cm)\n",
    "\n",
    "#     plt.imshow(cm, interpolation='nearest', cmap=cmap)\n",
    "#     plt.title(title)\n",
    "#     plt.colorbar()\n",
    "#     tick_marks = np.arange(len(classes))\n",
    "#     plt.xticks(tick_marks, classes, rotation=45)\n",
    "#     plt.yticks(tick_marks, classes)\n",
    "\n",
    "#     fmt = '.2f' if normalize else 'd'\n",
    "#     thresh = cm.max() / 2.\n",
    "#     for i, j in itertools.product(range(cm.shape[0]), range(cm.shape[1])):\n",
    "#         plt.text(j, i, format(cm[i, j], fmt),\n",
    "#                  horizontalalignment=\"center\",\n",
    "#                  color=\"white\" if cm[i, j] > thresh else \"black\")\n",
    "#     plt.tight_layout()\n",
    "#     plt.ylabel('True label')\n",
    "#     plt.xlabel('Predicted label')\n",
    "#     plt.grid(False)\n",
    "\n",
    "# # import itertools\n",
    "# # plot_confusion_matrix(gs,classes=['Spam','Ham'], normalize=False,\n",
    "# #                           title='Confusion matrix')"
   ]
  }
 ],
 "metadata": {
  "kernelspec": {
   "display_name": "Python 3",
   "language": "python",
   "name": "python3"
  },
  "language_info": {
   "codemirror_mode": {
    "name": "ipython",
    "version": 3
   },
   "file_extension": ".py",
   "mimetype": "text/x-python",
   "name": "python",
   "nbconvert_exporter": "python",
   "pygments_lexer": "ipython3",
   "version": "3.7.3"
  },
  "toc": {
   "base_numbering": 1,
   "nav_menu": {},
   "number_sections": true,
   "sideBar": true,
   "skip_h1_title": false,
   "title_cell": "Table of Contents",
   "title_sidebar": "Contents",
   "toc_cell": true,
   "toc_position": {
    "height": "calc(100% - 180px)",
    "left": "10px",
    "top": "150px",
    "width": "214.304px"
   },
   "toc_section_display": true,
   "toc_window_display": false
  }
 },
 "nbformat": 4,
 "nbformat_minor": 2
}
