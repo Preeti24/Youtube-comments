{
 "cells": [
  {
   "cell_type": "code",
   "execution_count": 34,
   "metadata": {},
   "outputs": [],
   "source": [
    "import warnings\n",
    "warnings.filterwarnings(\"ignore\")\n",
    "\n",
    "import pandas as pd\n",
    "import numpy as np\n",
    "\n",
    "import seaborn as sns\n",
    "from matplotlib import pyplot as plt\n",
    "plt.rcParams['figure.figsize']=(15,5)\n",
    "pd.set_option('display.max_columns', 100)\n",
    "\n",
    "import nltk\n",
    "from scipy import stats\n",
    "import re\n",
    "from  scipy.stats import ttest_ind\n",
    "from wordcloud import WordCloud\n",
    "\n",
    "from sklearn.feature_extraction.text import CountVectorizer,TfidfVectorizer\n",
    "from sklearn.naive_bayes import MultinomialNB\n",
    "from sklearn.metrics import classification_report, confusion_matrix, roc_auc_score,roc_curve\n",
    "from sklearn.linear_model import LogisticRegression\n",
    "from sklearn.svm import SVC\n",
    "from xgboost import XGBClassifier\n",
    "\n",
    "\n",
    "from sklearn.ensemble import RandomForestClassifier\n",
    "from sklearn.model_selection import KFold, GridSearchCV, cross_val_score,train_test_split,RandomizedSearchCV\n",
    "from sklearn.pipeline import Pipeline\n",
    "\n",
    "from sklearn.base import BaseEstimator,TransformerMixin"
   ]
  },
  {
   "cell_type": "markdown",
   "metadata": {},
   "source": [
    "### **Read the data and split into training and test datasets. We will be using the training part to further split into training and validation part. Once we find a good model we will test it's performance on unseen data (test dataset)**"
   ]
  },
  {
   "cell_type": "code",
   "execution_count": 2,
   "metadata": {},
   "outputs": [],
   "source": [
    "data=pd.read_csv('Data/cleanedData.csv')\n",
    "data.dropna(subset=['CleanWordList'],inplace=True)\n",
    "\n",
    "# Meta features\n",
    "cols=['COMMENT_ID','%OfUpperCaseLetters', 'NoOfURL', 'AvgLengthOfEachWord',\n",
    "       '%OfNoOfStopWords', 'NoOfWords', '%OfNoOfUniqueWords',\n",
    "       'AvgSentenceLength', 'TextStandard', 'CleanWordList']\n",
    "\n",
    "X=data.loc[:,cols]\n",
    "y=data['CLASS']\n",
    "\n",
    "X_train, X_test, y_train, y_test = train_test_split(X, y, test_size=.30,stratify=y,random_state=147)"
   ]
  },
  {
   "cell_type": "code",
   "execution_count": 3,
   "metadata": {},
   "outputs": [
    {
     "name": "stdout",
     "output_type": "stream",
     "text": [
      "X_train, X_test, y_train, y_test:  (1334, 10) (572, 10) (1334,) (572,)\n"
     ]
    }
   ],
   "source": [
    "print('X_train, X_test, y_train, y_test: ',X_train.shape, X_test.shape, y_train.shape, y_test.shape)"
   ]
  },
  {
   "cell_type": "markdown",
   "metadata": {},
   "source": [
    "### **Compare CountVectorizer and TfidfVectorizer by passing the document-term-matrix from the two vectorizers through MultinomialNB()**"
   ]
  },
  {
   "cell_type": "markdown",
   "metadata": {},
   "source": [
    "#### **Create a switcher function to call for different estimators to test**\n",
    "\n",
    "Reference: https://stackoverflow.com/questions/50285973/pipeline-multiple-classifiers"
   ]
  },
  {
   "cell_type": "code",
   "execution_count": 4,
   "metadata": {
    "code_folding": []
   },
   "outputs": [],
   "source": [
    "class ClfSwitcher(BaseEstimator):\n",
    "\n",
    "    def __init__(self, estimator=LogisticRegression(),):\n",
    "        \"\"\"\n",
    "        A Custom BaseEstimator that can switch between classifiers.\n",
    "        :param estimator: sklearn object - The classifier\n",
    "        Default estimator: LogisticRegression()\n",
    "        \"\"\" \n",
    "        self.estimator = estimator\n",
    "\n",
    "    def fit(self, X, y=None, **kwargs):\n",
    "        self.estimator.fit(X, y)\n",
    "        return self\n",
    "\n",
    "    def predict(self, X, y=None):\n",
    "        return self.estimator.predict(X)\n",
    "\n",
    "    def predict_proba(self, X):\n",
    "        return self.estimator.predict_proba(X)"
   ]
  },
  {
   "cell_type": "code",
   "execution_count": 5,
   "metadata": {},
   "outputs": [],
   "source": [
    "class Transfomer(BaseEstimator, TransformerMixin):\n",
    "    \n",
    "    def __init__(self,vectorizer=CountVectorizer()):\n",
    "        self.vectorizer=vectorizer\n",
    "        self.X=X\n",
    "\n",
    "    def fit(self, X, y=None):\n",
    "        \"\"\"\n",
    "        Learn how to transform data based on input data, X.\n",
    "        \"\"\"\n",
    "        return self.vectorizer.fit(X)\n",
    "\n",
    "    def transform(self, X):\n",
    "        \"\"\"\n",
    "        Transform X into a new dataset, Xprime and return it.\n",
    "        \"\"\"\n",
    "        return self.vectorizer.transform(X).toarray()"
   ]
  },
  {
   "cell_type": "code",
   "execution_count": 6,
   "metadata": {
    "code_folding": []
   },
   "outputs": [],
   "source": [
    "pipe_CompareVectorizer= Pipeline([('vectorizer',Transfomer()),\n",
    "                                  ('clf', ClfSwitcher())\n",
    "                                ])\n",
    "paramGrid_CompareVectorizer=[ {\n",
    "                            'vectorizer__vectorizer':[TfidfVectorizer()],\n",
    "                            'vectorizer__vectorizer__min_df':[0.1,0.01,0.001,0.0001],\n",
    "                            'vectorizer__vectorizer__ngram_range':[(1,2),(1,3)],\n",
    "                            'clf__estimator':[MultinomialNB()]\n",
    "                              },\n",
    "                              {\n",
    "                            'vectorizer__vectorizer':[CountVectorizer()],\n",
    "                            'vectorizer__vectorizer__min_df':[0.1,0.01,0.001,0.0001],\n",
    "                            'vectorizer__vectorizer__ngram_range':[(1,2),(1,3)],\n",
    "                            'clf__estimator':[MultinomialNB()]\n",
    "                              }\n",
    "                            ]"
   ]
  },
  {
   "cell_type": "code",
   "execution_count": 7,
   "metadata": {},
   "outputs": [
    {
     "data": {
      "text/plain": [
       "CountVectorizer(analyzer='word', binary=False, decode_error='strict',\n",
       "                dtype=<class 'numpy.int64'>, encoding='utf-8', input='content',\n",
       "                lowercase=True, max_df=1.0, max_features=None, min_df=0.0001,\n",
       "                ngram_range=(1, 2), preprocessor=None, stop_words=None,\n",
       "                strip_accents=None, token_pattern='(?u)\\\\b\\\\w\\\\w+\\\\b',\n",
       "                tokenizer=None, vocabulary=None)"
      ]
     },
     "execution_count": 7,
     "metadata": {},
     "output_type": "execute_result"
    }
   ],
   "source": [
    "cv = KFold(n_splits=5, random_state=42, shuffle=True)\n",
    "\n",
    "# Gridsearch with count vectorizer and TFIDF\n",
    "gs_CompareVectorizer = GridSearchCV(pipe_CompareVectorizer, param_grid=paramGrid_CompareVectorizer,n_jobs=-1,\n",
    "                                    cv=cv, verbose=0,return_train_score=True,scoring='roc_auc')\n",
    "\n",
    "gs_CompareVectorizer.fit(X_train['CleanWordList'],y_train);\n",
    "\n",
    "\n",
    "gs_CompareVectorizer.best_params_['vectorizer__vectorizer']"
   ]
  },
  {
   "cell_type": "code",
   "execution_count": 8,
   "metadata": {},
   "outputs": [],
   "source": [
    "compareVectorizer=pd.DataFrame(gs_CompareVectorizer.cv_results_['params'],\n",
    "                  gs_CompareVectorizer.cv_results_['mean_train_score']).reset_index()\n",
    "compareVectorizer['clf__estimator']=pd.DataFrame(gs_CompareVectorizer.cv_results_['params'])['clf__estimator'].apply(lambda x: str(x).split('(')[0])\n",
    "compareVectorizer['vectorizer__vectorizer']=pd.DataFrame(gs_CompareVectorizer.cv_results_['params'])['vectorizer__vectorizer'].apply(lambda x: str(x).split('(')[0])"
   ]
  },
  {
   "cell_type": "code",
   "execution_count": 9,
   "metadata": {},
   "outputs": [
    {
     "data": {
      "text/html": [
       "<div>\n",
       "<style scoped>\n",
       "    .dataframe tbody tr th:only-of-type {\n",
       "        vertical-align: middle;\n",
       "    }\n",
       "\n",
       "    .dataframe tbody tr th {\n",
       "        vertical-align: top;\n",
       "    }\n",
       "\n",
       "    .dataframe thead th {\n",
       "        text-align: right;\n",
       "    }\n",
       "</style>\n",
       "<table border=\"1\" class=\"dataframe\">\n",
       "  <thead>\n",
       "    <tr style=\"text-align: right;\">\n",
       "      <th></th>\n",
       "      <th>ROC_AUC_SCORE</th>\n",
       "      <th>Estimator</th>\n",
       "      <th>Vectorizer</th>\n",
       "      <th>min_df</th>\n",
       "      <th>ngram_range</th>\n",
       "    </tr>\n",
       "  </thead>\n",
       "  <tbody>\n",
       "    <tr>\n",
       "      <th>0</th>\n",
       "      <td>0.997874</td>\n",
       "      <td>MultinomialNB</td>\n",
       "      <td>TfidfVectorizer</td>\n",
       "      <td>0.0001</td>\n",
       "      <td>(1, 3)</td>\n",
       "    </tr>\n",
       "    <tr>\n",
       "      <th>1</th>\n",
       "      <td>0.997486</td>\n",
       "      <td>MultinomialNB</td>\n",
       "      <td>CountVectorizer</td>\n",
       "      <td>0.0001</td>\n",
       "      <td>(1, 3)</td>\n",
       "    </tr>\n",
       "    <tr>\n",
       "      <th>2</th>\n",
       "      <td>0.996941</td>\n",
       "      <td>MultinomialNB</td>\n",
       "      <td>TfidfVectorizer</td>\n",
       "      <td>0.0001</td>\n",
       "      <td>(1, 2)</td>\n",
       "    </tr>\n",
       "    <tr>\n",
       "      <th>3</th>\n",
       "      <td>0.995843</td>\n",
       "      <td>MultinomialNB</td>\n",
       "      <td>CountVectorizer</td>\n",
       "      <td>0.0001</td>\n",
       "      <td>(1, 2)</td>\n",
       "    </tr>\n",
       "    <tr>\n",
       "      <th>4</th>\n",
       "      <td>0.985767</td>\n",
       "      <td>MultinomialNB</td>\n",
       "      <td>TfidfVectorizer</td>\n",
       "      <td>0.0010</td>\n",
       "      <td>(1, 3)</td>\n",
       "    </tr>\n",
       "    <tr>\n",
       "      <th>5</th>\n",
       "      <td>0.985718</td>\n",
       "      <td>MultinomialNB</td>\n",
       "      <td>TfidfVectorizer</td>\n",
       "      <td>0.0010</td>\n",
       "      <td>(1, 2)</td>\n",
       "    </tr>\n",
       "    <tr>\n",
       "      <th>6</th>\n",
       "      <td>0.976036</td>\n",
       "      <td>MultinomialNB</td>\n",
       "      <td>CountVectorizer</td>\n",
       "      <td>0.0010</td>\n",
       "      <td>(1, 2)</td>\n",
       "    </tr>\n",
       "    <tr>\n",
       "      <th>7</th>\n",
       "      <td>0.972663</td>\n",
       "      <td>MultinomialNB</td>\n",
       "      <td>CountVectorizer</td>\n",
       "      <td>0.0010</td>\n",
       "      <td>(1, 3)</td>\n",
       "    </tr>\n",
       "    <tr>\n",
       "      <th>8</th>\n",
       "      <td>0.957977</td>\n",
       "      <td>MultinomialNB</td>\n",
       "      <td>TfidfVectorizer</td>\n",
       "      <td>0.0100</td>\n",
       "      <td>(1, 2)</td>\n",
       "    </tr>\n",
       "    <tr>\n",
       "      <th>9</th>\n",
       "      <td>0.957009</td>\n",
       "      <td>MultinomialNB</td>\n",
       "      <td>TfidfVectorizer</td>\n",
       "      <td>0.0100</td>\n",
       "      <td>(1, 3)</td>\n",
       "    </tr>\n",
       "    <tr>\n",
       "      <th>10</th>\n",
       "      <td>0.952274</td>\n",
       "      <td>MultinomialNB</td>\n",
       "      <td>CountVectorizer</td>\n",
       "      <td>0.0100</td>\n",
       "      <td>(1, 2)</td>\n",
       "    </tr>\n",
       "    <tr>\n",
       "      <th>11</th>\n",
       "      <td>0.950258</td>\n",
       "      <td>MultinomialNB</td>\n",
       "      <td>CountVectorizer</td>\n",
       "      <td>0.0100</td>\n",
       "      <td>(1, 3)</td>\n",
       "    </tr>\n",
       "    <tr>\n",
       "      <th>12</th>\n",
       "      <td>0.816641</td>\n",
       "      <td>MultinomialNB</td>\n",
       "      <td>CountVectorizer</td>\n",
       "      <td>0.1000</td>\n",
       "      <td>(1, 2)</td>\n",
       "    </tr>\n",
       "    <tr>\n",
       "      <th>13</th>\n",
       "      <td>0.816641</td>\n",
       "      <td>MultinomialNB</td>\n",
       "      <td>CountVectorizer</td>\n",
       "      <td>0.1000</td>\n",
       "      <td>(1, 3)</td>\n",
       "    </tr>\n",
       "    <tr>\n",
       "      <th>14</th>\n",
       "      <td>0.805560</td>\n",
       "      <td>MultinomialNB</td>\n",
       "      <td>TfidfVectorizer</td>\n",
       "      <td>0.1000</td>\n",
       "      <td>(1, 2)</td>\n",
       "    </tr>\n",
       "    <tr>\n",
       "      <th>15</th>\n",
       "      <td>0.805560</td>\n",
       "      <td>MultinomialNB</td>\n",
       "      <td>TfidfVectorizer</td>\n",
       "      <td>0.1000</td>\n",
       "      <td>(1, 3)</td>\n",
       "    </tr>\n",
       "  </tbody>\n",
       "</table>\n",
       "</div>"
      ],
      "text/plain": [
       "    ROC_AUC_SCORE      Estimator       Vectorizer  min_df ngram_range\n",
       "0        0.997874  MultinomialNB  TfidfVectorizer  0.0001      (1, 3)\n",
       "1        0.997486  MultinomialNB  CountVectorizer  0.0001      (1, 3)\n",
       "2        0.996941  MultinomialNB  TfidfVectorizer  0.0001      (1, 2)\n",
       "3        0.995843  MultinomialNB  CountVectorizer  0.0001      (1, 2)\n",
       "4        0.985767  MultinomialNB  TfidfVectorizer  0.0010      (1, 3)\n",
       "5        0.985718  MultinomialNB  TfidfVectorizer  0.0010      (1, 2)\n",
       "6        0.976036  MultinomialNB  CountVectorizer  0.0010      (1, 2)\n",
       "7        0.972663  MultinomialNB  CountVectorizer  0.0010      (1, 3)\n",
       "8        0.957977  MultinomialNB  TfidfVectorizer  0.0100      (1, 2)\n",
       "9        0.957009  MultinomialNB  TfidfVectorizer  0.0100      (1, 3)\n",
       "10       0.952274  MultinomialNB  CountVectorizer  0.0100      (1, 2)\n",
       "11       0.950258  MultinomialNB  CountVectorizer  0.0100      (1, 3)\n",
       "12       0.816641  MultinomialNB  CountVectorizer  0.1000      (1, 2)\n",
       "13       0.816641  MultinomialNB  CountVectorizer  0.1000      (1, 3)\n",
       "14       0.805560  MultinomialNB  TfidfVectorizer  0.1000      (1, 2)\n",
       "15       0.805560  MultinomialNB  TfidfVectorizer  0.1000      (1, 3)"
      ]
     },
     "execution_count": 9,
     "metadata": {},
     "output_type": "execute_result"
    }
   ],
   "source": [
    "compareVectorizer.rename(columns={'index':'ROC_AUC_SCORE',\n",
    "                    'clf__estimator':'Estimator',\n",
    "                    'vectorizer__vectorizer':'Vectorizer',\n",
    "                    'vectorizer__vectorizer__min_df':'min_df',\n",
    "                    'vectorizer__vectorizer__ngram_range':'ngram_range'},inplace=True)\n",
    "compareVectorizer.sort_values(by=['ROC_AUC_SCORE'],ascending=False,inplace=True)\n",
    "compareVectorizer.reset_index(inplace=True,drop=True)\n",
    "compareVectorizer"
   ]
  },
  {
   "cell_type": "code",
   "execution_count": 10,
   "metadata": {},
   "outputs": [
    {
     "data": {
      "text/plain": [
       "0.9629218191240957"
      ]
     },
     "execution_count": 10,
     "metadata": {},
     "output_type": "execute_result"
    }
   ],
   "source": [
    "gs_CompareVectorizer.best_score_"
   ]
  },
  {
   "cell_type": "markdown",
   "metadata": {},
   "source": [
    "###  **Using vectorizer selected above, create pipeline, and perform grid search to find best estimator and best parameters.**"
   ]
  },
  {
   "cell_type": "code",
   "execution_count": 11,
   "metadata": {
    "code_folding": []
   },
   "outputs": [],
   "source": [
    "pipe = Pipeline([\n",
    "                    ('vectorizer',gs_CompareVectorizer.best_estimator_['vectorizer']),\n",
    "                    ('clf', ClfSwitcher())\n",
    "                    ])\n",
    "\n",
    "parameters =[\n",
    "            {'clf__estimator':[MultinomialNB()]},\n",
    "            {'clf__estimator':[LogisticRegression()]},\n",
    "            {'clf__estimator':[RandomForestClassifier()]},\n",
    "            {'clf__estimator':[XGBClassifier()]},\n",
    "            {'clf__estimator':[SVC(probability=True)]}\n",
    "            ]\n",
    "\n",
    "# Gridsearch with count vectorizer and TFIDF\n",
    "gs_CV = GridSearchCV(pipe, parameters,n_jobs=-1, cv=cv, verbose=0,return_train_score=True,scoring='roc_auc')\n",
    "\n",
    "gs_CV.fit(X_train['CleanWordList'],y_train);"
   ]
  },
  {
   "cell_type": "markdown",
   "metadata": {},
   "source": [
    "**Find the best estimator and best parameters for all of the data (vectorized text + engineered Features)**"
   ]
  },
  {
   "cell_type": "code",
   "execution_count": 42,
   "metadata": {},
   "outputs": [
    {
     "data": {
      "text/html": [
       "<style  type=\"text/css\" >\n",
       "    #T_de9d3ca4_f9e4_11ea_a8cf_30e37a590e6frow0_col3 {\n",
       "            background-color:  yellow;\n",
       "        }</style><table id=\"T_de9d3ca4_f9e4_11ea_a8cf_30e37a590e6f\" ><thead>    <tr>        <th class=\"blank level0\" ></th>        <th class=\"col_heading level0 col0\" >rank_test_score</th>        <th class=\"col_heading level0 col1\" >estimator</th>        <th class=\"col_heading level0 col2\" >mean_train_score</th>        <th class=\"col_heading level0 col3\" >mean_test_score</th>    </tr></thead><tbody>\n",
       "                <tr>\n",
       "                        <th id=\"T_de9d3ca4_f9e4_11ea_a8cf_30e37a590e6flevel0_row0\" class=\"row_heading level0 row0\" >1</th>\n",
       "                        <td id=\"T_de9d3ca4_f9e4_11ea_a8cf_30e37a590e6frow0_col0\" class=\"data row0 col0\" >1</td>\n",
       "                        <td id=\"T_de9d3ca4_f9e4_11ea_a8cf_30e37a590e6frow0_col1\" class=\"data row0 col1\" >LogisticRegression</td>\n",
       "                        <td id=\"T_de9d3ca4_f9e4_11ea_a8cf_30e37a590e6frow0_col2\" class=\"data row0 col2\" >0.999433</td>\n",
       "                        <td id=\"T_de9d3ca4_f9e4_11ea_a8cf_30e37a590e6frow0_col3\" class=\"data row0 col3\" >0.970549</td>\n",
       "            </tr>\n",
       "            <tr>\n",
       "                        <th id=\"T_de9d3ca4_f9e4_11ea_a8cf_30e37a590e6flevel0_row1\" class=\"row_heading level0 row1\" >0</th>\n",
       "                        <td id=\"T_de9d3ca4_f9e4_11ea_a8cf_30e37a590e6frow1_col0\" class=\"data row1 col0\" >2</td>\n",
       "                        <td id=\"T_de9d3ca4_f9e4_11ea_a8cf_30e37a590e6frow1_col1\" class=\"data row1 col1\" >MultinomialNB</td>\n",
       "                        <td id=\"T_de9d3ca4_f9e4_11ea_a8cf_30e37a590e6frow1_col2\" class=\"data row1 col2\" >0.995843</td>\n",
       "                        <td id=\"T_de9d3ca4_f9e4_11ea_a8cf_30e37a590e6frow1_col3\" class=\"data row1 col3\" >0.962922</td>\n",
       "            </tr>\n",
       "            <tr>\n",
       "                        <th id=\"T_de9d3ca4_f9e4_11ea_a8cf_30e37a590e6flevel0_row2\" class=\"row_heading level0 row2\" >2</th>\n",
       "                        <td id=\"T_de9d3ca4_f9e4_11ea_a8cf_30e37a590e6frow2_col0\" class=\"data row2 col0\" >3</td>\n",
       "                        <td id=\"T_de9d3ca4_f9e4_11ea_a8cf_30e37a590e6frow2_col1\" class=\"data row2 col1\" >RandomForestClassifier</td>\n",
       "                        <td id=\"T_de9d3ca4_f9e4_11ea_a8cf_30e37a590e6frow2_col2\" class=\"data row2 col2\" >0.99982</td>\n",
       "                        <td id=\"T_de9d3ca4_f9e4_11ea_a8cf_30e37a590e6frow2_col3\" class=\"data row2 col3\" >0.948763</td>\n",
       "            </tr>\n",
       "            <tr>\n",
       "                        <th id=\"T_de9d3ca4_f9e4_11ea_a8cf_30e37a590e6flevel0_row3\" class=\"row_heading level0 row3\" >4</th>\n",
       "                        <td id=\"T_de9d3ca4_f9e4_11ea_a8cf_30e37a590e6frow3_col0\" class=\"data row3 col0\" >4</td>\n",
       "                        <td id=\"T_de9d3ca4_f9e4_11ea_a8cf_30e37a590e6frow3_col1\" class=\"data row3 col1\" >SVC</td>\n",
       "                        <td id=\"T_de9d3ca4_f9e4_11ea_a8cf_30e37a590e6frow3_col2\" class=\"data row3 col2\" >0.946319</td>\n",
       "                        <td id=\"T_de9d3ca4_f9e4_11ea_a8cf_30e37a590e6frow3_col3\" class=\"data row3 col3\" >0.930726</td>\n",
       "            </tr>\n",
       "            <tr>\n",
       "                        <th id=\"T_de9d3ca4_f9e4_11ea_a8cf_30e37a590e6flevel0_row4\" class=\"row_heading level0 row4\" >3</th>\n",
       "                        <td id=\"T_de9d3ca4_f9e4_11ea_a8cf_30e37a590e6frow4_col0\" class=\"data row4 col0\" >5</td>\n",
       "                        <td id=\"T_de9d3ca4_f9e4_11ea_a8cf_30e37a590e6frow4_col1\" class=\"data row4 col1\" >XGBClassifier</td>\n",
       "                        <td id=\"T_de9d3ca4_f9e4_11ea_a8cf_30e37a590e6frow4_col2\" class=\"data row4 col2\" >0.516422</td>\n",
       "                        <td id=\"T_de9d3ca4_f9e4_11ea_a8cf_30e37a590e6frow4_col3\" class=\"data row4 col3\" >0.518428</td>\n",
       "            </tr>\n",
       "    </tbody></table>"
      ],
      "text/plain": [
       "<pandas.io.formats.style.Styler at 0x2b909820ef0>"
      ]
     },
     "execution_count": 42,
     "metadata": {},
     "output_type": "execute_result"
    }
   ],
   "source": [
    "compareEstimator=pd.DataFrame(gs_CV.cv_results_)\n",
    "\n",
    "compareEstimator['estimator']=pd.DataFrame(gs_CV.cv_results_['params'])['clf__estimator'].apply(lambda x: str(x).split('(')[0])\n",
    "\n",
    "compareEstimator=compareEstimator[['rank_test_score','estimator','mean_train_score','mean_test_score']] \n",
    "\n",
    "compareEstimator.sort_values(by='rank_test_score',inplace=True)\n",
    "compareEstimator.style.highlight_max(axis=0,subset=['mean_test_score'])"
   ]
  },
  {
   "cell_type": "markdown",
   "metadata": {},
   "source": [
    "**Gridsearch Logistic Regression Classifier**"
   ]
  },
  {
   "cell_type": "code",
   "execution_count": 14,
   "metadata": {},
   "outputs": [
    {
     "name": "stdout",
     "output_type": "stream",
     "text": [
      "Best param:  {'clf__C': 2} \n",
      " Best Score:  0.9717562687922022\n"
     ]
    }
   ],
   "source": [
    "pipe_LR = Pipeline([\n",
    "                    ('vectorizer',gs_CompareVectorizer.best_estimator_['vectorizer']),\n",
    "                    ('clf', LogisticRegression())\n",
    "                    ])\n",
    "\n",
    "param_LR ={'clf__C':(0.1,0.5,1,2,20,50,100,500)}\n",
    "\n",
    "gs_LR = RandomizedSearchCV(pipe_LR,param_LR,n_jobs=-1, cv=cv, verbose=0,return_train_score=True,scoring='roc_auc')\n",
    "\n",
    "gs_LR.fit(X_train['CleanWordList'],y_train);\n",
    "\n",
    "print('Best param: ',gs_LR.best_params_,'\\n','Best Score: ',gs_LR.best_score_)"
   ]
  },
  {
   "cell_type": "markdown",
   "metadata": {},
   "source": [
    "**Gridsearch Multinomial Naive Bayes**"
   ]
  },
  {
   "cell_type": "code",
   "execution_count": 15,
   "metadata": {},
   "outputs": [
    {
     "name": "stdout",
     "output_type": "stream",
     "text": [
      "Best param:  {'clf__fit_prior': False, 'clf__alpha': 2} \n",
      " Best Score:  0.9636086522732104\n"
     ]
    }
   ],
   "source": [
    "pipe_MNB = Pipeline([\n",
    "                    ('vectorizer',gs_CompareVectorizer.best_estimator_['vectorizer']),\n",
    "                    ('clf', MultinomialNB())\n",
    "                    ])\n",
    "\n",
    "param_MNB ={'clf__alpha':(0,0.1,0.5,1,2,20,100),\n",
    "            'clf__fit_prior':(True,False)}\n",
    "\n",
    "gs_MNB = RandomizedSearchCV(pipe_MNB,param_MNB,n_jobs=-1, cv=cv, verbose=0,return_train_score=True,scoring='roc_auc')\n",
    "\n",
    "gs_MNB.fit(X_train['CleanWordList'],y_train);\n",
    "\n",
    "print('Best param: ',gs_MNB.best_params_,'\\n','Best Score: ',gs_MNB.best_score_)"
   ]
  },
  {
   "cell_type": "markdown",
   "metadata": {},
   "source": [
    "**Gridsearch Random Forest Classifier**"
   ]
  },
  {
   "cell_type": "code",
   "execution_count": 16,
   "metadata": {},
   "outputs": [
    {
     "name": "stdout",
     "output_type": "stream",
     "text": [
      "Best param:  {'clf__n_estimators': 100, 'clf__max_depth': 50} \n",
      " Best Score:  0.9699341778585583\n"
     ]
    }
   ],
   "source": [
    "pipe_RFC = Pipeline([\n",
    "                    ('vectorizer',gs_CompareVectorizer.best_estimator_['vectorizer']),\n",
    "                    ('clf', RandomForestClassifier())\n",
    "                    ])\n",
    "\n",
    "param_RFC ={'clf__n_estimators':(10,50,100,500,1000),\n",
    "            'clf__max_depth':(2,5,10,50,100,500,1000)}\n",
    "\n",
    "gs_RFC = RandomizedSearchCV(pipe_RFC,param_RFC,n_jobs=-1, cv=cv, verbose=0,return_train_score=True,scoring='roc_auc')\n",
    "\n",
    "gs_RFC.fit(X_train['CleanWordList'],y_train);\n",
    "\n",
    "print('Best param: ',gs_RFC.best_params_,'\\n','Best Score: ',gs_RFC.best_score_)"
   ]
  },
  {
   "cell_type": "markdown",
   "metadata": {},
   "source": [
    "**Gridsearch SVC**"
   ]
  },
  {
   "cell_type": "code",
   "execution_count": 17,
   "metadata": {},
   "outputs": [
    {
     "name": "stdout",
     "output_type": "stream",
     "text": [
      "Best param:  {'clf__C': 500} \n",
      " Best Score:  0.970415417921764\n"
     ]
    }
   ],
   "source": [
    "pipe_SVC = Pipeline([\n",
    "                    ('vectorizer',gs_CompareVectorizer.best_estimator_['vectorizer']),\n",
    "                    ('clf', SVC())\n",
    "                    ])\n",
    "\n",
    "param_SVC ={'clf__C':(0.1,0.5,1,2,20,50,100,500)}\n",
    "\n",
    "gs_SVC = RandomizedSearchCV(pipe_SVC,param_SVC,n_jobs=-1, cv=cv, verbose=0,return_train_score=True,scoring='roc_auc')\n",
    "\n",
    "gs_SVC.fit(X_train['CleanWordList'],y_train);\n",
    "\n",
    "print('Best param: ',gs_SVC.best_params_,'\\n','Best Score: ',gs_SVC.best_score_)"
   ]
  },
  {
   "cell_type": "markdown",
   "metadata": {},
   "source": [
    "**Gridsearch XGBoost Classifier**"
   ]
  },
  {
   "cell_type": "code",
   "execution_count": 18,
   "metadata": {},
   "outputs": [
    {
     "name": "stdout",
     "output_type": "stream",
     "text": [
      "Best param:  {'clf__n_estimators': 100, 'clf__max_depth': 2} \n",
      " Best Score:  0.527330378506368\n"
     ]
    }
   ],
   "source": [
    "pipe_XGB = Pipeline([\n",
    "                    ('vectorizer',gs_CompareVectorizer.best_estimator_['vectorizer']),\n",
    "                    ('clf', XGBClassifier())\n",
    "                    ])\n",
    "\n",
    "param_XGB ={'clf__n_estimators':(10,50,100,500,1000),\n",
    "            'clf__max_depth':(2,5,10,50,100,500,1000)}\n",
    "\n",
    "gs_XGB = RandomizedSearchCV(pipe_XGB,param_XGB,n_jobs=-1, cv=cv, verbose=0,return_train_score=True,scoring='roc_auc')\n",
    "\n",
    "gs_XGB.fit(X_train['CleanWordList'],y_train);\n",
    "\n",
    "print('Best param: ',gs_XGB.best_params_,'\\n','Best Score: ',gs_XGB.best_score_)"
   ]
  },
  {
   "cell_type": "markdown",
   "metadata": {},
   "source": [
    "**Display result of grid searches**"
   ]
  },
  {
   "cell_type": "code",
   "execution_count": 19,
   "metadata": {
    "code_folding": [
     0
    ]
   },
   "outputs": [
    {
     "data": {
      "text/html": [
       "<style  type=\"text/css\" >\n",
       "    #T_2788b530_f9d2_11ea_8408_30e37a590e6frow0_col1 {\n",
       "            background-color:  yellow;\n",
       "        }</style><table id=\"T_2788b530_f9d2_11ea_8408_30e37a590e6f\" ><thead>    <tr>        <th class=\"blank level0\" ></th>        <th class=\"col_heading level0 col0\" >Best Params</th>        <th class=\"col_heading level0 col1\" >Best ROC_AUC Score</th>    </tr></thead><tbody>\n",
       "                <tr>\n",
       "                        <th id=\"T_2788b530_f9d2_11ea_8408_30e37a590e6flevel0_row0\" class=\"row_heading level0 row0\" >Logistic Regression</th>\n",
       "                        <td id=\"T_2788b530_f9d2_11ea_8408_30e37a590e6frow0_col0\" class=\"data row0 col0\" >{'clf__C': 2}</td>\n",
       "                        <td id=\"T_2788b530_f9d2_11ea_8408_30e37a590e6frow0_col1\" class=\"data row0 col1\" >0.971756</td>\n",
       "            </tr>\n",
       "            <tr>\n",
       "                        <th id=\"T_2788b530_f9d2_11ea_8408_30e37a590e6flevel0_row1\" class=\"row_heading level0 row1\" >Multinomial Naive Bayes</th>\n",
       "                        <td id=\"T_2788b530_f9d2_11ea_8408_30e37a590e6frow1_col0\" class=\"data row1 col0\" >{'clf__fit_prior': False, 'clf__alpha': 2}</td>\n",
       "                        <td id=\"T_2788b530_f9d2_11ea_8408_30e37a590e6frow1_col1\" class=\"data row1 col1\" >0.963609</td>\n",
       "            </tr>\n",
       "            <tr>\n",
       "                        <th id=\"T_2788b530_f9d2_11ea_8408_30e37a590e6flevel0_row2\" class=\"row_heading level0 row2\" >Random Forest</th>\n",
       "                        <td id=\"T_2788b530_f9d2_11ea_8408_30e37a590e6frow2_col0\" class=\"data row2 col0\" >{'clf__n_estimators': 100, 'clf__max_depth': 50}</td>\n",
       "                        <td id=\"T_2788b530_f9d2_11ea_8408_30e37a590e6frow2_col1\" class=\"data row2 col1\" >0.969934</td>\n",
       "            </tr>\n",
       "            <tr>\n",
       "                        <th id=\"T_2788b530_f9d2_11ea_8408_30e37a590e6flevel0_row3\" class=\"row_heading level0 row3\" >SVC</th>\n",
       "                        <td id=\"T_2788b530_f9d2_11ea_8408_30e37a590e6frow3_col0\" class=\"data row3 col0\" >{'clf__C': 500}</td>\n",
       "                        <td id=\"T_2788b530_f9d2_11ea_8408_30e37a590e6frow3_col1\" class=\"data row3 col1\" >0.970415</td>\n",
       "            </tr>\n",
       "    </tbody></table>"
      ],
      "text/plain": [
       "<pandas.io.formats.style.Styler at 0x2b906347b38>"
      ]
     },
     "execution_count": 19,
     "metadata": {},
     "output_type": "execute_result"
    }
   ],
   "source": [
    "compareEstimator_df=pd.DataFrame(data={'Logistic Regression':[gs_LR.best_params_,gs_LR.best_score_],\n",
    " 'Multinomial Naive Bayes':[gs_MNB.best_params_,gs_MNB.best_score_],\n",
    " 'Random Forest':[gs_RFC.best_params_,gs_RFC.best_score_],\n",
    " 'SVC':[gs_SVC.best_params_,gs_SVC.best_score_]},index=['Best Params','Best ROC_AUC Score']).transpose()\n",
    "\n",
    "compareEstimator_df.sort_values(by='Best ROC_AUC Score',ascending=False)\n",
    "\n",
    "compareEstimator_df.style.highlight_max(axis=0,subset=['Best ROC_AUC Score'])"
   ]
  },
  {
   "cell_type": "markdown",
   "metadata": {},
   "source": [
    "Logistic regression has the highest ROC_AUC score with C=2."
   ]
  },
  {
   "cell_type": "markdown",
   "metadata": {},
   "source": [
    "**Plot ROC curve logistic regression classifier**"
   ]
  },
  {
   "cell_type": "code",
   "execution_count": 55,
   "metadata": {
    "code_folding": []
   },
   "outputs": [],
   "source": [
    "def plot_Roc_Curve(gs,X,y):\n",
    "    \"\"\"\n",
    "    This function takes an estimator, X and y variables as input and returns a plot of ROC curve\n",
    "    \"\"\"\n",
    "   \n",
    "    fpr, tpr, thresholds=roc_curve(y,gs.predict(X))\n",
    "\n",
    "    plt.plot(fpr, tpr)\n",
    "    title='ROC curve for '+ str(gs.best_estimator_.named_steps['clf']).split('(')[0]\n",
    "    plt.title(title)\n",
    "    plt.xlabel(\"False Positive Rate\")\n",
    "    plt.ylabel(\"True Positive Rate\")\n",
    "    plt.show()"
   ]
  },
  {
   "cell_type": "code",
   "execution_count": 56,
   "metadata": {},
   "outputs": [
    {
     "data": {
      "image/png": "[encoded data removed]",
      "text/plain": [
       "<Figure size 1080x360 with 1 Axes>"
      ]
     },
     "metadata": {
      "needs_background": "light"
     },
     "output_type": "display_data"
    }
   ],
   "source": [
    "plot_Roc_Curve(gs_LR,X_test['CleanWordList'],y_test)"
   ]
  },
  {
   "cell_type": "markdown",
   "metadata": {},
   "source": [
    "**Confusion Matrix**"
   ]
  },
  {
   "cell_type": "code",
   "execution_count": 22,
   "metadata": {},
   "outputs": [],
   "source": [
    "import cf_matrix\n",
    "# Reference: https://medium.com/@dtuk81/confusion-matrix-visualization-fc31e3f30fea\n",
    "# https://github.com/DTrimarchi10/confusion_matrix/blob/master/cf_matrix.py"
   ]
  },
  {
   "cell_type": "code",
   "execution_count": 23,
   "metadata": {},
   "outputs": [
    {
     "data": {
      "image/png": "[encoded data removed]",
      "text/plain": [
       "<Figure size 1080x360 with 2 Axes>"
      ]
     },
     "metadata": {
      "needs_background": "light"
     },
     "output_type": "display_data"
    }
   ],
   "source": [
    "labels = ['True Neg \\n','False Pos \\n','False Neg \\n','True Pos \\n']\n",
    "\n",
    "cm=confusion_matrix(y_test,gs_LR.predict(X_test['CleanWordList']))\n",
    "\n",
    "cf_matrix.make_confusion_matrix(cm,figsize=(15,5),categories=['Ham','Spam'],\n",
    "                                title='Confusion Matrix \\n',group_names=labels)"
   ]
  },
  {
   "cell_type": "markdown",
   "metadata": {},
   "source": [
    "**Classification Report**"
   ]
  },
  {
   "cell_type": "code",
   "execution_count": 57,
   "metadata": {},
   "outputs": [
    {
     "name": "stdout",
     "output_type": "stream",
     "text": [
      "              precision    recall  f1-score   support\n",
      "\n",
      "           0       0.89      0.97      0.93       283\n",
      "           1       0.97      0.89      0.93       289\n",
      "\n",
      "    accuracy                           0.93       572\n",
      "   macro avg       0.93      0.93      0.93       572\n",
      "weighted avg       0.93      0.93      0.93       572\n",
      "\n"
     ]
    }
   ],
   "source": [
    "print(classification_report(y_test,gs_LR.predict(X_test['CleanWordList'])))"
   ]
  },
  {
   "cell_type": "code",
   "execution_count": null,
   "metadata": {},
   "outputs": [],
   "source": []
  },
  {
   "cell_type": "markdown",
   "metadata": {},
   "source": [
    "### **Adjust Threshold**"
   ]
  },
  {
   "cell_type": "code",
   "execution_count": 24,
   "metadata": {},
   "outputs": [],
   "source": [
    "predict_proba=gs_LR.predict_proba(X_test['CleanWordList'])[:,1]\n",
    "\n",
    "def adjustThreshold(predict_proba,threshold):\n",
    "    predict_newThreshold=[]\n",
    "    for prob in predict_proba:\n",
    "        if prob<threshold:\n",
    "            predict_newThreshold.append(0)\n",
    "        else:\n",
    "            predict_newThreshold.append(1)\n",
    "    return predict_newThreshold"
   ]
  },
  {
   "cell_type": "code",
   "execution_count": 25,
   "metadata": {},
   "outputs": [
    {
     "data": {
      "image/png": "[encoded data removed]",
      "text/plain": [
       "<Figure size 1080x360 with 2 Axes>"
      ]
     },
     "metadata": {
      "needs_background": "light"
     },
     "output_type": "display_data"
    }
   ],
   "source": [
    "cm=confusion_matrix(y_test,adjustThreshold(predict_proba,0.4))\n",
    "\n",
    "cf_matrix.make_confusion_matrix(cm,figsize=(15,5),categories=['Ham','Spam'],\n",
    "                                title='Confusion Matrix \\n',group_names=labels)"
   ]
  },
  {
   "cell_type": "code",
   "execution_count": 26,
   "metadata": {},
   "outputs": [],
   "source": [
    "def calculateCMValues(cm):\n",
    "    tp = cm[0][0] \n",
    "    fp = cm[0][1] \n",
    "    fn = cm[1][0] \n",
    "    tn = cm[1][1] \n",
    "    precision=tp/(tp+fp)\n",
    "    recall=tp/(tp+fn)\n",
    "    F1=2*(precision*recall)/(precision+recall)\n",
    "    return precision,recall,F1"
   ]
  },
  {
   "cell_type": "code",
   "execution_count": 28,
   "metadata": {},
   "outputs": [],
   "source": [
    "threshold=np.arange(0,1,.01)\n",
    "\n",
    "Precision=[]\n",
    "F1=[]\n",
    "for t in threshold:\n",
    "    cm=confusion_matrix(y_test,adjustThreshold(predict_proba,t))\n",
    "    Precision.append(calculateCMValues(cm)[0])\n",
    "    F1.append(calculateCMValues(cm)[2])"
   ]
  },
  {
   "cell_type": "code",
   "execution_count": 29,
   "metadata": {},
   "outputs": [],
   "source": [
    "def plotThresholdvsMetric(metric):\n",
    "    precision_df=pd.DataFrame({'Threshold':threshold,'Precision':Precision,'F1':F1}).reset_index(drop=True)\n",
    "    precision_df.fillna(0,inplace=True)\n",
    "    \n",
    "    xmark=precision_df[precision_df[metric]==max(precision_df[metric])]['Threshold'].iloc[0]\n",
    "    ymark=precision_df[precision_df[metric]==max(precision_df[metric])][metric].iloc[0]\n",
    "    \n",
    "    text= \"Threshold={:.3f},\\n{}={:.4f}\".format(xmark,metric,ymark)\n",
    "    \n",
    "    sns.lineplot(x='Threshold',y=metric,data=precision_df)\n",
    "    plt.annotate(s=text,xy=(xmark,ymark))\n",
    "    title='Threshold vs ' + metric\n",
    "    plt.title(title);\n"
   ]
  },
  {
   "cell_type": "code",
   "execution_count": 35,
   "metadata": {},
   "outputs": [
    {
     "data": {
      "image/png": "[encoded data removed]",
      "text/plain": [
       "<Figure size 1080x360 with 1 Axes>"
      ]
     },
     "metadata": {
      "needs_background": "light"
     },
     "output_type": "display_data"
    }
   ],
   "source": [
    "plotThresholdvsMetric('Precision')"
   ]
  },
  {
   "cell_type": "markdown",
   "metadata": {},
   "source": [
    "Highest precision is found at threshold=0.99. "
   ]
  },
  {
   "cell_type": "markdown",
   "metadata": {},
   "source": [
    "**Check confusion matrix with threshold=0.99**"
   ]
  },
  {
   "cell_type": "code",
   "execution_count": 36,
   "metadata": {},
   "outputs": [
    {
     "data": {
      "image/png": "[encoded data removed]",
      "text/plain": [
       "<Figure size 1080x360 with 2 Axes>"
      ]
     },
     "metadata": {
      "needs_background": "light"
     },
     "output_type": "display_data"
    }
   ],
   "source": [
    "cm=confusion_matrix(y_test,adjustThreshold(predict_proba,0.99))\n",
    "cf_matrix.make_confusion_matrix(cm,figsize=(15,5),categories=['Ham','Spam'],\n",
    "                                title='Confusion Matrix \\n',group_names=labels)"
   ]
  },
  {
   "cell_type": "markdown",
   "metadata": {},
   "source": [
    "**Aiming for highest precision increased the false negative increase by 20%. We need to find a balance and we can use F1 for that.**"
   ]
  },
  {
   "cell_type": "code",
   "execution_count": 37,
   "metadata": {},
   "outputs": [
    {
     "data": {
      "image/png": "[encoded data removed]",
      "text/plain": [
       "<Figure size 1080x360 with 1 Axes>"
      ]
     },
     "metadata": {
      "needs_background": "light"
     },
     "output_type": "display_data"
    }
   ],
   "source": [
    "plotThresholdvsMetric('F1')"
   ]
  },
  {
   "cell_type": "code",
   "execution_count": 38,
   "metadata": {},
   "outputs": [
    {
     "data": {
      "image/png": "[encoded data removed]",
      "text/plain": [
       "<Figure size 1080x360 with 2 Axes>"
      ]
     },
     "metadata": {
      "needs_background": "light"
     },
     "output_type": "display_data"
    }
   ],
   "source": [
    "cm=confusion_matrix(y_test,adjustThreshold(predict_proba,0.28))\n",
    "cf_matrix.make_confusion_matrix(cm,figsize=(15,5),categories=['Ham','Spam'],\n",
    "                                title='Confusion Matrix \\n',group_names=labels)"
   ]
  },
  {
   "cell_type": "code",
   "execution_count": null,
   "metadata": {},
   "outputs": [],
   "source": []
  },
  {
   "cell_type": "code",
   "execution_count": null,
   "metadata": {},
   "outputs": [],
   "source": []
  },
  {
   "cell_type": "code",
   "execution_count": null,
   "metadata": {},
   "outputs": [],
   "source": []
  },
  {
   "cell_type": "code",
   "execution_count": null,
   "metadata": {},
   "outputs": [],
   "source": []
  },
  {
   "cell_type": "code",
   "execution_count": null,
   "metadata": {},
   "outputs": [],
   "source": []
  },
  {
   "cell_type": "code",
   "execution_count": null,
   "metadata": {},
   "outputs": [],
   "source": []
  },
  {
   "cell_type": "code",
   "execution_count": null,
   "metadata": {},
   "outputs": [],
   "source": []
  },
  {
   "cell_type": "code",
   "execution_count": null,
   "metadata": {},
   "outputs": [],
   "source": []
  },
  {
   "cell_type": "code",
   "execution_count": null,
   "metadata": {},
   "outputs": [],
   "source": []
  },
  {
   "cell_type": "code",
   "execution_count": null,
   "metadata": {},
   "outputs": [],
   "source": []
  },
  {
   "cell_type": "code",
   "execution_count": null,
   "metadata": {},
   "outputs": [],
   "source": []
  },
  {
   "cell_type": "code",
   "execution_count": null,
   "metadata": {},
   "outputs": [],
   "source": []
  },
  {
   "cell_type": "code",
   "execution_count": null,
   "metadata": {},
   "outputs": [],
   "source": []
  },
  {
   "cell_type": "code",
   "execution_count": null,
   "metadata": {},
   "outputs": [],
   "source": []
  },
  {
   "cell_type": "code",
   "execution_count": null,
   "metadata": {},
   "outputs": [],
   "source": []
  },
  {
   "cell_type": "code",
   "execution_count": null,
   "metadata": {},
   "outputs": [],
   "source": []
  },
  {
   "cell_type": "code",
   "execution_count": null,
   "metadata": {},
   "outputs": [],
   "source": []
  },
  {
   "cell_type": "code",
   "execution_count": null,
   "metadata": {},
   "outputs": [],
   "source": []
  },
  {
   "cell_type": "code",
   "execution_count": null,
   "metadata": {},
   "outputs": [],
   "source": []
  },
  {
   "cell_type": "code",
   "execution_count": null,
   "metadata": {},
   "outputs": [],
   "source": []
  },
  {
   "cell_type": "code",
   "execution_count": null,
   "metadata": {},
   "outputs": [],
   "source": []
  },
  {
   "cell_type": "code",
   "execution_count": null,
   "metadata": {},
   "outputs": [],
   "source": []
  },
  {
   "cell_type": "code",
   "execution_count": null,
   "metadata": {},
   "outputs": [],
   "source": []
  },
  {
   "cell_type": "code",
   "execution_count": null,
   "metadata": {},
   "outputs": [],
   "source": []
  },
  {
   "cell_type": "code",
   "execution_count": null,
   "metadata": {},
   "outputs": [],
   "source": []
  },
  {
   "cell_type": "code",
   "execution_count": null,
   "metadata": {},
   "outputs": [],
   "source": []
  },
  {
   "cell_type": "code",
   "execution_count": null,
   "metadata": {},
   "outputs": [],
   "source": []
  },
  {
   "cell_type": "code",
   "execution_count": null,
   "metadata": {},
   "outputs": [],
   "source": []
  },
  {
   "cell_type": "code",
   "execution_count": null,
   "metadata": {},
   "outputs": [],
   "source": []
  },
  {
   "cell_type": "code",
   "execution_count": null,
   "metadata": {},
   "outputs": [],
   "source": []
  },
  {
   "cell_type": "code",
   "execution_count": null,
   "metadata": {},
   "outputs": [],
   "source": []
  },
  {
   "cell_type": "code",
   "execution_count": null,
   "metadata": {},
   "outputs": [],
   "source": []
  },
  {
   "cell_type": "code",
   "execution_count": null,
   "metadata": {},
   "outputs": [],
   "source": []
  },
  {
   "cell_type": "markdown",
   "metadata": {},
   "source": [
    "**Function to vectorize the comments. Convert the term document matrix into pandas dataframe and then add other generated features to this dataframe.**"
   ]
  },
  {
   "cell_type": "code",
   "execution_count": null,
   "metadata": {
    "code_folding": []
   },
   "outputs": [],
   "source": [
    "def create_document_term_matrix(X,vectorizer=gs_CompareVectorizer.best_estimator_['vectorizer']):\n",
    "    \"\"\"\n",
    "    This function take in a dataframe with 'CleanWordList' column and vectorizes\n",
    "    it using the vectorizer which was picked as best in the grid search for Vectorizers \n",
    "    \n",
    "    It return 2 dataframes. First dataframe is a vector representation of text field and \n",
    "    the second dataframe has other engineered feature along with vectorized text\n",
    "    \"\"\"\n",
    "    document_term_matrix = vectorizer.fit_transform(X['CleanWordList']) \n",
    "    colName=vectorizer.get_feature_names()\n",
    "    \n",
    "    X_dtm_df=pd.DataFrame(document_term_matrix.toarray(),columns=colName)\n",
    "    X_dtm_all=pd.concat([X_dtm_df.reset_index(drop=True),\n",
    "                      X.drop(columns=['COMMENT_ID','CleanWordList']).reset_index(drop=True)],\n",
    "                     axis=1,ignore_index=False)\n",
    "\n",
    "\n",
    "    return X_dtm_df,X_dtm_all\n"
   ]
  },
  {
   "cell_type": "code",
   "execution_count": null,
   "metadata": {
    "code_folding": [
     0
    ]
   },
   "outputs": [],
   "source": [
    "def featureImportance(gs,X,y,engineeredFeatures=False,noOfFeatures=5):\n",
    "    \"\"\"\n",
    "    Important features using Random Forest's feature_importances_ parameter.\n",
    "    Set engineeredFeatured to True to include engineered features in calculation\n",
    "    \"\"\"\n",
    "    \n",
    "    X1,X2=create_document_term_matrix(X,gs_CV.estimator.named_steps['vectorizer'])\n",
    "    \n",
    "    if engineeredFeatures==True:\n",
    "        X=X2\n",
    "    else:\n",
    "        X=X1\n",
    "    \n",
    "    #Random Forest is at 2 index in parameters list\n",
    "    clf_rfc=gs.param_grid[2]['clf__estimator'][0].fit(X,y)\n",
    "\n",
    "    impFeatures=clf_rfc.feature_importances_\n",
    "\n",
    "    featureImportance=pd.DataFrame({'Feature Name':X.columns,\n",
    "                                    'Importance':impFeatures})\n",
    "    \n",
    "    featureImportance.sort_values(by='Importance',ascending=False,inplace=True)\n",
    "    \n",
    "    return featureImportance.reset_index(drop=True).head(noOfFeatures)"
   ]
  },
  {
   "cell_type": "code",
   "execution_count": null,
   "metadata": {},
   "outputs": [],
   "source": [
    "# List of most important features with all the features included in\n",
    "featureImportance(gs_TFIDF,X_train,y_train)"
   ]
  },
  {
   "cell_type": "code",
   "execution_count": null,
   "metadata": {},
   "outputs": [],
   "source": [
    "featureImportance(gs_TFIDF,X_train,y_train,engineeredFeatures=True,noOfFeatures=7)"
   ]
  },
  {
   "cell_type": "code",
   "execution_count": null,
   "metadata": {},
   "outputs": [],
   "source": [
    "plot_Roc_Curve(gs_CV,X_test['CleanWordList'],y_test)"
   ]
  },
  {
   "cell_type": "code",
   "execution_count": null,
   "metadata": {},
   "outputs": [],
   "source": [
    "cm=confusion_matrix(y_test,gs.predict(X_test_all))\n",
    "cm"
   ]
  },
  {
   "cell_type": "code",
   "execution_count": null,
   "metadata": {
    "code_folding": []
   },
   "outputs": [],
   "source": [
    "# def plot_confusion_matrix(cm, classes,\n",
    "#                           normalize=False,\n",
    "#                           title='Confusion matrix',\n",
    "#                           cmap=plt.cm.Greens):\n",
    "#     \"\"\"\n",
    "#     This function prints and plots the confusion matrix.\n",
    "#     Normalization can be applied by setting `normalize=True`.\n",
    "#     \"\"\"\n",
    "#     if normalize:\n",
    "#         cm = cm.astype('float') / cm.sum(axis=1)[:, np.newaxis]\n",
    "#         print(\"Normalized confusion matrix\")\n",
    "#     else:\n",
    "#         print('Confusion Matrix, without normalization')\n",
    "\n",
    "#     print(cm)\n",
    "\n",
    "#     plt.imshow(cm, interpolation='nearest', cmap=cmap)\n",
    "#     plt.title(title)\n",
    "#     plt.colorbar()\n",
    "#     tick_marks = np.arange(len(classes))\n",
    "#     plt.xticks(tick_marks, classes, rotation=45)\n",
    "#     plt.yticks(tick_marks, classes)\n",
    "\n",
    "#     fmt = '.2f' if normalize else 'd'\n",
    "#     thresh = cm.max() / 2.\n",
    "#     for i, j in itertools.product(range(cm.shape[0]), range(cm.shape[1])):\n",
    "#         plt.text(j, i, format(cm[i, j], fmt),\n",
    "#                  horizontalalignment=\"center\",\n",
    "#                  color=\"white\" if cm[i, j] > thresh else \"black\")\n",
    "#     plt.tight_layout()\n",
    "#     plt.ylabel('True label')\n",
    "#     plt.xlabel('Predicted label')\n",
    "#     plt.grid(False)\n",
    "\n",
    "# # import itertools\n",
    "# # plot_confusion_matrix(gs,classes=['Spam','Ham'], normalize=False,\n",
    "# #                           title='Confusion matrix')"
   ]
  }
 ],
 "metadata": {
  "kernelspec": {
   "display_name": "Python 3",
   "language": "python",
   "name": "python3"
  },
  "language_info": {
   "codemirror_mode": {
    "name": "ipython",
    "version": 3
   },
   "file_extension": ".py",
   "mimetype": "text/x-python",
   "name": "python",
   "nbconvert_exporter": "python",
   "pygments_lexer": "ipython3",
   "version": "3.7.3"
  },
  "toc": {
   "base_numbering": 1,
   "nav_menu": {},
   "number_sections": true,
   "sideBar": true,
   "skip_h1_title": false,
   "title_cell": "Table of Contents",
   "title_sidebar": "Contents",
   "toc_cell": false,
   "toc_position": {
    "height": "calc(100% - 180px)",
    "left": "10px",
    "top": "150px",
    "width": "214.306px"
   },
   "toc_section_display": true,
   "toc_window_display": true
  }
 },
 "nbformat": 4,
 "nbformat_minor": 2
}
