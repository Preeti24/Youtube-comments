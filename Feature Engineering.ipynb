{
 "cells": [
  {
   "cell_type": "code",
   "execution_count": 1,
   "metadata": {},
   "outputs": [],
   "source": [
    "import pandas as pd\n",
    "import numpy as np\n",
    "import re\n",
    "import string\n",
    "\n",
    "import nltk\n",
    "from nltk.corpus import stopwords\n",
    "# from pattern.es import lemma\n",
    "from nltk.stem import WordNetLemmatizer\n",
    "\n",
    "# from nltk.stem import PorterStemmer\n",
    "from nltk.tokenize import sent_tokenize, word_tokenize\n",
    "\n",
    "from sklearn.feature_extraction.text import TfidfVectorizer,CountVectorizer,TfidfTransformer\n",
    "\n",
    "from sklearn.pipeline import Pipeline\n",
    "from sklearn.ensemble import RandomForestClassifier,RandomForestRegressor\n",
    "from sklearn.model_selection import KFold, GridSearchCV, cross_val_score,train_test_split\n",
    "from sklearn import metrics\n",
    "from sklearn.naive_bayes import GaussianNB,MultinomialNB\n",
    "from sklearn.linear_model import LogisticRegression\n",
    "\n",
    "from xgboost import XGBClassifier\n",
    "import matplotlib.pyplot as plt\n",
    "import seaborn as sns\n",
    "plt.rcParams['figure.figsize']=(15,5)\n",
    "\n",
    "import joblib\n",
    "from tqdm import tqdm, tqdm_notebook\n",
    "\n",
    "from statistics import mean\n",
    "import re\n",
    "# nltk.download('punkt')\n",
    "import unicodedata\n",
    "# nltk.download('averaged_perceptron_tagger')\n",
    "from nltk.corpus import wordnet\n",
    "from spellchecker import SpellChecker\n",
    "import emoji\n",
    "import textstat\n",
    "from wordcloud import WordCloud\n",
    "\n",
    "from sklearn.metrics import classification_report"
   ]
  },
  {
   "cell_type": "code",
   "execution_count": 2,
   "metadata": {},
   "outputs": [
    {
     "name": "stdout",
     "output_type": "stream",
     "text": [
      "This is training data's shape : (1956, 5)\n"
     ]
    }
   ],
   "source": [
    "psy=pd.read_csv(\"Data/YouTubeSpamCollection_FromUCI/Youtube01-Psy.csv\")\n",
    "kp=pd.read_csv(\"Data/YouTubeSpamCollection_FromUCI/Youtube02-KatyPerry.csv\")\n",
    "lmfao=pd.read_csv(\"Data/YouTubeSpamCollection_FromUCI/Youtube03-LMFAO.csv\")\n",
    "eminem=pd.read_csv(\"Data/YouTubeSpamCollection_FromUCI/Youtube04-Eminem.csv\")\n",
    "shakira=pd.read_csv(\"Data/YouTubeSpamCollection_FromUCI/Youtube05-Shakira.csv\")\n",
    "\n",
    "data=pd.concat([psy,kp,lmfao,eminem,shakira],axis=0,ignore_index=True)\n",
    "data.to_csv('JoinedTrainingData.csv')\n",
    "print('This is training data\\'s shape :',data.shape)"
   ]
  },
  {
   "cell_type": "markdown",
   "metadata": {},
   "source": [
    "###  Feature Engineering: \n"
   ]
  },
  {
   "cell_type": "markdown",
   "metadata": {},
   "source": [
    "Meta features - features that are extracted from the text like number of words, number of stop words, number of punctuations etc\n",
    "Text based features - features directly based on the text / words like frequency, svd, word2vec etc."
   ]
  },
  {
   "cell_type": "markdown",
   "metadata": {},
   "source": [
    "#### Length of comments"
   ]
  },
  {
   "cell_type": "code",
   "execution_count": 3,
   "metadata": {},
   "outputs": [],
   "source": [
    "# data['CommentLength']=data['CONTENT'].apply(len)\n",
    "# data.head(2)\n"
   ]
  },
  {
   "cell_type": "markdown",
   "metadata": {},
   "source": [
    "####  % of UpperCase letters"
   ]
  },
  {
   "cell_type": "code",
   "execution_count": 4,
   "metadata": {},
   "outputs": [
    {
     "data": {
      "text/html": [
       "<div>\n",
       "<style scoped>\n",
       "    .dataframe tbody tr th:only-of-type {\n",
       "        vertical-align: middle;\n",
       "    }\n",
       "\n",
       "    .dataframe tbody tr th {\n",
       "        vertical-align: top;\n",
       "    }\n",
       "\n",
       "    .dataframe thead th {\n",
       "        text-align: right;\n",
       "    }\n",
       "</style>\n",
       "<table border=\"1\" class=\"dataframe\">\n",
       "  <thead>\n",
       "    <tr style=\"text-align: right;\">\n",
       "      <th></th>\n",
       "      <th>COMMENT_ID</th>\n",
       "      <th>AUTHOR</th>\n",
       "      <th>DATE</th>\n",
       "      <th>CONTENT</th>\n",
       "      <th>CLASS</th>\n",
       "      <th>%OfUpperCaseLetters</th>\n",
       "    </tr>\n",
       "  </thead>\n",
       "  <tbody>\n",
       "    <tr>\n",
       "      <th>0</th>\n",
       "      <td>LZQPQhLyRh80UYxNuaDWhIGQYNQ96IuCg-AYWqNPjpU</td>\n",
       "      <td>Julius NM</td>\n",
       "      <td>2013-11-07T06:20:48</td>\n",
       "      <td>Huh, anyway check out this you[tube] channel: ...</td>\n",
       "      <td>1</td>\n",
       "      <td>1.79</td>\n",
       "    </tr>\n",
       "    <tr>\n",
       "      <th>1</th>\n",
       "      <td>LZQPQhLyRh_C2cTtd9MvFRJedxydaVW-2sNg5Diuo4A</td>\n",
       "      <td>adam riyati</td>\n",
       "      <td>2013-11-07T12:37:15</td>\n",
       "      <td>Hey guys check out my new channel and our firs...</td>\n",
       "      <td>1</td>\n",
       "      <td>12.05</td>\n",
       "    </tr>\n",
       "  </tbody>\n",
       "</table>\n",
       "</div>"
      ],
      "text/plain": [
       "                                    COMMENT_ID       AUTHOR  \\\n",
       "0  LZQPQhLyRh80UYxNuaDWhIGQYNQ96IuCg-AYWqNPjpU    Julius NM   \n",
       "1  LZQPQhLyRh_C2cTtd9MvFRJedxydaVW-2sNg5Diuo4A  adam riyati   \n",
       "\n",
       "                  DATE                                            CONTENT  \\\n",
       "0  2013-11-07T06:20:48  Huh, anyway check out this you[tube] channel: ...   \n",
       "1  2013-11-07T12:37:15  Hey guys check out my new channel and our firs...   \n",
       "\n",
       "   CLASS  %OfUpperCaseLetters  \n",
       "0      1                 1.79  \n",
       "1      1                12.05  "
      ]
     },
     "execution_count": 4,
     "metadata": {},
     "output_type": "execute_result"
    }
   ],
   "source": [
    "# Function to count capital letters\n",
    "def countCaps(comment):\n",
    "    count=0\n",
    "    for c in comment:\n",
    "        if c.isupper():\n",
    "            count+=1\n",
    "    return round(count*100/len(comment),2)\n",
    "        \n",
    "        \n",
    "\n",
    "data['%OfUpperCaseLetters']=data['CONTENT'].apply(countCaps)\n",
    "data.head(2)"
   ]
  },
  {
   "cell_type": "markdown",
   "metadata": {},
   "source": [
    "####  Find no. of URLs in comments"
   ]
  },
  {
   "cell_type": "code",
   "execution_count": 5,
   "metadata": {},
   "outputs": [],
   "source": [
    "pattern='(http|ftp|https)://([\\w_-]+(?:(?:\\.[\\w_-]+)+))([\\w.,@?^=%&:/~+#-]*[\\w@?^=%&/~+#-])?'\n",
    "\n",
    "data['NoOfURL']=data['CONTENT'].apply(lambda x: len(re.findall(pattern,x)))"
   ]
  },
  {
   "cell_type": "markdown",
   "metadata": {},
   "source": [
    "####  Avg length of each word"
   ]
  },
  {
   "cell_type": "code",
   "execution_count": 6,
   "metadata": {},
   "outputs": [],
   "source": [
    "def AvgLengthOfEachWord(comment):\n",
    "    return(round(mean([len(c) for c in comment.split(' ')]),2))\n",
    "\n",
    "data['AvgLengthOfEachWord']=data['CONTENT'].apply(AvgLengthOfEachWord)"
   ]
  },
  {
   "cell_type": "markdown",
   "metadata": {},
   "source": [
    "#### No. of stop words in each comment"
   ]
  },
  {
   "cell_type": "code",
   "execution_count": 7,
   "metadata": {},
   "outputs": [],
   "source": [
    "def NoOfStopWords(comment):\n",
    "    count=0\n",
    "    for word in comment:\n",
    "        if word in stopwords.words('english'):\n",
    "            count+=1\n",
    "    return round(count*100/len(comment),2)\n",
    "\n",
    "data['%OfNoOfStopWords']=data['CONTENT'].apply(NoOfStopWords)"
   ]
  },
  {
   "cell_type": "markdown",
   "metadata": {},
   "source": [
    "####  No. of sentences in each review"
   ]
  },
  {
   "cell_type": "code",
   "execution_count": 8,
   "metadata": {},
   "outputs": [],
   "source": [
    "# def NoOfSentences(comment):\n",
    "#     return(len(sent_tokenize(comment)))\n",
    "\n",
    "# data['NoOfSentences']=data['CONTENT'].apply(NoOfSentences)"
   ]
  },
  {
   "cell_type": "markdown",
   "metadata": {},
   "source": [
    "#### No. of words in each review"
   ]
  },
  {
   "cell_type": "code",
   "execution_count": 9,
   "metadata": {},
   "outputs": [],
   "source": [
    "def NoOfWords(comment):\n",
    "    return(len(word_tokenize(comment)))\n",
    "\n",
    "data['NoOfWords']=data['CONTENT'].apply(NoOfWords)"
   ]
  },
  {
   "cell_type": "markdown",
   "metadata": {},
   "source": [
    "####  No. of unique words"
   ]
  },
  {
   "cell_type": "code",
   "execution_count": 10,
   "metadata": {},
   "outputs": [],
   "source": [
    "def NoOfUniqueWords(comment):\n",
    "    \n",
    "    return(len(set(word_tokenize(comment)))/len(word_tokenize(comment)))\n",
    "\n",
    "data['%OfNoOfUniqueWords']=data['CONTENT'].apply(NoOfUniqueWords)"
   ]
  },
  {
   "cell_type": "code",
   "execution_count": 11,
   "metadata": {},
   "outputs": [
    {
     "data": {
      "text/plain": [
       "Index(['COMMENT_ID', 'AUTHOR', 'DATE', 'CONTENT', 'CLASS',\n",
       "       '%OfUpperCaseLetters', 'NoOfURL', 'AvgLengthOfEachWord',\n",
       "       '%OfNoOfStopWords', 'NoOfWords', '%OfNoOfUniqueWords'],\n",
       "      dtype='object')"
      ]
     },
     "execution_count": 11,
     "metadata": {},
     "output_type": "execute_result"
    }
   ],
   "source": [
    "data.columns"
   ]
  },
  {
   "cell_type": "markdown",
   "metadata": {},
   "source": [
    "####  Add features for readability, complexity and grade level (using Textstat library)"
   ]
  },
  {
   "cell_type": "code",
   "execution_count": 12,
   "metadata": {},
   "outputs": [],
   "source": [
    "data['AvgSentenceLength']=data['CONTENT'].apply(lambda x: textstat.avg_sentence_length(x))"
   ]
  },
  {
   "cell_type": "code",
   "execution_count": 13,
   "metadata": {},
   "outputs": [],
   "source": [
    "# data['FleschReadingEase']=data['CONTENT'].apply(lambda x: textstat.flesch_reading_ease(x))\n",
    "\n",
    "# data['GunningFog']=data['CONTENT'].apply(lambda x: textstat.gunning_fog(x))\n",
    "\n",
    "# data['SmogIndex']=data['CONTENT'].apply(lambda x: textstat.smog_index(x))\n",
    "\n",
    "# data['ARI']=data['CONTENT'].apply(lambda x: textstat.automated_readability_index(x))\n",
    "\n",
    "# data['ColemanLiauIndex']=data['CONTENT'].apply(lambda x: textstat.coleman_liau_index(x))"
   ]
  },
  {
   "cell_type": "code",
   "execution_count": 14,
   "metadata": {},
   "outputs": [
    {
     "data": {
      "text/html": [
       "<div>\n",
       "<style scoped>\n",
       "    .dataframe tbody tr th:only-of-type {\n",
       "        vertical-align: middle;\n",
       "    }\n",
       "\n",
       "    .dataframe tbody tr th {\n",
       "        vertical-align: top;\n",
       "    }\n",
       "\n",
       "    .dataframe thead th {\n",
       "        text-align: right;\n",
       "    }\n",
       "</style>\n",
       "<table border=\"1\" class=\"dataframe\">\n",
       "  <thead>\n",
       "    <tr style=\"text-align: right;\">\n",
       "      <th></th>\n",
       "      <th>COMMENT_ID</th>\n",
       "      <th>AUTHOR</th>\n",
       "      <th>DATE</th>\n",
       "      <th>CONTENT</th>\n",
       "      <th>CLASS</th>\n",
       "      <th>%OfUpperCaseLetters</th>\n",
       "      <th>NoOfURL</th>\n",
       "      <th>AvgLengthOfEachWord</th>\n",
       "      <th>%OfNoOfStopWords</th>\n",
       "      <th>NoOfWords</th>\n",
       "      <th>%OfNoOfUniqueWords</th>\n",
       "      <th>AvgSentenceLength</th>\n",
       "      <th>TextStandard</th>\n",
       "    </tr>\n",
       "  </thead>\n",
       "  <tbody>\n",
       "    <tr>\n",
       "      <th>0</th>\n",
       "      <td>LZQPQhLyRh80UYxNuaDWhIGQYNQ96IuCg-AYWqNPjpU</td>\n",
       "      <td>Julius NM</td>\n",
       "      <td>2013-11-07T06:20:48</td>\n",
       "      <td>Huh, anyway check out this you[tube] channel: ...</td>\n",
       "      <td>1</td>\n",
       "      <td>1.79</td>\n",
       "      <td>0</td>\n",
       "      <td>6.12</td>\n",
       "      <td>32.14</td>\n",
       "      <td>13</td>\n",
       "      <td>1.000</td>\n",
       "      <td>8.0</td>\n",
       "      <td>3.0</td>\n",
       "    </tr>\n",
       "    <tr>\n",
       "      <th>1</th>\n",
       "      <td>LZQPQhLyRh_C2cTtd9MvFRJedxydaVW-2sNg5Diuo4A</td>\n",
       "      <td>adam riyati</td>\n",
       "      <td>2013-11-07T12:37:15</td>\n",
       "      <td>Hey guys check out my new channel and our firs...</td>\n",
       "      <td>1</td>\n",
       "      <td>12.05</td>\n",
       "      <td>0</td>\n",
       "      <td>4.22</td>\n",
       "      <td>26.51</td>\n",
       "      <td>40</td>\n",
       "      <td>0.775</td>\n",
       "      <td>15.0</td>\n",
       "      <td>6.0</td>\n",
       "    </tr>\n",
       "  </tbody>\n",
       "</table>\n",
       "</div>"
      ],
      "text/plain": [
       "                                    COMMENT_ID       AUTHOR  \\\n",
       "0  LZQPQhLyRh80UYxNuaDWhIGQYNQ96IuCg-AYWqNPjpU    Julius NM   \n",
       "1  LZQPQhLyRh_C2cTtd9MvFRJedxydaVW-2sNg5Diuo4A  adam riyati   \n",
       "\n",
       "                  DATE                                            CONTENT  \\\n",
       "0  2013-11-07T06:20:48  Huh, anyway check out this you[tube] channel: ...   \n",
       "1  2013-11-07T12:37:15  Hey guys check out my new channel and our firs...   \n",
       "\n",
       "   CLASS  %OfUpperCaseLetters  NoOfURL  AvgLengthOfEachWord  %OfNoOfStopWords  \\\n",
       "0      1                 1.79        0                 6.12             32.14   \n",
       "1      1                12.05        0                 4.22             26.51   \n",
       "\n",
       "   NoOfWords  %OfNoOfUniqueWords  AvgSentenceLength  TextStandard  \n",
       "0         13               1.000                8.0           3.0  \n",
       "1         40               0.775               15.0           6.0  "
      ]
     },
     "execution_count": 14,
     "metadata": {},
     "output_type": "execute_result"
    }
   ],
   "source": [
    "data['TextStandard']=data['CONTENT'].apply(lambda x: textstat.text_standard(x,float_output=True))\n",
    "data.head(2)"
   ]
  },
  {
   "cell_type": "code",
   "execution_count": 15,
   "metadata": {},
   "outputs": [
    {
     "data": {
      "image/png": "[encoded data removed]",
      "text/plain": [
       "<Figure size 432x288 with 2 Axes>"
      ]
     },
     "metadata": {
      "needs_background": "light"
     },
     "output_type": "display_data"
    }
   ],
   "source": [
    "corr=data.corr()\n",
    "\n",
    "ax = sns.heatmap(\n",
    "    corr, \n",
    "    vmin=-1, vmax=1, center=0,\n",
    "    cmap=sns.diverging_palette(20, 220, n=200),\n",
    "    square=False\n",
    ")\n",
    "ax.set_xticklabels(\n",
    "    ax.get_xticklabels(),\n",
    "    rotation=45,\n",
    "    horizontalalignment='right'\n",
    ");"
   ]
  },
  {
   "cell_type": "markdown",
   "metadata": {},
   "source": [
    "### Clean-up comments"
   ]
  },
  {
   "cell_type": "code",
   "execution_count": 16,
   "metadata": {},
   "outputs": [],
   "source": [
    "# lemmatize as per part of speech of the word\n",
    "# It may not be possible manually provide the corrent POS tag for every word for large texts.\n",
    "# So, instead, we will find out the correct POS tag for each word, map it to the right input character\n",
    "# that the WordnetLemmatizer accepts and pass it as the second argument to lemmatize().\n",
    "\n",
    "def lemmatize(cleanTextList):\n",
    "    \n",
    "#     Create a dictionary to map POS\n",
    "    wordnet_map = {\"N\":wordnet.NOUN, \"V\":wordnet.VERB, \"J\":wordnet.ADJ, \"R\":wordnet.ADV}\n",
    "    \n",
    "#     tag part of speech for each word\n",
    "    pos_tagged_text = nltk.pos_tag(cleanTextList)\n",
    "    lemmatizer=WordNetLemmatizer()\n",
    "    \n",
    "    return \" \".join([lemmatizer.lemmatize(word, wordnet_map.get(pos[0], wordnet.NOUN)) for word, pos in pos_tagged_text])"
   ]
  },
  {
   "cell_type": "code",
   "execution_count": 17,
   "metadata": {},
   "outputs": [],
   "source": [
    "def correct_spellings(wordList):\n",
    "    spell = SpellChecker()\n",
    "    corrected_text = []\n",
    "    \n",
    "    # find those words that may be misspelled\n",
    "    misspelled = spell.unknown(wordList.split())\n",
    "    \n",
    "    for word in wordList.split():\n",
    "        if word in misspelled:\n",
    "            corrected_text.append(spell.correction(word))\n",
    "        else:\n",
    "            corrected_text.append(word)\n",
    "    return ' '.join(corrected_text)\n"
   ]
  },
  {
   "cell_type": "code",
   "execution_count": 18,
   "metadata": {},
   "outputs": [
    {
     "data": {
      "text/plain": [
       "'couture'"
      ]
     },
     "execution_count": 18,
     "metadata": {},
     "output_type": "execute_result"
    }
   ],
   "source": [
    "correct_spellings('youtube')"
   ]
  },
  {
   "cell_type": "markdown",
   "metadata": {},
   "source": [
    "List of cleaning items:\n",
    "- Remove URLs\n",
    "- Remove html tags\n",
    "- Remove Emojis\n",
    "- Convert to lower case\n",
    "- Remove non-english characters\n",
    "- Replace all the digits with 9\n",
    "- Remove stop-words\n",
    "- Remove punctuations \n",
    "- Replace ascent characters\n",
    "- Lemmatize words\n",
    "- Correct spelling mistakes\n"
   ]
  },
  {
   "cell_type": "code",
   "execution_count": 20,
   "metadata": {},
   "outputs": [],
   "source": [
    "def cleanComment(comment):\n",
    "    try:\n",
    "    #   Remove URLS\n",
    "        pattern1='https?:\\/\\/(?:www\\.|(?!www))[a-zA-Z0-9][a-zA-Z0-9-]+[a-zA-Z0-9]\\.[^\\s]{2,}|www\\.[-zA-Z0-9][a-zA-Z0-9-]+[a-zA-Z0-9]\\.[^\\s]{2,}|https?:\\/\\/(?:www\\.|(?!www))[a-zA-Z0-9]+\\.[^\\s]{2,}|www\\.[a-zA-Z0-9]+\\.[^\\s]{2,}'        \n",
    "        comment=re.sub(pattern1,' ',comment)\n",
    "        \n",
    "    #   Remove html tags\n",
    "        comment=re.sub('<[^<]+?>', '', comment)\n",
    "        \n",
    "    #   Remove \\ufeff    \n",
    "        comment=comment.replace(u'\\ufeff', '')\n",
    "        \n",
    "    #   Replace Emojis with text\n",
    "        comment=emoji.demojize(comment, delimiters=(\"\", \"\"))\n",
    "        \n",
    "    #   turn to lowercase\n",
    "        comment=comment.lower()\n",
    "        \n",
    "    #   Replace digits with 9s\n",
    "        comment=re.sub(r'\\d','9',comment)\n",
    "        \n",
    "    #   Remove non-english words\n",
    "    #   Reference:https://datascience.stackexchange.com/questions/46705/to-remove-chinese-characters-as-features\n",
    "        comment = re.sub(\"([^\\x00-\\x7F])+\",\" \",comment)\n",
    "\n",
    "    #   Tokenize to words\n",
    "        wordList=word_tokenize(comment)\n",
    "\n",
    "    #   Remove english stopwords\n",
    "        wordList=[word for word in wordList if word not in stopwords.words('english')]\n",
    "\n",
    "    #   Remove punctuations\n",
    "        wordList=[word for word in wordList if word not in string.punctuation]\n",
    "\n",
    "    #   Convert ascent characters to their normal english characters\n",
    "    #   Reference: https://towardsdatascience.com/a-practitioners-guide-to-natural-language-processing-part-i-processing-understanding-text-9f4abfd13e72\n",
    "        cleanedTextList=[unicodedata.normalize('NFKD',word).encode('ascii', 'ignore').decode('utf-8', 'ignore') \\\n",
    "                  for word in wordList]\n",
    "        \n",
    "    #   Lemmatize\n",
    "        lemmatizedText=lemmatize(cleanedTextList)\n",
    "\n",
    "    #   Spell Correction\n",
    "    #   correctedText=correct_spellings(lemmatizedText)\n",
    "\n",
    "        return lemmatizedText\n",
    "    except:\n",
    "        print(comment)\n",
    "            "
   ]
  },
  {
   "cell_type": "code",
   "execution_count": 21,
   "metadata": {},
   "outputs": [
    {
     "data": {
      "application/vnd.jupyter.widget-view+json": {
       "model_id": "06149f06651049d18965b8edf833aa79",
       "version_major": 2,
       "version_minor": 0
      },
      "text/plain": [
       "HBox(children=(IntProgress(value=1, bar_style='info', max=1), HTML(value='')))"
      ]
     },
     "metadata": {},
     "output_type": "display_data"
    },
    {
     "name": "stdout",
     "output_type": "stream",
     "text": [
      "\n"
     ]
    },
    {
     "data": {
      "application/vnd.jupyter.widget-view+json": {
       "model_id": "196e9ea1322749339bb49a7a0aee694f",
       "version_major": 2,
       "version_minor": 0
      },
      "text/plain": [
       "HBox(children=(IntProgress(value=0, max=1956), HTML(value='')))"
      ]
     },
     "metadata": {},
     "output_type": "display_data"
    },
    {
     "name": "stdout",
     "output_type": "stream",
     "text": [
      "\n"
     ]
    }
   ],
   "source": [
    "tqdm_notebook().pandas()\n",
    "data['CleanWordList']=data['CONTENT'].progress_apply(lambda x: cleanComment(x));"
   ]
  },
  {
   "cell_type": "code",
   "execution_count": 22,
   "metadata": {},
   "outputs": [
    {
     "data": {
      "text/plain": [
       "(1956, 14)"
      ]
     },
     "execution_count": 22,
     "metadata": {},
     "output_type": "execute_result"
    }
   ],
   "source": [
    "# Drop rows with no comment \n",
    "data.dropna(subset=['CleanWordList'],inplace=True)\n",
    "data.shape"
   ]
  },
  {
   "cell_type": "code",
   "execution_count": 23,
   "metadata": {},
   "outputs": [],
   "source": [
    "data.to_csv('Data/cleanedData.csv',index=False)"
   ]
  },
  {
   "cell_type": "code",
   "execution_count": 24,
   "metadata": {},
   "outputs": [
    {
     "data": {
      "text/html": [
       "<div>\n",
       "<style scoped>\n",
       "    .dataframe tbody tr th:only-of-type {\n",
       "        vertical-align: middle;\n",
       "    }\n",
       "\n",
       "    .dataframe tbody tr th {\n",
       "        vertical-align: top;\n",
       "    }\n",
       "\n",
       "    .dataframe thead th {\n",
       "        text-align: right;\n",
       "    }\n",
       "</style>\n",
       "<table border=\"1\" class=\"dataframe\">\n",
       "  <thead>\n",
       "    <tr style=\"text-align: right;\">\n",
       "      <th></th>\n",
       "      <th>COMMENT_ID</th>\n",
       "      <th>AUTHOR</th>\n",
       "      <th>DATE</th>\n",
       "      <th>CONTENT</th>\n",
       "      <th>CLASS</th>\n",
       "      <th>%OfUpperCaseLetters</th>\n",
       "      <th>NoOfURL</th>\n",
       "      <th>AvgLengthOfEachWord</th>\n",
       "      <th>%OfNoOfStopWords</th>\n",
       "      <th>NoOfWords</th>\n",
       "      <th>%OfNoOfUniqueWords</th>\n",
       "      <th>AvgSentenceLength</th>\n",
       "      <th>TextStandard</th>\n",
       "      <th>CleanWordList</th>\n",
       "    </tr>\n",
       "  </thead>\n",
       "  <tbody>\n",
       "    <tr>\n",
       "      <th>0</th>\n",
       "      <td>LZQPQhLyRh80UYxNuaDWhIGQYNQ96IuCg-AYWqNPjpU</td>\n",
       "      <td>Julius NM</td>\n",
       "      <td>2013-11-07T06:20:48</td>\n",
       "      <td>Huh, anyway check out this you[tube] channel: ...</td>\n",
       "      <td>1</td>\n",
       "      <td>1.79</td>\n",
       "      <td>0</td>\n",
       "      <td>6.12</td>\n",
       "      <td>32.14</td>\n",
       "      <td>13</td>\n",
       "      <td>1.000</td>\n",
       "      <td>8.0</td>\n",
       "      <td>3.0</td>\n",
       "      <td>huh anyway check tube channel kobyoshi99</td>\n",
       "    </tr>\n",
       "    <tr>\n",
       "      <th>1</th>\n",
       "      <td>LZQPQhLyRh_C2cTtd9MvFRJedxydaVW-2sNg5Diuo4A</td>\n",
       "      <td>adam riyati</td>\n",
       "      <td>2013-11-07T12:37:15</td>\n",
       "      <td>Hey guys check out my new channel and our firs...</td>\n",
       "      <td>1</td>\n",
       "      <td>12.05</td>\n",
       "      <td>0</td>\n",
       "      <td>4.22</td>\n",
       "      <td>26.51</td>\n",
       "      <td>40</td>\n",
       "      <td>0.775</td>\n",
       "      <td>15.0</td>\n",
       "      <td>6.0</td>\n",
       "      <td>hey guy check new channel first vid u monkey '...</td>\n",
       "    </tr>\n",
       "  </tbody>\n",
       "</table>\n",
       "</div>"
      ],
      "text/plain": [
       "                                    COMMENT_ID       AUTHOR  \\\n",
       "0  LZQPQhLyRh80UYxNuaDWhIGQYNQ96IuCg-AYWqNPjpU    Julius NM   \n",
       "1  LZQPQhLyRh_C2cTtd9MvFRJedxydaVW-2sNg5Diuo4A  adam riyati   \n",
       "\n",
       "                  DATE                                            CONTENT  \\\n",
       "0  2013-11-07T06:20:48  Huh, anyway check out this you[tube] channel: ...   \n",
       "1  2013-11-07T12:37:15  Hey guys check out my new channel and our firs...   \n",
       "\n",
       "   CLASS  %OfUpperCaseLetters  NoOfURL  AvgLengthOfEachWord  %OfNoOfStopWords  \\\n",
       "0      1                 1.79        0                 6.12             32.14   \n",
       "1      1                12.05        0                 4.22             26.51   \n",
       "\n",
       "   NoOfWords  %OfNoOfUniqueWords  AvgSentenceLength  TextStandard  \\\n",
       "0         13               1.000                8.0           3.0   \n",
       "1         40               0.775               15.0           6.0   \n",
       "\n",
       "                                       CleanWordList  \n",
       "0           huh anyway check tube channel kobyoshi99  \n",
       "1  hey guy check new channel first vid u monkey '...  "
      ]
     },
     "execution_count": 24,
     "metadata": {},
     "output_type": "execute_result"
    }
   ],
   "source": [
    "data=pd.read_csv('Data/cleanedData.csv')\n",
    "data.head(2)"
   ]
  },
  {
   "cell_type": "code",
   "execution_count": 25,
   "metadata": {},
   "outputs": [
    {
     "data": {
      "text/plain": [
       "(1898, 14)"
      ]
     },
     "execution_count": 25,
     "metadata": {},
     "output_type": "execute_result"
    }
   ],
   "source": [
    "data.dropna(subset=['CleanWordList'],inplace=True)\n",
    "data.shape"
   ]
  }
 ],
 "metadata": {
  "kernelspec": {
   "display_name": "Python 3",
   "language": "python",
   "name": "python3"
  },
  "language_info": {
   "codemirror_mode": {
    "name": "ipython",
    "version": 3
   },
   "file_extension": ".py",
   "mimetype": "text/x-python",
   "name": "python",
   "nbconvert_exporter": "python",
   "pygments_lexer": "ipython3",
   "version": "3.7.3"
  },
  "toc": {
   "base_numbering": 1,
   "nav_menu": {},
   "number_sections": true,
   "sideBar": true,
   "skip_h1_title": false,
   "title_cell": "Table of Contents",
   "title_sidebar": "Contents",
   "toc_cell": false,
   "toc_position": {
    "height": "477px",
    "left": "24px",
    "top": "110px",
    "width": "320.172px"
   },
   "toc_section_display": true,
   "toc_window_display": true
  }
 },
 "nbformat": 4,
 "nbformat_minor": 2
}
