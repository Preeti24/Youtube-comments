{
 "cells": [
  {
   "cell_type": "code",
   "execution_count": 1,
   "metadata": {},
   "outputs": [],
   "source": [
    "import pandas as pd\n",
    "import numpy as np\n",
    "import re\n",
    "import string\n",
    "\n",
    "import nltk\n",
    "from nltk.corpus import stopwords\n",
    "# from pattern.es import lemma\n",
    "from nltk.stem import WordNetLemmatizer\n",
    "\n",
    "# from nltk.stem import PorterStemmer\n",
    "from nltk.tokenize import sent_tokenize, word_tokenize\n",
    "\n",
    "from sklearn.feature_extraction.text import TfidfVectorizer,CountVectorizer,TfidfTransformer\n",
    "\n",
    "from sklearn.pipeline import Pipeline\n",
    "from sklearn.ensemble import RandomForestClassifier,RandomForestRegressor\n",
    "from sklearn.model_selection import KFold, GridSearchCV, cross_val_score,train_test_split\n",
    "from sklearn import metrics\n",
    "from sklearn.naive_bayes import GaussianNB,MultinomialNB\n",
    "from sklearn.linear_model import LogisticRegression\n",
    "\n",
    "from xgboost import XGBClassifier\n",
    "import matplotlib.pyplot as plt\n",
    "import seaborn as sns\n",
    "# plt.figure(figsize=(15,15))\n",
    "# :rc:`figure.figsize` = ``[6.4, 4.8]``.\n",
    "plt.rcParams['figure.figsize']=(15,5)\n",
    "\n",
    "\n",
    "import joblib\n",
    "from tqdm import tqdm, tqdm_notebook\n",
    "\n",
    "from statistics import mean\n",
    "import re\n",
    "# nltk.download('punkt')\n",
    "import unicodedata\n",
    "# nltk.download('averaged_perceptron_tagger')\n",
    "from nltk.corpus import wordnet\n",
    "from spellchecker import SpellChecker\n",
    "import emoji\n",
    "import textstat\n",
    "from wordcloud import WordCloud\n",
    "\n",
    "from sklearn.metrics import classification_report"
   ]
  },
  {
   "cell_type": "code",
   "execution_count": 2,
   "metadata": {},
   "outputs": [
    {
     "name": "stdout",
     "output_type": "stream",
     "text": [
      "This is training data's shape : (1956, 5)\n"
     ]
    }
   ],
   "source": [
    "psy=pd.read_csv(\"Data/YouTubeSpamCollection_FromUCI/Youtube01-Psy.csv\")\n",
    "kp=pd.read_csv(\"Data/YouTubeSpamCollection_FromUCI/Youtube02-KatyPerry.csv\")\n",
    "lmfao=pd.read_csv(\"Data/YouTubeSpamCollection_FromUCI/Youtube03-LMFAO.csv\")\n",
    "eminem=pd.read_csv(\"Data/YouTubeSpamCollection_FromUCI/Youtube04-Eminem.csv\")\n",
    "shakira=pd.read_csv(\"Data/YouTubeSpamCollection_FromUCI/Youtube05-Shakira.csv\")\n",
    "\n",
    "data=pd.concat([psy,kp,lmfao,eminem,shakira],axis=0,ignore_index=True)\n",
    "data.to_csv('JoinedTrainingData.csv')\n",
    "print('This is training data\\'s shape :',data.shape)"
   ]
  },
  {
   "cell_type": "markdown",
   "metadata": {},
   "source": [
    "###  Feature Engineering: \n"
   ]
  },
  {
   "cell_type": "markdown",
   "metadata": {},
   "source": [
    "Meta features - features that are extracted from the text like number of words, number of stop words, number of punctuations etc\n",
    "Text based features - features directly based on the text / words like frequency, svd, word2vec etc."
   ]
  },
  {
   "cell_type": "markdown",
   "metadata": {},
   "source": [
    "#### Length of comments"
   ]
  },
  {
   "cell_type": "code",
   "execution_count": 3,
   "metadata": {},
   "outputs": [
    {
     "data": {
      "text/html": [
       "<div>\n",
       "<style scoped>\n",
       "    .dataframe tbody tr th:only-of-type {\n",
       "        vertical-align: middle;\n",
       "    }\n",
       "\n",
       "    .dataframe tbody tr th {\n",
       "        vertical-align: top;\n",
       "    }\n",
       "\n",
       "    .dataframe thead th {\n",
       "        text-align: right;\n",
       "    }\n",
       "</style>\n",
       "<table border=\"1\" class=\"dataframe\">\n",
       "  <thead>\n",
       "    <tr style=\"text-align: right;\">\n",
       "      <th></th>\n",
       "      <th>COMMENT_ID</th>\n",
       "      <th>AUTHOR</th>\n",
       "      <th>DATE</th>\n",
       "      <th>CONTENT</th>\n",
       "      <th>CLASS</th>\n",
       "      <th>CommentLength</th>\n",
       "    </tr>\n",
       "  </thead>\n",
       "  <tbody>\n",
       "    <tr>\n",
       "      <th>0</th>\n",
       "      <td>LZQPQhLyRh80UYxNuaDWhIGQYNQ96IuCg-AYWqNPjpU</td>\n",
       "      <td>Julius NM</td>\n",
       "      <td>2013-11-07T06:20:48</td>\n",
       "      <td>Huh, anyway check out this you[tube] channel: ...</td>\n",
       "      <td>1</td>\n",
       "      <td>56</td>\n",
       "    </tr>\n",
       "    <tr>\n",
       "      <th>1</th>\n",
       "      <td>LZQPQhLyRh_C2cTtd9MvFRJedxydaVW-2sNg5Diuo4A</td>\n",
       "      <td>adam riyati</td>\n",
       "      <td>2013-11-07T12:37:15</td>\n",
       "      <td>Hey guys check out my new channel and our firs...</td>\n",
       "      <td>1</td>\n",
       "      <td>166</td>\n",
       "    </tr>\n",
       "  </tbody>\n",
       "</table>\n",
       "</div>"
      ],
      "text/plain": [
       "                                    COMMENT_ID       AUTHOR  \\\n",
       "0  LZQPQhLyRh80UYxNuaDWhIGQYNQ96IuCg-AYWqNPjpU    Julius NM   \n",
       "1  LZQPQhLyRh_C2cTtd9MvFRJedxydaVW-2sNg5Diuo4A  adam riyati   \n",
       "\n",
       "                  DATE                                            CONTENT  \\\n",
       "0  2013-11-07T06:20:48  Huh, anyway check out this you[tube] channel: ...   \n",
       "1  2013-11-07T12:37:15  Hey guys check out my new channel and our firs...   \n",
       "\n",
       "   CLASS  CommentLength  \n",
       "0      1             56  \n",
       "1      1            166  "
      ]
     },
     "execution_count": 3,
     "metadata": {},
     "output_type": "execute_result"
    }
   ],
   "source": [
    "data['CommentLength']=data['CONTENT'].apply(len)\n",
    "data.head(2)\n"
   ]
  },
  {
   "cell_type": "code",
   "execution_count": 4,
   "metadata": {},
   "outputs": [],
   "source": [
    "# sns.boxplot(y=data['CommentLength'],x=data['CLASS'],data=data,fliersize =1);"
   ]
  },
  {
   "cell_type": "code",
   "execution_count": 5,
   "metadata": {},
   "outputs": [],
   "source": [
    "# filt=data['CommentLength']>1000\n",
    "# data.loc[filt,'CONTENT']"
   ]
  },
  {
   "cell_type": "code",
   "execution_count": 6,
   "metadata": {},
   "outputs": [],
   "source": [
    "# data.iloc[1407,3]"
   ]
  },
  {
   "cell_type": "markdown",
   "metadata": {},
   "source": [
    "Can do >200 as 1 else 0?"
   ]
  },
  {
   "cell_type": "markdown",
   "metadata": {},
   "source": [
    "####  % of UpperCase letters"
   ]
  },
  {
   "cell_type": "code",
   "execution_count": 7,
   "metadata": {},
   "outputs": [
    {
     "data": {
      "text/html": [
       "<div>\n",
       "<style scoped>\n",
       "    .dataframe tbody tr th:only-of-type {\n",
       "        vertical-align: middle;\n",
       "    }\n",
       "\n",
       "    .dataframe tbody tr th {\n",
       "        vertical-align: top;\n",
       "    }\n",
       "\n",
       "    .dataframe thead th {\n",
       "        text-align: right;\n",
       "    }\n",
       "</style>\n",
       "<table border=\"1\" class=\"dataframe\">\n",
       "  <thead>\n",
       "    <tr style=\"text-align: right;\">\n",
       "      <th></th>\n",
       "      <th>COMMENT_ID</th>\n",
       "      <th>AUTHOR</th>\n",
       "      <th>DATE</th>\n",
       "      <th>CONTENT</th>\n",
       "      <th>CLASS</th>\n",
       "      <th>CommentLength</th>\n",
       "      <th>%OfUpperCaseLetters</th>\n",
       "    </tr>\n",
       "  </thead>\n",
       "  <tbody>\n",
       "    <tr>\n",
       "      <th>0</th>\n",
       "      <td>LZQPQhLyRh80UYxNuaDWhIGQYNQ96IuCg-AYWqNPjpU</td>\n",
       "      <td>Julius NM</td>\n",
       "      <td>2013-11-07T06:20:48</td>\n",
       "      <td>Huh, anyway check out this you[tube] channel: ...</td>\n",
       "      <td>1</td>\n",
       "      <td>56</td>\n",
       "      <td>1.79</td>\n",
       "    </tr>\n",
       "    <tr>\n",
       "      <th>1</th>\n",
       "      <td>LZQPQhLyRh_C2cTtd9MvFRJedxydaVW-2sNg5Diuo4A</td>\n",
       "      <td>adam riyati</td>\n",
       "      <td>2013-11-07T12:37:15</td>\n",
       "      <td>Hey guys check out my new channel and our firs...</td>\n",
       "      <td>1</td>\n",
       "      <td>166</td>\n",
       "      <td>12.05</td>\n",
       "    </tr>\n",
       "  </tbody>\n",
       "</table>\n",
       "</div>"
      ],
      "text/plain": [
       "                                    COMMENT_ID       AUTHOR  \\\n",
       "0  LZQPQhLyRh80UYxNuaDWhIGQYNQ96IuCg-AYWqNPjpU    Julius NM   \n",
       "1  LZQPQhLyRh_C2cTtd9MvFRJedxydaVW-2sNg5Diuo4A  adam riyati   \n",
       "\n",
       "                  DATE                                            CONTENT  \\\n",
       "0  2013-11-07T06:20:48  Huh, anyway check out this you[tube] channel: ...   \n",
       "1  2013-11-07T12:37:15  Hey guys check out my new channel and our firs...   \n",
       "\n",
       "   CLASS  CommentLength  %OfUpperCaseLetters  \n",
       "0      1             56                 1.79  \n",
       "1      1            166                12.05  "
      ]
     },
     "execution_count": 7,
     "metadata": {},
     "output_type": "execute_result"
    }
   ],
   "source": [
    "# Function to count capital letters\n",
    "def countCaps(comment):\n",
    "    count=0\n",
    "    for c in comment:\n",
    "        if c.isupper():\n",
    "            count+=1\n",
    "    return round(count*100/len(comment),2)\n",
    "        \n",
    "        \n",
    "\n",
    "data['%OfUpperCaseLetters']=data['CONTENT'].apply(countCaps)\n",
    "data.head(2)"
   ]
  },
  {
   "cell_type": "markdown",
   "metadata": {},
   "source": [
    "####  Find no. of URLs in comments"
   ]
  },
  {
   "cell_type": "code",
   "execution_count": 8,
   "metadata": {},
   "outputs": [],
   "source": [
    "pattern='(http|ftp|https)://([\\w_-]+(?:(?:\\.[\\w_-]+)+))([\\w.,@?^=%&:/~+#-]*[\\w@?^=%&/~+#-])?'\n",
    "\n",
    "data['NoOfURL']=data['CONTENT'].apply(lambda x: len(re.findall(pattern,x)))"
   ]
  },
  {
   "cell_type": "markdown",
   "metadata": {},
   "source": [
    "####  Avg length of each word"
   ]
  },
  {
   "cell_type": "code",
   "execution_count": 9,
   "metadata": {},
   "outputs": [],
   "source": [
    "def AvgLengthOfEachWord(comment):\n",
    "    return(round(mean([len(c) for c in comment.split(' ')]),2))\n",
    "\n",
    "data['AvgLengthOfEachWord']=data['CONTENT'].apply(AvgLengthOfEachWord)"
   ]
  },
  {
   "cell_type": "markdown",
   "metadata": {},
   "source": [
    "#### No. of stop words in each comment"
   ]
  },
  {
   "cell_type": "code",
   "execution_count": 10,
   "metadata": {},
   "outputs": [],
   "source": [
    "def NoOfStopWords(comment):\n",
    "    count=0\n",
    "    for word in comment:\n",
    "        if word in stopwords.words('english'):\n",
    "            count+=1\n",
    "    return count\n",
    "\n",
    "data['NoOfStopWords']=data['CONTENT'].apply(NoOfStopWords)"
   ]
  },
  {
   "cell_type": "markdown",
   "metadata": {},
   "source": [
    "####  No. of sentences in each review"
   ]
  },
  {
   "cell_type": "code",
   "execution_count": 11,
   "metadata": {},
   "outputs": [],
   "source": [
    "def NoOfSentences(comment):\n",
    "    return(len(sent_tokenize(comment)))\n",
    "\n",
    "data['NoOfSentences']=data['CONTENT'].apply(NoOfSentences)"
   ]
  },
  {
   "cell_type": "markdown",
   "metadata": {},
   "source": [
    "#### No. of words in each review"
   ]
  },
  {
   "cell_type": "code",
   "execution_count": 12,
   "metadata": {},
   "outputs": [],
   "source": [
    "def NoOfWords(comment):\n",
    "    return(len(word_tokenize(comment)))\n",
    "\n",
    "data['NoOfWords']=data['CONTENT'].apply(NoOfWords)"
   ]
  },
  {
   "cell_type": "markdown",
   "metadata": {},
   "source": [
    "####  No. of unique words"
   ]
  },
  {
   "cell_type": "code",
   "execution_count": 13,
   "metadata": {},
   "outputs": [],
   "source": [
    "def NoOfUniqueWords(comment):\n",
    "    \n",
    "    return(len(set(word_tokenize(comment))))\n",
    "\n",
    "data['NoOfUniqueWords']=data['CONTENT'].apply(NoOfUniqueWords)"
   ]
  },
  {
   "cell_type": "code",
   "execution_count": 14,
   "metadata": {},
   "outputs": [
    {
     "data": {
      "text/plain": [
       "Index(['COMMENT_ID', 'AUTHOR', 'DATE', 'CONTENT', 'CLASS', 'CommentLength',\n",
       "       '%OfUpperCaseLetters', 'NoOfURL', 'AvgLengthOfEachWord',\n",
       "       'NoOfStopWords', 'NoOfSentences', 'NoOfWords', 'NoOfUniqueWords'],\n",
       "      dtype='object')"
      ]
     },
     "execution_count": 14,
     "metadata": {},
     "output_type": "execute_result"
    }
   ],
   "source": [
    "data.columns"
   ]
  },
  {
   "cell_type": "code",
   "execution_count": 15,
   "metadata": {},
   "outputs": [
    {
     "data": {
      "text/html": [
       "<div>\n",
       "<style scoped>\n",
       "    .dataframe tbody tr th:only-of-type {\n",
       "        vertical-align: middle;\n",
       "    }\n",
       "\n",
       "    .dataframe tbody tr th {\n",
       "        vertical-align: top;\n",
       "    }\n",
       "\n",
       "    .dataframe thead th {\n",
       "        text-align: right;\n",
       "    }\n",
       "</style>\n",
       "<table border=\"1\" class=\"dataframe\">\n",
       "  <thead>\n",
       "    <tr style=\"text-align: right;\">\n",
       "      <th></th>\n",
       "      <th>COMMENT_ID</th>\n",
       "      <th>AUTHOR</th>\n",
       "      <th>DATE</th>\n",
       "      <th>CONTENT</th>\n",
       "      <th>CLASS</th>\n",
       "      <th>CommentLength</th>\n",
       "      <th>%OfUpperCaseLetters</th>\n",
       "      <th>NoOfURL</th>\n",
       "      <th>AvgLengthOfEachWord</th>\n",
       "      <th>NoOfStopWords</th>\n",
       "      <th>NoOfSentences</th>\n",
       "      <th>NoOfWords</th>\n",
       "      <th>NoOfUniqueWords</th>\n",
       "    </tr>\n",
       "  </thead>\n",
       "  <tbody>\n",
       "    <tr>\n",
       "      <th>0</th>\n",
       "      <td>LZQPQhLyRh80UYxNuaDWhIGQYNQ96IuCg-AYWqNPjpU</td>\n",
       "      <td>Julius NM</td>\n",
       "      <td>2013-11-07T06:20:48</td>\n",
       "      <td>Huh, anyway check out this you[tube] channel: ...</td>\n",
       "      <td>1</td>\n",
       "      <td>56</td>\n",
       "      <td>1.79</td>\n",
       "      <td>0</td>\n",
       "      <td>6.12</td>\n",
       "      <td>18</td>\n",
       "      <td>1</td>\n",
       "      <td>13</td>\n",
       "      <td>13</td>\n",
       "    </tr>\n",
       "    <tr>\n",
       "      <th>1</th>\n",
       "      <td>LZQPQhLyRh_C2cTtd9MvFRJedxydaVW-2sNg5Diuo4A</td>\n",
       "      <td>adam riyati</td>\n",
       "      <td>2013-11-07T12:37:15</td>\n",
       "      <td>Hey guys check out my new channel and our firs...</td>\n",
       "      <td>1</td>\n",
       "      <td>166</td>\n",
       "      <td>12.05</td>\n",
       "      <td>0</td>\n",
       "      <td>4.22</td>\n",
       "      <td>44</td>\n",
       "      <td>3</td>\n",
       "      <td>40</td>\n",
       "      <td>31</td>\n",
       "    </tr>\n",
       "  </tbody>\n",
       "</table>\n",
       "</div>"
      ],
      "text/plain": [
       "                                    COMMENT_ID       AUTHOR  \\\n",
       "0  LZQPQhLyRh80UYxNuaDWhIGQYNQ96IuCg-AYWqNPjpU    Julius NM   \n",
       "1  LZQPQhLyRh_C2cTtd9MvFRJedxydaVW-2sNg5Diuo4A  adam riyati   \n",
       "\n",
       "                  DATE                                            CONTENT  \\\n",
       "0  2013-11-07T06:20:48  Huh, anyway check out this you[tube] channel: ...   \n",
       "1  2013-11-07T12:37:15  Hey guys check out my new channel and our firs...   \n",
       "\n",
       "   CLASS  CommentLength  %OfUpperCaseLetters  NoOfURL  AvgLengthOfEachWord  \\\n",
       "0      1             56                 1.79        0                 6.12   \n",
       "1      1            166                12.05        0                 4.22   \n",
       "\n",
       "   NoOfStopWords  NoOfSentences  NoOfWords  NoOfUniqueWords  \n",
       "0             18              1         13               13  \n",
       "1             44              3         40               31  "
      ]
     },
     "execution_count": 15,
     "metadata": {},
     "output_type": "execute_result"
    }
   ],
   "source": [
    "data.head(2)"
   ]
  },
  {
   "cell_type": "markdown",
   "metadata": {},
   "source": [
    "####  Add features for readability, complexity and grade level (using Textstat library)"
   ]
  },
  {
   "cell_type": "code",
   "execution_count": 16,
   "metadata": {},
   "outputs": [
    {
     "data": {
      "text/html": [
       "<div>\n",
       "<style scoped>\n",
       "    .dataframe tbody tr th:only-of-type {\n",
       "        vertical-align: middle;\n",
       "    }\n",
       "\n",
       "    .dataframe tbody tr th {\n",
       "        vertical-align: top;\n",
       "    }\n",
       "\n",
       "    .dataframe thead th {\n",
       "        text-align: right;\n",
       "    }\n",
       "</style>\n",
       "<table border=\"1\" class=\"dataframe\">\n",
       "  <thead>\n",
       "    <tr style=\"text-align: right;\">\n",
       "      <th></th>\n",
       "      <th>COMMENT_ID</th>\n",
       "      <th>AUTHOR</th>\n",
       "      <th>DATE</th>\n",
       "      <th>CONTENT</th>\n",
       "      <th>CLASS</th>\n",
       "      <th>CommentLength</th>\n",
       "      <th>%OfUpperCaseLetters</th>\n",
       "      <th>NoOfURL</th>\n",
       "      <th>AvgLengthOfEachWord</th>\n",
       "      <th>NoOfStopWords</th>\n",
       "      <th>NoOfSentences</th>\n",
       "      <th>NoOfWords</th>\n",
       "      <th>NoOfUniqueWords</th>\n",
       "      <th>FleschReadingEase</th>\n",
       "      <th>GunningFog</th>\n",
       "      <th>SmogIndex</th>\n",
       "      <th>ARI</th>\n",
       "      <th>ColemanLiauIndex</th>\n",
       "      <th>TextStandard</th>\n",
       "      <th>AvgSentenceLength</th>\n",
       "    </tr>\n",
       "  </thead>\n",
       "  <tbody>\n",
       "    <tr>\n",
       "      <th>0</th>\n",
       "      <td>LZQPQhLyRh80UYxNuaDWhIGQYNQ96IuCg-AYWqNPjpU</td>\n",
       "      <td>Julius NM</td>\n",
       "      <td>2013-11-07T06:20:48</td>\n",
       "      <td>Huh, anyway check out this you[tube] channel: ...</td>\n",
       "      <td>1</td>\n",
       "      <td>56</td>\n",
       "      <td>1.79</td>\n",
       "      <td>0</td>\n",
       "      <td>6.12</td>\n",
       "      <td>18</td>\n",
       "      <td>1</td>\n",
       "      <td>13</td>\n",
       "      <td>13</td>\n",
       "      <td>88.74</td>\n",
       "      <td>3.2</td>\n",
       "      <td>0.0</td>\n",
       "      <td>11.4</td>\n",
       "      <td>13.01</td>\n",
       "      <td>3.0</td>\n",
       "      <td>8.0</td>\n",
       "    </tr>\n",
       "    <tr>\n",
       "      <th>1</th>\n",
       "      <td>LZQPQhLyRh_C2cTtd9MvFRJedxydaVW-2sNg5Diuo4A</td>\n",
       "      <td>adam riyati</td>\n",
       "      <td>2013-11-07T12:37:15</td>\n",
       "      <td>Hey guys check out my new channel and our firs...</td>\n",
       "      <td>1</td>\n",
       "      <td>166</td>\n",
       "      <td>12.05</td>\n",
       "      <td>0</td>\n",
       "      <td>4.22</td>\n",
       "      <td>44</td>\n",
       "      <td>3</td>\n",
       "      <td>40</td>\n",
       "      <td>31</td>\n",
       "      <td>81.63</td>\n",
       "      <td>6.0</td>\n",
       "      <td>0.0</td>\n",
       "      <td>7.3</td>\n",
       "      <td>6.49</td>\n",
       "      <td>6.0</td>\n",
       "      <td>15.0</td>\n",
       "    </tr>\n",
       "  </tbody>\n",
       "</table>\n",
       "</div>"
      ],
      "text/plain": [
       "                                    COMMENT_ID       AUTHOR  \\\n",
       "0  LZQPQhLyRh80UYxNuaDWhIGQYNQ96IuCg-AYWqNPjpU    Julius NM   \n",
       "1  LZQPQhLyRh_C2cTtd9MvFRJedxydaVW-2sNg5Diuo4A  adam riyati   \n",
       "\n",
       "                  DATE                                            CONTENT  \\\n",
       "0  2013-11-07T06:20:48  Huh, anyway check out this you[tube] channel: ...   \n",
       "1  2013-11-07T12:37:15  Hey guys check out my new channel and our firs...   \n",
       "\n",
       "   CLASS  CommentLength  %OfUpperCaseLetters  NoOfURL  AvgLengthOfEachWord  \\\n",
       "0      1             56                 1.79        0                 6.12   \n",
       "1      1            166                12.05        0                 4.22   \n",
       "\n",
       "   NoOfStopWords  NoOfSentences  NoOfWords  NoOfUniqueWords  \\\n",
       "0             18              1         13               13   \n",
       "1             44              3         40               31   \n",
       "\n",
       "   FleschReadingEase  GunningFog  SmogIndex   ARI  ColemanLiauIndex  \\\n",
       "0              88.74         3.2        0.0  11.4             13.01   \n",
       "1              81.63         6.0        0.0   7.3              6.49   \n",
       "\n",
       "   TextStandard  AvgSentenceLength  \n",
       "0           3.0                8.0  \n",
       "1           6.0               15.0  "
      ]
     },
     "execution_count": 16,
     "metadata": {},
     "output_type": "execute_result"
    }
   ],
   "source": [
    "data['FleschReadingEase']=data['CONTENT'].apply(lambda x: textstat.flesch_reading_ease(x))\n",
    "\n",
    "data['GunningFog']=data['CONTENT'].apply(lambda x: textstat.gunning_fog(x))\n",
    "\n",
    "data['SmogIndex']=data['CONTENT'].apply(lambda x: textstat.smog_index(x))\n",
    "\n",
    "data['ARI']=data['CONTENT'].apply(lambda x: textstat.automated_readability_index(x))\n",
    "\n",
    "data['ColemanLiauIndex']=data['CONTENT'].apply(lambda x: textstat.coleman_liau_index(x))\n",
    "\n",
    "data['TextStandard']=data['CONTENT'].apply(lambda x: textstat.text_standard(x,float_output=True))\n",
    "\n",
    "data['AvgSentenceLength']=data['CONTENT'].apply(lambda x: textstat.avg_sentence_length(x))\n",
    "\n",
    "data.head(2)\n"
   ]
  },
  {
   "cell_type": "markdown",
   "metadata": {},
   "source": [
    "### Clean-up comments"
   ]
  },
  {
   "cell_type": "code",
   "execution_count": 17,
   "metadata": {},
   "outputs": [],
   "source": [
    "# lemmatize as per part of speech of the word\n",
    "# It may not be possible manually provide the corrent POS tag for every word for large texts.\n",
    "# So, instead, we will find out the correct POS tag for each word, map it to the right input character\n",
    "# that the WordnetLemmatizer accepts and pass it as the second argument to lemmatize().\n",
    "\n",
    "def lemmatize(cleanTextList):\n",
    "    \n",
    "#     Create a dictionary to map POS\n",
    "    wordnet_map = {\"N\":wordnet.NOUN, \"V\":wordnet.VERB, \"J\":wordnet.ADJ, \"R\":wordnet.ADV}\n",
    "    \n",
    "#     tag part of speech for each word\n",
    "    pos_tagged_text = nltk.pos_tag(cleanTextList)\n",
    "    lemmatizer=WordNetLemmatizer()\n",
    "    \n",
    "    return \" \".join([lemmatizer.lemmatize(word, wordnet_map.get(pos[0], wordnet.NOUN)) for word, pos in pos_tagged_text])"
   ]
  },
  {
   "cell_type": "code",
   "execution_count": 18,
   "metadata": {},
   "outputs": [],
   "source": [
    "def correct_spellings(wordList):\n",
    "    spell = SpellChecker()\n",
    "    corrected_text = []\n",
    "    \n",
    "    # find those words that may be misspelled\n",
    "    misspelled = spell.unknown(wordList.split())\n",
    "    \n",
    "    for word in wordList.split():\n",
    "        if word in misspelled:\n",
    "            corrected_text.append(spell.correction(word))\n",
    "        else:\n",
    "            corrected_text.append(word)\n",
    "    return ' '.join(corrected_text)\n"
   ]
  },
  {
   "cell_type": "code",
   "execution_count": 19,
   "metadata": {},
   "outputs": [
    {
     "data": {
      "text/plain": [
       "'I love games'"
      ]
     },
     "execution_count": 19,
     "metadata": {},
     "output_type": "execute_result"
    }
   ],
   "source": [
    "correct_spellings('I lve gameens')"
   ]
  },
  {
   "cell_type": "markdown",
   "metadata": {},
   "source": [
    "List of cleaning items:\n",
    "- Remove URLs\n",
    "- Remove html tags\n",
    "- Remove Emojis\n",
    "- Convert to lower case\n",
    "- Remove non-english characters\n",
    "- Remove stop-words\n",
    "- Remove punctuations \n",
    "- Replace ascent characters\n",
    "- Lemmatize words\n",
    "- Correct spelling mistakes\n"
   ]
  },
  {
   "cell_type": "code",
   "execution_count": 20,
   "metadata": {},
   "outputs": [],
   "source": [
    "def cleanComment(comment):\n",
    "    try:\n",
    "    #   Remove URLS\n",
    "        pattern1='(http|ftp|https)://([\\w_-]+(?:(?:\\.[\\w_-]+)+))([\\w.,@?^=%&:/~+#-]*[\\w@?^=%&/~+#-])?'\n",
    "        comment=re.sub(pattern1,' ',comment)\n",
    "        \n",
    "    #   Remove html tags\n",
    "        comment=re.sub('<[^<]+?>', '', comment)\n",
    "        \n",
    "    #   Remove \\ufeff    \n",
    "        comment=comment.replace(u'\\ufeff', '')\n",
    "        \n",
    "    #   Remove Emojis\n",
    "        comment=emoji.get_emoji_regexp().sub(r'', comment)\n",
    "        \n",
    "    #   turn to lowercase\n",
    "        comment=comment.lower()\n",
    "        \n",
    "    #   Replace digits with 999\n",
    "        comment=re.sub(r'\\d+','999',comment)\n",
    "        \n",
    "    #   Remove non-english words\n",
    "    #   Reference:https://datascience.stackexchange.com/questions/46705/to-remove-chinese-characters-as-features\n",
    "        comment = re.sub(\"([^\\x00-\\x7F])+\",\" \",comment)\n",
    "\n",
    "    #   Tokenize to words\n",
    "        wordList=word_tokenize(comment)\n",
    "#         print(wordList)\n",
    "\n",
    "    #   Remove english stopwords\n",
    "        wordList=[word for word in wordList if word not in stopwords.words('english')]\n",
    "\n",
    "    #   Remove punctuations\n",
    "        wordList=[word for word in wordList if word not in string.punctuation]\n",
    "#         print(wordList)\n",
    "\n",
    "    #   Convert ascent characters to their normal english characters\n",
    "    #   Reference: https://towardsdatascience.com/a-practitioners-guide-to-natural-language-processing-part-i-processing-understanding-text-9f4abfd13e72\n",
    "        cleanedTextList=[unicodedata.normalize('NFKD',word).encode('ascii', 'ignore').decode('utf-8', 'ignore') \\\n",
    "                  for word in wordList]\n",
    "#         print(cleanedTextList)\n",
    "        \n",
    "    #   Lemmatize\n",
    "        lemmatizedText=lemmatize(cleanedTextList)\n",
    "#         print(lemmatizedText)\n",
    "\n",
    "    #   Spell Correction\n",
    "#         correctedText=correct_spellings(lemmatizedText)\n",
    "#         print(correctedText)\n",
    "\n",
    "        return lemmatizedText\n",
    "    except:\n",
    "        print(comment)\n",
    "            "
   ]
  },
  {
   "cell_type": "code",
   "execution_count": 21,
   "metadata": {},
   "outputs": [
    {
     "data": {
      "application/vnd.jupyter.widget-view+json": {
       "model_id": "88b16308a94e41628081699414642fcf",
       "version_major": 2,
       "version_minor": 0
      },
      "text/plain": [
       "HBox(children=(IntProgress(value=1, bar_style='info', max=1), HTML(value='')))"
      ]
     },
     "metadata": {},
     "output_type": "display_data"
    },
    {
     "name": "stdout",
     "output_type": "stream",
     "text": [
      "\n"
     ]
    },
    {
     "data": {
      "application/vnd.jupyter.widget-view+json": {
       "model_id": "0a10c6d0818646868625c9b265780a06",
       "version_major": 2,
       "version_minor": 0
      },
      "text/plain": [
       "HBox(children=(IntProgress(value=0, max=1956), HTML(value='')))"
      ]
     },
     "metadata": {},
     "output_type": "display_data"
    },
    {
     "name": "stdout",
     "output_type": "stream",
     "text": [
      "\n"
     ]
    }
   ],
   "source": [
    "tqdm_notebook().pandas()\n",
    "data['CleanWordList']=data['CONTENT'].progress_apply(lambda x: cleanComment(x));"
   ]
  },
  {
   "cell_type": "code",
   "execution_count": 27,
   "metadata": {},
   "outputs": [
    {
     "data": {
      "text/plain": [
       "(1903, 21)"
      ]
     },
     "execution_count": 27,
     "metadata": {},
     "output_type": "execute_result"
    }
   ],
   "source": [
    "# Drop rows with no comment \n",
    "data.dropna(subset=['CleanWordList'],inplace=True)\n",
    "data.shape"
   ]
  },
  {
   "cell_type": "code",
   "execution_count": 28,
   "metadata": {},
   "outputs": [],
   "source": [
    "data.to_csv('Data/cleanedData.csv',index=False)"
   ]
  },
  {
   "cell_type": "code",
   "execution_count": 29,
   "metadata": {},
   "outputs": [
    {
     "data": {
      "text/html": [
       "<div>\n",
       "<style scoped>\n",
       "    .dataframe tbody tr th:only-of-type {\n",
       "        vertical-align: middle;\n",
       "    }\n",
       "\n",
       "    .dataframe tbody tr th {\n",
       "        vertical-align: top;\n",
       "    }\n",
       "\n",
       "    .dataframe thead th {\n",
       "        text-align: right;\n",
       "    }\n",
       "</style>\n",
       "<table border=\"1\" class=\"dataframe\">\n",
       "  <thead>\n",
       "    <tr style=\"text-align: right;\">\n",
       "      <th></th>\n",
       "      <th>COMMENT_ID</th>\n",
       "      <th>AUTHOR</th>\n",
       "      <th>DATE</th>\n",
       "      <th>CONTENT</th>\n",
       "      <th>CLASS</th>\n",
       "      <th>CommentLength</th>\n",
       "      <th>%OfUpperCaseLetters</th>\n",
       "      <th>NoOfURL</th>\n",
       "      <th>AvgLengthOfEachWord</th>\n",
       "      <th>NoOfStopWords</th>\n",
       "      <th>...</th>\n",
       "      <th>NoOfWords</th>\n",
       "      <th>NoOfUniqueWords</th>\n",
       "      <th>FleschReadingEase</th>\n",
       "      <th>GunningFog</th>\n",
       "      <th>SmogIndex</th>\n",
       "      <th>ARI</th>\n",
       "      <th>ColemanLiauIndex</th>\n",
       "      <th>TextStandard</th>\n",
       "      <th>AvgSentenceLength</th>\n",
       "      <th>CleanWordList</th>\n",
       "    </tr>\n",
       "  </thead>\n",
       "  <tbody>\n",
       "    <tr>\n",
       "      <th>0</th>\n",
       "      <td>LZQPQhLyRh80UYxNuaDWhIGQYNQ96IuCg-AYWqNPjpU</td>\n",
       "      <td>Julius NM</td>\n",
       "      <td>2013-11-07T06:20:48</td>\n",
       "      <td>Huh, anyway check out this you[tube] channel: ...</td>\n",
       "      <td>1</td>\n",
       "      <td>56</td>\n",
       "      <td>1.79</td>\n",
       "      <td>0</td>\n",
       "      <td>6.12</td>\n",
       "      <td>18</td>\n",
       "      <td>...</td>\n",
       "      <td>13</td>\n",
       "      <td>13</td>\n",
       "      <td>88.74</td>\n",
       "      <td>3.2</td>\n",
       "      <td>0.0</td>\n",
       "      <td>11.4</td>\n",
       "      <td>13.01</td>\n",
       "      <td>3.0</td>\n",
       "      <td>8.0</td>\n",
       "      <td>huh anyway check tube channel kobyoshi999</td>\n",
       "    </tr>\n",
       "    <tr>\n",
       "      <th>1</th>\n",
       "      <td>LZQPQhLyRh_C2cTtd9MvFRJedxydaVW-2sNg5Diuo4A</td>\n",
       "      <td>adam riyati</td>\n",
       "      <td>2013-11-07T12:37:15</td>\n",
       "      <td>Hey guys check out my new channel and our firs...</td>\n",
       "      <td>1</td>\n",
       "      <td>166</td>\n",
       "      <td>12.05</td>\n",
       "      <td>0</td>\n",
       "      <td>4.22</td>\n",
       "      <td>44</td>\n",
       "      <td>...</td>\n",
       "      <td>40</td>\n",
       "      <td>31</td>\n",
       "      <td>81.63</td>\n",
       "      <td>6.0</td>\n",
       "      <td>0.0</td>\n",
       "      <td>7.3</td>\n",
       "      <td>6.49</td>\n",
       "      <td>6.0</td>\n",
       "      <td>15.0</td>\n",
       "      <td>hey guy check new channel first vid u monkey '...</td>\n",
       "    </tr>\n",
       "  </tbody>\n",
       "</table>\n",
       "<p>2 rows × 21 columns</p>\n",
       "</div>"
      ],
      "text/plain": [
       "                                    COMMENT_ID       AUTHOR  \\\n",
       "0  LZQPQhLyRh80UYxNuaDWhIGQYNQ96IuCg-AYWqNPjpU    Julius NM   \n",
       "1  LZQPQhLyRh_C2cTtd9MvFRJedxydaVW-2sNg5Diuo4A  adam riyati   \n",
       "\n",
       "                  DATE                                            CONTENT  \\\n",
       "0  2013-11-07T06:20:48  Huh, anyway check out this you[tube] channel: ...   \n",
       "1  2013-11-07T12:37:15  Hey guys check out my new channel and our firs...   \n",
       "\n",
       "   CLASS  CommentLength  %OfUpperCaseLetters  NoOfURL  AvgLengthOfEachWord  \\\n",
       "0      1             56                 1.79        0                 6.12   \n",
       "1      1            166                12.05        0                 4.22   \n",
       "\n",
       "   NoOfStopWords  ...  NoOfWords  NoOfUniqueWords  FleschReadingEase  \\\n",
       "0             18  ...         13               13              88.74   \n",
       "1             44  ...         40               31              81.63   \n",
       "\n",
       "   GunningFog  SmogIndex   ARI  ColemanLiauIndex  TextStandard  \\\n",
       "0         3.2        0.0  11.4             13.01           3.0   \n",
       "1         6.0        0.0   7.3              6.49           6.0   \n",
       "\n",
       "   AvgSentenceLength                                      CleanWordList  \n",
       "0                8.0          huh anyway check tube channel kobyoshi999  \n",
       "1               15.0  hey guy check new channel first vid u monkey '...  \n",
       "\n",
       "[2 rows x 21 columns]"
      ]
     },
     "execution_count": 29,
     "metadata": {},
     "output_type": "execute_result"
    }
   ],
   "source": [
    "data=pd.read_csv('Data/cleanedData.csv')\n",
    "data.head(2)"
   ]
  },
  {
   "cell_type": "markdown",
   "metadata": {},
   "source": [
    "#### Text classification\n"
   ]
  },
  {
   "cell_type": "code",
   "execution_count": 30,
   "metadata": {},
   "outputs": [
    {
     "name": "stdout",
     "output_type": "stream",
     "text": [
      "Training - cross val score: 0.8878714268187953\n",
      "Testing - cross val score: 0.9223245614035088\n"
     ]
    }
   ],
   "source": [
    "X=data['CleanWordList']\n",
    "y=data['CLASS']\n",
    "X_train, X_test, y_train, y_test = train_test_split(X, y, test_size=.25 ,random_state=147)\n",
    "\n",
    "countVectorizer=CountVectorizer(min_df=5)\n",
    "\n",
    "# Create document term matrix for training and testing data\n",
    "X_train_dtm = countVectorizer.fit_transform(X_train)\n",
    "X_test_dtm  = countVectorizer.transform(X_test)\n",
    "\n",
    "#Initialize clasifier\n",
    "clf=MultinomialNB()\n",
    "\n",
    "# Initialize Kflod for cross validation\n",
    "cv = KFold(n_splits=5, random_state=42, shuffle=True)\n",
    "\n",
    "# Calculate accuracy of training data\n",
    "scores_trainingData = cross_val_score(clf, X_train_dtm.toarray(),y_train, cv=cv)\n",
    "print('Training - cross val score:',scores_trainingData.mean())\n",
    "\n",
    "# Train and predict\n",
    "clf.fit(X_train_dtm.toarray(),y_train)\n",
    "prediction=clf.predict(X_test_dtm.toarray())\n",
    "\n",
    "# Calculate accuracy of class predictions\n",
    "scores_testingData = cross_val_score(clf, X_test_dtm.toarray(),prediction, cv=cv)\n",
    "print('Testing - cross val score:',scores_testingData.mean())"
   ]
  },
  {
   "cell_type": "markdown",
   "metadata": {},
   "source": [
    "####  Confusion matrix"
   ]
  },
  {
   "cell_type": "code",
   "execution_count": 31,
   "metadata": {},
   "outputs": [
    {
     "data": {
      "text/plain": [
       "array([0, 1], dtype=int64)"
      ]
     },
     "execution_count": 31,
     "metadata": {},
     "output_type": "execute_result"
    }
   ],
   "source": [
    "labels=np.unique(y_test)\n",
    "labels"
   ]
  },
  {
   "cell_type": "code",
   "execution_count": 32,
   "metadata": {},
   "outputs": [
    {
     "name": "stdout",
     "output_type": "stream",
     "text": [
      "              precision    recall  f1-score   support\n",
      "\n",
      "           0       0.90      0.88      0.89       243\n",
      "           1       0.88      0.89      0.89       233\n",
      "\n",
      "    accuracy                           0.89       476\n",
      "   macro avg       0.89      0.89      0.89       476\n",
      "weighted avg       0.89      0.89      0.89       476\n",
      "\n"
     ]
    }
   ],
   "source": [
    "print(classification_report(y_test, prediction))"
   ]
  },
  {
   "cell_type": "code",
   "execution_count": 33,
   "metadata": {},
   "outputs": [
    {
     "data": {
      "image/png": "[encoded data removed]",
      "text/plain": [
       "<Figure size 432x288 with 2 Axes>"
      ]
     },
     "metadata": {
      "needs_background": "light"
     },
     "output_type": "display_data"
    }
   ],
   "source": [
    "# print the confusion matrix\n",
    "confusion_matrix=metrics.confusion_matrix(y_test, prediction,labels=labels)\n",
    "\n",
    "\n",
    "sns.heatmap(confusion_matrix,annot=True)\n",
    "plt.ylabel('True label')\n",
    "plt.xlabel('Predicted label');"
   ]
  },
  {
   "cell_type": "markdown",
   "metadata": {},
   "source": [
    "The model is working good for categorizing Hams(0) but struggling to categorize spams(1).\n"
   ]
  },
  {
   "cell_type": "markdown",
   "metadata": {},
   "source": [
    "####  Word Cloud "
   ]
  },
  {
   "cell_type": "code",
   "execution_count": 34,
   "metadata": {},
   "outputs": [
    {
     "data": {
      "text/plain": [
       "['999',\n",
       " '999k',\n",
       " '999th',\n",
       " 'absolutely',\n",
       " 'act',\n",
       " 'actually',\n",
       " 'adam',\n",
       " 'advertise',\n",
       " 'advertisement',\n",
       " 'africa']"
      ]
     },
     "execution_count": 34,
     "metadata": {},
     "output_type": "execute_result"
    }
   ],
   "source": [
    "#Reference: https://github.com/justmarkham/pycon-2016-tutorial/blob/master/tutorial_with_output.ipynb\n",
    "\n",
    "tokenList=countVectorizer.get_feature_names()\n",
    "tokenList[:10]"
   ]
  },
  {
   "cell_type": "code",
   "execution_count": 35,
   "metadata": {},
   "outputs": [
    {
     "data": {
      "text/plain": [
       "array([263,   1,   2,   3,   2,   3,   0,   0,   0,   5,   7,   1,   7,\n",
       "         1,   3,   2,   5,   4,   3,   1,   4,   0,   2,   4,   1,   1,\n",
       "         1,  22,   4,   8,   9,   0,   4,  16,   1,   5,  43,   3,   4,\n",
       "        34,   3,   2,   3,   4,   1,   1,   0,   0,   0,   0,   1,   5,\n",
       "        11,   1,   3,   3,   0,   0,  16,  13,   0,  17,   7,   3,   0,\n",
       "         7,   6,   4,   0,   4,  15,   8,   1,   8,   3,   0,   7,   0,\n",
       "         1,   1,   0,   6,   0,   5,   1,  24,   6,   1,   3,  12,  21,\n",
       "        10,   3,   5,   3,   0,   0,   0,   2,   6,   2,   6,   0,   5,\n",
       "         1,   3,   7,   0,   1,   1,   0,  11,   1,   2,  14,  11,   0,\n",
       "        13,  35,  11,   2,  14,   1,   9,   4,  34,   0,  11,   2,  12,\n",
       "         4,   3,   5,   1,   8,  11,   2,   4,   1,   2,   4,   2,   1,\n",
       "         6,   3,   0,   1,   4,   2,   0,   8,   3,   0,   0,   1,   0,\n",
       "         3,   0,  48,   4,   4,   0,  14,   0,   2,   0,   3,   1,   4,\n",
       "         0,   5,   9,   4,  76,   0,  10,   5,   4,   0,   5,  14,  11,\n",
       "         7,   4, 114,  19,   0,   4,  18,   3,  11,   1,   0,   6,   0,\n",
       "        10,   3,   0,   0,  13,   2,   2,   5,   1,   2,   1,   2,   0,\n",
       "         3,   0,  21,  29,   0,   8,   3,   2,   5,   8,   0,   1,   2,\n",
       "        20,   2,   6,  19,  12,  18,   0,   4,   0,   0,   0,   5,  15,\n",
       "         0,   1,   1,   1,  23,   0,   5,  35,   3,   0,   0,   0,   0,\n",
       "         0,   3,   1,   0,   5,   1,   2,   0,   1,   1,   0,   0,  11,\n",
       "         2,   3,   9,   4,   2,   4,   1,   0,   8,  10,   2,   1,   0,\n",
       "         7,   0,   5,   8,  14,  16,   3,   5,  13,   0,   2,  13,   6,\n",
       "        38,   0,   1,  12,  10,   0,   6,   8,   0,   0,   0,   0,   3,\n",
       "         3, 175,   0,   2,   5,   7,   1,   1,   1,   3,   1,  19,   4,\n",
       "        14,   0,   1,   1,   0,   1,   5,   5,   0,   1,   2,   1,   1,\n",
       "         2,  10,   6,   3,   5,   0,   7,  14,   8,   3,   1,   1,   2,\n",
       "         0,   1,   0,   8,   0,   3,   0,  63,   0,  69,   2,   5,   0,\n",
       "        23,   4,  11,  23,  12,   0,   9,   2,   0,   2,   2,   5,   0,\n",
       "         1,   2,  19,   6,  15,   1,   9,   5,  20,   0,   1,  19,   1,\n",
       "         0])"
      ]
     },
     "execution_count": 35,
     "metadata": {},
     "output_type": "execute_result"
    }
   ],
   "source": [
    "hamFeatureCount=clf.feature_count_[0,:].astype(int)\n",
    "spamFeatureCount=clf.feature_count_[1,:].astype(int)\n",
    "\n",
    "hamFeatureCount"
   ]
  },
  {
   "cell_type": "code",
   "execution_count": 36,
   "metadata": {},
   "outputs": [
    {
     "data": {
      "text/html": [
       "<div>\n",
       "<style scoped>\n",
       "    .dataframe tbody tr th:only-of-type {\n",
       "        vertical-align: middle;\n",
       "    }\n",
       "\n",
       "    .dataframe tbody tr th {\n",
       "        vertical-align: top;\n",
       "    }\n",
       "\n",
       "    .dataframe thead th {\n",
       "        text-align: right;\n",
       "    }\n",
       "</style>\n",
       "<table border=\"1\" class=\"dataframe\">\n",
       "  <thead>\n",
       "    <tr style=\"text-align: right;\">\n",
       "      <th></th>\n",
       "      <th>No. of occurances in Ham</th>\n",
       "      <th>No. of occurances in Spam</th>\n",
       "      <th>% of total in Ham</th>\n",
       "      <th>% of total in Spam</th>\n",
       "    </tr>\n",
       "    <tr>\n",
       "      <th>TokenName</th>\n",
       "      <th></th>\n",
       "      <th></th>\n",
       "      <th></th>\n",
       "      <th></th>\n",
       "    </tr>\n",
       "  </thead>\n",
       "  <tbody>\n",
       "    <tr>\n",
       "      <th>adam</th>\n",
       "      <td>0</td>\n",
       "      <td>5</td>\n",
       "      <td>0.000000</td>\n",
       "      <td>0.000000</td>\n",
       "    </tr>\n",
       "    <tr>\n",
       "      <th>comment</th>\n",
       "      <td>13</td>\n",
       "      <td>70</td>\n",
       "      <td>0.018625</td>\n",
       "      <td>0.017833</td>\n",
       "    </tr>\n",
       "    <tr>\n",
       "      <th>rock</th>\n",
       "      <td>16</td>\n",
       "      <td>0</td>\n",
       "      <td>0.022923</td>\n",
       "      <td>0.021948</td>\n",
       "    </tr>\n",
       "    <tr>\n",
       "      <th>online</th>\n",
       "      <td>0</td>\n",
       "      <td>33</td>\n",
       "      <td>0.000000</td>\n",
       "      <td>0.000000</td>\n",
       "    </tr>\n",
       "    <tr>\n",
       "      <th>official</th>\n",
       "      <td>6</td>\n",
       "      <td>0</td>\n",
       "      <td>0.008596</td>\n",
       "      <td>0.008230</td>\n",
       "    </tr>\n",
       "  </tbody>\n",
       "</table>\n",
       "</div>"
      ],
      "text/plain": [
       "           No. of occurances in Ham  No. of occurances in Spam  \\\n",
       "TokenName                                                        \n",
       "adam                              0                          5   \n",
       "comment                          13                         70   \n",
       "rock                             16                          0   \n",
       "online                            0                         33   \n",
       "official                          6                          0   \n",
       "\n",
       "           % of total in Ham  % of total in Spam  \n",
       "TokenName                                         \n",
       "adam                0.000000            0.000000  \n",
       "comment             0.018625            0.017833  \n",
       "rock                0.022923            0.021948  \n",
       "online              0.000000            0.000000  \n",
       "official            0.008596            0.008230  "
      ]
     },
     "execution_count": 36,
     "metadata": {},
     "output_type": "execute_result"
    }
   ],
   "source": [
    "columns={'TokenName':tokenList,\n",
    "         'No. of occurances in Ham':hamFeatureCount,\n",
    "         'No. of occurances in Spam':spamFeatureCount,\n",
    "         '% of total in Ham':hamFeatureCount/clf.class_count_[0],\n",
    "         '% of total in Spam':hamFeatureCount/clf.class_count_[1]}\n",
    "\n",
    "tokenDf=pd.DataFrame(columns).set_index('TokenName')\n",
    "tokenDf.sample(5)"
   ]
  },
  {
   "cell_type": "markdown",
   "metadata": {},
   "source": [
    "##### Most frequent words in Ham comments"
   ]
  },
  {
   "cell_type": "code",
   "execution_count": 37,
   "metadata": {},
   "outputs": [
    {
     "data": {
      "text/plain": [
       "TokenName\n",
       "999        263\n",
       "song       175\n",
       "love       114\n",
       "like        76\n",
       "view        69\n",
       "video       63\n",
       "katy        48\n",
       "best        43\n",
       "shakira     38\n",
       "get         35\n",
       "Name: No. of occurances in Ham, dtype: int32"
      ]
     },
     "execution_count": 37,
     "metadata": {},
     "output_type": "execute_result"
    }
   ],
   "source": [
    "# Most frequent words in Ham comments\n",
    "frequentHamWords=tokenDf['No. of occurances in Ham'].sort_values(ascending=False)\n",
    "frequentHamWords[:10]\n"
   ]
  },
  {
   "cell_type": "code",
   "execution_count": 38,
   "metadata": {},
   "outputs": [
    {
     "data": {
      "text/plain": [
       "TokenName\n",
       "999          497\n",
       "check        429\n",
       "video        212\n",
       "please       180\n",
       "subscribe    179\n",
       "youtube      168\n",
       "channel      150\n",
       "like         121\n",
       "make         111\n",
       "com          106\n",
       "Name: No. of occurances in Spam, dtype: int32"
      ]
     },
     "execution_count": 38,
     "metadata": {},
     "output_type": "execute_result"
    }
   ],
   "source": [
    "# Most frequent words in Spam comments\n",
    "frequentSpamWords=tokenDf['No. of occurances in Spam'].sort_values(ascending=False)\n",
    "frequentSpamWords[:10]"
   ]
  },
  {
   "cell_type": "code",
   "execution_count": 39,
   "metadata": {},
   "outputs": [
    {
     "data": {
      "image/png": "[encoded data removed]",
      "text/plain": [
       "<Figure size 432x288 with 1 Axes>"
      ]
     },
     "metadata": {
      "needs_background": "light"
     },
     "output_type": "display_data"
    }
   ],
   "source": [
    "wc=WordCloud(width=1000,height=400,colormap='hot').generate_from_frequencies(frequencies=dict(frequentHamWords[:15]))\n",
    "plt.imshow(wc, interpolation=\"bilinear\")\n",
    "plt.title(\"15 most frequent words in HAM comments\")\n",
    "plt.axis(\"off\");"
   ]
  },
  {
   "cell_type": "markdown",
   "metadata": {},
   "source": [
    "##### Most frequent words in Spam comments"
   ]
  },
  {
   "cell_type": "code",
   "execution_count": 40,
   "metadata": {},
   "outputs": [
    {
     "data": {
      "image/png": "[encoded data removed]",
      "text/plain": [
       "<Figure size 432x288 with 1 Axes>"
      ]
     },
     "metadata": {
      "needs_background": "light"
     },
     "output_type": "display_data"
    }
   ],
   "source": [
    "wc=WordCloud(width=1000,height=400,colormap='hot').generate_from_frequencies(frequencies=dict(frequentSpamWords[:15]))\n",
    "plt.imshow(wc, interpolation=\"bilinear\")\n",
    "plt.title(\"15 most frequent words in SPAM comments\")\n",
    "plt.axis(\"off\");"
   ]
  },
  {
   "cell_type": "markdown",
   "metadata": {},
   "source": [
    "##### Sample words in overlapping categorization"
   ]
  },
  {
   "cell_type": "code",
   "execution_count": 41,
   "metadata": {},
   "outputs": [
    {
     "data": {
      "text/plain": [
       "116     reach\n",
       "81      least\n",
       "132      step\n",
       "24     button\n",
       "100      much\n",
       "95     minute\n",
       "42         em\n",
       "41       else\n",
       "141        uk\n",
       "74        job\n",
       "65       hate\n",
       "8       agree\n",
       "59        god\n",
       "146     whole\n",
       "63     happen\n",
       "Name: TokenName, dtype: object"
      ]
     },
     "execution_count": 41,
     "metadata": {},
     "output_type": "execute_result"
    }
   ],
   "source": [
    "filt=abs(tokenDf['No. of occurances in Ham']-tokenDf['No. of occurances in Spam'])<=5\n",
    "overlappingWords=tokenDf[filt].reset_index()\n",
    "overlappingWords=overlappingWords['TokenName'].sample(15,random_state=123)\n",
    "overlappingWords"
   ]
  },
  {
   "cell_type": "code",
   "execution_count": 42,
   "metadata": {},
   "outputs": [
    {
     "data": {
      "image/png": "[encoded data removed]",
      "text/plain": [
       "<Figure size 432x288 with 1 Axes>"
      ]
     },
     "metadata": {
      "needs_background": "light"
     },
     "output_type": "display_data"
    }
   ],
   "source": [
    "x=' '.join(overlappingWords[:15].to_list())\n",
    "\n",
    "wc=WordCloud(width=1000,height=400,colormap='hot').generate(x)\n",
    "plt.imshow(wc, interpolation=\"bilinear\")\n",
    "plt.title(\"15 randomly selected overapping words\")\n",
    "plt.axis(\"off\");\n"
   ]
  },
  {
   "cell_type": "markdown",
   "metadata": {},
   "source": [
    "#### Grid search multiple models"
   ]
  },
  {
   "cell_type": "markdown",
   "metadata": {},
   "source": [
    "##### Logistic regression"
   ]
  },
  {
   "cell_type": "code",
   "execution_count": 43,
   "metadata": {},
   "outputs": [
    {
     "name": "stderr",
     "output_type": "stream",
     "text": [
      "C:\\Users\\Preeti\\Anaconda3\\lib\\site-packages\\sklearn\\linear_model\\logistic.py:432: FutureWarning: Default solver will be changed to 'lbfgs' in 0.22. Specify a solver to silence this warning.\n",
      "  FutureWarning)\n"
     ]
    },
    {
     "name": "stdout",
     "output_type": "stream",
     "text": [
      "Training score for Logistic Regression:  0.9411352487736511\n",
      "Test score for Logistic Regression:  0.9159663865546218\n"
     ]
    }
   ],
   "source": [
    "clf_lr=LogisticRegression()\n",
    "clf_lr.fit(X_train_dtm.toarray(),y_train)\n",
    "\n",
    "print('Training score for Logistic Regression: ',clf_lr.score(X_train_dtm.toarray(),y_train))\n",
    "\n",
    "print('Test score for Logistic Regression: ',clf_lr.score(X_test_dtm.toarray(),y_test))"
   ]
  },
  {
   "cell_type": "markdown",
   "metadata": {},
   "source": [
    "##### Random Forest Classifier"
   ]
  },
  {
   "cell_type": "code",
   "execution_count": 44,
   "metadata": {},
   "outputs": [
    {
     "name": "stdout",
     "output_type": "stream",
     "text": [
      "Training score for Random Forest Classifier:  0.8521373510861948\n",
      "Test score for Random Forest Classifier:  0.865546218487395\n"
     ]
    }
   ],
   "source": [
    "clf_rfc = RandomForestClassifier()\n",
    "\n",
    "param_grid_rfc={'n_jobs':[-1],\n",
    "            'n_estimators':list(np.arange(3,15,3)), #3,15,2\n",
    "            'max_depth':list(np.arange(2,5))\n",
    "           }\n",
    "\n",
    "gc_rfc=GridSearchCV(clf_rfc,param_grid=param_grid_rfc,cv=cv)\n",
    "\n",
    "gc_rfc.fit(X_train_dtm.toarray(),y_train)\n",
    "\n",
    "print('Training score for Random Forest Classifier: ',gc_rfc.score(X_train_dtm.toarray(),y_train))\n",
    "\n",
    "print('Test score for Random Forest Classifier: ',gc_rfc.score(X_test_dtm.toarray(),y_test))"
   ]
  },
  {
   "cell_type": "markdown",
   "metadata": {},
   "source": [
    "##### Xgboost Classifier"
   ]
  },
  {
   "cell_type": "code",
   "execution_count": 45,
   "metadata": {},
   "outputs": [
    {
     "name": "stdout",
     "output_type": "stream",
     "text": [
      "Training score for XGB Classifier:  0.948843728100911\n",
      "Test score for  XGB Classifier:  0.9222689075630253\n"
     ]
    }
   ],
   "source": [
    "clf_xgb = XGBClassifier()\n",
    "\n",
    "param_grid_xgb={'n_jobs':[-1],\n",
    "            'n_estimators':[10,20,30,50], \n",
    "            'max_depth':list(np.arange(3,30,5))\n",
    "           }\n",
    "\n",
    "gc_xgb=GridSearchCV(clf_xgb,param_grid=param_grid_xgb,cv=cv)\n",
    "\n",
    "gc_xgb.fit(X_train_dtm.toarray(),y_train)\n",
    "\n",
    "print('Training score for XGB Classifier: ',gc_xgb.score(X_train_dtm.toarray(),y_train))\n",
    "\n",
    "print('Test score for  XGB Classifier: ',gc_xgb.score(X_test_dtm.toarray(),y_test))"
   ]
  },
  {
   "cell_type": "markdown",
   "metadata": {},
   "source": [
    "##### Model Comparision"
   ]
  },
  {
   "cell_type": "code",
   "execution_count": 46,
   "metadata": {},
   "outputs": [
    {
     "data": {
      "text/html": [
       "<style  type=\"text/css\" >\n",
       "    #T_070b4640_dde1_11ea_816b_30e37a590e6frow2_col1 {\n",
       "            background-color:  yellow;\n",
       "        }    #T_070b4640_dde1_11ea_816b_30e37a590e6frow2_col2 {\n",
       "            background-color:  yellow;\n",
       "        }</style><table id=\"T_070b4640_dde1_11ea_816b_30e37a590e6f\" ><thead>    <tr>        <th class=\"blank level0\" ></th>        <th class=\"col_heading level0 col0\" >Model Name</th>        <th class=\"col_heading level0 col1\" >Training Score</th>        <th class=\"col_heading level0 col2\" >Testing Score</th>    </tr></thead><tbody>\n",
       "                <tr>\n",
       "                        <th id=\"T_070b4640_dde1_11ea_816b_30e37a590e6flevel0_row0\" class=\"row_heading level0 row0\" >0</th>\n",
       "                        <td id=\"T_070b4640_dde1_11ea_816b_30e37a590e6frow0_col0\" class=\"data row0 col0\" >Logistic Regression</td>\n",
       "                        <td id=\"T_070b4640_dde1_11ea_816b_30e37a590e6frow0_col1\" class=\"data row0 col1\" >0.941135</td>\n",
       "                        <td id=\"T_070b4640_dde1_11ea_816b_30e37a590e6frow0_col2\" class=\"data row0 col2\" >0.915966</td>\n",
       "            </tr>\n",
       "            <tr>\n",
       "                        <th id=\"T_070b4640_dde1_11ea_816b_30e37a590e6flevel0_row1\" class=\"row_heading level0 row1\" >1</th>\n",
       "                        <td id=\"T_070b4640_dde1_11ea_816b_30e37a590e6frow1_col0\" class=\"data row1 col0\" >Random Forest Classifier</td>\n",
       "                        <td id=\"T_070b4640_dde1_11ea_816b_30e37a590e6frow1_col1\" class=\"data row1 col1\" >0.852137</td>\n",
       "                        <td id=\"T_070b4640_dde1_11ea_816b_30e37a590e6frow1_col2\" class=\"data row1 col2\" >0.865546</td>\n",
       "            </tr>\n",
       "            <tr>\n",
       "                        <th id=\"T_070b4640_dde1_11ea_816b_30e37a590e6flevel0_row2\" class=\"row_heading level0 row2\" >2</th>\n",
       "                        <td id=\"T_070b4640_dde1_11ea_816b_30e37a590e6frow2_col0\" class=\"data row2 col0\" >XGBoost Classifier</td>\n",
       "                        <td id=\"T_070b4640_dde1_11ea_816b_30e37a590e6frow2_col1\" class=\"data row2 col1\" >0.948844</td>\n",
       "                        <td id=\"T_070b4640_dde1_11ea_816b_30e37a590e6frow2_col2\" class=\"data row2 col2\" >0.922269</td>\n",
       "            </tr>\n",
       "    </tbody></table>"
      ],
      "text/plain": [
       "<pandas.io.formats.style.Styler at 0x1a60e13b3c8>"
      ]
     },
     "execution_count": 46,
     "metadata": {},
     "output_type": "execute_result"
    }
   ],
   "source": [
    "modelScores={'Model Name':['Logistic Regression',\n",
    "                       'Random Forest Classifier',\n",
    "                       'XGBoost Classifier'],\n",
    "         'Training Score':[clf_lr.score(X_train_dtm.toarray(),y_train),\n",
    "                          gc_rfc.score(X_train_dtm.toarray(),y_train),\n",
    "                          gc_xgb.score(X_train_dtm.toarray(),y_train)] ,\n",
    "         'Testing Score': [clf_lr.score(X_test_dtm.toarray(),y_test),\n",
    "                          gc_rfc.score(X_test_dtm.toarray(),y_test),\n",
    "                          gc_xgb.score(X_test_dtm.toarray(),y_test)]}\n",
    "\n",
    "modelScoresDf=pd.DataFrame(data=modelScores)\n",
    "\n",
    "modelScoresDf.style.highlight_max(axis=0)"
   ]
  },
  {
   "cell_type": "code",
   "execution_count": 47,
   "metadata": {},
   "outputs": [],
   "source": [
    "prediction_xgb=gc_xgb.predict(X_test_dtm.toarray())"
   ]
  },
  {
   "cell_type": "code",
   "execution_count": 48,
   "metadata": {},
   "outputs": [
    {
     "name": "stdout",
     "output_type": "stream",
     "text": [
      "              precision    recall  f1-score   support\n",
      "\n",
      "           0       0.90      0.95      0.93       243\n",
      "           1       0.95      0.89      0.92       233\n",
      "\n",
      "    accuracy                           0.92       476\n",
      "   macro avg       0.92      0.92      0.92       476\n",
      "weighted avg       0.92      0.92      0.92       476\n",
      "\n"
     ]
    }
   ],
   "source": [
    "print(classification_report(y_test,prediction_xgb))"
   ]
  }
 ],
 "metadata": {
  "kernelspec": {
   "display_name": "Python 3",
   "language": "python",
   "name": "python3"
  },
  "language_info": {
   "codemirror_mode": {
    "name": "ipython",
    "version": 3
   },
   "file_extension": ".py",
   "mimetype": "text/x-python",
   "name": "python",
   "nbconvert_exporter": "python",
   "pygments_lexer": "ipython3",
   "version": "3.7.3"
  },
  "toc": {
   "base_numbering": 1,
   "nav_menu": {},
   "number_sections": true,
   "sideBar": true,
   "skip_h1_title": false,
   "title_cell": "Table of Contents",
   "title_sidebar": "Contents",
   "toc_cell": false,
   "toc_position": {
    "height": "477px",
    "left": "24px",
    "top": "110px",
    "width": "320.172px"
   },
   "toc_section_display": true,
   "toc_window_display": true
  }
 },
 "nbformat": 4,
 "nbformat_minor": 2
}
